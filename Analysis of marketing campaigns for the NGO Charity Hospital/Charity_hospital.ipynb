{
  "nbformat": 4,
  "nbformat_minor": 0,
  "metadata": {
    "colab": {
      "provenance": [],
      "toc_visible": true
    },
    "kernelspec": {
      "name": "python3",
      "display_name": "Python 3"
    },
    "language_info": {
      "name": "python"
    }
  },
  "cells": [
    {
      "cell_type": "markdown",
      "source": [
        "# **Аналитика эффективности маркетингового подхода на основе данных о пожертвованиях и рекламных кампаниях НКО Благотворительная Больница**"
      ],
      "metadata": {
        "id": "SSZQbHDq9IOp"
      }
    },
    {
      "cell_type": "markdown",
      "source": [
        "**Выполнила проект:**  \n",
        "**Татьяна Лисина**  \n",
        "Telegram @bestearthman  "
      ],
      "metadata": {
        "id": "Ou42lffg-OFv"
      }
    },
    {
      "cell_type": "markdown",
      "source": [
        " **НКО Благотворительная Больница занимается оказанием помощи людям, оставшимся без дома и медицинской помощи.**  \n",
        " **Выводы от проведенного анализа должны помочь привлечь больше денежных средств для этой цели.**  \n",
        "\n",
        " **“ Каждый имеет право на базовую медицинскую помощь, вне зависимости от наличия денег, документов и крыши над головой.”**\n",
        "\n",
        "**Цель проекта:**  \n",
        "Проанализировать эффективность маркетингового подхода на основе данных о пожертвованиях и рекламных кампаниях. Найти любые интересные закономерности.\n",
        "\n",
        "**Особенности проекта:**  \n",
        "\n",
        "*   Работа с сырыми данными\n",
        "*   Работа с данными Яндекс.Метрики\n",
        "*   Написание статьи по итогам проекта\n",
        "\n",
        "\n",
        "\n",
        "\n"
      ],
      "metadata": {
        "id": "i5qW8Ik09aY3"
      }
    },
    {
      "cell_type": "markdown",
      "source": [
        "## Общая информация"
      ],
      "metadata": {
        "id": "dAcDFkSU8u95"
      }
    },
    {
      "cell_type": "markdown",
      "source": [
        "Датасеты:\n",
        "*   adgrants - данные с сайта, собранные с помощью Яндекс.Метрики\n",
        "*   clients - данные из платежной системы\n",
        "*   donors - данные из платежной системы\n",
        "\n",
        "\n",
        "\n",
        "\n",
        "\n"
      ],
      "metadata": {
        "id": "s8xrUL87_Eta"
      }
    },
    {
      "cell_type": "markdown",
      "source": [
        "## Библиотеки и среда"
      ],
      "metadata": {
        "id": "7wHaIFGcIIgI"
      }
    },
    {
      "cell_type": "code",
      "source": [
        "import pandas as pd\n",
        "pd.set_option('display.max_columns', None)\n",
        "import matplotlib.pyplot as plt\n",
        "import plotly.express as px\n",
        "import plotly.graph_objects as go\n",
        "import seaborn as sns\n",
        "\n",
        "import datetime\n",
        "from datetime import datetime\n",
        "\n",
        "import numpy as np\n",
        "import math\n",
        "from scipy import stats as st\n",
        "from google.colab import files"
      ],
      "metadata": {
        "id": "7bFhi_-b-pUD"
      },
      "execution_count": null,
      "outputs": []
    },
    {
      "cell_type": "code",
      "source": [
        "from dateutil.relativedelta import relativedelta"
      ],
      "metadata": {
        "id": "6zQPkJTG8uiV"
      },
      "execution_count": null,
      "outputs": []
    },
    {
      "cell_type": "code",
      "source": [
        "!pip install termcolor\n",
        "from termcolor import colored"
      ],
      "metadata": {
        "colab": {
          "base_uri": "https://localhost:8080/"
        },
        "id": "OV9Lnw1JFnYy",
        "outputId": "bc40726b-a46f-4e82-fb41-d06960b0e344"
      },
      "execution_count": null,
      "outputs": [
        {
          "output_type": "stream",
          "name": "stdout",
          "text": [
            "Requirement already satisfied: termcolor in /usr/local/lib/python3.10/dist-packages (2.3.0)\n"
          ]
        }
      ]
    },
    {
      "cell_type": "code",
      "source": [
        "!pip install googletrans==4.0.0-rc1\n",
        "from googletrans import Translator"
      ],
      "metadata": {
        "colab": {
          "base_uri": "https://localhost:8080/"
        },
        "id": "a-DCz673H-jy",
        "outputId": "0e95a3cd-2107-440f-a460-bd27c5c1f742"
      },
      "execution_count": null,
      "outputs": [
        {
          "output_type": "stream",
          "name": "stdout",
          "text": [
            "Requirement already satisfied: googletrans==4.0.0-rc1 in /usr/local/lib/python3.10/dist-packages (4.0.0rc1)\n",
            "Requirement already satisfied: httpx==0.13.3 in /usr/local/lib/python3.10/dist-packages (from googletrans==4.0.0-rc1) (0.13.3)\n",
            "Requirement already satisfied: certifi in /usr/local/lib/python3.10/dist-packages (from httpx==0.13.3->googletrans==4.0.0-rc1) (2023.7.22)\n",
            "Requirement already satisfied: hstspreload in /usr/local/lib/python3.10/dist-packages (from httpx==0.13.3->googletrans==4.0.0-rc1) (2023.1.1)\n",
            "Requirement already satisfied: sniffio in /usr/local/lib/python3.10/dist-packages (from httpx==0.13.3->googletrans==4.0.0-rc1) (1.3.0)\n",
            "Requirement already satisfied: chardet==3.* in /usr/local/lib/python3.10/dist-packages (from httpx==0.13.3->googletrans==4.0.0-rc1) (3.0.4)\n",
            "Requirement already satisfied: idna==2.* in /usr/local/lib/python3.10/dist-packages (from httpx==0.13.3->googletrans==4.0.0-rc1) (2.10)\n",
            "Requirement already satisfied: rfc3986<2,>=1.3 in /usr/local/lib/python3.10/dist-packages (from httpx==0.13.3->googletrans==4.0.0-rc1) (1.5.0)\n",
            "Requirement already satisfied: httpcore==0.9.* in /usr/local/lib/python3.10/dist-packages (from httpx==0.13.3->googletrans==4.0.0-rc1) (0.9.1)\n",
            "Requirement already satisfied: h11<0.10,>=0.8 in /usr/local/lib/python3.10/dist-packages (from httpcore==0.9.*->httpx==0.13.3->googletrans==4.0.0-rc1) (0.9.0)\n",
            "Requirement already satisfied: h2==3.* in /usr/local/lib/python3.10/dist-packages (from httpcore==0.9.*->httpx==0.13.3->googletrans==4.0.0-rc1) (3.2.0)\n",
            "Requirement already satisfied: hyperframe<6,>=5.2.0 in /usr/local/lib/python3.10/dist-packages (from h2==3.*->httpcore==0.9.*->httpx==0.13.3->googletrans==4.0.0-rc1) (5.2.0)\n",
            "Requirement already satisfied: hpack<4,>=3.0 in /usr/local/lib/python3.10/dist-packages (from h2==3.*->httpcore==0.9.*->httpx==0.13.3->googletrans==4.0.0-rc1) (3.0.0)\n"
          ]
        }
      ]
    },
    {
      "cell_type": "code",
      "source": [
        "# ЛИНИЯ в Unicode для подчеркивания вывода в print()\n",
        "line_length = 100\n",
        "line = '\\u2500' * line_length\n",
        "\n",
        "_line =  '\\n' + '\\u2500' * line_length\n",
        "line_ = '\\u2500' * line_length + '\\n'"
      ],
      "metadata": {
        "id": "4UggS7nxwC_2"
      },
      "execution_count": null,
      "outputs": []
    },
    {
      "cell_type": "markdown",
      "source": [
        "## Датасеты - описание"
      ],
      "metadata": {
        "id": "jMyUsv9XUngc"
      }
    },
    {
      "cell_type": "code",
      "source": [
        "url = 'https://drive.usercontent.google.com/download?id=11h02W3C5KzZG8XNQ_4wnLwTLod5VHMhl&export=download&authuser=0&confirm=t&uuid=cd2d7966-c529-4032-9008-c100dd358d80&at=APZUnTV2D_xCXndD2m-iQGCDSBvp:1697905361287'\n",
        "adgrants = pd.read_csv(url, delimiter=';', skiprows=4)\n",
        "\n",
        "url = 'https://drive.usercontent.google.com/download?id=1CNO_QLKVRGgP38iEYQa2iJJH9z6gii9h&export=download&authuser=0&confirm=t&uuid=3a55ac7e-0696-4203-aadb-3d528fe44050&at=APZUnTXqHlBNtINsDkEajEeMvhKH:1697905362339'\n",
        "clients = pd.read_excel(url)\n",
        "\n",
        "url = 'https://drive.usercontent.google.com/download?id=1KUsl_jPB-TArEajPT5dfEZp0BiQM9J9P&export=download&authuser=0&confirm=t&uuid=89287b81-d104-415f-88b0-bb4f83d904e8&at=APZUnTUOHRfw7C3lEHF48ikWytbq:1697905363159'\n",
        "donors = pd.read_excel(url)"
      ],
      "metadata": {
        "id": "AwRZdQmi9MCB"
      },
      "execution_count": null,
      "outputs": []
    },
    {
      "cell_type": "code",
      "source": [
        "# Словарь имеющихся датасетов\n",
        "dfs = {'adgrants':adgrants, 'clients':clients, 'donors':donors}"
      ],
      "metadata": {
        "id": "_PC19lU2UmSH"
      },
      "execution_count": null,
      "outputs": []
    },
    {
      "cell_type": "code",
      "source": [
        "def info (dfs):\n",
        "  for name,value in dfs.items():\n",
        "    print('\\033[1mДатасет -\\033[0m', '\\033[1m{}\\033[0m'.format(name))\n",
        "    print(value.shape)\n",
        "    display(value.head())\n",
        "    value.info()\n",
        "    print()\n",
        "    print()\n",
        "info(dfs)"
      ],
      "metadata": {
        "colab": {
          "base_uri": "https://localhost:8080/",
          "height": 1000
        },
        "id": "xZy5WtPpVI56",
        "outputId": "3e31a069-bb8c-45d7-d252-29e50f85abf2"
      },
      "execution_count": null,
      "outputs": [
        {
          "output_type": "stream",
          "name": "stdout",
          "text": [
            "\u001b[1mДатасет -\u001b[0m \u001b[1madgrants\u001b[0m\n",
            "(308023, 46)\n"
          ]
        },
        {
          "output_type": "display_data",
          "data": {
            "text/plain": [
              "         Дата               Кампания  № Кампании      Метка  \\\n",
              "0  15.01.2023  Команда#2 / Бот / СПб    82164908  без метки   \n",
              "1  15.01.2023  Команда#2 / Бот / СПб    82164908  без метки   \n",
              "2  15.01.2023  Команда#2 / Бот / СПб    82164908  без метки   \n",
              "3  15.01.2023  Команда#2 / Бот / СПб    82164908  без метки   \n",
              "4  15.01.2023  Команда#2 / Бот / СПб    82164908  без метки   \n",
              "\n",
              "        Условие показа           Пол Уровень платежеспособности       Возраст  \\\n",
              "0  благотворительность  не определен                  Остальные  не определен   \n",
              "1  благотворительность  не определен                  Остальные     младше 18   \n",
              "2  благотворительность  не определен                  Остальные         18-24   \n",
              "3  благотворительность  не определен                  Остальные         25-34   \n",
              "4  благотворительность  не определен                  Остальные         35-44   \n",
              "\n",
              "   Показы Взвешенные показы  Клики CTR (%) wCTR (%) Расход (руб.)  \\\n",
              "0       7              7,00      0    0,00     0,00          0,00   \n",
              "1       4              4,00      0    0,00     0,00          0,00   \n",
              "2       2              2,00      0    0,00     0,00          0,00   \n",
              "3       1              1,00      0    0,00     0,00          0,00   \n",
              "4       1              1,00      0    0,00     0,00          0,00   \n",
              "\n",
              "  Ср. цена клика (руб.) Ср. ставка за клик (руб.) Ср. позиция показов  \\\n",
              "0                     -                         -                   -   \n",
              "1                     -                         -                   -   \n",
              "2                     -                         -                   -   \n",
              "3                     -                         -                   -   \n",
              "4                     -                         -                   -   \n",
              "\n",
              "  Ср. объём трафика Ср. позиция кликов Отказы (%)  \\\n",
              "0            100,00                  -          -   \n",
              "1            100,00                  -          -   \n",
              "2            100,00                  -          -   \n",
              "3            100,00                  -          -   \n",
              "4            100,00                  -          -   \n",
              "\n",
              "  Ср. цена тыс. показов (руб.) Глубина (стр.) Конверсия (%) Цена цели (руб.)  \\\n",
              "0                         0,00              -             -                -   \n",
              "1                         0,00              -             -                -   \n",
              "2                         0,00              -             -                -   \n",
              "3                         0,00              -             -                -   \n",
              "4                         0,00              -             -                -   \n",
              "\n",
              "  Конверсии Рентабельность Доля рекламных расходов Доход (руб.)  \\\n",
              "0         -              -                       -         0,00   \n",
              "1         -              -                       -         0,00   \n",
              "2         -              -                       -         0,00   \n",
              "3         -              -                       -         0,00   \n",
              "4         -              -                       -         0,00   \n",
              "\n",
              "  Прибыль (руб.) Сумма ВC Цена ВC (руб.) Доля ВC (%) Проигрывание 25% ролика  \\\n",
              "0           0,00        -              -           -                       -   \n",
              "1           0,00        -              -           -                       -   \n",
              "2           0,00        -              -           -                       -   \n",
              "3           0,00        -              -           -                       -   \n",
              "4           0,00        -              -           -                       -   \n",
              "\n",
              "  Проигрывание 50% ролика Проигрывание 75% ролика Проигрывание 100% ролика  \\\n",
              "0                       -                       -                        -   \n",
              "1                       -                       -                        -   \n",
              "2                       -                       -                        -   \n",
              "3                       -                       -                        -   \n",
              "4                       -                       -                        -   \n",
              "\n",
              "  Доля проигрываний 25% ролика (%) Доля проигрываний 50% ролика (%)  \\\n",
              "0                                -                                -   \n",
              "1                                -                                -   \n",
              "2                                -                                -   \n",
              "3                                -                                -   \n",
              "4                                -                                -   \n",
              "\n",
              "  Доля проигрываний 75% ролика (%) Доля проигрываний 100% ролика (%)  \\\n",
              "0                                -                                 -   \n",
              "1                                -                                 -   \n",
              "2                                -                                 -   \n",
              "3                                -                                 -   \n",
              "4                                -                                 -   \n",
              "\n",
              "  Ср. цена досмотра 100% ролика (руб.) Видимые показы, стандарт MRC  \\\n",
              "0                                    -                            -   \n",
              "1                                    -                            -   \n",
              "2                                    -                            -   \n",
              "3                                    -                            -   \n",
              "4                                    -                            -   \n",
              "\n",
              "  Невидимые показы, стандарт MRC Неустановленные показы, стандарт MRC  \\\n",
              "0                              -                                    -   \n",
              "1                              -                                    -   \n",
              "2                              -                                    -   \n",
              "3                              -                                    -   \n",
              "4                              -                                    -   \n",
              "\n",
              "  Доля измеряемых показов, стандарт MRC (%)  \\\n",
              "0                                         -   \n",
              "1                                         -   \n",
              "2                                         -   \n",
              "3                                         -   \n",
              "4                                         -   \n",
              "\n",
              "  Доля видимых показов, стандарт MRC (%)  \n",
              "0                                      -  \n",
              "1                                      -  \n",
              "2                                      -  \n",
              "3                                      -  \n",
              "4                                      -  "
            ],
            "text/html": [
              "\n",
              "  <div id=\"df-8573d8ea-02b4-4434-9ced-5ead6c2b2e95\" class=\"colab-df-container\">\n",
              "    <div>\n",
              "<style scoped>\n",
              "    .dataframe tbody tr th:only-of-type {\n",
              "        vertical-align: middle;\n",
              "    }\n",
              "\n",
              "    .dataframe tbody tr th {\n",
              "        vertical-align: top;\n",
              "    }\n",
              "\n",
              "    .dataframe thead th {\n",
              "        text-align: right;\n",
              "    }\n",
              "</style>\n",
              "<table border=\"1\" class=\"dataframe\">\n",
              "  <thead>\n",
              "    <tr style=\"text-align: right;\">\n",
              "      <th></th>\n",
              "      <th>Дата</th>\n",
              "      <th>Кампания</th>\n",
              "      <th>№ Кампании</th>\n",
              "      <th>Метка</th>\n",
              "      <th>Условие показа</th>\n",
              "      <th>Пол</th>\n",
              "      <th>Уровень платежеспособности</th>\n",
              "      <th>Возраст</th>\n",
              "      <th>Показы</th>\n",
              "      <th>Взвешенные показы</th>\n",
              "      <th>Клики</th>\n",
              "      <th>CTR (%)</th>\n",
              "      <th>wCTR (%)</th>\n",
              "      <th>Расход (руб.)</th>\n",
              "      <th>Ср. цена клика (руб.)</th>\n",
              "      <th>Ср. ставка за клик (руб.)</th>\n",
              "      <th>Ср. позиция показов</th>\n",
              "      <th>Ср. объём трафика</th>\n",
              "      <th>Ср. позиция кликов</th>\n",
              "      <th>Отказы (%)</th>\n",
              "      <th>Ср. цена тыс. показов (руб.)</th>\n",
              "      <th>Глубина (стр.)</th>\n",
              "      <th>Конверсия (%)</th>\n",
              "      <th>Цена цели (руб.)</th>\n",
              "      <th>Конверсии</th>\n",
              "      <th>Рентабельность</th>\n",
              "      <th>Доля рекламных расходов</th>\n",
              "      <th>Доход (руб.)</th>\n",
              "      <th>Прибыль (руб.)</th>\n",
              "      <th>Сумма ВC</th>\n",
              "      <th>Цена ВC (руб.)</th>\n",
              "      <th>Доля ВC (%)</th>\n",
              "      <th>Проигрывание 25% ролика</th>\n",
              "      <th>Проигрывание 50% ролика</th>\n",
              "      <th>Проигрывание 75% ролика</th>\n",
              "      <th>Проигрывание 100% ролика</th>\n",
              "      <th>Доля проигрываний 25% ролика (%)</th>\n",
              "      <th>Доля проигрываний 50% ролика (%)</th>\n",
              "      <th>Доля проигрываний 75% ролика (%)</th>\n",
              "      <th>Доля проигрываний 100% ролика (%)</th>\n",
              "      <th>Ср. цена досмотра 100% ролика (руб.)</th>\n",
              "      <th>Видимые показы, стандарт MRC</th>\n",
              "      <th>Невидимые показы, стандарт MRC</th>\n",
              "      <th>Неустановленные показы, стандарт MRC</th>\n",
              "      <th>Доля измеряемых показов, стандарт MRC (%)</th>\n",
              "      <th>Доля видимых показов, стандарт MRC (%)</th>\n",
              "    </tr>\n",
              "  </thead>\n",
              "  <tbody>\n",
              "    <tr>\n",
              "      <th>0</th>\n",
              "      <td>15.01.2023</td>\n",
              "      <td>Команда#2 / Бот / СПб</td>\n",
              "      <td>82164908</td>\n",
              "      <td>без метки</td>\n",
              "      <td>благотворительность</td>\n",
              "      <td>не определен</td>\n",
              "      <td>Остальные</td>\n",
              "      <td>не определен</td>\n",
              "      <td>7</td>\n",
              "      <td>7,00</td>\n",
              "      <td>0</td>\n",
              "      <td>0,00</td>\n",
              "      <td>0,00</td>\n",
              "      <td>0,00</td>\n",
              "      <td>-</td>\n",
              "      <td>-</td>\n",
              "      <td>-</td>\n",
              "      <td>100,00</td>\n",
              "      <td>-</td>\n",
              "      <td>-</td>\n",
              "      <td>0,00</td>\n",
              "      <td>-</td>\n",
              "      <td>-</td>\n",
              "      <td>-</td>\n",
              "      <td>-</td>\n",
              "      <td>-</td>\n",
              "      <td>-</td>\n",
              "      <td>0,00</td>\n",
              "      <td>0,00</td>\n",
              "      <td>-</td>\n",
              "      <td>-</td>\n",
              "      <td>-</td>\n",
              "      <td>-</td>\n",
              "      <td>-</td>\n",
              "      <td>-</td>\n",
              "      <td>-</td>\n",
              "      <td>-</td>\n",
              "      <td>-</td>\n",
              "      <td>-</td>\n",
              "      <td>-</td>\n",
              "      <td>-</td>\n",
              "      <td>-</td>\n",
              "      <td>-</td>\n",
              "      <td>-</td>\n",
              "      <td>-</td>\n",
              "      <td>-</td>\n",
              "    </tr>\n",
              "    <tr>\n",
              "      <th>1</th>\n",
              "      <td>15.01.2023</td>\n",
              "      <td>Команда#2 / Бот / СПб</td>\n",
              "      <td>82164908</td>\n",
              "      <td>без метки</td>\n",
              "      <td>благотворительность</td>\n",
              "      <td>не определен</td>\n",
              "      <td>Остальные</td>\n",
              "      <td>младше 18</td>\n",
              "      <td>4</td>\n",
              "      <td>4,00</td>\n",
              "      <td>0</td>\n",
              "      <td>0,00</td>\n",
              "      <td>0,00</td>\n",
              "      <td>0,00</td>\n",
              "      <td>-</td>\n",
              "      <td>-</td>\n",
              "      <td>-</td>\n",
              "      <td>100,00</td>\n",
              "      <td>-</td>\n",
              "      <td>-</td>\n",
              "      <td>0,00</td>\n",
              "      <td>-</td>\n",
              "      <td>-</td>\n",
              "      <td>-</td>\n",
              "      <td>-</td>\n",
              "      <td>-</td>\n",
              "      <td>-</td>\n",
              "      <td>0,00</td>\n",
              "      <td>0,00</td>\n",
              "      <td>-</td>\n",
              "      <td>-</td>\n",
              "      <td>-</td>\n",
              "      <td>-</td>\n",
              "      <td>-</td>\n",
              "      <td>-</td>\n",
              "      <td>-</td>\n",
              "      <td>-</td>\n",
              "      <td>-</td>\n",
              "      <td>-</td>\n",
              "      <td>-</td>\n",
              "      <td>-</td>\n",
              "      <td>-</td>\n",
              "      <td>-</td>\n",
              "      <td>-</td>\n",
              "      <td>-</td>\n",
              "      <td>-</td>\n",
              "    </tr>\n",
              "    <tr>\n",
              "      <th>2</th>\n",
              "      <td>15.01.2023</td>\n",
              "      <td>Команда#2 / Бот / СПб</td>\n",
              "      <td>82164908</td>\n",
              "      <td>без метки</td>\n",
              "      <td>благотворительность</td>\n",
              "      <td>не определен</td>\n",
              "      <td>Остальные</td>\n",
              "      <td>18-24</td>\n",
              "      <td>2</td>\n",
              "      <td>2,00</td>\n",
              "      <td>0</td>\n",
              "      <td>0,00</td>\n",
              "      <td>0,00</td>\n",
              "      <td>0,00</td>\n",
              "      <td>-</td>\n",
              "      <td>-</td>\n",
              "      <td>-</td>\n",
              "      <td>100,00</td>\n",
              "      <td>-</td>\n",
              "      <td>-</td>\n",
              "      <td>0,00</td>\n",
              "      <td>-</td>\n",
              "      <td>-</td>\n",
              "      <td>-</td>\n",
              "      <td>-</td>\n",
              "      <td>-</td>\n",
              "      <td>-</td>\n",
              "      <td>0,00</td>\n",
              "      <td>0,00</td>\n",
              "      <td>-</td>\n",
              "      <td>-</td>\n",
              "      <td>-</td>\n",
              "      <td>-</td>\n",
              "      <td>-</td>\n",
              "      <td>-</td>\n",
              "      <td>-</td>\n",
              "      <td>-</td>\n",
              "      <td>-</td>\n",
              "      <td>-</td>\n",
              "      <td>-</td>\n",
              "      <td>-</td>\n",
              "      <td>-</td>\n",
              "      <td>-</td>\n",
              "      <td>-</td>\n",
              "      <td>-</td>\n",
              "      <td>-</td>\n",
              "    </tr>\n",
              "    <tr>\n",
              "      <th>3</th>\n",
              "      <td>15.01.2023</td>\n",
              "      <td>Команда#2 / Бот / СПб</td>\n",
              "      <td>82164908</td>\n",
              "      <td>без метки</td>\n",
              "      <td>благотворительность</td>\n",
              "      <td>не определен</td>\n",
              "      <td>Остальные</td>\n",
              "      <td>25-34</td>\n",
              "      <td>1</td>\n",
              "      <td>1,00</td>\n",
              "      <td>0</td>\n",
              "      <td>0,00</td>\n",
              "      <td>0,00</td>\n",
              "      <td>0,00</td>\n",
              "      <td>-</td>\n",
              "      <td>-</td>\n",
              "      <td>-</td>\n",
              "      <td>100,00</td>\n",
              "      <td>-</td>\n",
              "      <td>-</td>\n",
              "      <td>0,00</td>\n",
              "      <td>-</td>\n",
              "      <td>-</td>\n",
              "      <td>-</td>\n",
              "      <td>-</td>\n",
              "      <td>-</td>\n",
              "      <td>-</td>\n",
              "      <td>0,00</td>\n",
              "      <td>0,00</td>\n",
              "      <td>-</td>\n",
              "      <td>-</td>\n",
              "      <td>-</td>\n",
              "      <td>-</td>\n",
              "      <td>-</td>\n",
              "      <td>-</td>\n",
              "      <td>-</td>\n",
              "      <td>-</td>\n",
              "      <td>-</td>\n",
              "      <td>-</td>\n",
              "      <td>-</td>\n",
              "      <td>-</td>\n",
              "      <td>-</td>\n",
              "      <td>-</td>\n",
              "      <td>-</td>\n",
              "      <td>-</td>\n",
              "      <td>-</td>\n",
              "    </tr>\n",
              "    <tr>\n",
              "      <th>4</th>\n",
              "      <td>15.01.2023</td>\n",
              "      <td>Команда#2 / Бот / СПб</td>\n",
              "      <td>82164908</td>\n",
              "      <td>без метки</td>\n",
              "      <td>благотворительность</td>\n",
              "      <td>не определен</td>\n",
              "      <td>Остальные</td>\n",
              "      <td>35-44</td>\n",
              "      <td>1</td>\n",
              "      <td>1,00</td>\n",
              "      <td>0</td>\n",
              "      <td>0,00</td>\n",
              "      <td>0,00</td>\n",
              "      <td>0,00</td>\n",
              "      <td>-</td>\n",
              "      <td>-</td>\n",
              "      <td>-</td>\n",
              "      <td>100,00</td>\n",
              "      <td>-</td>\n",
              "      <td>-</td>\n",
              "      <td>0,00</td>\n",
              "      <td>-</td>\n",
              "      <td>-</td>\n",
              "      <td>-</td>\n",
              "      <td>-</td>\n",
              "      <td>-</td>\n",
              "      <td>-</td>\n",
              "      <td>0,00</td>\n",
              "      <td>0,00</td>\n",
              "      <td>-</td>\n",
              "      <td>-</td>\n",
              "      <td>-</td>\n",
              "      <td>-</td>\n",
              "      <td>-</td>\n",
              "      <td>-</td>\n",
              "      <td>-</td>\n",
              "      <td>-</td>\n",
              "      <td>-</td>\n",
              "      <td>-</td>\n",
              "      <td>-</td>\n",
              "      <td>-</td>\n",
              "      <td>-</td>\n",
              "      <td>-</td>\n",
              "      <td>-</td>\n",
              "      <td>-</td>\n",
              "      <td>-</td>\n",
              "    </tr>\n",
              "  </tbody>\n",
              "</table>\n",
              "</div>\n",
              "    <div class=\"colab-df-buttons\">\n",
              "\n",
              "  <div class=\"colab-df-container\">\n",
              "    <button class=\"colab-df-convert\" onclick=\"convertToInteractive('df-8573d8ea-02b4-4434-9ced-5ead6c2b2e95')\"\n",
              "            title=\"Convert this dataframe to an interactive table.\"\n",
              "            style=\"display:none;\">\n",
              "\n",
              "  <svg xmlns=\"http://www.w3.org/2000/svg\" height=\"24px\" viewBox=\"0 -960 960 960\">\n",
              "    <path d=\"M120-120v-720h720v720H120Zm60-500h600v-160H180v160Zm220 220h160v-160H400v160Zm0 220h160v-160H400v160ZM180-400h160v-160H180v160Zm440 0h160v-160H620v160ZM180-180h160v-160H180v160Zm440 0h160v-160H620v160Z\"/>\n",
              "  </svg>\n",
              "    </button>\n",
              "\n",
              "  <style>\n",
              "    .colab-df-container {\n",
              "      display:flex;\n",
              "      gap: 12px;\n",
              "    }\n",
              "\n",
              "    .colab-df-convert {\n",
              "      background-color: #E8F0FE;\n",
              "      border: none;\n",
              "      border-radius: 50%;\n",
              "      cursor: pointer;\n",
              "      display: none;\n",
              "      fill: #1967D2;\n",
              "      height: 32px;\n",
              "      padding: 0 0 0 0;\n",
              "      width: 32px;\n",
              "    }\n",
              "\n",
              "    .colab-df-convert:hover {\n",
              "      background-color: #E2EBFA;\n",
              "      box-shadow: 0px 1px 2px rgba(60, 64, 67, 0.3), 0px 1px 3px 1px rgba(60, 64, 67, 0.15);\n",
              "      fill: #174EA6;\n",
              "    }\n",
              "\n",
              "    .colab-df-buttons div {\n",
              "      margin-bottom: 4px;\n",
              "    }\n",
              "\n",
              "    [theme=dark] .colab-df-convert {\n",
              "      background-color: #3B4455;\n",
              "      fill: #D2E3FC;\n",
              "    }\n",
              "\n",
              "    [theme=dark] .colab-df-convert:hover {\n",
              "      background-color: #434B5C;\n",
              "      box-shadow: 0px 1px 3px 1px rgba(0, 0, 0, 0.15);\n",
              "      filter: drop-shadow(0px 1px 2px rgba(0, 0, 0, 0.3));\n",
              "      fill: #FFFFFF;\n",
              "    }\n",
              "  </style>\n",
              "\n",
              "    <script>\n",
              "      const buttonEl =\n",
              "        document.querySelector('#df-8573d8ea-02b4-4434-9ced-5ead6c2b2e95 button.colab-df-convert');\n",
              "      buttonEl.style.display =\n",
              "        google.colab.kernel.accessAllowed ? 'block' : 'none';\n",
              "\n",
              "      async function convertToInteractive(key) {\n",
              "        const element = document.querySelector('#df-8573d8ea-02b4-4434-9ced-5ead6c2b2e95');\n",
              "        const dataTable =\n",
              "          await google.colab.kernel.invokeFunction('convertToInteractive',\n",
              "                                                    [key], {});\n",
              "        if (!dataTable) return;\n",
              "\n",
              "        const docLinkHtml = 'Like what you see? Visit the ' +\n",
              "          '<a target=\"_blank\" href=https://colab.research.google.com/notebooks/data_table.ipynb>data table notebook</a>'\n",
              "          + ' to learn more about interactive tables.';\n",
              "        element.innerHTML = '';\n",
              "        dataTable['output_type'] = 'display_data';\n",
              "        await google.colab.output.renderOutput(dataTable, element);\n",
              "        const docLink = document.createElement('div');\n",
              "        docLink.innerHTML = docLinkHtml;\n",
              "        element.appendChild(docLink);\n",
              "      }\n",
              "    </script>\n",
              "  </div>\n",
              "\n",
              "\n",
              "<div id=\"df-7ff706a1-315c-4c07-b26e-cfcfba8abb57\">\n",
              "  <button class=\"colab-df-quickchart\" onclick=\"quickchart('df-7ff706a1-315c-4c07-b26e-cfcfba8abb57')\"\n",
              "            title=\"Suggest charts.\"\n",
              "            style=\"display:none;\">\n",
              "\n",
              "<svg xmlns=\"http://www.w3.org/2000/svg\" height=\"24px\"viewBox=\"0 0 24 24\"\n",
              "     width=\"24px\">\n",
              "    <g>\n",
              "        <path d=\"M19 3H5c-1.1 0-2 .9-2 2v14c0 1.1.9 2 2 2h14c1.1 0 2-.9 2-2V5c0-1.1-.9-2-2-2zM9 17H7v-7h2v7zm4 0h-2V7h2v10zm4 0h-2v-4h2v4z\"/>\n",
              "    </g>\n",
              "</svg>\n",
              "  </button>\n",
              "\n",
              "<style>\n",
              "  .colab-df-quickchart {\n",
              "      --bg-color: #E8F0FE;\n",
              "      --fill-color: #1967D2;\n",
              "      --hover-bg-color: #E2EBFA;\n",
              "      --hover-fill-color: #174EA6;\n",
              "      --disabled-fill-color: #AAA;\n",
              "      --disabled-bg-color: #DDD;\n",
              "  }\n",
              "\n",
              "  [theme=dark] .colab-df-quickchart {\n",
              "      --bg-color: #3B4455;\n",
              "      --fill-color: #D2E3FC;\n",
              "      --hover-bg-color: #434B5C;\n",
              "      --hover-fill-color: #FFFFFF;\n",
              "      --disabled-bg-color: #3B4455;\n",
              "      --disabled-fill-color: #666;\n",
              "  }\n",
              "\n",
              "  .colab-df-quickchart {\n",
              "    background-color: var(--bg-color);\n",
              "    border: none;\n",
              "    border-radius: 50%;\n",
              "    cursor: pointer;\n",
              "    display: none;\n",
              "    fill: var(--fill-color);\n",
              "    height: 32px;\n",
              "    padding: 0;\n",
              "    width: 32px;\n",
              "  }\n",
              "\n",
              "  .colab-df-quickchart:hover {\n",
              "    background-color: var(--hover-bg-color);\n",
              "    box-shadow: 0 1px 2px rgba(60, 64, 67, 0.3), 0 1px 3px 1px rgba(60, 64, 67, 0.15);\n",
              "    fill: var(--button-hover-fill-color);\n",
              "  }\n",
              "\n",
              "  .colab-df-quickchart-complete:disabled,\n",
              "  .colab-df-quickchart-complete:disabled:hover {\n",
              "    background-color: var(--disabled-bg-color);\n",
              "    fill: var(--disabled-fill-color);\n",
              "    box-shadow: none;\n",
              "  }\n",
              "\n",
              "  .colab-df-spinner {\n",
              "    border: 2px solid var(--fill-color);\n",
              "    border-color: transparent;\n",
              "    border-bottom-color: var(--fill-color);\n",
              "    animation:\n",
              "      spin 1s steps(1) infinite;\n",
              "  }\n",
              "\n",
              "  @keyframes spin {\n",
              "    0% {\n",
              "      border-color: transparent;\n",
              "      border-bottom-color: var(--fill-color);\n",
              "      border-left-color: var(--fill-color);\n",
              "    }\n",
              "    20% {\n",
              "      border-color: transparent;\n",
              "      border-left-color: var(--fill-color);\n",
              "      border-top-color: var(--fill-color);\n",
              "    }\n",
              "    30% {\n",
              "      border-color: transparent;\n",
              "      border-left-color: var(--fill-color);\n",
              "      border-top-color: var(--fill-color);\n",
              "      border-right-color: var(--fill-color);\n",
              "    }\n",
              "    40% {\n",
              "      border-color: transparent;\n",
              "      border-right-color: var(--fill-color);\n",
              "      border-top-color: var(--fill-color);\n",
              "    }\n",
              "    60% {\n",
              "      border-color: transparent;\n",
              "      border-right-color: var(--fill-color);\n",
              "    }\n",
              "    80% {\n",
              "      border-color: transparent;\n",
              "      border-right-color: var(--fill-color);\n",
              "      border-bottom-color: var(--fill-color);\n",
              "    }\n",
              "    90% {\n",
              "      border-color: transparent;\n",
              "      border-bottom-color: var(--fill-color);\n",
              "    }\n",
              "  }\n",
              "</style>\n",
              "\n",
              "  <script>\n",
              "    async function quickchart(key) {\n",
              "      const quickchartButtonEl =\n",
              "        document.querySelector('#' + key + ' button');\n",
              "      quickchartButtonEl.disabled = true;  // To prevent multiple clicks.\n",
              "      quickchartButtonEl.classList.add('colab-df-spinner');\n",
              "      try {\n",
              "        const charts = await google.colab.kernel.invokeFunction(\n",
              "            'suggestCharts', [key], {});\n",
              "      } catch (error) {\n",
              "        console.error('Error during call to suggestCharts:', error);\n",
              "      }\n",
              "      quickchartButtonEl.classList.remove('colab-df-spinner');\n",
              "      quickchartButtonEl.classList.add('colab-df-quickchart-complete');\n",
              "    }\n",
              "    (() => {\n",
              "      let quickchartButtonEl =\n",
              "        document.querySelector('#df-7ff706a1-315c-4c07-b26e-cfcfba8abb57 button');\n",
              "      quickchartButtonEl.style.display =\n",
              "        google.colab.kernel.accessAllowed ? 'block' : 'none';\n",
              "    })();\n",
              "  </script>\n",
              "</div>\n",
              "    </div>\n",
              "  </div>\n"
            ]
          },
          "metadata": {}
        },
        {
          "output_type": "stream",
          "name": "stdout",
          "text": [
            "<class 'pandas.core.frame.DataFrame'>\n",
            "RangeIndex: 308023 entries, 0 to 308022\n",
            "Data columns (total 46 columns):\n",
            " #   Column                                     Non-Null Count   Dtype \n",
            "---  ------                                     --------------   ----- \n",
            " 0   Дата                                       308023 non-null  object\n",
            " 1   Кампания                                   308023 non-null  object\n",
            " 2   № Кампании                                 308023 non-null  int64 \n",
            " 3   Метка                                      308023 non-null  object\n",
            " 4   Условие показа                             308023 non-null  object\n",
            " 5   Пол                                        308023 non-null  object\n",
            " 6   Уровень платежеспособности                 308023 non-null  object\n",
            " 7   Возраст                                    308023 non-null  object\n",
            " 8   Показы                                     308023 non-null  int64 \n",
            " 9   Взвешенные показы                          308023 non-null  object\n",
            " 10  Клики                                      308023 non-null  int64 \n",
            " 11  CTR (%)                                    308023 non-null  object\n",
            " 12  wCTR (%)                                   308023 non-null  object\n",
            " 13  Расход (руб.)                              308023 non-null  object\n",
            " 14  Ср. цена клика (руб.)                      308023 non-null  object\n",
            " 15  Ср. ставка за клик (руб.)                  308023 non-null  object\n",
            " 16  Ср. позиция показов                        308023 non-null  object\n",
            " 17  Ср. объём трафика                          308023 non-null  object\n",
            " 18  Ср. позиция кликов                         308023 non-null  object\n",
            " 19  Отказы (%)                                 308023 non-null  object\n",
            " 20  Ср. цена тыс. показов (руб.)               308023 non-null  object\n",
            " 21  Глубина (стр.)                             308023 non-null  object\n",
            " 22  Конверсия (%)                              308023 non-null  object\n",
            " 23  Цена цели (руб.)                           308023 non-null  object\n",
            " 24  Конверсии                                  308023 non-null  object\n",
            " 25  Рентабельность                             308023 non-null  object\n",
            " 26  Доля рекламных расходов                    308023 non-null  object\n",
            " 27  Доход (руб.)                               308023 non-null  object\n",
            " 28  Прибыль (руб.)                             308023 non-null  object\n",
            " 29  Сумма ВC                                   308023 non-null  object\n",
            " 30  Цена ВC (руб.)                             308023 non-null  object\n",
            " 31  Доля ВC (%)                                308023 non-null  object\n",
            " 32  Проигрывание 25% ролика                    308023 non-null  object\n",
            " 33  Проигрывание 50% ролика                    308023 non-null  object\n",
            " 34  Проигрывание 75% ролика                    308023 non-null  object\n",
            " 35  Проигрывание 100% ролика                   308023 non-null  object\n",
            " 36  Доля проигрываний 25% ролика (%)           308023 non-null  object\n",
            " 37  Доля проигрываний 50% ролика (%)           308023 non-null  object\n",
            " 38  Доля проигрываний 75% ролика (%)           308023 non-null  object\n",
            " 39  Доля проигрываний 100% ролика (%)          308023 non-null  object\n",
            " 40  Ср. цена досмотра 100% ролика (руб.)       308023 non-null  object\n",
            " 41  Видимые показы, стандарт MRC               308023 non-null  object\n",
            " 42  Невидимые показы, стандарт MRC             308023 non-null  object\n",
            " 43  Неустановленные показы, стандарт MRC       308023 non-null  object\n",
            " 44  Доля измеряемых показов, стандарт MRC (%)  308023 non-null  object\n",
            " 45  Доля видимых показов, стандарт MRC (%)     308023 non-null  object\n",
            "dtypes: int64(3), object(43)\n",
            "memory usage: 108.1+ MB\n",
            "\n",
            "\n",
            "\u001b[1mДатасет -\u001b[0m \u001b[1mclients\u001b[0m\n",
            "(1166, 16)\n"
          ]
        },
        {
          "output_type": "display_data",
          "data": {
            "text/plain": [
              "        id       Первый платеж  Подписки вкл  Подписки выкл Типы оплаты  \\\n",
              "0   707634 2021-12-28 16:54:52             0              0       карта   \n",
              "1   789437 2022-03-12 00:16:40             0              0       карта   \n",
              "2  1078426 2022-11-23 12:55:04             0              0         NaN   \n",
              "3  1078667 2022-11-23 16:28:46             0              0         NaN   \n",
              "4   708416 2021-12-29 17:04:26             0              0       карта   \n",
              "\n",
              "   Платежей за год  Сумма за год Средний платеж в год  Всего платежей  \\\n",
              "0                0             0                    0               0   \n",
              "1                0             0                    0               0   \n",
              "2                0             0                    0               0   \n",
              "3                1           500                  500               1   \n",
              "4                1          1000                 1000               1   \n",
              "\n",
              "   Сумма всего Средний платеж  Сумма за месяц  Страны             Регионы  \\\n",
              "0            0              0               0     NaN                 NaN   \n",
              "1            0              0               0     NaN                 NaN   \n",
              "2            0              0               0     NaN                 NaN   \n",
              "3          500            500               0  Россия  Ленинградская обл.   \n",
              "4         1000           1000               0  Россия              Кунене   \n",
              "\n",
              "     Последний платеж   код  \n",
              "0 2021-12-28 16:54:52  1118  \n",
              "1 2022-03-12 00:16:40  1119  \n",
              "2 2022-11-23 12:55:04  1120  \n",
              "3 2022-11-23 16:28:46  1121  \n",
              "4 2021-12-29 17:04:26  1122  "
            ],
            "text/html": [
              "\n",
              "  <div id=\"df-8ef73f5b-3f9c-46d9-875b-5c089049b401\" class=\"colab-df-container\">\n",
              "    <div>\n",
              "<style scoped>\n",
              "    .dataframe tbody tr th:only-of-type {\n",
              "        vertical-align: middle;\n",
              "    }\n",
              "\n",
              "    .dataframe tbody tr th {\n",
              "        vertical-align: top;\n",
              "    }\n",
              "\n",
              "    .dataframe thead th {\n",
              "        text-align: right;\n",
              "    }\n",
              "</style>\n",
              "<table border=\"1\" class=\"dataframe\">\n",
              "  <thead>\n",
              "    <tr style=\"text-align: right;\">\n",
              "      <th></th>\n",
              "      <th>id</th>\n",
              "      <th>Первый платеж</th>\n",
              "      <th>Подписки вкл</th>\n",
              "      <th>Подписки выкл</th>\n",
              "      <th>Типы оплаты</th>\n",
              "      <th>Платежей за год</th>\n",
              "      <th>Сумма за год</th>\n",
              "      <th>Средний платеж в год</th>\n",
              "      <th>Всего платежей</th>\n",
              "      <th>Сумма всего</th>\n",
              "      <th>Средний платеж</th>\n",
              "      <th>Сумма за месяц</th>\n",
              "      <th>Страны</th>\n",
              "      <th>Регионы</th>\n",
              "      <th>Последний платеж</th>\n",
              "      <th>код</th>\n",
              "    </tr>\n",
              "  </thead>\n",
              "  <tbody>\n",
              "    <tr>\n",
              "      <th>0</th>\n",
              "      <td>707634</td>\n",
              "      <td>2021-12-28 16:54:52</td>\n",
              "      <td>0</td>\n",
              "      <td>0</td>\n",
              "      <td>карта</td>\n",
              "      <td>0</td>\n",
              "      <td>0</td>\n",
              "      <td>0</td>\n",
              "      <td>0</td>\n",
              "      <td>0</td>\n",
              "      <td>0</td>\n",
              "      <td>0</td>\n",
              "      <td>NaN</td>\n",
              "      <td>NaN</td>\n",
              "      <td>2021-12-28 16:54:52</td>\n",
              "      <td>1118</td>\n",
              "    </tr>\n",
              "    <tr>\n",
              "      <th>1</th>\n",
              "      <td>789437</td>\n",
              "      <td>2022-03-12 00:16:40</td>\n",
              "      <td>0</td>\n",
              "      <td>0</td>\n",
              "      <td>карта</td>\n",
              "      <td>0</td>\n",
              "      <td>0</td>\n",
              "      <td>0</td>\n",
              "      <td>0</td>\n",
              "      <td>0</td>\n",
              "      <td>0</td>\n",
              "      <td>0</td>\n",
              "      <td>NaN</td>\n",
              "      <td>NaN</td>\n",
              "      <td>2022-03-12 00:16:40</td>\n",
              "      <td>1119</td>\n",
              "    </tr>\n",
              "    <tr>\n",
              "      <th>2</th>\n",
              "      <td>1078426</td>\n",
              "      <td>2022-11-23 12:55:04</td>\n",
              "      <td>0</td>\n",
              "      <td>0</td>\n",
              "      <td>NaN</td>\n",
              "      <td>0</td>\n",
              "      <td>0</td>\n",
              "      <td>0</td>\n",
              "      <td>0</td>\n",
              "      <td>0</td>\n",
              "      <td>0</td>\n",
              "      <td>0</td>\n",
              "      <td>NaN</td>\n",
              "      <td>NaN</td>\n",
              "      <td>2022-11-23 12:55:04</td>\n",
              "      <td>1120</td>\n",
              "    </tr>\n",
              "    <tr>\n",
              "      <th>3</th>\n",
              "      <td>1078667</td>\n",
              "      <td>2022-11-23 16:28:46</td>\n",
              "      <td>0</td>\n",
              "      <td>0</td>\n",
              "      <td>NaN</td>\n",
              "      <td>1</td>\n",
              "      <td>500</td>\n",
              "      <td>500</td>\n",
              "      <td>1</td>\n",
              "      <td>500</td>\n",
              "      <td>500</td>\n",
              "      <td>0</td>\n",
              "      <td>Россия</td>\n",
              "      <td>Ленинградская обл.</td>\n",
              "      <td>2022-11-23 16:28:46</td>\n",
              "      <td>1121</td>\n",
              "    </tr>\n",
              "    <tr>\n",
              "      <th>4</th>\n",
              "      <td>708416</td>\n",
              "      <td>2021-12-29 17:04:26</td>\n",
              "      <td>0</td>\n",
              "      <td>0</td>\n",
              "      <td>карта</td>\n",
              "      <td>1</td>\n",
              "      <td>1000</td>\n",
              "      <td>1000</td>\n",
              "      <td>1</td>\n",
              "      <td>1000</td>\n",
              "      <td>1000</td>\n",
              "      <td>0</td>\n",
              "      <td>Россия</td>\n",
              "      <td>Кунене</td>\n",
              "      <td>2021-12-29 17:04:26</td>\n",
              "      <td>1122</td>\n",
              "    </tr>\n",
              "  </tbody>\n",
              "</table>\n",
              "</div>\n",
              "    <div class=\"colab-df-buttons\">\n",
              "\n",
              "  <div class=\"colab-df-container\">\n",
              "    <button class=\"colab-df-convert\" onclick=\"convertToInteractive('df-8ef73f5b-3f9c-46d9-875b-5c089049b401')\"\n",
              "            title=\"Convert this dataframe to an interactive table.\"\n",
              "            style=\"display:none;\">\n",
              "\n",
              "  <svg xmlns=\"http://www.w3.org/2000/svg\" height=\"24px\" viewBox=\"0 -960 960 960\">\n",
              "    <path d=\"M120-120v-720h720v720H120Zm60-500h600v-160H180v160Zm220 220h160v-160H400v160Zm0 220h160v-160H400v160ZM180-400h160v-160H180v160Zm440 0h160v-160H620v160ZM180-180h160v-160H180v160Zm440 0h160v-160H620v160Z\"/>\n",
              "  </svg>\n",
              "    </button>\n",
              "\n",
              "  <style>\n",
              "    .colab-df-container {\n",
              "      display:flex;\n",
              "      gap: 12px;\n",
              "    }\n",
              "\n",
              "    .colab-df-convert {\n",
              "      background-color: #E8F0FE;\n",
              "      border: none;\n",
              "      border-radius: 50%;\n",
              "      cursor: pointer;\n",
              "      display: none;\n",
              "      fill: #1967D2;\n",
              "      height: 32px;\n",
              "      padding: 0 0 0 0;\n",
              "      width: 32px;\n",
              "    }\n",
              "\n",
              "    .colab-df-convert:hover {\n",
              "      background-color: #E2EBFA;\n",
              "      box-shadow: 0px 1px 2px rgba(60, 64, 67, 0.3), 0px 1px 3px 1px rgba(60, 64, 67, 0.15);\n",
              "      fill: #174EA6;\n",
              "    }\n",
              "\n",
              "    .colab-df-buttons div {\n",
              "      margin-bottom: 4px;\n",
              "    }\n",
              "\n",
              "    [theme=dark] .colab-df-convert {\n",
              "      background-color: #3B4455;\n",
              "      fill: #D2E3FC;\n",
              "    }\n",
              "\n",
              "    [theme=dark] .colab-df-convert:hover {\n",
              "      background-color: #434B5C;\n",
              "      box-shadow: 0px 1px 3px 1px rgba(0, 0, 0, 0.15);\n",
              "      filter: drop-shadow(0px 1px 2px rgba(0, 0, 0, 0.3));\n",
              "      fill: #FFFFFF;\n",
              "    }\n",
              "  </style>\n",
              "\n",
              "    <script>\n",
              "      const buttonEl =\n",
              "        document.querySelector('#df-8ef73f5b-3f9c-46d9-875b-5c089049b401 button.colab-df-convert');\n",
              "      buttonEl.style.display =\n",
              "        google.colab.kernel.accessAllowed ? 'block' : 'none';\n",
              "\n",
              "      async function convertToInteractive(key) {\n",
              "        const element = document.querySelector('#df-8ef73f5b-3f9c-46d9-875b-5c089049b401');\n",
              "        const dataTable =\n",
              "          await google.colab.kernel.invokeFunction('convertToInteractive',\n",
              "                                                    [key], {});\n",
              "        if (!dataTable) return;\n",
              "\n",
              "        const docLinkHtml = 'Like what you see? Visit the ' +\n",
              "          '<a target=\"_blank\" href=https://colab.research.google.com/notebooks/data_table.ipynb>data table notebook</a>'\n",
              "          + ' to learn more about interactive tables.';\n",
              "        element.innerHTML = '';\n",
              "        dataTable['output_type'] = 'display_data';\n",
              "        await google.colab.output.renderOutput(dataTable, element);\n",
              "        const docLink = document.createElement('div');\n",
              "        docLink.innerHTML = docLinkHtml;\n",
              "        element.appendChild(docLink);\n",
              "      }\n",
              "    </script>\n",
              "  </div>\n",
              "\n",
              "\n",
              "<div id=\"df-04e1856a-b782-4f3b-b8d7-ff688d79c738\">\n",
              "  <button class=\"colab-df-quickchart\" onclick=\"quickchart('df-04e1856a-b782-4f3b-b8d7-ff688d79c738')\"\n",
              "            title=\"Suggest charts.\"\n",
              "            style=\"display:none;\">\n",
              "\n",
              "<svg xmlns=\"http://www.w3.org/2000/svg\" height=\"24px\"viewBox=\"0 0 24 24\"\n",
              "     width=\"24px\">\n",
              "    <g>\n",
              "        <path d=\"M19 3H5c-1.1 0-2 .9-2 2v14c0 1.1.9 2 2 2h14c1.1 0 2-.9 2-2V5c0-1.1-.9-2-2-2zM9 17H7v-7h2v7zm4 0h-2V7h2v10zm4 0h-2v-4h2v4z\"/>\n",
              "    </g>\n",
              "</svg>\n",
              "  </button>\n",
              "\n",
              "<style>\n",
              "  .colab-df-quickchart {\n",
              "      --bg-color: #E8F0FE;\n",
              "      --fill-color: #1967D2;\n",
              "      --hover-bg-color: #E2EBFA;\n",
              "      --hover-fill-color: #174EA6;\n",
              "      --disabled-fill-color: #AAA;\n",
              "      --disabled-bg-color: #DDD;\n",
              "  }\n",
              "\n",
              "  [theme=dark] .colab-df-quickchart {\n",
              "      --bg-color: #3B4455;\n",
              "      --fill-color: #D2E3FC;\n",
              "      --hover-bg-color: #434B5C;\n",
              "      --hover-fill-color: #FFFFFF;\n",
              "      --disabled-bg-color: #3B4455;\n",
              "      --disabled-fill-color: #666;\n",
              "  }\n",
              "\n",
              "  .colab-df-quickchart {\n",
              "    background-color: var(--bg-color);\n",
              "    border: none;\n",
              "    border-radius: 50%;\n",
              "    cursor: pointer;\n",
              "    display: none;\n",
              "    fill: var(--fill-color);\n",
              "    height: 32px;\n",
              "    padding: 0;\n",
              "    width: 32px;\n",
              "  }\n",
              "\n",
              "  .colab-df-quickchart:hover {\n",
              "    background-color: var(--hover-bg-color);\n",
              "    box-shadow: 0 1px 2px rgba(60, 64, 67, 0.3), 0 1px 3px 1px rgba(60, 64, 67, 0.15);\n",
              "    fill: var(--button-hover-fill-color);\n",
              "  }\n",
              "\n",
              "  .colab-df-quickchart-complete:disabled,\n",
              "  .colab-df-quickchart-complete:disabled:hover {\n",
              "    background-color: var(--disabled-bg-color);\n",
              "    fill: var(--disabled-fill-color);\n",
              "    box-shadow: none;\n",
              "  }\n",
              "\n",
              "  .colab-df-spinner {\n",
              "    border: 2px solid var(--fill-color);\n",
              "    border-color: transparent;\n",
              "    border-bottom-color: var(--fill-color);\n",
              "    animation:\n",
              "      spin 1s steps(1) infinite;\n",
              "  }\n",
              "\n",
              "  @keyframes spin {\n",
              "    0% {\n",
              "      border-color: transparent;\n",
              "      border-bottom-color: var(--fill-color);\n",
              "      border-left-color: var(--fill-color);\n",
              "    }\n",
              "    20% {\n",
              "      border-color: transparent;\n",
              "      border-left-color: var(--fill-color);\n",
              "      border-top-color: var(--fill-color);\n",
              "    }\n",
              "    30% {\n",
              "      border-color: transparent;\n",
              "      border-left-color: var(--fill-color);\n",
              "      border-top-color: var(--fill-color);\n",
              "      border-right-color: var(--fill-color);\n",
              "    }\n",
              "    40% {\n",
              "      border-color: transparent;\n",
              "      border-right-color: var(--fill-color);\n",
              "      border-top-color: var(--fill-color);\n",
              "    }\n",
              "    60% {\n",
              "      border-color: transparent;\n",
              "      border-right-color: var(--fill-color);\n",
              "    }\n",
              "    80% {\n",
              "      border-color: transparent;\n",
              "      border-right-color: var(--fill-color);\n",
              "      border-bottom-color: var(--fill-color);\n",
              "    }\n",
              "    90% {\n",
              "      border-color: transparent;\n",
              "      border-bottom-color: var(--fill-color);\n",
              "    }\n",
              "  }\n",
              "</style>\n",
              "\n",
              "  <script>\n",
              "    async function quickchart(key) {\n",
              "      const quickchartButtonEl =\n",
              "        document.querySelector('#' + key + ' button');\n",
              "      quickchartButtonEl.disabled = true;  // To prevent multiple clicks.\n",
              "      quickchartButtonEl.classList.add('colab-df-spinner');\n",
              "      try {\n",
              "        const charts = await google.colab.kernel.invokeFunction(\n",
              "            'suggestCharts', [key], {});\n",
              "      } catch (error) {\n",
              "        console.error('Error during call to suggestCharts:', error);\n",
              "      }\n",
              "      quickchartButtonEl.classList.remove('colab-df-spinner');\n",
              "      quickchartButtonEl.classList.add('colab-df-quickchart-complete');\n",
              "    }\n",
              "    (() => {\n",
              "      let quickchartButtonEl =\n",
              "        document.querySelector('#df-04e1856a-b782-4f3b-b8d7-ff688d79c738 button');\n",
              "      quickchartButtonEl.style.display =\n",
              "        google.colab.kernel.accessAllowed ? 'block' : 'none';\n",
              "    })();\n",
              "  </script>\n",
              "</div>\n",
              "    </div>\n",
              "  </div>\n"
            ]
          },
          "metadata": {}
        },
        {
          "output_type": "stream",
          "name": "stdout",
          "text": [
            "<class 'pandas.core.frame.DataFrame'>\n",
            "RangeIndex: 1166 entries, 0 to 1165\n",
            "Data columns (total 16 columns):\n",
            " #   Column                Non-Null Count  Dtype         \n",
            "---  ------                --------------  -----         \n",
            " 0   id                    1166 non-null   int64         \n",
            " 1   Первый платеж         1166 non-null   datetime64[ns]\n",
            " 2   Подписки вкл          1166 non-null   int64         \n",
            " 3   Подписки выкл         1166 non-null   int64         \n",
            " 4   Типы оплаты           998 non-null    object        \n",
            " 5   Платежей за год       1166 non-null   int64         \n",
            " 6   Сумма за год          1166 non-null   int64         \n",
            " 7   Средний платеж в год  1166 non-null   object        \n",
            " 8   Всего платежей        1166 non-null   int64         \n",
            " 9   Сумма всего           1166 non-null   int64         \n",
            " 10  Средний платеж        1166 non-null   object        \n",
            " 11  Сумма за месяц        1166 non-null   int64         \n",
            " 12  Страны                922 non-null    object        \n",
            " 13  Регионы               896 non-null    object        \n",
            " 14  Последний платеж      1166 non-null   datetime64[ns]\n",
            " 15  код                   1166 non-null   int64         \n",
            "dtypes: datetime64[ns](2), int64(9), object(5)\n",
            "memory usage: 145.9+ KB\n",
            "\n",
            "\n",
            "\u001b[1mДатасет -\u001b[0m \u001b[1mdonors\u001b[0m\n",
            "(813, 14)\n"
          ]
        },
        {
          "output_type": "display_data",
          "data": {
            "text/plain": [
              "    ID  Тип донора Дата первого пожертвования  Сумма первого пожертвования  \\\n",
              "0  833     разовый          21.06.2023, 18:43                       3000.0   \n",
              "1  832  постоянный          20.06.2023, 16:36                        500.0   \n",
              "2  831  постоянный          20.06.2023, 10:39                        500.0   \n",
              "3  830     разовый          20.06.2023, 09:09                       1000.0   \n",
              "4  829  постоянный          19.06.2023, 23:03                        100.0   \n",
              "\n",
              "                      Кампания первого пожертвования  Метки донора  \\\n",
              "0  На уставную деятельность и содержание организации           NaN   \n",
              "1  На уставную деятельность и содержание организации           NaN   \n",
              "2  На уставную деятельность и содержание организации           NaN   \n",
              "3  На уставную деятельность и содержание организации           NaN   \n",
              "4  На уставную деятельность и содержание организации           NaN   \n",
              "\n",
              "                                            Кампании Платёжные операторы  \\\n",
              "0  На уставную деятельность и содержание организации             MIXPLAT   \n",
              "1  На уставную деятельность и содержание организации             MIXPLAT   \n",
              "2  На уставную деятельность и содержание организации             MIXPLAT   \n",
              "3  На уставную деятельность и содержание организации             MIXPLAT   \n",
              "4  На уставную деятельность и содержание организации             MIXPLAT   \n",
              "\n",
              "  Дата последнего пожертвования  Сумма последнего пожертвования  \\\n",
              "0             21.06.2023, 18:43                          3000.0   \n",
              "1             20.06.2023, 16:40                           500.0   \n",
              "2             20.06.2023, 10:39                           500.0   \n",
              "3             20.06.2023, 09:09                          1000.0   \n",
              "4             19.06.2023, 23:03                           100.0   \n",
              "\n",
              "                   Кампания последнего пожертвования  \\\n",
              "0  На уставную деятельность и содержание организации   \n",
              "1  На уставную деятельность и содержание организации   \n",
              "2  На уставную деятельность и содержание организации   \n",
              "3  На уставную деятельность и содержание организации   \n",
              "4  На уставную деятельность и содержание организации   \n",
              "\n",
              "   Общая сумма пожертвований Валюта   Код  \n",
              "0                       3000      ₽  2285  \n",
              "1                        500      ₽  2286  \n",
              "2                        500      ₽  1479  \n",
              "3                       1000      ₽  2288  \n",
              "4                        100      ₽  2289  "
            ],
            "text/html": [
              "\n",
              "  <div id=\"df-c39564ff-c3bf-45b2-a99a-d3b131fdbedd\" class=\"colab-df-container\">\n",
              "    <div>\n",
              "<style scoped>\n",
              "    .dataframe tbody tr th:only-of-type {\n",
              "        vertical-align: middle;\n",
              "    }\n",
              "\n",
              "    .dataframe tbody tr th {\n",
              "        vertical-align: top;\n",
              "    }\n",
              "\n",
              "    .dataframe thead th {\n",
              "        text-align: right;\n",
              "    }\n",
              "</style>\n",
              "<table border=\"1\" class=\"dataframe\">\n",
              "  <thead>\n",
              "    <tr style=\"text-align: right;\">\n",
              "      <th></th>\n",
              "      <th>ID</th>\n",
              "      <th>Тип донора</th>\n",
              "      <th>Дата первого пожертвования</th>\n",
              "      <th>Сумма первого пожертвования</th>\n",
              "      <th>Кампания первого пожертвования</th>\n",
              "      <th>Метки донора</th>\n",
              "      <th>Кампании</th>\n",
              "      <th>Платёжные операторы</th>\n",
              "      <th>Дата последнего пожертвования</th>\n",
              "      <th>Сумма последнего пожертвования</th>\n",
              "      <th>Кампания последнего пожертвования</th>\n",
              "      <th>Общая сумма пожертвований</th>\n",
              "      <th>Валюта</th>\n",
              "      <th>Код</th>\n",
              "    </tr>\n",
              "  </thead>\n",
              "  <tbody>\n",
              "    <tr>\n",
              "      <th>0</th>\n",
              "      <td>833</td>\n",
              "      <td>разовый</td>\n",
              "      <td>21.06.2023, 18:43</td>\n",
              "      <td>3000.0</td>\n",
              "      <td>На уставную деятельность и содержание организации</td>\n",
              "      <td>NaN</td>\n",
              "      <td>На уставную деятельность и содержание организации</td>\n",
              "      <td>MIXPLAT</td>\n",
              "      <td>21.06.2023, 18:43</td>\n",
              "      <td>3000.0</td>\n",
              "      <td>На уставную деятельность и содержание организации</td>\n",
              "      <td>3000</td>\n",
              "      <td>₽</td>\n",
              "      <td>2285</td>\n",
              "    </tr>\n",
              "    <tr>\n",
              "      <th>1</th>\n",
              "      <td>832</td>\n",
              "      <td>постоянный</td>\n",
              "      <td>20.06.2023, 16:36</td>\n",
              "      <td>500.0</td>\n",
              "      <td>На уставную деятельность и содержание организации</td>\n",
              "      <td>NaN</td>\n",
              "      <td>На уставную деятельность и содержание организации</td>\n",
              "      <td>MIXPLAT</td>\n",
              "      <td>20.06.2023, 16:40</td>\n",
              "      <td>500.0</td>\n",
              "      <td>На уставную деятельность и содержание организации</td>\n",
              "      <td>500</td>\n",
              "      <td>₽</td>\n",
              "      <td>2286</td>\n",
              "    </tr>\n",
              "    <tr>\n",
              "      <th>2</th>\n",
              "      <td>831</td>\n",
              "      <td>постоянный</td>\n",
              "      <td>20.06.2023, 10:39</td>\n",
              "      <td>500.0</td>\n",
              "      <td>На уставную деятельность и содержание организации</td>\n",
              "      <td>NaN</td>\n",
              "      <td>На уставную деятельность и содержание организации</td>\n",
              "      <td>MIXPLAT</td>\n",
              "      <td>20.06.2023, 10:39</td>\n",
              "      <td>500.0</td>\n",
              "      <td>На уставную деятельность и содержание организации</td>\n",
              "      <td>500</td>\n",
              "      <td>₽</td>\n",
              "      <td>1479</td>\n",
              "    </tr>\n",
              "    <tr>\n",
              "      <th>3</th>\n",
              "      <td>830</td>\n",
              "      <td>разовый</td>\n",
              "      <td>20.06.2023, 09:09</td>\n",
              "      <td>1000.0</td>\n",
              "      <td>На уставную деятельность и содержание организации</td>\n",
              "      <td>NaN</td>\n",
              "      <td>На уставную деятельность и содержание организации</td>\n",
              "      <td>MIXPLAT</td>\n",
              "      <td>20.06.2023, 09:09</td>\n",
              "      <td>1000.0</td>\n",
              "      <td>На уставную деятельность и содержание организации</td>\n",
              "      <td>1000</td>\n",
              "      <td>₽</td>\n",
              "      <td>2288</td>\n",
              "    </tr>\n",
              "    <tr>\n",
              "      <th>4</th>\n",
              "      <td>829</td>\n",
              "      <td>постоянный</td>\n",
              "      <td>19.06.2023, 23:03</td>\n",
              "      <td>100.0</td>\n",
              "      <td>На уставную деятельность и содержание организации</td>\n",
              "      <td>NaN</td>\n",
              "      <td>На уставную деятельность и содержание организации</td>\n",
              "      <td>MIXPLAT</td>\n",
              "      <td>19.06.2023, 23:03</td>\n",
              "      <td>100.0</td>\n",
              "      <td>На уставную деятельность и содержание организации</td>\n",
              "      <td>100</td>\n",
              "      <td>₽</td>\n",
              "      <td>2289</td>\n",
              "    </tr>\n",
              "  </tbody>\n",
              "</table>\n",
              "</div>\n",
              "    <div class=\"colab-df-buttons\">\n",
              "\n",
              "  <div class=\"colab-df-container\">\n",
              "    <button class=\"colab-df-convert\" onclick=\"convertToInteractive('df-c39564ff-c3bf-45b2-a99a-d3b131fdbedd')\"\n",
              "            title=\"Convert this dataframe to an interactive table.\"\n",
              "            style=\"display:none;\">\n",
              "\n",
              "  <svg xmlns=\"http://www.w3.org/2000/svg\" height=\"24px\" viewBox=\"0 -960 960 960\">\n",
              "    <path d=\"M120-120v-720h720v720H120Zm60-500h600v-160H180v160Zm220 220h160v-160H400v160Zm0 220h160v-160H400v160ZM180-400h160v-160H180v160Zm440 0h160v-160H620v160ZM180-180h160v-160H180v160Zm440 0h160v-160H620v160Z\"/>\n",
              "  </svg>\n",
              "    </button>\n",
              "\n",
              "  <style>\n",
              "    .colab-df-container {\n",
              "      display:flex;\n",
              "      gap: 12px;\n",
              "    }\n",
              "\n",
              "    .colab-df-convert {\n",
              "      background-color: #E8F0FE;\n",
              "      border: none;\n",
              "      border-radius: 50%;\n",
              "      cursor: pointer;\n",
              "      display: none;\n",
              "      fill: #1967D2;\n",
              "      height: 32px;\n",
              "      padding: 0 0 0 0;\n",
              "      width: 32px;\n",
              "    }\n",
              "\n",
              "    .colab-df-convert:hover {\n",
              "      background-color: #E2EBFA;\n",
              "      box-shadow: 0px 1px 2px rgba(60, 64, 67, 0.3), 0px 1px 3px 1px rgba(60, 64, 67, 0.15);\n",
              "      fill: #174EA6;\n",
              "    }\n",
              "\n",
              "    .colab-df-buttons div {\n",
              "      margin-bottom: 4px;\n",
              "    }\n",
              "\n",
              "    [theme=dark] .colab-df-convert {\n",
              "      background-color: #3B4455;\n",
              "      fill: #D2E3FC;\n",
              "    }\n",
              "\n",
              "    [theme=dark] .colab-df-convert:hover {\n",
              "      background-color: #434B5C;\n",
              "      box-shadow: 0px 1px 3px 1px rgba(0, 0, 0, 0.15);\n",
              "      filter: drop-shadow(0px 1px 2px rgba(0, 0, 0, 0.3));\n",
              "      fill: #FFFFFF;\n",
              "    }\n",
              "  </style>\n",
              "\n",
              "    <script>\n",
              "      const buttonEl =\n",
              "        document.querySelector('#df-c39564ff-c3bf-45b2-a99a-d3b131fdbedd button.colab-df-convert');\n",
              "      buttonEl.style.display =\n",
              "        google.colab.kernel.accessAllowed ? 'block' : 'none';\n",
              "\n",
              "      async function convertToInteractive(key) {\n",
              "        const element = document.querySelector('#df-c39564ff-c3bf-45b2-a99a-d3b131fdbedd');\n",
              "        const dataTable =\n",
              "          await google.colab.kernel.invokeFunction('convertToInteractive',\n",
              "                                                    [key], {});\n",
              "        if (!dataTable) return;\n",
              "\n",
              "        const docLinkHtml = 'Like what you see? Visit the ' +\n",
              "          '<a target=\"_blank\" href=https://colab.research.google.com/notebooks/data_table.ipynb>data table notebook</a>'\n",
              "          + ' to learn more about interactive tables.';\n",
              "        element.innerHTML = '';\n",
              "        dataTable['output_type'] = 'display_data';\n",
              "        await google.colab.output.renderOutput(dataTable, element);\n",
              "        const docLink = document.createElement('div');\n",
              "        docLink.innerHTML = docLinkHtml;\n",
              "        element.appendChild(docLink);\n",
              "      }\n",
              "    </script>\n",
              "  </div>\n",
              "\n",
              "\n",
              "<div id=\"df-93db3eb8-b3c5-450a-bd49-1dd0142cc1ae\">\n",
              "  <button class=\"colab-df-quickchart\" onclick=\"quickchart('df-93db3eb8-b3c5-450a-bd49-1dd0142cc1ae')\"\n",
              "            title=\"Suggest charts.\"\n",
              "            style=\"display:none;\">\n",
              "\n",
              "<svg xmlns=\"http://www.w3.org/2000/svg\" height=\"24px\"viewBox=\"0 0 24 24\"\n",
              "     width=\"24px\">\n",
              "    <g>\n",
              "        <path d=\"M19 3H5c-1.1 0-2 .9-2 2v14c0 1.1.9 2 2 2h14c1.1 0 2-.9 2-2V5c0-1.1-.9-2-2-2zM9 17H7v-7h2v7zm4 0h-2V7h2v10zm4 0h-2v-4h2v4z\"/>\n",
              "    </g>\n",
              "</svg>\n",
              "  </button>\n",
              "\n",
              "<style>\n",
              "  .colab-df-quickchart {\n",
              "      --bg-color: #E8F0FE;\n",
              "      --fill-color: #1967D2;\n",
              "      --hover-bg-color: #E2EBFA;\n",
              "      --hover-fill-color: #174EA6;\n",
              "      --disabled-fill-color: #AAA;\n",
              "      --disabled-bg-color: #DDD;\n",
              "  }\n",
              "\n",
              "  [theme=dark] .colab-df-quickchart {\n",
              "      --bg-color: #3B4455;\n",
              "      --fill-color: #D2E3FC;\n",
              "      --hover-bg-color: #434B5C;\n",
              "      --hover-fill-color: #FFFFFF;\n",
              "      --disabled-bg-color: #3B4455;\n",
              "      --disabled-fill-color: #666;\n",
              "  }\n",
              "\n",
              "  .colab-df-quickchart {\n",
              "    background-color: var(--bg-color);\n",
              "    border: none;\n",
              "    border-radius: 50%;\n",
              "    cursor: pointer;\n",
              "    display: none;\n",
              "    fill: var(--fill-color);\n",
              "    height: 32px;\n",
              "    padding: 0;\n",
              "    width: 32px;\n",
              "  }\n",
              "\n",
              "  .colab-df-quickchart:hover {\n",
              "    background-color: var(--hover-bg-color);\n",
              "    box-shadow: 0 1px 2px rgba(60, 64, 67, 0.3), 0 1px 3px 1px rgba(60, 64, 67, 0.15);\n",
              "    fill: var(--button-hover-fill-color);\n",
              "  }\n",
              "\n",
              "  .colab-df-quickchart-complete:disabled,\n",
              "  .colab-df-quickchart-complete:disabled:hover {\n",
              "    background-color: var(--disabled-bg-color);\n",
              "    fill: var(--disabled-fill-color);\n",
              "    box-shadow: none;\n",
              "  }\n",
              "\n",
              "  .colab-df-spinner {\n",
              "    border: 2px solid var(--fill-color);\n",
              "    border-color: transparent;\n",
              "    border-bottom-color: var(--fill-color);\n",
              "    animation:\n",
              "      spin 1s steps(1) infinite;\n",
              "  }\n",
              "\n",
              "  @keyframes spin {\n",
              "    0% {\n",
              "      border-color: transparent;\n",
              "      border-bottom-color: var(--fill-color);\n",
              "      border-left-color: var(--fill-color);\n",
              "    }\n",
              "    20% {\n",
              "      border-color: transparent;\n",
              "      border-left-color: var(--fill-color);\n",
              "      border-top-color: var(--fill-color);\n",
              "    }\n",
              "    30% {\n",
              "      border-color: transparent;\n",
              "      border-left-color: var(--fill-color);\n",
              "      border-top-color: var(--fill-color);\n",
              "      border-right-color: var(--fill-color);\n",
              "    }\n",
              "    40% {\n",
              "      border-color: transparent;\n",
              "      border-right-color: var(--fill-color);\n",
              "      border-top-color: var(--fill-color);\n",
              "    }\n",
              "    60% {\n",
              "      border-color: transparent;\n",
              "      border-right-color: var(--fill-color);\n",
              "    }\n",
              "    80% {\n",
              "      border-color: transparent;\n",
              "      border-right-color: var(--fill-color);\n",
              "      border-bottom-color: var(--fill-color);\n",
              "    }\n",
              "    90% {\n",
              "      border-color: transparent;\n",
              "      border-bottom-color: var(--fill-color);\n",
              "    }\n",
              "  }\n",
              "</style>\n",
              "\n",
              "  <script>\n",
              "    async function quickchart(key) {\n",
              "      const quickchartButtonEl =\n",
              "        document.querySelector('#' + key + ' button');\n",
              "      quickchartButtonEl.disabled = true;  // To prevent multiple clicks.\n",
              "      quickchartButtonEl.classList.add('colab-df-spinner');\n",
              "      try {\n",
              "        const charts = await google.colab.kernel.invokeFunction(\n",
              "            'suggestCharts', [key], {});\n",
              "      } catch (error) {\n",
              "        console.error('Error during call to suggestCharts:', error);\n",
              "      }\n",
              "      quickchartButtonEl.classList.remove('colab-df-spinner');\n",
              "      quickchartButtonEl.classList.add('colab-df-quickchart-complete');\n",
              "    }\n",
              "    (() => {\n",
              "      let quickchartButtonEl =\n",
              "        document.querySelector('#df-93db3eb8-b3c5-450a-bd49-1dd0142cc1ae button');\n",
              "      quickchartButtonEl.style.display =\n",
              "        google.colab.kernel.accessAllowed ? 'block' : 'none';\n",
              "    })();\n",
              "  </script>\n",
              "</div>\n",
              "    </div>\n",
              "  </div>\n"
            ]
          },
          "metadata": {}
        },
        {
          "output_type": "stream",
          "name": "stdout",
          "text": [
            "<class 'pandas.core.frame.DataFrame'>\n",
            "RangeIndex: 813 entries, 0 to 812\n",
            "Data columns (total 14 columns):\n",
            " #   Column                             Non-Null Count  Dtype  \n",
            "---  ------                             --------------  -----  \n",
            " 0   ID                                 813 non-null    int64  \n",
            " 1   Тип донора                         813 non-null    object \n",
            " 2   Дата первого пожертвования         795 non-null    object \n",
            " 3   Сумма первого пожертвования        795 non-null    float64\n",
            " 4   Кампания первого пожертвования     795 non-null    object \n",
            " 5   Метки донора                       0 non-null      float64\n",
            " 6   Кампании                           795 non-null    object \n",
            " 7   Платёжные операторы                795 non-null    object \n",
            " 8   Дата последнего пожертвования      795 non-null    object \n",
            " 9   Сумма последнего пожертвования     795 non-null    float64\n",
            " 10  Кампания последнего пожертвования  795 non-null    object \n",
            " 11  Общая сумма пожертвований          813 non-null    int64  \n",
            " 12  Валюта                             813 non-null    object \n",
            " 13  Код                                813 non-null    int64  \n",
            "dtypes: float64(3), int64(3), object(8)\n",
            "memory usage: 89.0+ KB\n",
            "\n",
            "\n"
          ]
        }
      ]
    },
    {
      "cell_type": "markdown",
      "source": [
        "# Предобработка данных"
      ],
      "metadata": {
        "id": "RTDzDlRq8vd4"
      }
    },
    {
      "cell_type": "code",
      "source": [
        "# Словарь имеющихся датасетов\n",
        "dfs = {'adgrants':adgrants, 'clients':clients, 'donors':donors}"
      ],
      "metadata": {
        "id": "Y8azWH7O8olp"
      },
      "execution_count": null,
      "outputs": []
    },
    {
      "cell_type": "markdown",
      "source": [
        "## Дубликаты"
      ],
      "metadata": {
        "id": "1sLpvc--qSk2"
      }
    },
    {
      "cell_type": "code",
      "source": [
        "# функция для просмотра и удаления явных дубликатов\n",
        "def dup (dfs):\n",
        "  print('\\033[1mКоличество удалённых явных дубликатов:\\033[0m',)\n",
        "  for name, value in dfs.items():\n",
        "    print(name, value.duplicated().sum())\n",
        "    value.drop_duplicates(inplace=True)\n",
        "dup(dfs)"
      ],
      "metadata": {
        "colab": {
          "base_uri": "https://localhost:8080/"
        },
        "id": "jn_KxU7tCl4o",
        "outputId": "305056cc-7671-47b2-e526-d7bc723635b9"
      },
      "execution_count": null,
      "outputs": [
        {
          "output_type": "stream",
          "name": "stdout",
          "text": [
            "\u001b[1mКоличество удалённых явных дубликатов:\u001b[0m\n",
            "adgrants 25\n",
            "clients 0\n",
            "donors 0\n"
          ]
        }
      ]
    },
    {
      "cell_type": "code",
      "source": [
        "# Количество пустых строк (удаление df.dropna())\n",
        "def empty_raws(dfs):\n",
        "  print('\\033[1mКоличество пустых строк:\\033[0m',)\n",
        "  for name,value in dfs.items():\n",
        "    empty_rows = value[value.isnull().all(axis=1)]\n",
        "    print(name, len(empty_rows))\n",
        "empty_raws(dfs)"
      ],
      "metadata": {
        "colab": {
          "base_uri": "https://localhost:8080/"
        },
        "id": "B5t-ISCuYhbP",
        "outputId": "c2a0acf0-917d-43b9-d1e0-dc3566f5ef04"
      },
      "execution_count": null,
      "outputs": [
        {
          "output_type": "stream",
          "name": "stdout",
          "text": [
            "\u001b[1mКоличество пустых строк:\u001b[0m\n",
            "adgrants 0\n",
            "clients 0\n",
            "donors 0\n"
          ]
        }
      ]
    },
    {
      "cell_type": "markdown",
      "source": [
        "## Столбцы"
      ],
      "metadata": {
        "id": "mAY_VB6mNER4"
      }
    },
    {
      "cell_type": "code",
      "source": [
        "# Переименуем все столбцы на английский\n",
        "def english_columns(dfs):\n",
        "    translator = Translator()\n",
        "    translated_columns = {}\n",
        "\n",
        "    for name, value in dfs.items():\n",
        "      for column in value.columns:\n",
        "          translation = translator.translate(column, dest='en').text\n",
        "          translated_columns[column] = translation\n",
        "      value.rename(columns=translated_columns, inplace=True)\n",
        "\n",
        "english_columns(dfs)"
      ],
      "metadata": {
        "id": "L49rGZ5iIn-9"
      },
      "execution_count": null,
      "outputs": []
    },
    {
      "cell_type": "code",
      "source": [
        "# Понизим регистр всех столбцов и заменим пробелы в названиях на underscore \"_\"\n",
        "def lower(dfs):\n",
        "  for name, value in dfs.items():\n",
        "    value.columns = value.columns.str.lower()\n",
        "    value.columns = value.columns.str.replace(' ', '_')\n",
        "lower(dfs)"
      ],
      "metadata": {
        "id": "PdXsql5sKqVn"
      },
      "execution_count": null,
      "outputs": []
    },
    {
      "cell_type": "code",
      "source": [
        "# Создадим резервные копии датасетов\n",
        "adgrants_copy = adgrants.copy()\n",
        "clients_copy = clients.copy()\n",
        "donors_copy = donors.copy()"
      ],
      "metadata": {
        "id": "Dne8o8S9MVzi"
      },
      "execution_count": null,
      "outputs": []
    },
    {
      "cell_type": "code",
      "source": [
        "#adgrants.columns"
      ],
      "metadata": {
        "id": "-ZW89V7hNWQW"
      },
      "execution_count": null,
      "outputs": []
    },
    {
      "cell_type": "code",
      "source": [
        "# Оставим только нужные столбцы в датасетах и переименуем удобнее\n",
        "adgrants = adgrants[['date', 'campaign', 'no._campaign', 'a_condition_showed', 'gender',\n",
        "       'the_level_of_solvency', 'age', 'shows', 'clicks', 'ctr_(%)', 'conversion_(%)']]\n",
        "\n",
        "adgrants = adgrants.rename(columns={'a_condition_showed':'condition_showed','the_level_of_solvency':'solvency',\n",
        "                                    'ctr_(%)':'ctr_perc','conversion_(%)':'conversion'})"
      ],
      "metadata": {
        "id": "CVpIHXFmNRi1"
      },
      "execution_count": null,
      "outputs": []
    },
    {
      "cell_type": "code",
      "source": [
        "# Оставим только нужные столбцы в датасетах и переименуем удобнее\n",
        "clients = clients.drop(columns=['the_amount_per_month'])\n",
        "\n",
        "clients.columns = ['id', 'first_payment', 'signature', 'signature_off', 'payment_type', 'payments_per_year', 'amount_per_year',\n",
        "                   'avg_per_year', 'all_payments', 'total', 'avg', 'countries', 'regions', 'last_payment', 'code']"
      ],
      "metadata": {
        "id": "IFY4H62ldD0o"
      },
      "execution_count": null,
      "outputs": []
    },
    {
      "cell_type": "code",
      "source": [
        "# Оставим только нужные столбцы в датасетах и переименуем удобнее\n",
        "donors = donors.drop(columns=[\"donor's_tags\",'campaign','the_campaign_of_the_last_donation','currency'])\n",
        "\n",
        "donors.columns = ['id', 'signature', 'first_payment', 'sum_first_payment', 'campaign', 'payment_operators', 'last_payment',\n",
        "                  'amount_last_payment', 'total', 'code']"
      ],
      "metadata": {
        "id": "QnUuDKnkbJDa"
      },
      "execution_count": null,
      "outputs": []
    },
    {
      "cell_type": "markdown",
      "source": [
        "## Аномалии"
      ],
      "metadata": {
        "id": "evIVGvk31_-W"
      }
    },
    {
      "cell_type": "code",
      "source": [
        "empty_payment = donors[donors[['sum_first_payment', 'amount_last_payment','total']].isnull().any(axis=1)]\n",
        "print('В датасете donors', '\\033[1m{}\\033[0m'.format(len(empty_payment)),'строк с пустыми данными о платежах. Удалим их.') # жирный текст\n",
        "# Удалим строки с пропусками в платежах\n",
        "donors = donors.dropna(subset=['sum_first_payment', 'amount_last_payment','total']).reset_index()"
      ],
      "metadata": {
        "colab": {
          "base_uri": "https://localhost:8080/"
        },
        "id": "k6g2GjP3G8fy",
        "outputId": "910d63aa-9376-4404-8717-4cbae9da624d"
      },
      "execution_count": null,
      "outputs": [
        {
          "output_type": "stream",
          "name": "stdout",
          "text": [
            "В датасете donors \u001b[1m18\u001b[0m строк с пустыми данными о платежах. Удалим их.\n"
          ]
        }
      ]
    },
    {
      "cell_type": "code",
      "source": [
        "empty_payment = clients[clients['total'] == 0]\n",
        "print('В датасете clients', '\\033[1m{}\\033[0m'.format(len(empty_payment)),'строк с пустыми данными о платежах. Удалим их.') # жирный текст\n",
        "# Удалим строки с пропусками в платежах\n",
        "clients = clients[clients['total'] != 0]"
      ],
      "metadata": {
        "colab": {
          "base_uri": "https://localhost:8080/"
        },
        "id": "eMLPv231iagC",
        "outputId": "311635bc-2abd-4a09-e329-373eae5ee353"
      },
      "execution_count": null,
      "outputs": [
        {
          "output_type": "stream",
          "name": "stdout",
          "text": [
            "В датасете clients \u001b[1m211\u001b[0m строк с пустыми данными о платежах. Удалим их.\n"
          ]
        }
      ]
    },
    {
      "cell_type": "markdown",
      "source": [
        "Мы удалили чуть больше 10% от всех данных о платежах."
      ],
      "metadata": {
        "id": "WXNrQbL2lc2A"
      }
    },
    {
      "cell_type": "markdown",
      "source": [
        "## Формат даты"
      ],
      "metadata": {
        "id": "WTA-bDKVqxQs"
      }
    },
    {
      "cell_type": "code",
      "source": [
        "# Переведем все даты к универсальному формату Y-M-D\n",
        "adgrants['date'] = pd.to_datetime(adgrants['date'], format='%d.%m.%Y')"
      ],
      "metadata": {
        "id": "yqjmUDs_z27f"
      },
      "execution_count": null,
      "outputs": []
    },
    {
      "cell_type": "code",
      "source": [
        "clients['first_payment'] = pd.to_datetime(clients['first_payment'], format='%Y-%m-%d').dt.normalize()\n",
        "clients['last_payment'] = pd.to_datetime(clients['last_payment'], format='%Y-%m-%d').dt.normalize()"
      ],
      "metadata": {
        "id": "87-AHs0dyNCM"
      },
      "execution_count": null,
      "outputs": []
    },
    {
      "cell_type": "code",
      "source": [
        "donors['first_payment'] = pd.to_datetime(donors['first_payment'], dayfirst=True).dt.normalize()\n",
        "donors['last_payment'] = pd.to_datetime(donors['last_payment'], dayfirst=True).dt.normalize()"
      ],
      "metadata": {
        "id": "RFI3SfmEjTUR"
      },
      "execution_count": null,
      "outputs": []
    },
    {
      "cell_type": "markdown",
      "source": [
        "## Диапазон данных"
      ],
      "metadata": {
        "id": "m0_9jKLq2YNk"
      }
    },
    {
      "cell_type": "code",
      "source": [
        "print(adgrants['date'].min())\n",
        "print(adgrants['date'].max())\n",
        "difference = relativedelta(adgrants['date'].max(), adgrants['date'].min())\n",
        "print('Данные в clients собраны за {} месяцев и {} дня'.format(difference.years * 12 + difference.months, difference.days))"
      ],
      "metadata": {
        "colab": {
          "base_uri": "https://localhost:8080/"
        },
        "id": "_ifZ749G2FGT",
        "outputId": "1504dd33-d33e-45b1-f9f1-1c4057824dca"
      },
      "execution_count": null,
      "outputs": [
        {
          "output_type": "stream",
          "name": "stdout",
          "text": [
            "2023-01-15 00:00:00\n",
            "2023-07-19 00:00:00\n",
            "Данные в clients собраны за 6 месяцев и 4 дня\n"
          ]
        }
      ]
    },
    {
      "cell_type": "code",
      "source": [
        "adgrants['date'].hist(bins=6);"
      ],
      "metadata": {
        "colab": {
          "base_uri": "https://localhost:8080/",
          "height": 430
        },
        "id": "g4v7kPPv3QuR",
        "outputId": "aa411f73-4a09-43cd-c2c3-293b40eb5917"
      },
      "execution_count": null,
      "outputs": [
        {
          "output_type": "display_data",
          "data": {
            "text/plain": [
              "<Figure size 640x480 with 1 Axes>"
            ],
            "image/png": "[encoded data removed]"
          },
          "metadata": {}
        }
      ]
    },
    {
      "cell_type": "markdown",
      "source": [
        "Распределение данных **неравномерное**. Диапазон совпадает с ТЗ - 2023 год."
      ],
      "metadata": {
        "id": "VDNQv3e_3bZ1"
      }
    },
    {
      "cell_type": "code",
      "source": [
        "print(clients['first_payment'].min())\n",
        "print(clients['last_payment'].max())\n",
        "difference = relativedelta(clients['last_payment'].max(), clients['first_payment'].min())\n",
        "print('Данные в clients собраны за {} месяцев и {} дней'.format(difference.years * 12 + difference.months, difference.days))"
      ],
      "metadata": {
        "colab": {
          "base_uri": "https://localhost:8080/"
        },
        "outputId": "08bebd37-3093-43e4-d634-2c8f6631426c",
        "id": "rWdxzCKw3rUk"
      },
      "execution_count": null,
      "outputs": [
        {
          "output_type": "stream",
          "name": "stdout",
          "text": [
            "2021-11-17 00:00:00\n",
            "2023-06-02 00:00:00\n",
            "Данные в clients собраны за 18 месяцев и 16 дней\n"
          ]
        }
      ]
    },
    {
      "cell_type": "code",
      "source": [
        "clients['first_payment'].hist(bins=11, figsize=(10,5));"
      ],
      "metadata": {
        "colab": {
          "base_uri": "https://localhost:8080/",
          "height": 445
        },
        "id": "kGjQr1U640ow",
        "outputId": "9f6b4a42-d703-47d7-e105-f6199d175502"
      },
      "execution_count": null,
      "outputs": [
        {
          "output_type": "display_data",
          "data": {
            "text/plain": [
              "<Figure size 1000x500 with 1 Axes>"
            ],
            "image/png": "[encoded data removed]"
          },
          "metadata": {}
        }
      ]
    },
    {
      "cell_type": "code",
      "source": [
        "clients['last_payment'].hist(bins=11, figsize=(10,5));"
      ],
      "metadata": {
        "colab": {
          "base_uri": "https://localhost:8080/",
          "height": 445
        },
        "id": "QoNBmwse5GHv",
        "outputId": "fcab5ab4-7c4b-4ae9-b057-f0d7dd50a650"
      },
      "execution_count": null,
      "outputs": [
        {
          "output_type": "display_data",
          "data": {
            "text/plain": [
              "<Figure size 1000x500 with 1 Axes>"
            ],
            "image/png": "[encoded data removed]"
          },
          "metadata": {}
        }
      ]
    },
    {
      "cell_type": "code",
      "source": [
        "print(donors['first_payment'].min())\n",
        "print(donors['last_payment'].max())\n",
        "difference = relativedelta(donors['last_payment'].max(), donors['first_payment'].min())\n",
        "print('Данные в donors собраны за {} месяца и {} дней'.format(difference.years * 12 + difference.months, difference.days))"
      ],
      "metadata": {
        "colab": {
          "base_uri": "https://localhost:8080/"
        },
        "outputId": "28968493-6d13-40cf-92fe-8ffbfe3af521",
        "id": "LO0h67pe3rfj"
      },
      "execution_count": null,
      "outputs": [
        {
          "output_type": "stream",
          "name": "stdout",
          "text": [
            "2022-06-15 00:00:00\n",
            "2023-06-24 00:00:00\n",
            "Данные в donors собраны за 12 месяца и 9 дней\n"
          ]
        }
      ]
    },
    {
      "cell_type": "code",
      "source": [
        "donors['first_payment'].hist(bins=11, figsize=(10,5));"
      ],
      "metadata": {
        "colab": {
          "base_uri": "https://localhost:8080/",
          "height": 445
        },
        "id": "54o8eIFFgDhh",
        "outputId": "76c159d8-3e9a-49d9-ca0e-c9c8ec8a3042"
      },
      "execution_count": null,
      "outputs": [
        {
          "output_type": "display_data",
          "data": {
            "text/plain": [
              "<Figure size 1000x500 with 1 Axes>"
            ],
            "image/png": "[encoded data removed]"
          },
          "metadata": {}
        }
      ]
    },
    {
      "cell_type": "code",
      "source": [
        "donors['last_payment'].hist(bins=11, figsize=(10,5));"
      ],
      "metadata": {
        "colab": {
          "base_uri": "https://localhost:8080/",
          "height": 445
        },
        "id": "uE16BXoQgQtb",
        "outputId": "70d095a7-c635-423a-90fe-5d1632327be5"
      },
      "execution_count": null,
      "outputs": [
        {
          "output_type": "display_data",
          "data": {
            "text/plain": [
              "<Figure size 1000x500 with 1 Axes>"
            ],
            "image/png": "[encoded data removed]"
          },
          "metadata": {}
        }
      ]
    },
    {
      "cell_type": "markdown",
      "source": [
        "Распределение данных также **неравномерное**.  \n",
        "Кажется, что с января по май 2023 года пожертвований было больше, чем в остальной период. Мы знаем, что часть платежей были разовыми, но отобразились в обоих столбцах - first_payment и last_payment, поэтому чтобы проверить гипотезу нужно удалить такие дубликаты если это возможно."
      ],
      "metadata": {
        "id": "ZrdZk6UU_QWh"
      }
    },
    {
      "cell_type": "markdown",
      "source": [
        "## Объединение датасетов clients и donors"
      ],
      "metadata": {
        "id": "pt95ZBX012ha"
      }
    },
    {
      "cell_type": "code",
      "source": [
        "# Объединим доноров из двух платежных систем в один датасет\n",
        "clients_merge = clients[['code','first_payment','last_payment','total']]\n",
        "donors_merge = donors[['code','first_payment','last_payment','total']]\n",
        "all_clients = pd.concat([clients_merge, donors_merge], axis=0)\n",
        "\n",
        "# посчитаем уникальных доноров за рекламный период\n",
        "donors_2023 = all_clients.sort_values('first_payment').groupby('code').agg({'first_payment':'first', 'total':'sum'}).reset_index()\n",
        "donors_2023 = donors_2023.query('first_payment >= \"2023-01-15\"')\n",
        "unic_donors_2023 = donors_2023['code'].nunique()\n",
        "\n",
        "print('\\033[1m{}\\033[0m'.format(all_clients['code'].nunique()), 'всего уникальных доноров')\n",
        "print('\\033[1m{}\\033[0m'.format(unic_donors_2023), 'из них - это новые доноры за рекламный период')\n",
        "print('Всего', len(all_clients), 'строк')\n",
        "# 492 дубликата, из них 264 явных (при мердже удаляются сразу) и 228 дублируется code\n",
        "all_clients.head(3)"
      ],
      "metadata": {
        "colab": {
          "base_uri": "https://localhost:8080/",
          "height": 198
        },
        "id": "FqUm7QoPgd6j",
        "outputId": "1c825eba-e4bc-4709-806c-adca0efa8c50"
      },
      "execution_count": null,
      "outputs": [
        {
          "output_type": "stream",
          "name": "stdout",
          "text": [
            "\u001b[1m1259\u001b[0m всего уникальных доноров\n",
            "\u001b[1m554\u001b[0m из них - это новые доноры за рекламный период\n",
            "Всего 1750 строк\n"
          ]
        },
        {
          "output_type": "execute_result",
          "data": {
            "text/plain": [
              "   code first_payment last_payment  total\n",
              "3  1121    2022-11-23   2022-11-23    500\n",
              "4  1122    2021-12-29   2021-12-29   1000\n",
              "6  1124    2021-12-31   2021-12-31   1000"
            ],
            "text/html": [
              "\n",
              "  <div id=\"df-fdd4d7c5-805b-4126-bad0-843da83e7346\" class=\"colab-df-container\">\n",
              "    <div>\n",
              "<style scoped>\n",
              "    .dataframe tbody tr th:only-of-type {\n",
              "        vertical-align: middle;\n",
              "    }\n",
              "\n",
              "    .dataframe tbody tr th {\n",
              "        vertical-align: top;\n",
              "    }\n",
              "\n",
              "    .dataframe thead th {\n",
              "        text-align: right;\n",
              "    }\n",
              "</style>\n",
              "<table border=\"1\" class=\"dataframe\">\n",
              "  <thead>\n",
              "    <tr style=\"text-align: right;\">\n",
              "      <th></th>\n",
              "      <th>code</th>\n",
              "      <th>first_payment</th>\n",
              "      <th>last_payment</th>\n",
              "      <th>total</th>\n",
              "    </tr>\n",
              "  </thead>\n",
              "  <tbody>\n",
              "    <tr>\n",
              "      <th>3</th>\n",
              "      <td>1121</td>\n",
              "      <td>2022-11-23</td>\n",
              "      <td>2022-11-23</td>\n",
              "      <td>500</td>\n",
              "    </tr>\n",
              "    <tr>\n",
              "      <th>4</th>\n",
              "      <td>1122</td>\n",
              "      <td>2021-12-29</td>\n",
              "      <td>2021-12-29</td>\n",
              "      <td>1000</td>\n",
              "    </tr>\n",
              "    <tr>\n",
              "      <th>6</th>\n",
              "      <td>1124</td>\n",
              "      <td>2021-12-31</td>\n",
              "      <td>2021-12-31</td>\n",
              "      <td>1000</td>\n",
              "    </tr>\n",
              "  </tbody>\n",
              "</table>\n",
              "</div>\n",
              "    <div class=\"colab-df-buttons\">\n",
              "\n",
              "  <div class=\"colab-df-container\">\n",
              "    <button class=\"colab-df-convert\" onclick=\"convertToInteractive('df-fdd4d7c5-805b-4126-bad0-843da83e7346')\"\n",
              "            title=\"Convert this dataframe to an interactive table.\"\n",
              "            style=\"display:none;\">\n",
              "\n",
              "  <svg xmlns=\"http://www.w3.org/2000/svg\" height=\"24px\" viewBox=\"0 -960 960 960\">\n",
              "    <path d=\"M120-120v-720h720v720H120Zm60-500h600v-160H180v160Zm220 220h160v-160H400v160Zm0 220h160v-160H400v160ZM180-400h160v-160H180v160Zm440 0h160v-160H620v160ZM180-180h160v-160H180v160Zm440 0h160v-160H620v160Z\"/>\n",
              "  </svg>\n",
              "    </button>\n",
              "\n",
              "  <style>\n",
              "    .colab-df-container {\n",
              "      display:flex;\n",
              "      gap: 12px;\n",
              "    }\n",
              "\n",
              "    .colab-df-convert {\n",
              "      background-color: #E8F0FE;\n",
              "      border: none;\n",
              "      border-radius: 50%;\n",
              "      cursor: pointer;\n",
              "      display: none;\n",
              "      fill: #1967D2;\n",
              "      height: 32px;\n",
              "      padding: 0 0 0 0;\n",
              "      width: 32px;\n",
              "    }\n",
              "\n",
              "    .colab-df-convert:hover {\n",
              "      background-color: #E2EBFA;\n",
              "      box-shadow: 0px 1px 2px rgba(60, 64, 67, 0.3), 0px 1px 3px 1px rgba(60, 64, 67, 0.15);\n",
              "      fill: #174EA6;\n",
              "    }\n",
              "\n",
              "    .colab-df-buttons div {\n",
              "      margin-bottom: 4px;\n",
              "    }\n",
              "\n",
              "    [theme=dark] .colab-df-convert {\n",
              "      background-color: #3B4455;\n",
              "      fill: #D2E3FC;\n",
              "    }\n",
              "\n",
              "    [theme=dark] .colab-df-convert:hover {\n",
              "      background-color: #434B5C;\n",
              "      box-shadow: 0px 1px 3px 1px rgba(0, 0, 0, 0.15);\n",
              "      filter: drop-shadow(0px 1px 2px rgba(0, 0, 0, 0.3));\n",
              "      fill: #FFFFFF;\n",
              "    }\n",
              "  </style>\n",
              "\n",
              "    <script>\n",
              "      const buttonEl =\n",
              "        document.querySelector('#df-fdd4d7c5-805b-4126-bad0-843da83e7346 button.colab-df-convert');\n",
              "      buttonEl.style.display =\n",
              "        google.colab.kernel.accessAllowed ? 'block' : 'none';\n",
              "\n",
              "      async function convertToInteractive(key) {\n",
              "        const element = document.querySelector('#df-fdd4d7c5-805b-4126-bad0-843da83e7346');\n",
              "        const dataTable =\n",
              "          await google.colab.kernel.invokeFunction('convertToInteractive',\n",
              "                                                    [key], {});\n",
              "        if (!dataTable) return;\n",
              "\n",
              "        const docLinkHtml = 'Like what you see? Visit the ' +\n",
              "          '<a target=\"_blank\" href=https://colab.research.google.com/notebooks/data_table.ipynb>data table notebook</a>'\n",
              "          + ' to learn more about interactive tables.';\n",
              "        element.innerHTML = '';\n",
              "        dataTable['output_type'] = 'display_data';\n",
              "        await google.colab.output.renderOutput(dataTable, element);\n",
              "        const docLink = document.createElement('div');\n",
              "        docLink.innerHTML = docLinkHtml;\n",
              "        element.appendChild(docLink);\n",
              "      }\n",
              "    </script>\n",
              "  </div>\n",
              "\n",
              "\n",
              "<div id=\"df-088484f6-2ebc-49d5-8ab9-82be03e71882\">\n",
              "  <button class=\"colab-df-quickchart\" onclick=\"quickchart('df-088484f6-2ebc-49d5-8ab9-82be03e71882')\"\n",
              "            title=\"Suggest charts.\"\n",
              "            style=\"display:none;\">\n",
              "\n",
              "<svg xmlns=\"http://www.w3.org/2000/svg\" height=\"24px\"viewBox=\"0 0 24 24\"\n",
              "     width=\"24px\">\n",
              "    <g>\n",
              "        <path d=\"M19 3H5c-1.1 0-2 .9-2 2v14c0 1.1.9 2 2 2h14c1.1 0 2-.9 2-2V5c0-1.1-.9-2-2-2zM9 17H7v-7h2v7zm4 0h-2V7h2v10zm4 0h-2v-4h2v4z\"/>\n",
              "    </g>\n",
              "</svg>\n",
              "  </button>\n",
              "\n",
              "<style>\n",
              "  .colab-df-quickchart {\n",
              "      --bg-color: #E8F0FE;\n",
              "      --fill-color: #1967D2;\n",
              "      --hover-bg-color: #E2EBFA;\n",
              "      --hover-fill-color: #174EA6;\n",
              "      --disabled-fill-color: #AAA;\n",
              "      --disabled-bg-color: #DDD;\n",
              "  }\n",
              "\n",
              "  [theme=dark] .colab-df-quickchart {\n",
              "      --bg-color: #3B4455;\n",
              "      --fill-color: #D2E3FC;\n",
              "      --hover-bg-color: #434B5C;\n",
              "      --hover-fill-color: #FFFFFF;\n",
              "      --disabled-bg-color: #3B4455;\n",
              "      --disabled-fill-color: #666;\n",
              "  }\n",
              "\n",
              "  .colab-df-quickchart {\n",
              "    background-color: var(--bg-color);\n",
              "    border: none;\n",
              "    border-radius: 50%;\n",
              "    cursor: pointer;\n",
              "    display: none;\n",
              "    fill: var(--fill-color);\n",
              "    height: 32px;\n",
              "    padding: 0;\n",
              "    width: 32px;\n",
              "  }\n",
              "\n",
              "  .colab-df-quickchart:hover {\n",
              "    background-color: var(--hover-bg-color);\n",
              "    box-shadow: 0 1px 2px rgba(60, 64, 67, 0.3), 0 1px 3px 1px rgba(60, 64, 67, 0.15);\n",
              "    fill: var(--button-hover-fill-color);\n",
              "  }\n",
              "\n",
              "  .colab-df-quickchart-complete:disabled,\n",
              "  .colab-df-quickchart-complete:disabled:hover {\n",
              "    background-color: var(--disabled-bg-color);\n",
              "    fill: var(--disabled-fill-color);\n",
              "    box-shadow: none;\n",
              "  }\n",
              "\n",
              "  .colab-df-spinner {\n",
              "    border: 2px solid var(--fill-color);\n",
              "    border-color: transparent;\n",
              "    border-bottom-color: var(--fill-color);\n",
              "    animation:\n",
              "      spin 1s steps(1) infinite;\n",
              "  }\n",
              "\n",
              "  @keyframes spin {\n",
              "    0% {\n",
              "      border-color: transparent;\n",
              "      border-bottom-color: var(--fill-color);\n",
              "      border-left-color: var(--fill-color);\n",
              "    }\n",
              "    20% {\n",
              "      border-color: transparent;\n",
              "      border-left-color: var(--fill-color);\n",
              "      border-top-color: var(--fill-color);\n",
              "    }\n",
              "    30% {\n",
              "      border-color: transparent;\n",
              "      border-left-color: var(--fill-color);\n",
              "      border-top-color: var(--fill-color);\n",
              "      border-right-color: var(--fill-color);\n",
              "    }\n",
              "    40% {\n",
              "      border-color: transparent;\n",
              "      border-right-color: var(--fill-color);\n",
              "      border-top-color: var(--fill-color);\n",
              "    }\n",
              "    60% {\n",
              "      border-color: transparent;\n",
              "      border-right-color: var(--fill-color);\n",
              "    }\n",
              "    80% {\n",
              "      border-color: transparent;\n",
              "      border-right-color: var(--fill-color);\n",
              "      border-bottom-color: var(--fill-color);\n",
              "    }\n",
              "    90% {\n",
              "      border-color: transparent;\n",
              "      border-bottom-color: var(--fill-color);\n",
              "    }\n",
              "  }\n",
              "</style>\n",
              "\n",
              "  <script>\n",
              "    async function quickchart(key) {\n",
              "      const quickchartButtonEl =\n",
              "        document.querySelector('#' + key + ' button');\n",
              "      quickchartButtonEl.disabled = true;  // To prevent multiple clicks.\n",
              "      quickchartButtonEl.classList.add('colab-df-spinner');\n",
              "      try {\n",
              "        const charts = await google.colab.kernel.invokeFunction(\n",
              "            'suggestCharts', [key], {});\n",
              "      } catch (error) {\n",
              "        console.error('Error during call to suggestCharts:', error);\n",
              "      }\n",
              "      quickchartButtonEl.classList.remove('colab-df-spinner');\n",
              "      quickchartButtonEl.classList.add('colab-df-quickchart-complete');\n",
              "    }\n",
              "    (() => {\n",
              "      let quickchartButtonEl =\n",
              "        document.querySelector('#df-088484f6-2ebc-49d5-8ab9-82be03e71882 button');\n",
              "      quickchartButtonEl.style.display =\n",
              "        google.colab.kernel.accessAllowed ? 'block' : 'none';\n",
              "    })();\n",
              "  </script>\n",
              "</div>\n",
              "    </div>\n",
              "  </div>\n"
            ]
          },
          "metadata": {},
          "execution_count": 120
        }
      ]
    },
    {
      "cell_type": "code",
      "source": [
        "dub = all_clients.duplicated().sum()\n",
        "print('Количество явных дубликатов: {} - это \\033[1m{}\\033[0m % от данных, удалим их.'.format(dub, int(dub / len(all_clients) * 100))) # жирный текст\n",
        "all = all_clients.drop_duplicates()\n",
        "dub_code = len(all) - all['code'].nunique()\n",
        "print('Количество неявных дубликатов: {} - это \\033[1m{}\\033[0m % от данных, исследуем их, поскольку это большой процент от датасета и данных не так много.'\n",
        "      .format(dub_code, int(dub_code / len(all) * 100)))"
      ],
      "metadata": {
        "colab": {
          "base_uri": "https://localhost:8080/"
        },
        "id": "uUXOBMeSq0Ws",
        "outputId": "44477bd4-f18e-4804-c315-36042a7b7f0b"
      },
      "execution_count": null,
      "outputs": [
        {
          "output_type": "stream",
          "name": "stdout",
          "text": [
            "Количество явных дубликатов: 379 - это \u001b[1m21\u001b[0m % от данных, удалим их.\n",
            "Количество неявных дубликатов: 112 - это \u001b[1m8\u001b[0m % от данных, исследуем их, поскольку это большой процент от датасета и данных не так много.\n"
          ]
        }
      ]
    },
    {
      "cell_type": "markdown",
      "source": [
        "## Типы данных"
      ],
      "metadata": {
        "id": "TFrM0IUJVPa1"
      }
    },
    {
      "cell_type": "code",
      "source": [
        "# переведем ctr в числа\n",
        "adgrants['ctr_perc'] = adgrants['ctr_perc'].str.replace(',', '.').astype(float)\n",
        "adgrants['ctr_perc'] = adgrants['ctr_perc'].astype(float)"
      ],
      "metadata": {
        "id": "GRU4EODPVSLS"
      },
      "execution_count": null,
      "outputs": []
    },
    {
      "cell_type": "code",
      "source": [
        "# переведем конверсию в числа\n",
        "adgrants['conversion'] = adgrants['conversion'].replace('-', np.nan)\n",
        "adgrants['conversion'] = adgrants['conversion'].str.replace(',', '.')\n",
        "adgrants['conversion'] = adgrants['conversion'].astype(float)"
      ],
      "metadata": {
        "id": "rzf0PRcjYpZy"
      },
      "execution_count": null,
      "outputs": []
    },
    {
      "cell_type": "markdown",
      "source": [
        "## Неявные дуликаты в платежах"
      ],
      "metadata": {
        "id": "ibN-ZVlmxo_k"
      }
    },
    {
      "cell_type": "code",
      "source": [
        "# 1125 - период пересекается, сумма одинаковая (разовый платеж) - дубликат\n",
        "# 1127 - период не пересекается, суммы разные -\n",
        "# функция с добавлением строки в список non_dub:\n",
        "# сравниваем all с dub = если all['last_payment'] < dub['first_payment'] | all['first_payment'] > dub['last_payment'] то считаем не дубликатом\n",
        "# 1146, 1160 - период пересекается, суммы разные - оставляем строку с большей суммой (считаем, что это более полные данные)\n",
        "# 1159 - период пересекается, сумма одинаковая = subset{}  //\n",
        "#"
      ],
      "metadata": {
        "id": "Qcenn_po0OLt"
      },
      "execution_count": null,
      "outputs": []
    },
    {
      "cell_type": "code",
      "source": [
        "# выведем неявные дубликаты по столбцу code\n",
        "dub_hidden = all[all.duplicated(subset=['code'], keep=False)]\n",
        "dub_hidden = dub_hidden.sort_values(by='code')\n",
        "dub_hidden.head(10)"
      ],
      "metadata": {
        "colab": {
          "base_uri": "https://localhost:8080/",
          "height": 363
        },
        "id": "gMYQJUluyUtR",
        "outputId": "0b6a66e7-3e7d-4d68-bc9f-96e3091dbf70"
      },
      "execution_count": null,
      "outputs": [
        {
          "output_type": "execute_result",
          "data": {
            "text/plain": [
              "     code first_payment last_payment  total\n",
              "7    1125    2021-12-31   2022-10-05    300\n",
              "650  1125    2022-10-05   2022-10-05    300\n",
              "9    1127    2022-10-16   2022-11-16    600\n",
              "688  1127    2023-03-16   2023-05-16    900\n",
              "28   1146    2022-09-18   2023-05-18   3150\n",
              "683  1146    2023-02-18   2023-06-18   1750\n",
              "41   1159    2022-10-26   2023-06-01    300\n",
              "614  1159    2022-10-26   2023-01-28    300\n",
              "613  1160    2023-02-26   2023-05-26   1200\n",
              "42   1160    2022-10-26   2023-05-26   2400"
            ],
            "text/html": [
              "\n",
              "  <div id=\"df-c7d5b9f2-2429-4540-979d-a036dee6a23a\" class=\"colab-df-container\">\n",
              "    <div>\n",
              "<style scoped>\n",
              "    .dataframe tbody tr th:only-of-type {\n",
              "        vertical-align: middle;\n",
              "    }\n",
              "\n",
              "    .dataframe tbody tr th {\n",
              "        vertical-align: top;\n",
              "    }\n",
              "\n",
              "    .dataframe thead th {\n",
              "        text-align: right;\n",
              "    }\n",
              "</style>\n",
              "<table border=\"1\" class=\"dataframe\">\n",
              "  <thead>\n",
              "    <tr style=\"text-align: right;\">\n",
              "      <th></th>\n",
              "      <th>code</th>\n",
              "      <th>first_payment</th>\n",
              "      <th>last_payment</th>\n",
              "      <th>total</th>\n",
              "    </tr>\n",
              "  </thead>\n",
              "  <tbody>\n",
              "    <tr>\n",
              "      <th>7</th>\n",
              "      <td>1125</td>\n",
              "      <td>2021-12-31</td>\n",
              "      <td>2022-10-05</td>\n",
              "      <td>300</td>\n",
              "    </tr>\n",
              "    <tr>\n",
              "      <th>650</th>\n",
              "      <td>1125</td>\n",
              "      <td>2022-10-05</td>\n",
              "      <td>2022-10-05</td>\n",
              "      <td>300</td>\n",
              "    </tr>\n",
              "    <tr>\n",
              "      <th>9</th>\n",
              "      <td>1127</td>\n",
              "      <td>2022-10-16</td>\n",
              "      <td>2022-11-16</td>\n",
              "      <td>600</td>\n",
              "    </tr>\n",
              "    <tr>\n",
              "      <th>688</th>\n",
              "      <td>1127</td>\n",
              "      <td>2023-03-16</td>\n",
              "      <td>2023-05-16</td>\n",
              "      <td>900</td>\n",
              "    </tr>\n",
              "    <tr>\n",
              "      <th>28</th>\n",
              "      <td>1146</td>\n",
              "      <td>2022-09-18</td>\n",
              "      <td>2023-05-18</td>\n",
              "      <td>3150</td>\n",
              "    </tr>\n",
              "    <tr>\n",
              "      <th>683</th>\n",
              "      <td>1146</td>\n",
              "      <td>2023-02-18</td>\n",
              "      <td>2023-06-18</td>\n",
              "      <td>1750</td>\n",
              "    </tr>\n",
              "    <tr>\n",
              "      <th>41</th>\n",
              "      <td>1159</td>\n",
              "      <td>2022-10-26</td>\n",
              "      <td>2023-06-01</td>\n",
              "      <td>300</td>\n",
              "    </tr>\n",
              "    <tr>\n",
              "      <th>614</th>\n",
              "      <td>1159</td>\n",
              "      <td>2022-10-26</td>\n",
              "      <td>2023-01-28</td>\n",
              "      <td>300</td>\n",
              "    </tr>\n",
              "    <tr>\n",
              "      <th>613</th>\n",
              "      <td>1160</td>\n",
              "      <td>2023-02-26</td>\n",
              "      <td>2023-05-26</td>\n",
              "      <td>1200</td>\n",
              "    </tr>\n",
              "    <tr>\n",
              "      <th>42</th>\n",
              "      <td>1160</td>\n",
              "      <td>2022-10-26</td>\n",
              "      <td>2023-05-26</td>\n",
              "      <td>2400</td>\n",
              "    </tr>\n",
              "  </tbody>\n",
              "</table>\n",
              "</div>\n",
              "    <div class=\"colab-df-buttons\">\n",
              "\n",
              "  <div class=\"colab-df-container\">\n",
              "    <button class=\"colab-df-convert\" onclick=\"convertToInteractive('df-c7d5b9f2-2429-4540-979d-a036dee6a23a')\"\n",
              "            title=\"Convert this dataframe to an interactive table.\"\n",
              "            style=\"display:none;\">\n",
              "\n",
              "  <svg xmlns=\"http://www.w3.org/2000/svg\" height=\"24px\" viewBox=\"0 -960 960 960\">\n",
              "    <path d=\"M120-120v-720h720v720H120Zm60-500h600v-160H180v160Zm220 220h160v-160H400v160Zm0 220h160v-160H400v160ZM180-400h160v-160H180v160Zm440 0h160v-160H620v160ZM180-180h160v-160H180v160Zm440 0h160v-160H620v160Z\"/>\n",
              "  </svg>\n",
              "    </button>\n",
              "\n",
              "  <style>\n",
              "    .colab-df-container {\n",
              "      display:flex;\n",
              "      gap: 12px;\n",
              "    }\n",
              "\n",
              "    .colab-df-convert {\n",
              "      background-color: #E8F0FE;\n",
              "      border: none;\n",
              "      border-radius: 50%;\n",
              "      cursor: pointer;\n",
              "      display: none;\n",
              "      fill: #1967D2;\n",
              "      height: 32px;\n",
              "      padding: 0 0 0 0;\n",
              "      width: 32px;\n",
              "    }\n",
              "\n",
              "    .colab-df-convert:hover {\n",
              "      background-color: #E2EBFA;\n",
              "      box-shadow: 0px 1px 2px rgba(60, 64, 67, 0.3), 0px 1px 3px 1px rgba(60, 64, 67, 0.15);\n",
              "      fill: #174EA6;\n",
              "    }\n",
              "\n",
              "    .colab-df-buttons div {\n",
              "      margin-bottom: 4px;\n",
              "    }\n",
              "\n",
              "    [theme=dark] .colab-df-convert {\n",
              "      background-color: #3B4455;\n",
              "      fill: #D2E3FC;\n",
              "    }\n",
              "\n",
              "    [theme=dark] .colab-df-convert:hover {\n",
              "      background-color: #434B5C;\n",
              "      box-shadow: 0px 1px 3px 1px rgba(0, 0, 0, 0.15);\n",
              "      filter: drop-shadow(0px 1px 2px rgba(0, 0, 0, 0.3));\n",
              "      fill: #FFFFFF;\n",
              "    }\n",
              "  </style>\n",
              "\n",
              "    <script>\n",
              "      const buttonEl =\n",
              "        document.querySelector('#df-c7d5b9f2-2429-4540-979d-a036dee6a23a button.colab-df-convert');\n",
              "      buttonEl.style.display =\n",
              "        google.colab.kernel.accessAllowed ? 'block' : 'none';\n",
              "\n",
              "      async function convertToInteractive(key) {\n",
              "        const element = document.querySelector('#df-c7d5b9f2-2429-4540-979d-a036dee6a23a');\n",
              "        const dataTable =\n",
              "          await google.colab.kernel.invokeFunction('convertToInteractive',\n",
              "                                                    [key], {});\n",
              "        if (!dataTable) return;\n",
              "\n",
              "        const docLinkHtml = 'Like what you see? Visit the ' +\n",
              "          '<a target=\"_blank\" href=https://colab.research.google.com/notebooks/data_table.ipynb>data table notebook</a>'\n",
              "          + ' to learn more about interactive tables.';\n",
              "        element.innerHTML = '';\n",
              "        dataTable['output_type'] = 'display_data';\n",
              "        await google.colab.output.renderOutput(dataTable, element);\n",
              "        const docLink = document.createElement('div');\n",
              "        docLink.innerHTML = docLinkHtml;\n",
              "        element.appendChild(docLink);\n",
              "      }\n",
              "    </script>\n",
              "  </div>\n",
              "\n",
              "\n",
              "<div id=\"df-36f2e3c7-8a02-4190-95ec-1919b0edf229\">\n",
              "  <button class=\"colab-df-quickchart\" onclick=\"quickchart('df-36f2e3c7-8a02-4190-95ec-1919b0edf229')\"\n",
              "            title=\"Suggest charts.\"\n",
              "            style=\"display:none;\">\n",
              "\n",
              "<svg xmlns=\"http://www.w3.org/2000/svg\" height=\"24px\"viewBox=\"0 0 24 24\"\n",
              "     width=\"24px\">\n",
              "    <g>\n",
              "        <path d=\"M19 3H5c-1.1 0-2 .9-2 2v14c0 1.1.9 2 2 2h14c1.1 0 2-.9 2-2V5c0-1.1-.9-2-2-2zM9 17H7v-7h2v7zm4 0h-2V7h2v10zm4 0h-2v-4h2v4z\"/>\n",
              "    </g>\n",
              "</svg>\n",
              "  </button>\n",
              "\n",
              "<style>\n",
              "  .colab-df-quickchart {\n",
              "      --bg-color: #E8F0FE;\n",
              "      --fill-color: #1967D2;\n",
              "      --hover-bg-color: #E2EBFA;\n",
              "      --hover-fill-color: #174EA6;\n",
              "      --disabled-fill-color: #AAA;\n",
              "      --disabled-bg-color: #DDD;\n",
              "  }\n",
              "\n",
              "  [theme=dark] .colab-df-quickchart {\n",
              "      --bg-color: #3B4455;\n",
              "      --fill-color: #D2E3FC;\n",
              "      --hover-bg-color: #434B5C;\n",
              "      --hover-fill-color: #FFFFFF;\n",
              "      --disabled-bg-color: #3B4455;\n",
              "      --disabled-fill-color: #666;\n",
              "  }\n",
              "\n",
              "  .colab-df-quickchart {\n",
              "    background-color: var(--bg-color);\n",
              "    border: none;\n",
              "    border-radius: 50%;\n",
              "    cursor: pointer;\n",
              "    display: none;\n",
              "    fill: var(--fill-color);\n",
              "    height: 32px;\n",
              "    padding: 0;\n",
              "    width: 32px;\n",
              "  }\n",
              "\n",
              "  .colab-df-quickchart:hover {\n",
              "    background-color: var(--hover-bg-color);\n",
              "    box-shadow: 0 1px 2px rgba(60, 64, 67, 0.3), 0 1px 3px 1px rgba(60, 64, 67, 0.15);\n",
              "    fill: var(--button-hover-fill-color);\n",
              "  }\n",
              "\n",
              "  .colab-df-quickchart-complete:disabled,\n",
              "  .colab-df-quickchart-complete:disabled:hover {\n",
              "    background-color: var(--disabled-bg-color);\n",
              "    fill: var(--disabled-fill-color);\n",
              "    box-shadow: none;\n",
              "  }\n",
              "\n",
              "  .colab-df-spinner {\n",
              "    border: 2px solid var(--fill-color);\n",
              "    border-color: transparent;\n",
              "    border-bottom-color: var(--fill-color);\n",
              "    animation:\n",
              "      spin 1s steps(1) infinite;\n",
              "  }\n",
              "\n",
              "  @keyframes spin {\n",
              "    0% {\n",
              "      border-color: transparent;\n",
              "      border-bottom-color: var(--fill-color);\n",
              "      border-left-color: var(--fill-color);\n",
              "    }\n",
              "    20% {\n",
              "      border-color: transparent;\n",
              "      border-left-color: var(--fill-color);\n",
              "      border-top-color: var(--fill-color);\n",
              "    }\n",
              "    30% {\n",
              "      border-color: transparent;\n",
              "      border-left-color: var(--fill-color);\n",
              "      border-top-color: var(--fill-color);\n",
              "      border-right-color: var(--fill-color);\n",
              "    }\n",
              "    40% {\n",
              "      border-color: transparent;\n",
              "      border-right-color: var(--fill-color);\n",
              "      border-top-color: var(--fill-color);\n",
              "    }\n",
              "    60% {\n",
              "      border-color: transparent;\n",
              "      border-right-color: var(--fill-color);\n",
              "    }\n",
              "    80% {\n",
              "      border-color: transparent;\n",
              "      border-right-color: var(--fill-color);\n",
              "      border-bottom-color: var(--fill-color);\n",
              "    }\n",
              "    90% {\n",
              "      border-color: transparent;\n",
              "      border-bottom-color: var(--fill-color);\n",
              "    }\n",
              "  }\n",
              "</style>\n",
              "\n",
              "  <script>\n",
              "    async function quickchart(key) {\n",
              "      const quickchartButtonEl =\n",
              "        document.querySelector('#' + key + ' button');\n",
              "      quickchartButtonEl.disabled = true;  // To prevent multiple clicks.\n",
              "      quickchartButtonEl.classList.add('colab-df-spinner');\n",
              "      try {\n",
              "        const charts = await google.colab.kernel.invokeFunction(\n",
              "            'suggestCharts', [key], {});\n",
              "      } catch (error) {\n",
              "        console.error('Error during call to suggestCharts:', error);\n",
              "      }\n",
              "      quickchartButtonEl.classList.remove('colab-df-spinner');\n",
              "      quickchartButtonEl.classList.add('colab-df-quickchart-complete');\n",
              "    }\n",
              "    (() => {\n",
              "      let quickchartButtonEl =\n",
              "        document.querySelector('#df-36f2e3c7-8a02-4190-95ec-1919b0edf229 button');\n",
              "      quickchartButtonEl.style.display =\n",
              "        google.colab.kernel.accessAllowed ? 'block' : 'none';\n",
              "    })();\n",
              "  </script>\n",
              "</div>\n",
              "    </div>\n",
              "  </div>\n"
            ]
          },
          "metadata": {},
          "execution_count": 125
        }
      ]
    },
    {
      "cell_type": "markdown",
      "source": [
        "Неявных дубликатов много, но нельзя понять входит ли платеж в одной строке в период платежей другой строки, поскольку платежи сагрегированы по большому промежутку времени. В некоторых строках периоды времени разные, такие строки точно не являются дубликатами. Оставим все дубликаты как есть. В дальнейшем рекомендуем разделять каждый платеж по пользователю."
      ],
      "metadata": {
        "id": "xVQYQIlyULH2"
      }
    },
    {
      "cell_type": "markdown",
      "source": [
        "# Исследовательский анализ"
      ],
      "metadata": {
        "id": "6PyNpbbY8v-d"
      }
    },
    {
      "cell_type": "markdown",
      "source": [
        "Поскольку подробных описаний данных нет, наиболее важным показателем будем считать конверсию показа рекламы в клик. Исследуем данную конверсию по разным рекламным кампаниям, а также по всем параметрам доноров."
      ],
      "metadata": {
        "id": "4opx_T3Y_1Q6"
      }
    },
    {
      "cell_type": "markdown",
      "source": [
        "## Функции"
      ],
      "metadata": {
        "id": "G0q1Lh2Q9kUS"
      }
    },
    {
      "cell_type": "code",
      "source": [
        "# сводная таблица с двумя value и sum\n",
        "def table2 (df, index_1, values_1, values_2):\n",
        "  table = df.pivot_table(index=index_1, values=[values_1, values_2], aggfunc='sum').reset_index()\n",
        "  table['ctr_perc'] = (table[values_2] / table[values_1] * 100).round(2)\n",
        "  table = table.sort_values(by='ctr_perc', ascending=False)\n",
        "  return table"
      ],
      "metadata": {
        "id": "FFD2j26gTryq"
      },
      "execution_count": null,
      "outputs": []
    },
    {
      "cell_type": "code",
      "source": [
        "# гистограмма по сводной sum + сортировка объёма\n",
        "def hist (table, index_1, values_1, title_1, h, w):\n",
        "  fig = px.bar(table, x=index_1, y= values_1, title=title_1)\n",
        "  fig.update_layout(height=h, width=w)\n",
        "  #fig.update_xaxes(tickangle=45)\n",
        "  return fig.show()"
      ],
      "metadata": {
        "id": "GfbnVMYHYAQX"
      },
      "execution_count": null,
      "outputs": []
    },
    {
      "cell_type": "code",
      "source": [
        "# цветовая гистограмма по сводной sum + сортировка объёма\n",
        "def hist_color (table, index_1, values_1, colors, title_1, h, w):\n",
        "  fig = px.bar(table, x=index_1, y= values_1, color=colors)\n",
        "  fig.update_layout(height=h, width=w, title=title_1)\n",
        "  return fig.show()"
      ],
      "metadata": {
        "id": "y_5CZ4m6g6Rj"
      },
      "execution_count": null,
      "outputs": []
    },
    {
      "cell_type": "code",
      "source": [
        "# функция сводной таблицы sum и гистограммы по ней + сортировка объёма\n",
        "def px_sum (df, index_1, values_1, title_1, h, w):\n",
        "  table = df.pivot_table(index=index_1, values=values_1, aggfunc='sum').reset_index()\n",
        "  table = table.rename(columns={values_1:'sum'})\n",
        "  table = table.sort_values(by='sum',ascending=False)\n",
        "\n",
        "  fig = px.bar(table, x=index_1, y='sum', title=title_1)\n",
        "  fig.update_layout(height=h, width=w)\n",
        "  #fig.update_xaxes(tickangle=45)\n",
        "  return fig.show()"
      ],
      "metadata": {
        "id": "cKubE6bq6oEM"
      },
      "execution_count": null,
      "outputs": []
    },
    {
      "cell_type": "code",
      "source": [
        "# функция сводной таблицы sum с конверсией показы в клики и гистограммы по ней + сортировка объёма\n",
        "def px_ctr (df, index_1, shows, clicks, title_1, h, w):\n",
        "  table = df.pivot_table(index=index_1, values=[shows, clicks], aggfunc='sum').reset_index()\n",
        "  table['ctr_perc'] = (table[clicks] / table[shows] * 100).round(2)\n",
        "  #table = table.rename(columns={shows:'amount'})\n",
        "  table = table.sort_values(by='ctr_perc',ascending=False)\n",
        "\n",
        "  fig = px.bar(table, x=index_1, y='ctr_perc', title=title_1)\n",
        "  fig.update_layout(height=h, width=w)\n",
        "  #fig.update_xaxes(tickangle=45)\n",
        "  return fig.show()"
      ],
      "metadata": {
        "id": "1zTDnO6OiLFK"
      },
      "execution_count": null,
      "outputs": []
    },
    {
      "cell_type": "code",
      "source": [
        "# функция сводной таблицы sum с конверсией показы в клики и ЦВЕТНОЙ гистограммой по ней + сортировка объёма, ТОП-20\n",
        "def px_ctr_color0 (df, index_1, shows, clicks, colors, title_1, h, w):\n",
        "  table = df.pivot_table(index=index_1, values=[shows, clicks], aggfunc='sum').reset_index()\n",
        "  table['ctr_perc'] = (table[clicks] / table[shows] * 100).round(2)\n",
        "  table = table.sort_values(by=clicks,ascending=False).head(20)\n",
        "\n",
        "  fig = px.bar(table, x=index_1, y= clicks, color=colors, color_continuous_scale='Blues')\n",
        "  fig.update_layout(height=h, width=w, title=title_1)\n",
        "  #fig.update_traces(marker=dict(\n",
        "    #color=['#5733ff','#6747ff','#785bff','#8970ff','#9a84ff','#ab99ff','#bbadff','#ccc1ff','#ddd6ff','#eeeaff','#ffffff']))\n",
        "  return fig.show()"
      ],
      "metadata": {
        "id": "BADkgmwUisIa"
      },
      "execution_count": null,
      "outputs": []
    },
    {
      "cell_type": "code",
      "source": [
        "# функция сводной таблицы sum с конверсией показы в клики и ЦВЕТНОЙ гистограммой по ней + сортировка объёма, ТОП-20\n",
        "def px_ctr_color (df, index_1, shows, clicks, colors, title_1, subtitle_1, h, w):\n",
        "  table = df.pivot_table(index=index_1, values=[shows, clicks], aggfunc='sum').reset_index()\n",
        "  table['ctr_perc'] = (table[clicks] / table[shows] * 100).round(2)\n",
        "  table = table.sort_values(by=clicks,ascending=False).head(20)\n",
        "\n",
        "  fig = px.bar(table, x=index_1, y= clicks, color=colors)\n",
        "  fig.update_layout(height=h, width=w, title = title_1,\n",
        "                  annotations=[dict(text=subtitle_1,x=0.5,y=0.99,showarrow=False,xref=\"paper\",yref=\"paper\",font=dict(size=14))])\n",
        "  return fig.show()"
      ],
      "metadata": {
        "id": "7ALB-zJpVCvN"
      },
      "execution_count": null,
      "outputs": []
    },
    {
      "cell_type": "code",
      "source": [
        "# функция сводной таблицы sum с конверсией показы в клики и ЦВЕТНОЙ гистограммой по ней + сортировка объёма, ТОП-20\n",
        "def px_ctr_blue (df, index_1, shows, clicks, colors, title_1, h, w):\n",
        "  table = df.pivot_table(index=index_1, values=[shows, clicks], aggfunc='sum').reset_index()\n",
        "  table['ctr_perc'] = (table[clicks] / table[shows] * 100).round(2)\n",
        "  table = table.sort_values(by='ctr_perc',ascending=False).head(20)\n",
        "\n",
        "  fig = px.bar(table, x=index_1, y= 'ctr_perc', color=colors, color_continuous_scale='Blues')\n",
        "  fig.update_layout(height=h, width=w, title = title_1,\n",
        "                  annotations=[dict(text='Интенсивность цвета соответствует числу показов',x=0.5,y=1,showarrow=False,xref=\"paper\",yref=\"paper\",font=dict(size=14))])\n",
        "  return fig.show()"
      ],
      "metadata": {
        "id": "Y3V-qlbq_R33"
      },
      "execution_count": null,
      "outputs": []
    },
    {
      "cell_type": "markdown",
      "source": [
        "## Анализ Adgrants - Яндекс Метрика"
      ],
      "metadata": {
        "id": "q6udJlxMnela"
      }
    },
    {
      "cell_type": "markdown",
      "source": [
        "### Конверсия по целевому действию"
      ],
      "metadata": {
        "id": "5zNQxlyZl-cz"
      }
    },
    {
      "cell_type": "markdown",
      "source": [
        "В данных adgrants есть столбец с конверсией. Предположительно, он включает в себя выполнение трех целевых действий:\n",
        "- Посещение страницы помощи\n",
        "- Отправка формы\n",
        "- Посещение страницы \"Спасибо\"  "
      ],
      "metadata": {
        "id": "8FB3ermVmGeC"
      }
    },
    {
      "cell_type": "code",
      "source": [
        "print()\n",
        "conversion = adgrants[~adgrants['conversion'].isna()].copy()\n",
        "print('Всего', '\\033[1m{}\\033[0m'.format(len(conversion)), 'строк с выполненными целевыми действиями.')"
      ],
      "metadata": {
        "colab": {
          "base_uri": "https://localhost:8080/"
        },
        "id": "Ghwho1hFmD6Z",
        "outputId": "46681d2a-3e5c-476f-fc7f-94c29241499d"
      },
      "execution_count": null,
      "outputs": [
        {
          "output_type": "stream",
          "name": "stdout",
          "text": [
            "\n",
            "Всего \u001b[1m396\u001b[0m строк с выполненными целевыми действиями.\n"
          ]
        }
      ]
    },
    {
      "cell_type": "code",
      "source": [
        "conversion['conversion'].unique()"
      ],
      "metadata": {
        "colab": {
          "base_uri": "https://localhost:8080/"
        },
        "id": "5cibjDmzXrE_",
        "outputId": "10740d30-7305-4bc4-b937-8c201d1c0987"
      },
      "execution_count": null,
      "outputs": [
        {
          "output_type": "execute_result",
          "data": {
            "text/plain": [
              "array([100.  , 200.  ,  33.33,  11.11,  50.  ,  20.  ,  66.67,  80.  ,\n",
              "        25.  ,   8.33,  16.67,   6.25,  12.5 ,  18.18,   7.14,   9.09,\n",
              "       150.  ,  10.53,   5.56,  75.  ,  14.29,  40.  ,  10.  , 400.  ,\n",
              "        22.22,   5.88,  60.  , 300.  ,  42.86,  12.  ])"
            ]
          },
          "metadata": {},
          "execution_count": 135
        }
      ]
    },
    {
      "cell_type": "markdown",
      "source": [
        "В столбце \"conversion\" есть значения от 1 до 400, в том числе дробные. Нет описания данных что они означают. Будем считать, что любое не нулевое значение конверсии - это совершение всех трех целевых действий, то есть платежа."
      ],
      "metadata": {
        "id": "SmEeeW4sYLa1"
      }
    },
    {
      "cell_type": "code",
      "source": [
        "# посчитаем все показы и клики\n",
        "adgrants_shows = adgrants['shows'].sum()\n",
        "adgrants_clicks = adgrants['clicks'].sum()\n",
        "# все клики с успешным целевым действием\n",
        "conv_clicks = conversion['clicks'].sum()"
      ],
      "metadata": {
        "id": "G_3VFk7ZmDlj"
      },
      "execution_count": null,
      "outputs": []
    },
    {
      "cell_type": "code",
      "source": [
        "print(line_)\n",
        "print('Всего:')\n",
        "print('\\033[1m{}\\033[0m'.format(adgrants_shows), 'показов')\n",
        "print('\\033[1m{}\\033[0m'.format(adgrants_clicks), 'кликов')\n",
        "ctr_avg = (adgrants_clicks / adgrants_shows * 100).round(2)\n",
        "print('Средняя конверсия показов в клик:', '\\033[1m{}\\033[0m'.format(ctr_avg), '%')\n",
        "print()\n",
        "print('Целевые действия:')\n",
        "print('Были совершены в', '\\033[1m{}\\033[0m'.format((conv_clicks / adgrants_shows * 100).round(3)), '% от всех показов.')\n",
        "print('Были совершены в', '\\033[1m{}\\033[0m'.format((conv_clicks / adgrants_clicks * 100).round(1)), '% от всех кликов.')\n",
        "print(_line)"
      ],
      "metadata": {
        "colab": {
          "base_uri": "https://localhost:8080/"
        },
        "id": "GRJfhczQfDBo",
        "outputId": "311c95d2-c628-432e-b822-727a3a1f47d8"
      },
      "execution_count": null,
      "outputs": [
        {
          "output_type": "stream",
          "name": "stdout",
          "text": [
            "────────────────────────────────────────────────────────────────────────────────────────────────────\n",
            "\n",
            "Всего:\n",
            "\u001b[1m9853538\u001b[0m показов\n",
            "\u001b[1m41243\u001b[0m кликов\n",
            "Средняя конверсия показов в клик: \u001b[1m0.42\u001b[0m %\n",
            "\n",
            "Целевые действия:\n",
            "Были совершены в \u001b[1m0.011\u001b[0m % от всех показов.\n",
            "Были совершены в \u001b[1m2.6\u001b[0m % от всех кликов.\n",
            "\n",
            "────────────────────────────────────────────────────────────────────────────────────────────────────\n"
          ]
        }
      ]
    },
    {
      "cell_type": "code",
      "source": [
        "px_ctr_color(conversion, 'campaign', 'shows', 'clicks', 'ctr_perc', 'Все кампании с совершенным целевым действием',\n",
        "             'Интенсивность цвета соответствует конверсии показа в клик', 700, 1100)"
      ],
      "metadata": {
        "colab": {
          "base_uri": "https://localhost:8080/",
          "height": 717
        },
        "id": "y1lDcMPKiiXk",
        "outputId": "212bbee6-1801-48ab-d16c-7aa65d898cef"
      },
      "execution_count": null,
      "outputs": [
        {
          "output_type": "display_data",
          "data": {
            "text/html": [
              "<html>\n",
              "<head><meta charset=\"utf-8\" /></head>\n",
              "<body>\n",
              "    <div>            <script src=\"https://cdnjs.cloudflare.com/ajax/libs/mathjax/2.7.5/MathJax.js?config=TeX-AMS-MML_SVG\"></script><script type=\"text/javascript\">if (window.MathJax && window.MathJax.Hub && window.MathJax.Hub.Config) {window.MathJax.Hub.Config({SVG: {font: \"STIX-Web\"}});}</script>                <script type=\"text/javascript\">window.PlotlyConfig = {MathJaxConfig: 'local'};</script>\n",
              "        <script charset=\"utf-8\" src=\"https://cdn.plot.ly/plotly-2.24.1.min.js\"></script>                <div id=\"b0bc2e19-a3fa-40d0-9aaf-6956b7d9892f\" class=\"plotly-graph-div\" style=\"height:700px; width:1100px;\"></div>            <script type=\"text/javascript\">                                    window.PLOTLYENV=window.PLOTLYENV || {};                                    if (document.getElementById(\"b0bc2e19-a3fa-40d0-9aaf-6956b7d9892f\")) {                    Plotly.newPlot(                        \"b0bc2e19-a3fa-40d0-9aaf-6956b7d9892f\",                        [{\"alignmentgroup\":\"True\",\"hovertemplate\":\"campaign=%{x}\\u003cbr\\u003eclicks=%{y}\\u003cbr\\u003ectr_perc=%{marker.color}\\u003cextra\\u003e\\u003c\\u002fextra\\u003e\",\"legendgroup\":\"\",\"marker\":{\"color\":[0.6,0.32,0.33,2.78,0.24,0.78,0.35,0.52,6.79,1.32,2.55,8.33],\"coloraxis\":\"coloraxis\",\"pattern\":{\"shape\":\"\"}},\"name\":\"\",\"offsetgroup\":\"\",\"orientation\":\"v\",\"showlegend\":false,\"textposition\":\"auto\",\"x\":[\"\\u0420\\u041a_\\u0431\\u0435\\u0437\\u0434\\u043e\\u043c\\u043d\\u044b\\u0435 \\u0436\\u0435\\u043d\\u0449\\u0438\\u043d\\u044b\",\"\\u0420\\u041a_\\u0411\\u043e\\u043b\\u044c\\u043d\\u0438\\u0447\\u043a\\u0430\",\"\\u041f\\u0430\\u043a\\u0435\\u0442_\\u0411\\u0435\\u0437\\u0434\\u043e\\u043c\\u0430\\u0448\\u043d\\u0438\\u0439 \\u043e\\u0447\\u0430\\u0433_\\u0412\\u0435\\u0440\\u0443\\u044e\\u0449\\u0438\\u0435_\\u043a\\u043b\\u044e\\u0447\\u0438-\\u0438\\u043d\\u0442\\u0435\\u0440\\u0435\\u0441\\u044b\",\"\\u0420\\u041a_\\u041e\\u0431\\u0449\\u0438\\u0439 \\u0441\\u0431\\u043e\\u0440_\\u0441\\u0440\\u0435\\u0434\\u0441\\u0442\\u0432\",\"\\u0411\\u043e\\u043b\\u044c\\u043d\\u0438\\u0447\\u043a\\u0430_\\u0431\\u0438\\u0437\\u043d\\u0435\\u0441_\\u043a\\u043b\\u044e\\u0447\\u0438-\\u0438\\u043d\\u0442\\u0435\\u0440\\u0435\\u0441\\u044b\",\"\\u041f\\u0430\\u043a\\u0435\\u0442_\\u0411\\u0435\\u0437\\u0434\\u043e\\u043c\\u0430\\u0448\\u043d\\u0438\\u0439 \\u043e\\u0447\\u0430\\u0433_\\u0420\\u0435\\u0430\\u0431\\u0438\\u043b\\u0438\\u0442\\u0430\\u0446\\u0438\\u043e\\u043d\\u043d\\u044b\\u0435 \\u0446\\u0435\\u043d\\u0442\\u0440\\u044b_\\u043a\\u043b\\u044e\\u0447\\u0438\",\"\\u0420\\u041a_\\u041c\\u043e\\u0431\\u0438\\u043b\\u044c\\u043d\\u0430\\u044f \\u043a\\u043b\\u0438\\u043d\\u0438\\u043a\\u0430\",\"\\u0420\\u041a_\\u0420\\u0435\\u0442\\u0430\\u0440\\u0433\\u0435\\u0442\\u0438\\u043d\\u0433\",\"\\u0420\\u041a_\\u041e\\u0431\\u0443\\u0441\\u0442\\u0440\\u043e\\u0439\\u0441\\u0442\\u0432\\u043e_\\u043a\\u043b\\u0438\\u043d\\u0438\\u043a\\u0438\",\"\\u041f\\u0430\\u043a\\u0435\\u0442_\\u0411\\u0435\\u0437\\u0434\\u043e\\u043c\\u0430\\u0448\\u043d\\u0438\\u0439 \\u043e\\u0447\\u0430\\u0433_\\u041f\\u0441\\u0438\\u0445\\u043e\\u043b\\u043e\\u0433\\u0438\\u0447\\u0435\\u0441\\u043a\\u0430\\u044f \\u043f\\u043e\\u043c\\u043e\\u0449\\u044c_\\u043a\\u043b\\u044e\\u0447\\u0438-\\u0438\\u043d\\u0442\\u0435\\u0440\\u0435\\u0441\\u044b\",\"\\u0413\\u0435\\u043e\",\"\\u0420\\u041a_\\u041e\\u0431\\u0443\\u0441\\u0442\\u0440\\u043e\\u0439\\u0441\\u0442\\u0432\\u043e_\\u043a\\u043b\\u0438\\u043d\\u0438\\u043a\\u0438_\\u043f\\u0443\\u0442\\u0435\\u0448\\u0435\\u0441\\u0442\\u0432\\u0438\\u044f\"],\"xaxis\":\"x\",\"y\":[190,141,130,124,123,120,77,75,43,22,16,1],\"yaxis\":\"y\",\"type\":\"bar\"}],                        {\"template\":{\"data\":{\"histogram2dcontour\":[{\"type\":\"histogram2dcontour\",\"colorbar\":{\"outlinewidth\":0,\"ticks\":\"\"},\"colorscale\":[[0.0,\"#0d0887\"],[0.1111111111111111,\"#46039f\"],[0.2222222222222222,\"#7201a8\"],[0.3333333333333333,\"#9c179e\"],[0.4444444444444444,\"#bd3786\"],[0.5555555555555556,\"#d8576b\"],[0.6666666666666666,\"#ed7953\"],[0.7777777777777778,\"#fb9f3a\"],[0.8888888888888888,\"#fdca26\"],[1.0,\"#f0f921\"]]}],\"choropleth\":[{\"type\":\"choropleth\",\"colorbar\":{\"outlinewidth\":0,\"ticks\":\"\"}}],\"histogram2d\":[{\"type\":\"histogram2d\",\"colorbar\":{\"outlinewidth\":0,\"ticks\":\"\"},\"colorscale\":[[0.0,\"#0d0887\"],[0.1111111111111111,\"#46039f\"],[0.2222222222222222,\"#7201a8\"],[0.3333333333333333,\"#9c179e\"],[0.4444444444444444,\"#bd3786\"],[0.5555555555555556,\"#d8576b\"],[0.6666666666666666,\"#ed7953\"],[0.7777777777777778,\"#fb9f3a\"],[0.8888888888888888,\"#fdca26\"],[1.0,\"#f0f921\"]]}],\"heatmap\":[{\"type\":\"heatmap\",\"colorbar\":{\"outlinewidth\":0,\"ticks\":\"\"},\"colorscale\":[[0.0,\"#0d0887\"],[0.1111111111111111,\"#46039f\"],[0.2222222222222222,\"#7201a8\"],[0.3333333333333333,\"#9c179e\"],[0.4444444444444444,\"#bd3786\"],[0.5555555555555556,\"#d8576b\"],[0.6666666666666666,\"#ed7953\"],[0.7777777777777778,\"#fb9f3a\"],[0.8888888888888888,\"#fdca26\"],[1.0,\"#f0f921\"]]}],\"heatmapgl\":[{\"type\":\"heatmapgl\",\"colorbar\":{\"outlinewidth\":0,\"ticks\":\"\"},\"colorscale\":[[0.0,\"#0d0887\"],[0.1111111111111111,\"#46039f\"],[0.2222222222222222,\"#7201a8\"],[0.3333333333333333,\"#9c179e\"],[0.4444444444444444,\"#bd3786\"],[0.5555555555555556,\"#d8576b\"],[0.6666666666666666,\"#ed7953\"],[0.7777777777777778,\"#fb9f3a\"],[0.8888888888888888,\"#fdca26\"],[1.0,\"#f0f921\"]]}],\"contourcarpet\":[{\"type\":\"contourcarpet\",\"colorbar\":{\"outlinewidth\":0,\"ticks\":\"\"}}],\"contour\":[{\"type\":\"contour\",\"colorbar\":{\"outlinewidth\":0,\"ticks\":\"\"},\"colorscale\":[[0.0,\"#0d0887\"],[0.1111111111111111,\"#46039f\"],[0.2222222222222222,\"#7201a8\"],[0.3333333333333333,\"#9c179e\"],[0.4444444444444444,\"#bd3786\"],[0.5555555555555556,\"#d8576b\"],[0.6666666666666666,\"#ed7953\"],[0.7777777777777778,\"#fb9f3a\"],[0.8888888888888888,\"#fdca26\"],[1.0,\"#f0f921\"]]}],\"surface\":[{\"type\":\"surface\",\"colorbar\":{\"outlinewidth\":0,\"ticks\":\"\"},\"colorscale\":[[0.0,\"#0d0887\"],[0.1111111111111111,\"#46039f\"],[0.2222222222222222,\"#7201a8\"],[0.3333333333333333,\"#9c179e\"],[0.4444444444444444,\"#bd3786\"],[0.5555555555555556,\"#d8576b\"],[0.6666666666666666,\"#ed7953\"],[0.7777777777777778,\"#fb9f3a\"],[0.8888888888888888,\"#fdca26\"],[1.0,\"#f0f921\"]]}],\"mesh3d\":[{\"type\":\"mesh3d\",\"colorbar\":{\"outlinewidth\":0,\"ticks\":\"\"}}],\"scatter\":[{\"fillpattern\":{\"fillmode\":\"overlay\",\"size\":10,\"solidity\":0.2},\"type\":\"scatter\"}],\"parcoords\":[{\"type\":\"parcoords\",\"line\":{\"colorbar\":{\"outlinewidth\":0,\"ticks\":\"\"}}}],\"scatterpolargl\":[{\"type\":\"scatterpolargl\",\"marker\":{\"colorbar\":{\"outlinewidth\":0,\"ticks\":\"\"}}}],\"bar\":[{\"error_x\":{\"color\":\"#2a3f5f\"},\"error_y\":{\"color\":\"#2a3f5f\"},\"marker\":{\"line\":{\"color\":\"#E5ECF6\",\"width\":0.5},\"pattern\":{\"fillmode\":\"overlay\",\"size\":10,\"solidity\":0.2}},\"type\":\"bar\"}],\"scattergeo\":[{\"type\":\"scattergeo\",\"marker\":{\"colorbar\":{\"outlinewidth\":0,\"ticks\":\"\"}}}],\"scatterpolar\":[{\"type\":\"scatterpolar\",\"marker\":{\"colorbar\":{\"outlinewidth\":0,\"ticks\":\"\"}}}],\"histogram\":[{\"marker\":{\"pattern\":{\"fillmode\":\"overlay\",\"size\":10,\"solidity\":0.2}},\"type\":\"histogram\"}],\"scattergl\":[{\"type\":\"scattergl\",\"marker\":{\"colorbar\":{\"outlinewidth\":0,\"ticks\":\"\"}}}],\"scatter3d\":[{\"type\":\"scatter3d\",\"line\":{\"colorbar\":{\"outlinewidth\":0,\"ticks\":\"\"}},\"marker\":{\"colorbar\":{\"outlinewidth\":0,\"ticks\":\"\"}}}],\"scattermapbox\":[{\"type\":\"scattermapbox\",\"marker\":{\"colorbar\":{\"outlinewidth\":0,\"ticks\":\"\"}}}],\"scatterternary\":[{\"type\":\"scatterternary\",\"marker\":{\"colorbar\":{\"outlinewidth\":0,\"ticks\":\"\"}}}],\"scattercarpet\":[{\"type\":\"scattercarpet\",\"marker\":{\"colorbar\":{\"outlinewidth\":0,\"ticks\":\"\"}}}],\"carpet\":[{\"aaxis\":{\"endlinecolor\":\"#2a3f5f\",\"gridcolor\":\"white\",\"linecolor\":\"white\",\"minorgridcolor\":\"white\",\"startlinecolor\":\"#2a3f5f\"},\"baxis\":{\"endlinecolor\":\"#2a3f5f\",\"gridcolor\":\"white\",\"linecolor\":\"white\",\"minorgridcolor\":\"white\",\"startlinecolor\":\"#2a3f5f\"},\"type\":\"carpet\"}],\"table\":[{\"cells\":{\"fill\":{\"color\":\"#EBF0F8\"},\"line\":{\"color\":\"white\"}},\"header\":{\"fill\":{\"color\":\"#C8D4E3\"},\"line\":{\"color\":\"white\"}},\"type\":\"table\"}],\"barpolar\":[{\"marker\":{\"line\":{\"color\":\"#E5ECF6\",\"width\":0.5},\"pattern\":{\"fillmode\":\"overlay\",\"size\":10,\"solidity\":0.2}},\"type\":\"barpolar\"}],\"pie\":[{\"automargin\":true,\"type\":\"pie\"}]},\"layout\":{\"autotypenumbers\":\"strict\",\"colorway\":[\"#636efa\",\"#EF553B\",\"#00cc96\",\"#ab63fa\",\"#FFA15A\",\"#19d3f3\",\"#FF6692\",\"#B6E880\",\"#FF97FF\",\"#FECB52\"],\"font\":{\"color\":\"#2a3f5f\"},\"hovermode\":\"closest\",\"hoverlabel\":{\"align\":\"left\"},\"paper_bgcolor\":\"white\",\"plot_bgcolor\":\"#E5ECF6\",\"polar\":{\"bgcolor\":\"#E5ECF6\",\"angularaxis\":{\"gridcolor\":\"white\",\"linecolor\":\"white\",\"ticks\":\"\"},\"radialaxis\":{\"gridcolor\":\"white\",\"linecolor\":\"white\",\"ticks\":\"\"}},\"ternary\":{\"bgcolor\":\"#E5ECF6\",\"aaxis\":{\"gridcolor\":\"white\",\"linecolor\":\"white\",\"ticks\":\"\"},\"baxis\":{\"gridcolor\":\"white\",\"linecolor\":\"white\",\"ticks\":\"\"},\"caxis\":{\"gridcolor\":\"white\",\"linecolor\":\"white\",\"ticks\":\"\"}},\"coloraxis\":{\"colorbar\":{\"outlinewidth\":0,\"ticks\":\"\"}},\"colorscale\":{\"sequential\":[[0.0,\"#0d0887\"],[0.1111111111111111,\"#46039f\"],[0.2222222222222222,\"#7201a8\"],[0.3333333333333333,\"#9c179e\"],[0.4444444444444444,\"#bd3786\"],[0.5555555555555556,\"#d8576b\"],[0.6666666666666666,\"#ed7953\"],[0.7777777777777778,\"#fb9f3a\"],[0.8888888888888888,\"#fdca26\"],[1.0,\"#f0f921\"]],\"sequentialminus\":[[0.0,\"#0d0887\"],[0.1111111111111111,\"#46039f\"],[0.2222222222222222,\"#7201a8\"],[0.3333333333333333,\"#9c179e\"],[0.4444444444444444,\"#bd3786\"],[0.5555555555555556,\"#d8576b\"],[0.6666666666666666,\"#ed7953\"],[0.7777777777777778,\"#fb9f3a\"],[0.8888888888888888,\"#fdca26\"],[1.0,\"#f0f921\"]],\"diverging\":[[0,\"#8e0152\"],[0.1,\"#c51b7d\"],[0.2,\"#de77ae\"],[0.3,\"#f1b6da\"],[0.4,\"#fde0ef\"],[0.5,\"#f7f7f7\"],[0.6,\"#e6f5d0\"],[0.7,\"#b8e186\"],[0.8,\"#7fbc41\"],[0.9,\"#4d9221\"],[1,\"#276419\"]]},\"xaxis\":{\"gridcolor\":\"white\",\"linecolor\":\"white\",\"ticks\":\"\",\"title\":{\"standoff\":15},\"zerolinecolor\":\"white\",\"automargin\":true,\"zerolinewidth\":2},\"yaxis\":{\"gridcolor\":\"white\",\"linecolor\":\"white\",\"ticks\":\"\",\"title\":{\"standoff\":15},\"zerolinecolor\":\"white\",\"automargin\":true,\"zerolinewidth\":2},\"scene\":{\"xaxis\":{\"backgroundcolor\":\"#E5ECF6\",\"gridcolor\":\"white\",\"linecolor\":\"white\",\"showbackground\":true,\"ticks\":\"\",\"zerolinecolor\":\"white\",\"gridwidth\":2},\"yaxis\":{\"backgroundcolor\":\"#E5ECF6\",\"gridcolor\":\"white\",\"linecolor\":\"white\",\"showbackground\":true,\"ticks\":\"\",\"zerolinecolor\":\"white\",\"gridwidth\":2},\"zaxis\":{\"backgroundcolor\":\"#E5ECF6\",\"gridcolor\":\"white\",\"linecolor\":\"white\",\"showbackground\":true,\"ticks\":\"\",\"zerolinecolor\":\"white\",\"gridwidth\":2}},\"shapedefaults\":{\"line\":{\"color\":\"#2a3f5f\"}},\"annotationdefaults\":{\"arrowcolor\":\"#2a3f5f\",\"arrowhead\":0,\"arrowwidth\":1},\"geo\":{\"bgcolor\":\"white\",\"landcolor\":\"#E5ECF6\",\"subunitcolor\":\"white\",\"showland\":true,\"showlakes\":true,\"lakecolor\":\"white\"},\"title\":{\"x\":0.05},\"mapbox\":{\"style\":\"light\"}}},\"xaxis\":{\"anchor\":\"y\",\"domain\":[0.0,1.0],\"title\":{\"text\":\"campaign\"}},\"yaxis\":{\"anchor\":\"x\",\"domain\":[0.0,1.0],\"title\":{\"text\":\"clicks\"}},\"coloraxis\":{\"colorbar\":{\"title\":{\"text\":\"ctr_perc\"}},\"colorscale\":[[0.0,\"#0d0887\"],[0.1111111111111111,\"#46039f\"],[0.2222222222222222,\"#7201a8\"],[0.3333333333333333,\"#9c179e\"],[0.4444444444444444,\"#bd3786\"],[0.5555555555555556,\"#d8576b\"],[0.6666666666666666,\"#ed7953\"],[0.7777777777777778,\"#fb9f3a\"],[0.8888888888888888,\"#fdca26\"],[1.0,\"#f0f921\"]]},\"legend\":{\"tracegroupgap\":0},\"margin\":{\"t\":60},\"barmode\":\"relative\",\"height\":700,\"width\":1100,\"title\":{\"text\":\"\\u0412\\u0441\\u0435 \\u043a\\u0430\\u043c\\u043f\\u0430\\u043d\\u0438\\u0438 \\u0441 \\u0441\\u043e\\u0432\\u0435\\u0440\\u0448\\u0435\\u043d\\u043d\\u044b\\u043c \\u0446\\u0435\\u043b\\u0435\\u0432\\u044b\\u043c \\u0434\\u0435\\u0439\\u0441\\u0442\\u0432\\u0438\\u0435\\u043c\"},\"annotations\":[{\"font\":{\"size\":14},\"showarrow\":false,\"text\":\"\\u0418\\u043d\\u0442\\u0435\\u043d\\u0441\\u0438\\u0432\\u043d\\u043e\\u0441\\u0442\\u044c \\u0446\\u0432\\u0435\\u0442\\u0430 \\u0441\\u043e\\u043e\\u0442\\u0432\\u0435\\u0442\\u0441\\u0442\\u0432\\u0443\\u0435\\u0442 \\u043a\\u043e\\u043d\\u0432\\u0435\\u0440\\u0441\\u0438\\u0438 \\u043f\\u043e\\u043a\\u0430\\u0437\\u0430 \\u0432 \\u043a\\u043b\\u0438\\u043a\",\"x\":0.5,\"xref\":\"paper\",\"y\":0.99,\"yref\":\"paper\"}]},                        {\"responsive\": true}                    ).then(function(){\n",
              "                            \n",
              "var gd = document.getElementById('b0bc2e19-a3fa-40d0-9aaf-6956b7d9892f');\n",
              "var x = new MutationObserver(function (mutations, observer) {{\n",
              "        var display = window.getComputedStyle(gd).display;\n",
              "        if (!display || display === 'none') {{\n",
              "            console.log([gd, 'removed!']);\n",
              "            Plotly.purge(gd);\n",
              "            observer.disconnect();\n",
              "        }}\n",
              "}});\n",
              "\n",
              "// Listen for the removal of the full notebook cells\n",
              "var notebookContainer = gd.closest('#notebook-container');\n",
              "if (notebookContainer) {{\n",
              "    x.observe(notebookContainer, {childList: true});\n",
              "}}\n",
              "\n",
              "// Listen for the clearing of the current output cell\n",
              "var outputEl = gd.closest('.output');\n",
              "if (outputEl) {{\n",
              "    x.observe(outputEl, {childList: true});\n",
              "}}\n",
              "\n",
              "                        })                };                            </script>        </div>\n",
              "</body>\n",
              "</html>"
            ]
          },
          "metadata": {}
        }
      ]
    },
    {
      "cell_type": "markdown",
      "source": [
        "Из всех данных с совершенным целевым действием, эти кампании имеют очень высокую конверсию:\n",
        "- РК_Обустройство_клиники - **6.8%**\n",
        "- РК_Общий сбор_средств - **2.8%**\n",
        "- Гео - **2.6%**\n",
        "- Пакет_Бездомашний очаг_Психологическая помощь_ключи-интересы - **1.3%**"
      ],
      "metadata": {
        "id": "vXEL-Aalky3g"
      }
    },
    {
      "cell_type": "code",
      "source": [
        "px_ctr_color(conversion, 'condition_showed', 'shows', 'clicks', 'ctr_perc', 'Все условия показа с совершенным целевым действием',\n",
        "             'Интенсивность цвета соответствует конверсии показа в клик', 700, 1100)"
      ],
      "metadata": {
        "colab": {
          "base_uri": "https://localhost:8080/",
          "height": 717
        },
        "id": "WN8MKWO9l_yj",
        "outputId": "62cd8f09-549a-49b3-be16-0a37be164f79"
      },
      "execution_count": null,
      "outputs": [
        {
          "output_type": "display_data",
          "data": {
            "text/html": [
              "<html>\n",
              "<head><meta charset=\"utf-8\" /></head>\n",
              "<body>\n",
              "    <div>            <script src=\"https://cdnjs.cloudflare.com/ajax/libs/mathjax/2.7.5/MathJax.js?config=TeX-AMS-MML_SVG\"></script><script type=\"text/javascript\">if (window.MathJax && window.MathJax.Hub && window.MathJax.Hub.Config) {window.MathJax.Hub.Config({SVG: {font: \"STIX-Web\"}});}</script>                <script type=\"text/javascript\">window.PlotlyConfig = {MathJaxConfig: 'local'};</script>\n",
              "        <script charset=\"utf-8\" src=\"https://cdn.plot.ly/plotly-2.24.1.min.js\"></script>                <div id=\"07be17c4-ecfb-4463-a347-12b22cfd9410\" class=\"plotly-graph-div\" style=\"height:700px; width:1100px;\"></div>            <script type=\"text/javascript\">                                    window.PLOTLYENV=window.PLOTLYENV || {};                                    if (document.getElementById(\"07be17c4-ecfb-4463-a347-12b22cfd9410\")) {                    Plotly.newPlot(                        \"07be17c4-ecfb-4463-a347-12b22cfd9410\",                        [{\"alignmentgroup\":\"True\",\"hovertemplate\":\"condition_showed=%{x}\\u003cbr\\u003eclicks=%{y}\\u003cbr\\u003ectr_perc=%{marker.color}\\u003cextra\\u003e\\u003c\\u002fextra\\u003e\",\"legendgroup\":\"\",\"marker\":{\"color\":[0.38,3.32,1.78,5.16,5.36,4.92,5.36,6.17,5.06,2.88,2.74,23.53,30.77,3.2,6.52,9.38,2.73,4.23,5.66,2.05],\"coloraxis\":\"coloraxis\",\"pattern\":{\"shape\":\"\"}},\"name\":\"\",\"offsetgroup\":\"\",\"orientation\":\"v\",\"showlegend\":false,\"textposition\":\"auto\",\"x\":[\"'---autotargeting\",\"\\u0412\\u0435\\u0440\\u043d\\u0443\\u043b\\u0438\\u0441\\u044c \\u043d\\u0430 \\u0441\\u0430\\u0439\\u0442\",\"\\u0420\\u0430\\u0431\\u043e\\u0442\\u0430 (\\u0430\\u0444\\u0444\\u0438\\u043d\\u0438\\u0442\\u0438)\",\"\\u043f\\u043e\\u0433\\u043e\\u0434\\u0430 \\u0432 \\u0441\\u043f\\u0431 \\u043d\\u0430 14\",\"\\u043f\\u043e\\u0433\\u043e\\u0434\\u0430 +\\u0432 \\u043b\\u0435\\u043d\\u0438\\u043d\\u0433\\u0440\\u0430\\u0434\\u0441\\u043a\\u043e\\u0439 \\u043e\\u0431\\u043b\\u0430\\u0441\\u0442\\u0438 +\\u043d\\u0430 \\u043d\\u0435\\u0434\\u0435\\u043b\\u044e\",\"\\u043f\\u043e\\u0433\\u043e\\u0434\\u0430 \\u0441\\u043f\\u0431 -14 -\\u0441\\u0435\\u0433\\u043e\\u0434\\u043d\\u044f -\\u043f\\u0440\\u043e\\u0433\\u043d\\u043e\\u0437 -\\u044f\\u043d\\u0434\\u0435\\u043a\\u0441 -\\u0437\\u0430\\u0432\\u0442\\u0440\\u0430 -\\u0433\\u0438\\u0441\\u043c\\u0435\\u0442\\u0435\\u043e\",\"\\u044f\\u043d\\u0434\\u0435\\u043a\\u0441 \\u043f\\u043e\\u0433\\u043e\\u0434\\u0430 \\u0441\\u043f\\u0431\",\"\\u043f\\u043e\\u0433\\u043e\\u0434\\u0430 \\u0441\\u043f\\u0431 \\u0437\\u0430\\u0432\\u0442\\u0440\\u0430\",\"\\u043f\\u0440\\u043e\\u0433\\u043d\\u043e\\u0437 \\u043f\\u043e\\u0433\\u043e\\u0434\\u044b \\u0441\\u043f\\u0431 -\\u0442\\u043e\\u0447\\u043d\\u044b\\u0439\",\"\\u043c\\u0443\\u0437\\u0435\\u0438 \\u0441\\u0430\\u043d\\u043a\\u0442 \\u043f\\u0435\\u0442\\u0435\\u0440\\u0431\\u0443\\u0440\\u0433\\u0430 -\\u0438\\u0441\\u0442\\u043e\\u0440\\u0438\\u044f -\\u0440\\u0443\\u0441\\u0441\\u043a\\u0438\\u0439\",\"\\u0437\\u0430\\u043f\\u0438\\u0441\\u044c +\\u043a \\u0431\\u0435\\u0441\\u043f\\u043b\\u0430\\u0442\\u043d\\u043e\\u043c\\u0443 \\u0432\\u0440\\u0430\\u0447\\u0443 \\u0441\\u043f\\u0431\",\"\\u043f\\u043e\\u0433\\u043e\\u0434\\u0430 \\u0432 \\u043b\\u0435\\u043d \\u043e\\u0431\\u043b\",\"\\u0434\\u043e\\u0436\\u0434\\u044c +\\u0432 \\u043f\\u0435\\u0442\\u0435\\u0440\\u0431\\u0443\\u0440\\u0433\\u0435\",\"\\u043f\\u043e\\u0433\\u043e\\u0434\\u0430 \\u0432 \\u0441\\u0430\\u043d\\u043a\\u0442 \\u043f\\u0435\\u0442\\u0435\\u0440\\u0431\\u0443\\u0440\\u0433\\u0435 \\u043d\\u0430 14\",\"\\u0433\\u0438\\u0441\\u043c\\u0435\\u0442\\u0435\\u043e \\u043f\\u043e\\u0433\\u043e\\u0434\\u0430 \\u0441\\u043f\\u0431\",\"\\u043f\\u043e\\u0433\\u043e\\u0434\\u0430 \\u0441\\u043f\\u0431 \\u0441\\u0435\\u0433\\u043e\\u0434\\u043d\\u044f +\\u043f\\u043e \\u0447\\u0430\\u0441\\u0430\\u043c\",\"\\u043f\\u0440\\u043e\\u0433\\u043d\\u043e\\u0437 \\u043f\\u043e\\u0433\\u043e\\u0434\\u044b +\\u0432 \\u0441\\u0430\\u043d\\u043a\\u0442 \\u043f\\u0435\\u0442\\u0435\\u0440\\u0431\\u0443\\u0440\\u0433\\u0435 -\\u0442\\u043e\\u0447\\u043d\\u044b\\u0439\",\"\\u043f\\u0441\\u0438\\u0445\\u043e\\u0442\\u0435\\u0440\\u0430\\u043f\\u0435\\u0432\\u0442 \\u0441\\u0430\\u043d\\u043a\\u0442 \\u043f\\u0435\\u0442\\u0435\\u0440\\u0431\\u0443\\u0440\\u0433\",\"\\u0433\\u043e\\u0440\\u044f\\u0449\\u0438\\u0435 \\u0442\\u0443\\u0440\\u044b\",\"\\u041c\\u0443\\u0437\\u0435\\u0439 \\u0438\\u0441\\u0442\\u043e\\u0440\\u0438\\u0438 \\u0421\\u0430\\u043d\\u043a\\u0442-\\u041f\\u0435\\u0442\\u0435\\u0440\\u0431\\u0443\\u0440\\u0433\\u0430\"],\"xaxis\":\"x\",\"y\":[831,23,16,8,6,6,6,5,4,4,4,4,4,4,3,3,3,3,3,3],\"yaxis\":\"y\",\"type\":\"bar\"}],                        {\"template\":{\"data\":{\"histogram2dcontour\":[{\"type\":\"histogram2dcontour\",\"colorbar\":{\"outlinewidth\":0,\"ticks\":\"\"},\"colorscale\":[[0.0,\"#0d0887\"],[0.1111111111111111,\"#46039f\"],[0.2222222222222222,\"#7201a8\"],[0.3333333333333333,\"#9c179e\"],[0.4444444444444444,\"#bd3786\"],[0.5555555555555556,\"#d8576b\"],[0.6666666666666666,\"#ed7953\"],[0.7777777777777778,\"#fb9f3a\"],[0.8888888888888888,\"#fdca26\"],[1.0,\"#f0f921\"]]}],\"choropleth\":[{\"type\":\"choropleth\",\"colorbar\":{\"outlinewidth\":0,\"ticks\":\"\"}}],\"histogram2d\":[{\"type\":\"histogram2d\",\"colorbar\":{\"outlinewidth\":0,\"ticks\":\"\"},\"colorscale\":[[0.0,\"#0d0887\"],[0.1111111111111111,\"#46039f\"],[0.2222222222222222,\"#7201a8\"],[0.3333333333333333,\"#9c179e\"],[0.4444444444444444,\"#bd3786\"],[0.5555555555555556,\"#d8576b\"],[0.6666666666666666,\"#ed7953\"],[0.7777777777777778,\"#fb9f3a\"],[0.8888888888888888,\"#fdca26\"],[1.0,\"#f0f921\"]]}],\"heatmap\":[{\"type\":\"heatmap\",\"colorbar\":{\"outlinewidth\":0,\"ticks\":\"\"},\"colorscale\":[[0.0,\"#0d0887\"],[0.1111111111111111,\"#46039f\"],[0.2222222222222222,\"#7201a8\"],[0.3333333333333333,\"#9c179e\"],[0.4444444444444444,\"#bd3786\"],[0.5555555555555556,\"#d8576b\"],[0.6666666666666666,\"#ed7953\"],[0.7777777777777778,\"#fb9f3a\"],[0.8888888888888888,\"#fdca26\"],[1.0,\"#f0f921\"]]}],\"heatmapgl\":[{\"type\":\"heatmapgl\",\"colorbar\":{\"outlinewidth\":0,\"ticks\":\"\"},\"colorscale\":[[0.0,\"#0d0887\"],[0.1111111111111111,\"#46039f\"],[0.2222222222222222,\"#7201a8\"],[0.3333333333333333,\"#9c179e\"],[0.4444444444444444,\"#bd3786\"],[0.5555555555555556,\"#d8576b\"],[0.6666666666666666,\"#ed7953\"],[0.7777777777777778,\"#fb9f3a\"],[0.8888888888888888,\"#fdca26\"],[1.0,\"#f0f921\"]]}],\"contourcarpet\":[{\"type\":\"contourcarpet\",\"colorbar\":{\"outlinewidth\":0,\"ticks\":\"\"}}],\"contour\":[{\"type\":\"contour\",\"colorbar\":{\"outlinewidth\":0,\"ticks\":\"\"},\"colorscale\":[[0.0,\"#0d0887\"],[0.1111111111111111,\"#46039f\"],[0.2222222222222222,\"#7201a8\"],[0.3333333333333333,\"#9c179e\"],[0.4444444444444444,\"#bd3786\"],[0.5555555555555556,\"#d8576b\"],[0.6666666666666666,\"#ed7953\"],[0.7777777777777778,\"#fb9f3a\"],[0.8888888888888888,\"#fdca26\"],[1.0,\"#f0f921\"]]}],\"surface\":[{\"type\":\"surface\",\"colorbar\":{\"outlinewidth\":0,\"ticks\":\"\"},\"colorscale\":[[0.0,\"#0d0887\"],[0.1111111111111111,\"#46039f\"],[0.2222222222222222,\"#7201a8\"],[0.3333333333333333,\"#9c179e\"],[0.4444444444444444,\"#bd3786\"],[0.5555555555555556,\"#d8576b\"],[0.6666666666666666,\"#ed7953\"],[0.7777777777777778,\"#fb9f3a\"],[0.8888888888888888,\"#fdca26\"],[1.0,\"#f0f921\"]]}],\"mesh3d\":[{\"type\":\"mesh3d\",\"colorbar\":{\"outlinewidth\":0,\"ticks\":\"\"}}],\"scatter\":[{\"fillpattern\":{\"fillmode\":\"overlay\",\"size\":10,\"solidity\":0.2},\"type\":\"scatter\"}],\"parcoords\":[{\"type\":\"parcoords\",\"line\":{\"colorbar\":{\"outlinewidth\":0,\"ticks\":\"\"}}}],\"scatterpolargl\":[{\"type\":\"scatterpolargl\",\"marker\":{\"colorbar\":{\"outlinewidth\":0,\"ticks\":\"\"}}}],\"bar\":[{\"error_x\":{\"color\":\"#2a3f5f\"},\"error_y\":{\"color\":\"#2a3f5f\"},\"marker\":{\"line\":{\"color\":\"#E5ECF6\",\"width\":0.5},\"pattern\":{\"fillmode\":\"overlay\",\"size\":10,\"solidity\":0.2}},\"type\":\"bar\"}],\"scattergeo\":[{\"type\":\"scattergeo\",\"marker\":{\"colorbar\":{\"outlinewidth\":0,\"ticks\":\"\"}}}],\"scatterpolar\":[{\"type\":\"scatterpolar\",\"marker\":{\"colorbar\":{\"outlinewidth\":0,\"ticks\":\"\"}}}],\"histogram\":[{\"marker\":{\"pattern\":{\"fillmode\":\"overlay\",\"size\":10,\"solidity\":0.2}},\"type\":\"histogram\"}],\"scattergl\":[{\"type\":\"scattergl\",\"marker\":{\"colorbar\":{\"outlinewidth\":0,\"ticks\":\"\"}}}],\"scatter3d\":[{\"type\":\"scatter3d\",\"line\":{\"colorbar\":{\"outlinewidth\":0,\"ticks\":\"\"}},\"marker\":{\"colorbar\":{\"outlinewidth\":0,\"ticks\":\"\"}}}],\"scattermapbox\":[{\"type\":\"scattermapbox\",\"marker\":{\"colorbar\":{\"outlinewidth\":0,\"ticks\":\"\"}}}],\"scatterternary\":[{\"type\":\"scatterternary\",\"marker\":{\"colorbar\":{\"outlinewidth\":0,\"ticks\":\"\"}}}],\"scattercarpet\":[{\"type\":\"scattercarpet\",\"marker\":{\"colorbar\":{\"outlinewidth\":0,\"ticks\":\"\"}}}],\"carpet\":[{\"aaxis\":{\"endlinecolor\":\"#2a3f5f\",\"gridcolor\":\"white\",\"linecolor\":\"white\",\"minorgridcolor\":\"white\",\"startlinecolor\":\"#2a3f5f\"},\"baxis\":{\"endlinecolor\":\"#2a3f5f\",\"gridcolor\":\"white\",\"linecolor\":\"white\",\"minorgridcolor\":\"white\",\"startlinecolor\":\"#2a3f5f\"},\"type\":\"carpet\"}],\"table\":[{\"cells\":{\"fill\":{\"color\":\"#EBF0F8\"},\"line\":{\"color\":\"white\"}},\"header\":{\"fill\":{\"color\":\"#C8D4E3\"},\"line\":{\"color\":\"white\"}},\"type\":\"table\"}],\"barpolar\":[{\"marker\":{\"line\":{\"color\":\"#E5ECF6\",\"width\":0.5},\"pattern\":{\"fillmode\":\"overlay\",\"size\":10,\"solidity\":0.2}},\"type\":\"barpolar\"}],\"pie\":[{\"automargin\":true,\"type\":\"pie\"}]},\"layout\":{\"autotypenumbers\":\"strict\",\"colorway\":[\"#636efa\",\"#EF553B\",\"#00cc96\",\"#ab63fa\",\"#FFA15A\",\"#19d3f3\",\"#FF6692\",\"#B6E880\",\"#FF97FF\",\"#FECB52\"],\"font\":{\"color\":\"#2a3f5f\"},\"hovermode\":\"closest\",\"hoverlabel\":{\"align\":\"left\"},\"paper_bgcolor\":\"white\",\"plot_bgcolor\":\"#E5ECF6\",\"polar\":{\"bgcolor\":\"#E5ECF6\",\"angularaxis\":{\"gridcolor\":\"white\",\"linecolor\":\"white\",\"ticks\":\"\"},\"radialaxis\":{\"gridcolor\":\"white\",\"linecolor\":\"white\",\"ticks\":\"\"}},\"ternary\":{\"bgcolor\":\"#E5ECF6\",\"aaxis\":{\"gridcolor\":\"white\",\"linecolor\":\"white\",\"ticks\":\"\"},\"baxis\":{\"gridcolor\":\"white\",\"linecolor\":\"white\",\"ticks\":\"\"},\"caxis\":{\"gridcolor\":\"white\",\"linecolor\":\"white\",\"ticks\":\"\"}},\"coloraxis\":{\"colorbar\":{\"outlinewidth\":0,\"ticks\":\"\"}},\"colorscale\":{\"sequential\":[[0.0,\"#0d0887\"],[0.1111111111111111,\"#46039f\"],[0.2222222222222222,\"#7201a8\"],[0.3333333333333333,\"#9c179e\"],[0.4444444444444444,\"#bd3786\"],[0.5555555555555556,\"#d8576b\"],[0.6666666666666666,\"#ed7953\"],[0.7777777777777778,\"#fb9f3a\"],[0.8888888888888888,\"#fdca26\"],[1.0,\"#f0f921\"]],\"sequentialminus\":[[0.0,\"#0d0887\"],[0.1111111111111111,\"#46039f\"],[0.2222222222222222,\"#7201a8\"],[0.3333333333333333,\"#9c179e\"],[0.4444444444444444,\"#bd3786\"],[0.5555555555555556,\"#d8576b\"],[0.6666666666666666,\"#ed7953\"],[0.7777777777777778,\"#fb9f3a\"],[0.8888888888888888,\"#fdca26\"],[1.0,\"#f0f921\"]],\"diverging\":[[0,\"#8e0152\"],[0.1,\"#c51b7d\"],[0.2,\"#de77ae\"],[0.3,\"#f1b6da\"],[0.4,\"#fde0ef\"],[0.5,\"#f7f7f7\"],[0.6,\"#e6f5d0\"],[0.7,\"#b8e186\"],[0.8,\"#7fbc41\"],[0.9,\"#4d9221\"],[1,\"#276419\"]]},\"xaxis\":{\"gridcolor\":\"white\",\"linecolor\":\"white\",\"ticks\":\"\",\"title\":{\"standoff\":15},\"zerolinecolor\":\"white\",\"automargin\":true,\"zerolinewidth\":2},\"yaxis\":{\"gridcolor\":\"white\",\"linecolor\":\"white\",\"ticks\":\"\",\"title\":{\"standoff\":15},\"zerolinecolor\":\"white\",\"automargin\":true,\"zerolinewidth\":2},\"scene\":{\"xaxis\":{\"backgroundcolor\":\"#E5ECF6\",\"gridcolor\":\"white\",\"linecolor\":\"white\",\"showbackground\":true,\"ticks\":\"\",\"zerolinecolor\":\"white\",\"gridwidth\":2},\"yaxis\":{\"backgroundcolor\":\"#E5ECF6\",\"gridcolor\":\"white\",\"linecolor\":\"white\",\"showbackground\":true,\"ticks\":\"\",\"zerolinecolor\":\"white\",\"gridwidth\":2},\"zaxis\":{\"backgroundcolor\":\"#E5ECF6\",\"gridcolor\":\"white\",\"linecolor\":\"white\",\"showbackground\":true,\"ticks\":\"\",\"zerolinecolor\":\"white\",\"gridwidth\":2}},\"shapedefaults\":{\"line\":{\"color\":\"#2a3f5f\"}},\"annotationdefaults\":{\"arrowcolor\":\"#2a3f5f\",\"arrowhead\":0,\"arrowwidth\":1},\"geo\":{\"bgcolor\":\"white\",\"landcolor\":\"#E5ECF6\",\"subunitcolor\":\"white\",\"showland\":true,\"showlakes\":true,\"lakecolor\":\"white\"},\"title\":{\"x\":0.05},\"mapbox\":{\"style\":\"light\"}}},\"xaxis\":{\"anchor\":\"y\",\"domain\":[0.0,1.0],\"title\":{\"text\":\"condition_showed\"}},\"yaxis\":{\"anchor\":\"x\",\"domain\":[0.0,1.0],\"title\":{\"text\":\"clicks\"}},\"coloraxis\":{\"colorbar\":{\"title\":{\"text\":\"ctr_perc\"}},\"colorscale\":[[0.0,\"#0d0887\"],[0.1111111111111111,\"#46039f\"],[0.2222222222222222,\"#7201a8\"],[0.3333333333333333,\"#9c179e\"],[0.4444444444444444,\"#bd3786\"],[0.5555555555555556,\"#d8576b\"],[0.6666666666666666,\"#ed7953\"],[0.7777777777777778,\"#fb9f3a\"],[0.8888888888888888,\"#fdca26\"],[1.0,\"#f0f921\"]]},\"legend\":{\"tracegroupgap\":0},\"margin\":{\"t\":60},\"barmode\":\"relative\",\"height\":700,\"width\":1100,\"title\":{\"text\":\"\\u0412\\u0441\\u0435 \\u0443\\u0441\\u043b\\u043e\\u0432\\u0438\\u044f \\u043f\\u043e\\u043a\\u0430\\u0437\\u0430 \\u0441 \\u0441\\u043e\\u0432\\u0435\\u0440\\u0448\\u0435\\u043d\\u043d\\u044b\\u043c \\u0446\\u0435\\u043b\\u0435\\u0432\\u044b\\u043c \\u0434\\u0435\\u0439\\u0441\\u0442\\u0432\\u0438\\u0435\\u043c\"},\"annotations\":[{\"font\":{\"size\":14},\"showarrow\":false,\"text\":\"\\u0418\\u043d\\u0442\\u0435\\u043d\\u0441\\u0438\\u0432\\u043d\\u043e\\u0441\\u0442\\u044c \\u0446\\u0432\\u0435\\u0442\\u0430 \\u0441\\u043e\\u043e\\u0442\\u0432\\u0435\\u0442\\u0441\\u0442\\u0432\\u0443\\u0435\\u0442 \\u043a\\u043e\\u043d\\u0432\\u0435\\u0440\\u0441\\u0438\\u0438 \\u043f\\u043e\\u043a\\u0430\\u0437\\u0430 \\u0432 \\u043a\\u043b\\u0438\\u043a\",\"x\":0.5,\"xref\":\"paper\",\"y\":0.99,\"yref\":\"paper\"}]},                        {\"responsive\": true}                    ).then(function(){\n",
              "                            \n",
              "var gd = document.getElementById('07be17c4-ecfb-4463-a347-12b22cfd9410');\n",
              "var x = new MutationObserver(function (mutations, observer) {{\n",
              "        var display = window.getComputedStyle(gd).display;\n",
              "        if (!display || display === 'none') {{\n",
              "            console.log([gd, 'removed!']);\n",
              "            Plotly.purge(gd);\n",
              "            observer.disconnect();\n",
              "        }}\n",
              "}});\n",
              "\n",
              "// Listen for the removal of the full notebook cells\n",
              "var notebookContainer = gd.closest('#notebook-container');\n",
              "if (notebookContainer) {{\n",
              "    x.observe(notebookContainer, {childList: true});\n",
              "}}\n",
              "\n",
              "// Listen for the clearing of the current output cell\n",
              "var outputEl = gd.closest('.output');\n",
              "if (outputEl) {{\n",
              "    x.observe(outputEl, {childList: true});\n",
              "}}\n",
              "\n",
              "                        })                };                            </script>        </div>\n",
              "</body>\n",
              "</html>"
            ]
          },
          "metadata": {}
        }
      ]
    },
    {
      "cell_type": "markdown",
      "source": [
        "Почти все клики с совершенным целевым действием были сделаны при условие показа **autotargeting**.   \n",
        "Из всех остальных строк фигурируют условия показа, связанные с **погодой**."
      ],
      "metadata": {
        "id": "Uvy-UYwinRud"
      }
    },
    {
      "cell_type": "code",
      "source": [
        "px_ctr_blue(conversion, 'age', 'shows', 'clicks', 'shows', 'Конверсия показов в клик по параметру \"Возраст\"', 600, 800)"
      ],
      "metadata": {
        "colab": {
          "base_uri": "https://localhost:8080/",
          "height": 617
        },
        "id": "d6JtvG1Jp_7W",
        "outputId": "8c4116e0-ad73-4737-d21e-a9bcc33ab637"
      },
      "execution_count": null,
      "outputs": [
        {
          "output_type": "display_data",
          "data": {
            "text/html": [
              "<html>\n",
              "<head><meta charset=\"utf-8\" /></head>\n",
              "<body>\n",
              "    <div>            <script src=\"https://cdnjs.cloudflare.com/ajax/libs/mathjax/2.7.5/MathJax.js?config=TeX-AMS-MML_SVG\"></script><script type=\"text/javascript\">if (window.MathJax && window.MathJax.Hub && window.MathJax.Hub.Config) {window.MathJax.Hub.Config({SVG: {font: \"STIX-Web\"}});}</script>                <script type=\"text/javascript\">window.PlotlyConfig = {MathJaxConfig: 'local'};</script>\n",
              "        <script charset=\"utf-8\" src=\"https://cdn.plot.ly/plotly-2.24.1.min.js\"></script>                <div id=\"cb223fdf-2a25-4ff9-9b97-02e97fcec8c9\" class=\"plotly-graph-div\" style=\"height:600px; width:800px;\"></div>            <script type=\"text/javascript\">                                    window.PLOTLYENV=window.PLOTLYENV || {};                                    if (document.getElementById(\"cb223fdf-2a25-4ff9-9b97-02e97fcec8c9\")) {                    Plotly.newPlot(                        \"cb223fdf-2a25-4ff9-9b97-02e97fcec8c9\",                        [{\"alignmentgroup\":\"True\",\"hovertemplate\":\"age=%{x}\\u003cbr\\u003ectr_perc=%{y}\\u003cbr\\u003eshows=%{marker.color}\\u003cextra\\u003e\\u003c\\u002fextra\\u003e\",\"legendgroup\":\"\",\"marker\":{\"color\":[339,50943,37821,66185,1042,7791,61642],\"coloraxis\":\"coloraxis\",\"pattern\":{\"shape\":\"\"}},\"name\":\"\",\"offsetgroup\":\"\",\"orientation\":\"v\",\"showlegend\":false,\"textposition\":\"auto\",\"x\":[\"\\u043d\\u0435 \\u043e\\u043f\\u0440\\u0435\\u0434\\u0435\\u043b\\u0435\\u043d\",\"\\u0441\\u0442\\u0430\\u0440\\u0448\\u0435 55\",\"45-54\",\"35-44\",\"\\u043c\\u043b\\u0430\\u0434\\u0448\\u0435 18\",\"18-24\",\"25-34\"],\"xaxis\":\"x\",\"y\":[3.24,0.73,0.48,0.4,0.38,0.36,0.33],\"yaxis\":\"y\",\"type\":\"bar\"}],                        {\"template\":{\"data\":{\"histogram2dcontour\":[{\"type\":\"histogram2dcontour\",\"colorbar\":{\"outlinewidth\":0,\"ticks\":\"\"},\"colorscale\":[[0.0,\"#0d0887\"],[0.1111111111111111,\"#46039f\"],[0.2222222222222222,\"#7201a8\"],[0.3333333333333333,\"#9c179e\"],[0.4444444444444444,\"#bd3786\"],[0.5555555555555556,\"#d8576b\"],[0.6666666666666666,\"#ed7953\"],[0.7777777777777778,\"#fb9f3a\"],[0.8888888888888888,\"#fdca26\"],[1.0,\"#f0f921\"]]}],\"choropleth\":[{\"type\":\"choropleth\",\"colorbar\":{\"outlinewidth\":0,\"ticks\":\"\"}}],\"histogram2d\":[{\"type\":\"histogram2d\",\"colorbar\":{\"outlinewidth\":0,\"ticks\":\"\"},\"colorscale\":[[0.0,\"#0d0887\"],[0.1111111111111111,\"#46039f\"],[0.2222222222222222,\"#7201a8\"],[0.3333333333333333,\"#9c179e\"],[0.4444444444444444,\"#bd3786\"],[0.5555555555555556,\"#d8576b\"],[0.6666666666666666,\"#ed7953\"],[0.7777777777777778,\"#fb9f3a\"],[0.8888888888888888,\"#fdca26\"],[1.0,\"#f0f921\"]]}],\"heatmap\":[{\"type\":\"heatmap\",\"colorbar\":{\"outlinewidth\":0,\"ticks\":\"\"},\"colorscale\":[[0.0,\"#0d0887\"],[0.1111111111111111,\"#46039f\"],[0.2222222222222222,\"#7201a8\"],[0.3333333333333333,\"#9c179e\"],[0.4444444444444444,\"#bd3786\"],[0.5555555555555556,\"#d8576b\"],[0.6666666666666666,\"#ed7953\"],[0.7777777777777778,\"#fb9f3a\"],[0.8888888888888888,\"#fdca26\"],[1.0,\"#f0f921\"]]}],\"heatmapgl\":[{\"type\":\"heatmapgl\",\"colorbar\":{\"outlinewidth\":0,\"ticks\":\"\"},\"colorscale\":[[0.0,\"#0d0887\"],[0.1111111111111111,\"#46039f\"],[0.2222222222222222,\"#7201a8\"],[0.3333333333333333,\"#9c179e\"],[0.4444444444444444,\"#bd3786\"],[0.5555555555555556,\"#d8576b\"],[0.6666666666666666,\"#ed7953\"],[0.7777777777777778,\"#fb9f3a\"],[0.8888888888888888,\"#fdca26\"],[1.0,\"#f0f921\"]]}],\"contourcarpet\":[{\"type\":\"contourcarpet\",\"colorbar\":{\"outlinewidth\":0,\"ticks\":\"\"}}],\"contour\":[{\"type\":\"contour\",\"colorbar\":{\"outlinewidth\":0,\"ticks\":\"\"},\"colorscale\":[[0.0,\"#0d0887\"],[0.1111111111111111,\"#46039f\"],[0.2222222222222222,\"#7201a8\"],[0.3333333333333333,\"#9c179e\"],[0.4444444444444444,\"#bd3786\"],[0.5555555555555556,\"#d8576b\"],[0.6666666666666666,\"#ed7953\"],[0.7777777777777778,\"#fb9f3a\"],[0.8888888888888888,\"#fdca26\"],[1.0,\"#f0f921\"]]}],\"surface\":[{\"type\":\"surface\",\"colorbar\":{\"outlinewidth\":0,\"ticks\":\"\"},\"colorscale\":[[0.0,\"#0d0887\"],[0.1111111111111111,\"#46039f\"],[0.2222222222222222,\"#7201a8\"],[0.3333333333333333,\"#9c179e\"],[0.4444444444444444,\"#bd3786\"],[0.5555555555555556,\"#d8576b\"],[0.6666666666666666,\"#ed7953\"],[0.7777777777777778,\"#fb9f3a\"],[0.8888888888888888,\"#fdca26\"],[1.0,\"#f0f921\"]]}],\"mesh3d\":[{\"type\":\"mesh3d\",\"colorbar\":{\"outlinewidth\":0,\"ticks\":\"\"}}],\"scatter\":[{\"fillpattern\":{\"fillmode\":\"overlay\",\"size\":10,\"solidity\":0.2},\"type\":\"scatter\"}],\"parcoords\":[{\"type\":\"parcoords\",\"line\":{\"colorbar\":{\"outlinewidth\":0,\"ticks\":\"\"}}}],\"scatterpolargl\":[{\"type\":\"scatterpolargl\",\"marker\":{\"colorbar\":{\"outlinewidth\":0,\"ticks\":\"\"}}}],\"bar\":[{\"error_x\":{\"color\":\"#2a3f5f\"},\"error_y\":{\"color\":\"#2a3f5f\"},\"marker\":{\"line\":{\"color\":\"#E5ECF6\",\"width\":0.5},\"pattern\":{\"fillmode\":\"overlay\",\"size\":10,\"solidity\":0.2}},\"type\":\"bar\"}],\"scattergeo\":[{\"type\":\"scattergeo\",\"marker\":{\"colorbar\":{\"outlinewidth\":0,\"ticks\":\"\"}}}],\"scatterpolar\":[{\"type\":\"scatterpolar\",\"marker\":{\"colorbar\":{\"outlinewidth\":0,\"ticks\":\"\"}}}],\"histogram\":[{\"marker\":{\"pattern\":{\"fillmode\":\"overlay\",\"size\":10,\"solidity\":0.2}},\"type\":\"histogram\"}],\"scattergl\":[{\"type\":\"scattergl\",\"marker\":{\"colorbar\":{\"outlinewidth\":0,\"ticks\":\"\"}}}],\"scatter3d\":[{\"type\":\"scatter3d\",\"line\":{\"colorbar\":{\"outlinewidth\":0,\"ticks\":\"\"}},\"marker\":{\"colorbar\":{\"outlinewidth\":0,\"ticks\":\"\"}}}],\"scattermapbox\":[{\"type\":\"scattermapbox\",\"marker\":{\"colorbar\":{\"outlinewidth\":0,\"ticks\":\"\"}}}],\"scatterternary\":[{\"type\":\"scatterternary\",\"marker\":{\"colorbar\":{\"outlinewidth\":0,\"ticks\":\"\"}}}],\"scattercarpet\":[{\"type\":\"scattercarpet\",\"marker\":{\"colorbar\":{\"outlinewidth\":0,\"ticks\":\"\"}}}],\"carpet\":[{\"aaxis\":{\"endlinecolor\":\"#2a3f5f\",\"gridcolor\":\"white\",\"linecolor\":\"white\",\"minorgridcolor\":\"white\",\"startlinecolor\":\"#2a3f5f\"},\"baxis\":{\"endlinecolor\":\"#2a3f5f\",\"gridcolor\":\"white\",\"linecolor\":\"white\",\"minorgridcolor\":\"white\",\"startlinecolor\":\"#2a3f5f\"},\"type\":\"carpet\"}],\"table\":[{\"cells\":{\"fill\":{\"color\":\"#EBF0F8\"},\"line\":{\"color\":\"white\"}},\"header\":{\"fill\":{\"color\":\"#C8D4E3\"},\"line\":{\"color\":\"white\"}},\"type\":\"table\"}],\"barpolar\":[{\"marker\":{\"line\":{\"color\":\"#E5ECF6\",\"width\":0.5},\"pattern\":{\"fillmode\":\"overlay\",\"size\":10,\"solidity\":0.2}},\"type\":\"barpolar\"}],\"pie\":[{\"automargin\":true,\"type\":\"pie\"}]},\"layout\":{\"autotypenumbers\":\"strict\",\"colorway\":[\"#636efa\",\"#EF553B\",\"#00cc96\",\"#ab63fa\",\"#FFA15A\",\"#19d3f3\",\"#FF6692\",\"#B6E880\",\"#FF97FF\",\"#FECB52\"],\"font\":{\"color\":\"#2a3f5f\"},\"hovermode\":\"closest\",\"hoverlabel\":{\"align\":\"left\"},\"paper_bgcolor\":\"white\",\"plot_bgcolor\":\"#E5ECF6\",\"polar\":{\"bgcolor\":\"#E5ECF6\",\"angularaxis\":{\"gridcolor\":\"white\",\"linecolor\":\"white\",\"ticks\":\"\"},\"radialaxis\":{\"gridcolor\":\"white\",\"linecolor\":\"white\",\"ticks\":\"\"}},\"ternary\":{\"bgcolor\":\"#E5ECF6\",\"aaxis\":{\"gridcolor\":\"white\",\"linecolor\":\"white\",\"ticks\":\"\"},\"baxis\":{\"gridcolor\":\"white\",\"linecolor\":\"white\",\"ticks\":\"\"},\"caxis\":{\"gridcolor\":\"white\",\"linecolor\":\"white\",\"ticks\":\"\"}},\"coloraxis\":{\"colorbar\":{\"outlinewidth\":0,\"ticks\":\"\"}},\"colorscale\":{\"sequential\":[[0.0,\"#0d0887\"],[0.1111111111111111,\"#46039f\"],[0.2222222222222222,\"#7201a8\"],[0.3333333333333333,\"#9c179e\"],[0.4444444444444444,\"#bd3786\"],[0.5555555555555556,\"#d8576b\"],[0.6666666666666666,\"#ed7953\"],[0.7777777777777778,\"#fb9f3a\"],[0.8888888888888888,\"#fdca26\"],[1.0,\"#f0f921\"]],\"sequentialminus\":[[0.0,\"#0d0887\"],[0.1111111111111111,\"#46039f\"],[0.2222222222222222,\"#7201a8\"],[0.3333333333333333,\"#9c179e\"],[0.4444444444444444,\"#bd3786\"],[0.5555555555555556,\"#d8576b\"],[0.6666666666666666,\"#ed7953\"],[0.7777777777777778,\"#fb9f3a\"],[0.8888888888888888,\"#fdca26\"],[1.0,\"#f0f921\"]],\"diverging\":[[0,\"#8e0152\"],[0.1,\"#c51b7d\"],[0.2,\"#de77ae\"],[0.3,\"#f1b6da\"],[0.4,\"#fde0ef\"],[0.5,\"#f7f7f7\"],[0.6,\"#e6f5d0\"],[0.7,\"#b8e186\"],[0.8,\"#7fbc41\"],[0.9,\"#4d9221\"],[1,\"#276419\"]]},\"xaxis\":{\"gridcolor\":\"white\",\"linecolor\":\"white\",\"ticks\":\"\",\"title\":{\"standoff\":15},\"zerolinecolor\":\"white\",\"automargin\":true,\"zerolinewidth\":2},\"yaxis\":{\"gridcolor\":\"white\",\"linecolor\":\"white\",\"ticks\":\"\",\"title\":{\"standoff\":15},\"zerolinecolor\":\"white\",\"automargin\":true,\"zerolinewidth\":2},\"scene\":{\"xaxis\":{\"backgroundcolor\":\"#E5ECF6\",\"gridcolor\":\"white\",\"linecolor\":\"white\",\"showbackground\":true,\"ticks\":\"\",\"zerolinecolor\":\"white\",\"gridwidth\":2},\"yaxis\":{\"backgroundcolor\":\"#E5ECF6\",\"gridcolor\":\"white\",\"linecolor\":\"white\",\"showbackground\":true,\"ticks\":\"\",\"zerolinecolor\":\"white\",\"gridwidth\":2},\"zaxis\":{\"backgroundcolor\":\"#E5ECF6\",\"gridcolor\":\"white\",\"linecolor\":\"white\",\"showbackground\":true,\"ticks\":\"\",\"zerolinecolor\":\"white\",\"gridwidth\":2}},\"shapedefaults\":{\"line\":{\"color\":\"#2a3f5f\"}},\"annotationdefaults\":{\"arrowcolor\":\"#2a3f5f\",\"arrowhead\":0,\"arrowwidth\":1},\"geo\":{\"bgcolor\":\"white\",\"landcolor\":\"#E5ECF6\",\"subunitcolor\":\"white\",\"showland\":true,\"showlakes\":true,\"lakecolor\":\"white\"},\"title\":{\"x\":0.05},\"mapbox\":{\"style\":\"light\"}}},\"xaxis\":{\"anchor\":\"y\",\"domain\":[0.0,1.0],\"title\":{\"text\":\"age\"}},\"yaxis\":{\"anchor\":\"x\",\"domain\":[0.0,1.0],\"title\":{\"text\":\"ctr_perc\"}},\"coloraxis\":{\"colorbar\":{\"title\":{\"text\":\"shows\"}},\"colorscale\":[[0.0,\"rgb(247,251,255)\"],[0.125,\"rgb(222,235,247)\"],[0.25,\"rgb(198,219,239)\"],[0.375,\"rgb(158,202,225)\"],[0.5,\"rgb(107,174,214)\"],[0.625,\"rgb(66,146,198)\"],[0.75,\"rgb(33,113,181)\"],[0.875,\"rgb(8,81,156)\"],[1.0,\"rgb(8,48,107)\"]]},\"legend\":{\"tracegroupgap\":0},\"margin\":{\"t\":60},\"barmode\":\"relative\",\"height\":600,\"width\":800,\"title\":{\"text\":\"\\u041a\\u043e\\u043d\\u0432\\u0435\\u0440\\u0441\\u0438\\u044f \\u043f\\u043e\\u043a\\u0430\\u0437\\u043e\\u0432 \\u0432 \\u043a\\u043b\\u0438\\u043a \\u043f\\u043e \\u043f\\u0430\\u0440\\u0430\\u043c\\u0435\\u0442\\u0440\\u0443 \\\"\\u0412\\u043e\\u0437\\u0440\\u0430\\u0441\\u0442\\\"\"},\"annotations\":[{\"font\":{\"size\":14},\"showarrow\":false,\"text\":\"\\u0418\\u043d\\u0442\\u0435\\u043d\\u0441\\u0438\\u0432\\u043d\\u043e\\u0441\\u0442\\u044c \\u0446\\u0432\\u0435\\u0442\\u0430 \\u0441\\u043e\\u043e\\u0442\\u0432\\u0435\\u0442\\u0441\\u0442\\u0432\\u0443\\u0435\\u0442 \\u0447\\u0438\\u0441\\u043b\\u0443 \\u043f\\u043e\\u043a\\u0430\\u0437\\u043e\\u0432\",\"x\":0.5,\"xref\":\"paper\",\"y\":1,\"yref\":\"paper\"}]},                        {\"responsive\": true}                    ).then(function(){\n",
              "                            \n",
              "var gd = document.getElementById('cb223fdf-2a25-4ff9-9b97-02e97fcec8c9');\n",
              "var x = new MutationObserver(function (mutations, observer) {{\n",
              "        var display = window.getComputedStyle(gd).display;\n",
              "        if (!display || display === 'none') {{\n",
              "            console.log([gd, 'removed!']);\n",
              "            Plotly.purge(gd);\n",
              "            observer.disconnect();\n",
              "        }}\n",
              "}});\n",
              "\n",
              "// Listen for the removal of the full notebook cells\n",
              "var notebookContainer = gd.closest('#notebook-container');\n",
              "if (notebookContainer) {{\n",
              "    x.observe(notebookContainer, {childList: true});\n",
              "}}\n",
              "\n",
              "// Listen for the clearing of the current output cell\n",
              "var outputEl = gd.closest('.output');\n",
              "if (outputEl) {{\n",
              "    x.observe(outputEl, {childList: true});\n",
              "}}\n",
              "\n",
              "                        })                };                            </script>        </div>\n",
              "</body>\n",
              "</html>"
            ]
          },
          "metadata": {}
        }
      ]
    },
    {
      "cell_type": "code",
      "source": [
        "px_ctr_blue(conversion, 'gender', 'shows', 'clicks', 'shows', 'Конверсия показов в клик по параметру \"Пол\"', 600, 800)"
      ],
      "metadata": {
        "colab": {
          "base_uri": "https://localhost:8080/",
          "height": 617
        },
        "id": "YUfZS0EXpdtV",
        "outputId": "798a368a-ffc6-4831-bdc2-fbbd7771b943"
      },
      "execution_count": null,
      "outputs": [
        {
          "output_type": "display_data",
          "data": {
            "text/html": [
              "<html>\n",
              "<head><meta charset=\"utf-8\" /></head>\n",
              "<body>\n",
              "    <div>            <script src=\"https://cdnjs.cloudflare.com/ajax/libs/mathjax/2.7.5/MathJax.js?config=TeX-AMS-MML_SVG\"></script><script type=\"text/javascript\">if (window.MathJax && window.MathJax.Hub && window.MathJax.Hub.Config) {window.MathJax.Hub.Config({SVG: {font: \"STIX-Web\"}});}</script>                <script type=\"text/javascript\">window.PlotlyConfig = {MathJaxConfig: 'local'};</script>\n",
              "        <script charset=\"utf-8\" src=\"https://cdn.plot.ly/plotly-2.24.1.min.js\"></script>                <div id=\"aa219cba-fb7a-4b58-9b88-800c6eecf57f\" class=\"plotly-graph-div\" style=\"height:600px; width:800px;\"></div>            <script type=\"text/javascript\">                                    window.PLOTLYENV=window.PLOTLYENV || {};                                    if (document.getElementById(\"aa219cba-fb7a-4b58-9b88-800c6eecf57f\")) {                    Plotly.newPlot(                        \"aa219cba-fb7a-4b58-9b88-800c6eecf57f\",                        [{\"alignmentgroup\":\"True\",\"hovertemplate\":\"gender=%{x}\\u003cbr\\u003ectr_perc=%{y}\\u003cbr\\u003eshows=%{marker.color}\\u003cextra\\u003e\\u003c\\u002fextra\\u003e\",\"legendgroup\":\"\",\"marker\":{\"color\":[38,60834,164891],\"coloraxis\":\"coloraxis\",\"pattern\":{\"shape\":\"\"}},\"name\":\"\",\"offsetgroup\":\"\",\"orientation\":\"v\",\"showlegend\":false,\"textposition\":\"auto\",\"x\":[\"\\u043d\\u0435 \\u043e\\u043f\\u0440\\u0435\\u0434\\u0435\\u043b\\u0435\\u043d\",\"\\u043c\\u0443\\u0436\\u0441\\u043a\\u043e\\u0439\",\"\\u0436\\u0435\\u043d\\u0441\\u043a\\u0438\\u0439\"],\"xaxis\":\"x\",\"y\":[13.16,0.51,0.45],\"yaxis\":\"y\",\"type\":\"bar\"}],                        {\"template\":{\"data\":{\"histogram2dcontour\":[{\"type\":\"histogram2dcontour\",\"colorbar\":{\"outlinewidth\":0,\"ticks\":\"\"},\"colorscale\":[[0.0,\"#0d0887\"],[0.1111111111111111,\"#46039f\"],[0.2222222222222222,\"#7201a8\"],[0.3333333333333333,\"#9c179e\"],[0.4444444444444444,\"#bd3786\"],[0.5555555555555556,\"#d8576b\"],[0.6666666666666666,\"#ed7953\"],[0.7777777777777778,\"#fb9f3a\"],[0.8888888888888888,\"#fdca26\"],[1.0,\"#f0f921\"]]}],\"choropleth\":[{\"type\":\"choropleth\",\"colorbar\":{\"outlinewidth\":0,\"ticks\":\"\"}}],\"histogram2d\":[{\"type\":\"histogram2d\",\"colorbar\":{\"outlinewidth\":0,\"ticks\":\"\"},\"colorscale\":[[0.0,\"#0d0887\"],[0.1111111111111111,\"#46039f\"],[0.2222222222222222,\"#7201a8\"],[0.3333333333333333,\"#9c179e\"],[0.4444444444444444,\"#bd3786\"],[0.5555555555555556,\"#d8576b\"],[0.6666666666666666,\"#ed7953\"],[0.7777777777777778,\"#fb9f3a\"],[0.8888888888888888,\"#fdca26\"],[1.0,\"#f0f921\"]]}],\"heatmap\":[{\"type\":\"heatmap\",\"colorbar\":{\"outlinewidth\":0,\"ticks\":\"\"},\"colorscale\":[[0.0,\"#0d0887\"],[0.1111111111111111,\"#46039f\"],[0.2222222222222222,\"#7201a8\"],[0.3333333333333333,\"#9c179e\"],[0.4444444444444444,\"#bd3786\"],[0.5555555555555556,\"#d8576b\"],[0.6666666666666666,\"#ed7953\"],[0.7777777777777778,\"#fb9f3a\"],[0.8888888888888888,\"#fdca26\"],[1.0,\"#f0f921\"]]}],\"heatmapgl\":[{\"type\":\"heatmapgl\",\"colorbar\":{\"outlinewidth\":0,\"ticks\":\"\"},\"colorscale\":[[0.0,\"#0d0887\"],[0.1111111111111111,\"#46039f\"],[0.2222222222222222,\"#7201a8\"],[0.3333333333333333,\"#9c179e\"],[0.4444444444444444,\"#bd3786\"],[0.5555555555555556,\"#d8576b\"],[0.6666666666666666,\"#ed7953\"],[0.7777777777777778,\"#fb9f3a\"],[0.8888888888888888,\"#fdca26\"],[1.0,\"#f0f921\"]]}],\"contourcarpet\":[{\"type\":\"contourcarpet\",\"colorbar\":{\"outlinewidth\":0,\"ticks\":\"\"}}],\"contour\":[{\"type\":\"contour\",\"colorbar\":{\"outlinewidth\":0,\"ticks\":\"\"},\"colorscale\":[[0.0,\"#0d0887\"],[0.1111111111111111,\"#46039f\"],[0.2222222222222222,\"#7201a8\"],[0.3333333333333333,\"#9c179e\"],[0.4444444444444444,\"#bd3786\"],[0.5555555555555556,\"#d8576b\"],[0.6666666666666666,\"#ed7953\"],[0.7777777777777778,\"#fb9f3a\"],[0.8888888888888888,\"#fdca26\"],[1.0,\"#f0f921\"]]}],\"surface\":[{\"type\":\"surface\",\"colorbar\":{\"outlinewidth\":0,\"ticks\":\"\"},\"colorscale\":[[0.0,\"#0d0887\"],[0.1111111111111111,\"#46039f\"],[0.2222222222222222,\"#7201a8\"],[0.3333333333333333,\"#9c179e\"],[0.4444444444444444,\"#bd3786\"],[0.5555555555555556,\"#d8576b\"],[0.6666666666666666,\"#ed7953\"],[0.7777777777777778,\"#fb9f3a\"],[0.8888888888888888,\"#fdca26\"],[1.0,\"#f0f921\"]]}],\"mesh3d\":[{\"type\":\"mesh3d\",\"colorbar\":{\"outlinewidth\":0,\"ticks\":\"\"}}],\"scatter\":[{\"fillpattern\":{\"fillmode\":\"overlay\",\"size\":10,\"solidity\":0.2},\"type\":\"scatter\"}],\"parcoords\":[{\"type\":\"parcoords\",\"line\":{\"colorbar\":{\"outlinewidth\":0,\"ticks\":\"\"}}}],\"scatterpolargl\":[{\"type\":\"scatterpolargl\",\"marker\":{\"colorbar\":{\"outlinewidth\":0,\"ticks\":\"\"}}}],\"bar\":[{\"error_x\":{\"color\":\"#2a3f5f\"},\"error_y\":{\"color\":\"#2a3f5f\"},\"marker\":{\"line\":{\"color\":\"#E5ECF6\",\"width\":0.5},\"pattern\":{\"fillmode\":\"overlay\",\"size\":10,\"solidity\":0.2}},\"type\":\"bar\"}],\"scattergeo\":[{\"type\":\"scattergeo\",\"marker\":{\"colorbar\":{\"outlinewidth\":0,\"ticks\":\"\"}}}],\"scatterpolar\":[{\"type\":\"scatterpolar\",\"marker\":{\"colorbar\":{\"outlinewidth\":0,\"ticks\":\"\"}}}],\"histogram\":[{\"marker\":{\"pattern\":{\"fillmode\":\"overlay\",\"size\":10,\"solidity\":0.2}},\"type\":\"histogram\"}],\"scattergl\":[{\"type\":\"scattergl\",\"marker\":{\"colorbar\":{\"outlinewidth\":0,\"ticks\":\"\"}}}],\"scatter3d\":[{\"type\":\"scatter3d\",\"line\":{\"colorbar\":{\"outlinewidth\":0,\"ticks\":\"\"}},\"marker\":{\"colorbar\":{\"outlinewidth\":0,\"ticks\":\"\"}}}],\"scattermapbox\":[{\"type\":\"scattermapbox\",\"marker\":{\"colorbar\":{\"outlinewidth\":0,\"ticks\":\"\"}}}],\"scatterternary\":[{\"type\":\"scatterternary\",\"marker\":{\"colorbar\":{\"outlinewidth\":0,\"ticks\":\"\"}}}],\"scattercarpet\":[{\"type\":\"scattercarpet\",\"marker\":{\"colorbar\":{\"outlinewidth\":0,\"ticks\":\"\"}}}],\"carpet\":[{\"aaxis\":{\"endlinecolor\":\"#2a3f5f\",\"gridcolor\":\"white\",\"linecolor\":\"white\",\"minorgridcolor\":\"white\",\"startlinecolor\":\"#2a3f5f\"},\"baxis\":{\"endlinecolor\":\"#2a3f5f\",\"gridcolor\":\"white\",\"linecolor\":\"white\",\"minorgridcolor\":\"white\",\"startlinecolor\":\"#2a3f5f\"},\"type\":\"carpet\"}],\"table\":[{\"cells\":{\"fill\":{\"color\":\"#EBF0F8\"},\"line\":{\"color\":\"white\"}},\"header\":{\"fill\":{\"color\":\"#C8D4E3\"},\"line\":{\"color\":\"white\"}},\"type\":\"table\"}],\"barpolar\":[{\"marker\":{\"line\":{\"color\":\"#E5ECF6\",\"width\":0.5},\"pattern\":{\"fillmode\":\"overlay\",\"size\":10,\"solidity\":0.2}},\"type\":\"barpolar\"}],\"pie\":[{\"automargin\":true,\"type\":\"pie\"}]},\"layout\":{\"autotypenumbers\":\"strict\",\"colorway\":[\"#636efa\",\"#EF553B\",\"#00cc96\",\"#ab63fa\",\"#FFA15A\",\"#19d3f3\",\"#FF6692\",\"#B6E880\",\"#FF97FF\",\"#FECB52\"],\"font\":{\"color\":\"#2a3f5f\"},\"hovermode\":\"closest\",\"hoverlabel\":{\"align\":\"left\"},\"paper_bgcolor\":\"white\",\"plot_bgcolor\":\"#E5ECF6\",\"polar\":{\"bgcolor\":\"#E5ECF6\",\"angularaxis\":{\"gridcolor\":\"white\",\"linecolor\":\"white\",\"ticks\":\"\"},\"radialaxis\":{\"gridcolor\":\"white\",\"linecolor\":\"white\",\"ticks\":\"\"}},\"ternary\":{\"bgcolor\":\"#E5ECF6\",\"aaxis\":{\"gridcolor\":\"white\",\"linecolor\":\"white\",\"ticks\":\"\"},\"baxis\":{\"gridcolor\":\"white\",\"linecolor\":\"white\",\"ticks\":\"\"},\"caxis\":{\"gridcolor\":\"white\",\"linecolor\":\"white\",\"ticks\":\"\"}},\"coloraxis\":{\"colorbar\":{\"outlinewidth\":0,\"ticks\":\"\"}},\"colorscale\":{\"sequential\":[[0.0,\"#0d0887\"],[0.1111111111111111,\"#46039f\"],[0.2222222222222222,\"#7201a8\"],[0.3333333333333333,\"#9c179e\"],[0.4444444444444444,\"#bd3786\"],[0.5555555555555556,\"#d8576b\"],[0.6666666666666666,\"#ed7953\"],[0.7777777777777778,\"#fb9f3a\"],[0.8888888888888888,\"#fdca26\"],[1.0,\"#f0f921\"]],\"sequentialminus\":[[0.0,\"#0d0887\"],[0.1111111111111111,\"#46039f\"],[0.2222222222222222,\"#7201a8\"],[0.3333333333333333,\"#9c179e\"],[0.4444444444444444,\"#bd3786\"],[0.5555555555555556,\"#d8576b\"],[0.6666666666666666,\"#ed7953\"],[0.7777777777777778,\"#fb9f3a\"],[0.8888888888888888,\"#fdca26\"],[1.0,\"#f0f921\"]],\"diverging\":[[0,\"#8e0152\"],[0.1,\"#c51b7d\"],[0.2,\"#de77ae\"],[0.3,\"#f1b6da\"],[0.4,\"#fde0ef\"],[0.5,\"#f7f7f7\"],[0.6,\"#e6f5d0\"],[0.7,\"#b8e186\"],[0.8,\"#7fbc41\"],[0.9,\"#4d9221\"],[1,\"#276419\"]]},\"xaxis\":{\"gridcolor\":\"white\",\"linecolor\":\"white\",\"ticks\":\"\",\"title\":{\"standoff\":15},\"zerolinecolor\":\"white\",\"automargin\":true,\"zerolinewidth\":2},\"yaxis\":{\"gridcolor\":\"white\",\"linecolor\":\"white\",\"ticks\":\"\",\"title\":{\"standoff\":15},\"zerolinecolor\":\"white\",\"automargin\":true,\"zerolinewidth\":2},\"scene\":{\"xaxis\":{\"backgroundcolor\":\"#E5ECF6\",\"gridcolor\":\"white\",\"linecolor\":\"white\",\"showbackground\":true,\"ticks\":\"\",\"zerolinecolor\":\"white\",\"gridwidth\":2},\"yaxis\":{\"backgroundcolor\":\"#E5ECF6\",\"gridcolor\":\"white\",\"linecolor\":\"white\",\"showbackground\":true,\"ticks\":\"\",\"zerolinecolor\":\"white\",\"gridwidth\":2},\"zaxis\":{\"backgroundcolor\":\"#E5ECF6\",\"gridcolor\":\"white\",\"linecolor\":\"white\",\"showbackground\":true,\"ticks\":\"\",\"zerolinecolor\":\"white\",\"gridwidth\":2}},\"shapedefaults\":{\"line\":{\"color\":\"#2a3f5f\"}},\"annotationdefaults\":{\"arrowcolor\":\"#2a3f5f\",\"arrowhead\":0,\"arrowwidth\":1},\"geo\":{\"bgcolor\":\"white\",\"landcolor\":\"#E5ECF6\",\"subunitcolor\":\"white\",\"showland\":true,\"showlakes\":true,\"lakecolor\":\"white\"},\"title\":{\"x\":0.05},\"mapbox\":{\"style\":\"light\"}}},\"xaxis\":{\"anchor\":\"y\",\"domain\":[0.0,1.0],\"title\":{\"text\":\"gender\"}},\"yaxis\":{\"anchor\":\"x\",\"domain\":[0.0,1.0],\"title\":{\"text\":\"ctr_perc\"}},\"coloraxis\":{\"colorbar\":{\"title\":{\"text\":\"shows\"}},\"colorscale\":[[0.0,\"rgb(247,251,255)\"],[0.125,\"rgb(222,235,247)\"],[0.25,\"rgb(198,219,239)\"],[0.375,\"rgb(158,202,225)\"],[0.5,\"rgb(107,174,214)\"],[0.625,\"rgb(66,146,198)\"],[0.75,\"rgb(33,113,181)\"],[0.875,\"rgb(8,81,156)\"],[1.0,\"rgb(8,48,107)\"]]},\"legend\":{\"tracegroupgap\":0},\"margin\":{\"t\":60},\"barmode\":\"relative\",\"height\":600,\"width\":800,\"title\":{\"text\":\"\\u041a\\u043e\\u043d\\u0432\\u0435\\u0440\\u0441\\u0438\\u044f \\u043f\\u043e\\u043a\\u0430\\u0437\\u043e\\u0432 \\u0432 \\u043a\\u043b\\u0438\\u043a \\u043f\\u043e \\u043f\\u0430\\u0440\\u0430\\u043c\\u0435\\u0442\\u0440\\u0443 \\\"\\u041f\\u043e\\u043b\\\"\"},\"annotations\":[{\"font\":{\"size\":14},\"showarrow\":false,\"text\":\"\\u0418\\u043d\\u0442\\u0435\\u043d\\u0441\\u0438\\u0432\\u043d\\u043e\\u0441\\u0442\\u044c \\u0446\\u0432\\u0435\\u0442\\u0430 \\u0441\\u043e\\u043e\\u0442\\u0432\\u0435\\u0442\\u0441\\u0442\\u0432\\u0443\\u0435\\u0442 \\u0447\\u0438\\u0441\\u043b\\u0443 \\u043f\\u043e\\u043a\\u0430\\u0437\\u043e\\u0432\",\"x\":0.5,\"xref\":\"paper\",\"y\":1,\"yref\":\"paper\"}]},                        {\"responsive\": true}                    ).then(function(){\n",
              "                            \n",
              "var gd = document.getElementById('aa219cba-fb7a-4b58-9b88-800c6eecf57f');\n",
              "var x = new MutationObserver(function (mutations, observer) {{\n",
              "        var display = window.getComputedStyle(gd).display;\n",
              "        if (!display || display === 'none') {{\n",
              "            console.log([gd, 'removed!']);\n",
              "            Plotly.purge(gd);\n",
              "            observer.disconnect();\n",
              "        }}\n",
              "}});\n",
              "\n",
              "// Listen for the removal of the full notebook cells\n",
              "var notebookContainer = gd.closest('#notebook-container');\n",
              "if (notebookContainer) {{\n",
              "    x.observe(notebookContainer, {childList: true});\n",
              "}}\n",
              "\n",
              "// Listen for the clearing of the current output cell\n",
              "var outputEl = gd.closest('.output');\n",
              "if (outputEl) {{\n",
              "    x.observe(outputEl, {childList: true});\n",
              "}}\n",
              "\n",
              "                        })                };                            </script>        </div>\n",
              "</body>\n",
              "</html>"
            ]
          },
          "metadata": {}
        }
      ]
    },
    {
      "cell_type": "markdown",
      "source": [
        "В срезе данных по совершенному целевому действию, мало кликов, но в несколько раз выше конверсия у пользователей с **неопределенным полом (13%) и возрастом (3.2%)**. Сложно сказать что это значит... Параметры доноров будут подробно разобраны далее."
      ],
      "metadata": {
        "id": "QjwYQ-FnqR_d"
      }
    },
    {
      "cell_type": "markdown",
      "source": [
        "### Конверсия показов в клик по рекламным кампаниям"
      ],
      "metadata": {
        "id": "xPQMwfKDtqRb"
      }
    },
    {
      "cell_type": "code",
      "source": [
        "# посмотрим среднюю конверсию показов в клики по кампаниям\n",
        "campaign = adgrants.pivot_table(index='campaign', values=['shows','clicks'], aggfunc='sum').reset_index()\n",
        "campaign['ctr_perc'] = (campaign['clicks'] / campaign['shows'] * 100).round(2)\n",
        "campaign = campaign.sort_values(by='ctr_perc',ascending=False)"
      ],
      "metadata": {
        "id": "Dkf88RlxUHaF"
      },
      "execution_count": null,
      "outputs": []
    },
    {
      "cell_type": "code",
      "source": [
        "# график по сводной - отображение конверсии в клик по кампаниям\n",
        "fig = px.bar(campaign, x='campaign', y='ctr_perc', color='shows')\n",
        "fig.update_layout(height=800, width=1250,\n",
        "                  title = \"Конверсия показов в клик по рекламным кампаниям\",\n",
        "                  annotations=[dict(text=\"Интенсивность цвета соответствует числу показов\",x=0.5,y=0.99,showarrow=False,xref=\"paper\",yref=\"paper\",font=dict(size=14))])\n",
        "fig.show()"
      ],
      "metadata": {
        "colab": {
          "base_uri": "https://localhost:8080/",
          "height": 817
        },
        "id": "UNEIBS5kIISg",
        "outputId": "3cee528e-7f1b-4c58-db72-eba705cd38ce"
      },
      "execution_count": null,
      "outputs": [
        {
          "output_type": "display_data",
          "data": {
            "text/html": [
              "<html>\n",
              "<head><meta charset=\"utf-8\" /></head>\n",
              "<body>\n",
              "    <div>            <script src=\"https://cdnjs.cloudflare.com/ajax/libs/mathjax/2.7.5/MathJax.js?config=TeX-AMS-MML_SVG\"></script><script type=\"text/javascript\">if (window.MathJax && window.MathJax.Hub && window.MathJax.Hub.Config) {window.MathJax.Hub.Config({SVG: {font: \"STIX-Web\"}});}</script>                <script type=\"text/javascript\">window.PlotlyConfig = {MathJaxConfig: 'local'};</script>\n",
              "        <script charset=\"utf-8\" src=\"https://cdn.plot.ly/plotly-2.24.1.min.js\"></script>                <div id=\"27cbac3b-3962-495a-a96c-8ad30679d2fa\" class=\"plotly-graph-div\" style=\"height:800px; width:1250px;\"></div>            <script type=\"text/javascript\">                                    window.PLOTLYENV=window.PLOTLYENV || {};                                    if (document.getElementById(\"27cbac3b-3962-495a-a96c-8ad30679d2fa\")) {                    Plotly.newPlot(                        \"27cbac3b-3962-495a-a96c-8ad30679d2fa\",                        [{\"alignmentgroup\":\"True\",\"hovertemplate\":\"campaign=%{x}\\u003cbr\\u003ectr_perc=%{y}\\u003cbr\\u003eshows=%{marker.color}\\u003cextra\\u003e\\u003c\\u002fextra\\u003e\",\"legendgroup\":\"\",\"marker\":{\"color\":[339894,164242,108824,155190,180991,89305,149637,267718,3497029,85559,99566,89041,33246,281337,259332,505274,458401,134397,127204,909860,418710,623644,867789,7348],\"coloraxis\":\"coloraxis\",\"pattern\":{\"shape\":\"\"}},\"name\":\"\",\"offsetgroup\":\"\",\"orientation\":\"v\",\"showlegend\":false,\"textposition\":\"auto\",\"x\":[\"\\u0413\\u0435\\u043e\",\"\\u0420\\u041a_\\u041e\\u0431\\u0449\\u0438\\u0439 \\u0441\\u0431\\u043e\\u0440_\\u0441\\u0440\\u0435\\u0434\\u0441\\u0442\\u0432\",\"\\u0411\\u0438\\u0437\\u043d\\u0435\\u0441\\u043c\\u0435\\u043d\\u044b\\u002f \\u0440\\u0435\\u043c\\u043e\\u043d\\u0442 \\u0431\\u043e\\u043b\\u044c\\u043d\\u0438\\u0447\\u043a\\u0438\",\"\\u0420\\u0435\\u043c\\u043e\\u043d\\u0442 \\u0431\\u043e\\u043b\\u044c\\u043d\\u0438\\u0447\\u043a\\u0438 - \\u0410\\u0432\\u0442\\u043e\\u0442\\u0430\\u0440\\u0433\\u0435\\u0442\\u0438\\u043d\\u0433\",\"\\u041f\\u0438\\u0442\\u0435\\u0440 - \\u0410\\u0432\\u0442\\u043e\\u0442\\u0430\\u0440\\u0433\\u0435\\u0442\\u0438\\u043d\\u0433\",\"\\u0421\\u0431\\u043e\\u0440 \\u043d\\u0430 \\u0431\\u043e\\u043b\\u044c\\u043d\\u0438\\u0446\\u0443_ \\u0420\\u043e\\u0434\\u0441\\u0442\\u0432\\u0435\\u043d\\u043d\\u0438\\u043a\\u0438_ \\u211616 \\u043e\\u0442 15-03-2023\",\"\\u0420\\u041a_\\u041e\\u0431\\u0443\\u0441\\u0442\\u0440\\u043e\\u0439\\u0441\\u0442\\u0432\\u043e_\\u043a\\u043b\\u0438\\u043d\\u0438\\u043a\\u0438\",\"\\u0420\\u041a_\\u0431\\u0435\\u0437\\u0434\\u043e\\u043c\\u043d\\u044b\\u0435 \\u0436\\u0435\\u043d\\u0449\\u0438\\u043d\\u044b\",\"\\u041a\\u043e\\u043c\\u0430\\u043d\\u0434\\u0430#2 \\u002f \\u0411\\u043e\\u0442 \\u002f \\u0421\\u041f\\u0431\",\"clinica\\u002factivists_volunteers\\u002fkeys\",\"helpingwomen\\u002ffeminism_keys\",\"\\u041a\\u0443\\u043b\\u044c\\u0442\\u0443\\u0440\\u043d\\u043e \\u043e\\u0431\\u0440\\u0430\\u0437\\u043e\\u0432\\u0430\\u043d\\u043d\\u044b\\u0435 (\\u0411\\u043e\\u043b\\u044c\\u043d\\u0438\\u0447\\u043a\\u0430)\",\"\\u0420\\u041a_\\u041e\\u0431\\u0443\\u0441\\u0442\\u0440\\u043e\\u0439\\u0441\\u0442\\u0432\\u043e_\\u043a\\u043b\\u0438\\u043d\\u0438\\u043a\\u0438_\\u043f\\u0443\\u0442\\u0435\\u0448\\u0435\\u0441\\u0442\\u0432\\u0438\\u044f\",\"\\u0412\\u0435\\u0440\\u0443\\u0449\\u0438\\u0435 \\u0410\\u0432\\u0442\\u043e\\u0442\\u0430\\u0440\\u0433\\u0435\\u0442\\u0438\\u043d\\u0433 (\\u0411\\u0435\\u0437\\u0434\\u043e\\u043c\\u043d\\u044b\\u0435 \\u0436\\u0435\\u043d\\u0449\\u0438\\u043d\\u044b)\",\"\\u0420\\u041a_\\u041c\\u043e\\u0431\\u0438\\u043b\\u044c\\u043d\\u0430\\u044f \\u043a\\u043b\\u0438\\u043d\\u0438\\u043a\\u0430\",\"\\u041f\\u0430\\u043a\\u0435\\u0442_\\u0411\\u0435\\u0437\\u0434\\u043e\\u043c\\u0430\\u0448\\u043d\\u0438\\u0439 \\u043e\\u0447\\u0430\\u0433_\\u0420\\u0435\\u0430\\u0431\\u0438\\u043b\\u0438\\u0442\\u0430\\u0446\\u0438\\u043e\\u043d\\u043d\\u044b\\u0435 \\u0446\\u0435\\u043d\\u0442\\u0440\\u044b_\\u043a\\u043b\\u044e\\u0447\\u0438\",\"\\u041f\\u0430\\u043a\\u0435\\u0442_\\u0411\\u0435\\u0437\\u0434\\u043e\\u043c\\u0430\\u0448\\u043d\\u0438\\u0439 \\u043e\\u0447\\u0430\\u0433_\\u041f\\u0441\\u0438\\u0445\\u043e\\u043b\\u043e\\u0433\\u0438\\u0447\\u0435\\u0441\\u043a\\u0430\\u044f \\u043f\\u043e\\u043c\\u043e\\u0449\\u044c_\\u043a\\u043b\\u044e\\u0447\\u0438-\\u0438\\u043d\\u0442\\u0435\\u0440\\u0435\\u0441\\u044b\",\"\\u0420\\u0435\\u0430\\u0431\\u0438\\u043b\\u0438\\u0442\\u0430\\u0446\\u0438\\u043e\\u043d\\u043d\\u044b\\u0435 \\u0446\\u0435\\u043d\\u0442\\u0440\\u044b_\\u0420\\u0421\\u042f_\\u21165 \\u043e\\u0442 05-03-2023\",\"\\u0411\\u043b\\u0430\\u0433\\u043e\\u0442\\u0432\\u043e\\u0440\\u0438\\u0442\\u0435\\u043b\\u0438\\u002f \\u043f\\u043e\\u043c\\u043e\\u0449\\u044c \\u0431\\u0435\\u0437\\u0434\\u043e\\u043c\\u043d\\u044b\\u043c \\u0436\\u0435\\u043d\\u0449\\u0438\\u043d\\u0430\\u043c\",\"\\u041f\\u0430\\u043a\\u0435\\u0442_\\u0411\\u0435\\u0437\\u0434\\u043e\\u043c\\u0430\\u0448\\u043d\\u0438\\u0439 \\u043e\\u0447\\u0430\\u0433_\\u0412\\u0435\\u0440\\u0443\\u044e\\u0449\\u0438\\u0435_\\u043a\\u043b\\u044e\\u0447\\u0438-\\u0438\\u043d\\u0442\\u0435\\u0440\\u0435\\u0441\\u044b\",\"\\u0420\\u041a_\\u0420\\u0435\\u0442\\u0430\\u0440\\u0433\\u0435\\u0442\\u0438\\u043d\\u0433\",\"\\u0411\\u043e\\u043b\\u044c\\u043d\\u0438\\u0447\\u043a\\u0430_\\u0431\\u0438\\u0437\\u043d\\u0435\\u0441_\\u043a\\u043b\\u044e\\u0447\\u0438-\\u0438\\u043d\\u0442\\u0435\\u0440\\u0435\\u0441\\u044b\",\"\\u0420\\u041a_\\u0411\\u043e\\u043b\\u044c\\u043d\\u0438\\u0447\\u043a\\u0430\",\"\\u041a\\u0430\\u043c\\u043f\\u0430\\u043d\\u0438\\u044f \\u0441 \\u0444\\u0438\\u043a\\u0441\\u0438\\u0440\\u043e\\u0432\\u0430\\u043d\\u043d\\u044b\\u043c \\u0421\\u0420\\u041c \\u211610 \\u043e\\u0442 14-03-2023\"],\"xaxis\":\"x\",\"y\":[0.81,0.67,0.64,0.6,0.59,0.56,0.52,0.51,0.51,0.49,0.45,0.45,0.43,0.41,0.4,0.37,0.32,0.3,0.27,0.25,0.24,0.24,0.18,0.05],\"yaxis\":\"y\",\"type\":\"bar\"}],                        {\"template\":{\"data\":{\"histogram2dcontour\":[{\"type\":\"histogram2dcontour\",\"colorbar\":{\"outlinewidth\":0,\"ticks\":\"\"},\"colorscale\":[[0.0,\"#0d0887\"],[0.1111111111111111,\"#46039f\"],[0.2222222222222222,\"#7201a8\"],[0.3333333333333333,\"#9c179e\"],[0.4444444444444444,\"#bd3786\"],[0.5555555555555556,\"#d8576b\"],[0.6666666666666666,\"#ed7953\"],[0.7777777777777778,\"#fb9f3a\"],[0.8888888888888888,\"#fdca26\"],[1.0,\"#f0f921\"]]}],\"choropleth\":[{\"type\":\"choropleth\",\"colorbar\":{\"outlinewidth\":0,\"ticks\":\"\"}}],\"histogram2d\":[{\"type\":\"histogram2d\",\"colorbar\":{\"outlinewidth\":0,\"ticks\":\"\"},\"colorscale\":[[0.0,\"#0d0887\"],[0.1111111111111111,\"#46039f\"],[0.2222222222222222,\"#7201a8\"],[0.3333333333333333,\"#9c179e\"],[0.4444444444444444,\"#bd3786\"],[0.5555555555555556,\"#d8576b\"],[0.6666666666666666,\"#ed7953\"],[0.7777777777777778,\"#fb9f3a\"],[0.8888888888888888,\"#fdca26\"],[1.0,\"#f0f921\"]]}],\"heatmap\":[{\"type\":\"heatmap\",\"colorbar\":{\"outlinewidth\":0,\"ticks\":\"\"},\"colorscale\":[[0.0,\"#0d0887\"],[0.1111111111111111,\"#46039f\"],[0.2222222222222222,\"#7201a8\"],[0.3333333333333333,\"#9c179e\"],[0.4444444444444444,\"#bd3786\"],[0.5555555555555556,\"#d8576b\"],[0.6666666666666666,\"#ed7953\"],[0.7777777777777778,\"#fb9f3a\"],[0.8888888888888888,\"#fdca26\"],[1.0,\"#f0f921\"]]}],\"heatmapgl\":[{\"type\":\"heatmapgl\",\"colorbar\":{\"outlinewidth\":0,\"ticks\":\"\"},\"colorscale\":[[0.0,\"#0d0887\"],[0.1111111111111111,\"#46039f\"],[0.2222222222222222,\"#7201a8\"],[0.3333333333333333,\"#9c179e\"],[0.4444444444444444,\"#bd3786\"],[0.5555555555555556,\"#d8576b\"],[0.6666666666666666,\"#ed7953\"],[0.7777777777777778,\"#fb9f3a\"],[0.8888888888888888,\"#fdca26\"],[1.0,\"#f0f921\"]]}],\"contourcarpet\":[{\"type\":\"contourcarpet\",\"colorbar\":{\"outlinewidth\":0,\"ticks\":\"\"}}],\"contour\":[{\"type\":\"contour\",\"colorbar\":{\"outlinewidth\":0,\"ticks\":\"\"},\"colorscale\":[[0.0,\"#0d0887\"],[0.1111111111111111,\"#46039f\"],[0.2222222222222222,\"#7201a8\"],[0.3333333333333333,\"#9c179e\"],[0.4444444444444444,\"#bd3786\"],[0.5555555555555556,\"#d8576b\"],[0.6666666666666666,\"#ed7953\"],[0.7777777777777778,\"#fb9f3a\"],[0.8888888888888888,\"#fdca26\"],[1.0,\"#f0f921\"]]}],\"surface\":[{\"type\":\"surface\",\"colorbar\":{\"outlinewidth\":0,\"ticks\":\"\"},\"colorscale\":[[0.0,\"#0d0887\"],[0.1111111111111111,\"#46039f\"],[0.2222222222222222,\"#7201a8\"],[0.3333333333333333,\"#9c179e\"],[0.4444444444444444,\"#bd3786\"],[0.5555555555555556,\"#d8576b\"],[0.6666666666666666,\"#ed7953\"],[0.7777777777777778,\"#fb9f3a\"],[0.8888888888888888,\"#fdca26\"],[1.0,\"#f0f921\"]]}],\"mesh3d\":[{\"type\":\"mesh3d\",\"colorbar\":{\"outlinewidth\":0,\"ticks\":\"\"}}],\"scatter\":[{\"fillpattern\":{\"fillmode\":\"overlay\",\"size\":10,\"solidity\":0.2},\"type\":\"scatter\"}],\"parcoords\":[{\"type\":\"parcoords\",\"line\":{\"colorbar\":{\"outlinewidth\":0,\"ticks\":\"\"}}}],\"scatterpolargl\":[{\"type\":\"scatterpolargl\",\"marker\":{\"colorbar\":{\"outlinewidth\":0,\"ticks\":\"\"}}}],\"bar\":[{\"error_x\":{\"color\":\"#2a3f5f\"},\"error_y\":{\"color\":\"#2a3f5f\"},\"marker\":{\"line\":{\"color\":\"#E5ECF6\",\"width\":0.5},\"pattern\":{\"fillmode\":\"overlay\",\"size\":10,\"solidity\":0.2}},\"type\":\"bar\"}],\"scattergeo\":[{\"type\":\"scattergeo\",\"marker\":{\"colorbar\":{\"outlinewidth\":0,\"ticks\":\"\"}}}],\"scatterpolar\":[{\"type\":\"scatterpolar\",\"marker\":{\"colorbar\":{\"outlinewidth\":0,\"ticks\":\"\"}}}],\"histogram\":[{\"marker\":{\"pattern\":{\"fillmode\":\"overlay\",\"size\":10,\"solidity\":0.2}},\"type\":\"histogram\"}],\"scattergl\":[{\"type\":\"scattergl\",\"marker\":{\"colorbar\":{\"outlinewidth\":0,\"ticks\":\"\"}}}],\"scatter3d\":[{\"type\":\"scatter3d\",\"line\":{\"colorbar\":{\"outlinewidth\":0,\"ticks\":\"\"}},\"marker\":{\"colorbar\":{\"outlinewidth\":0,\"ticks\":\"\"}}}],\"scattermapbox\":[{\"type\":\"scattermapbox\",\"marker\":{\"colorbar\":{\"outlinewidth\":0,\"ticks\":\"\"}}}],\"scatterternary\":[{\"type\":\"scatterternary\",\"marker\":{\"colorbar\":{\"outlinewidth\":0,\"ticks\":\"\"}}}],\"scattercarpet\":[{\"type\":\"scattercarpet\",\"marker\":{\"colorbar\":{\"outlinewidth\":0,\"ticks\":\"\"}}}],\"carpet\":[{\"aaxis\":{\"endlinecolor\":\"#2a3f5f\",\"gridcolor\":\"white\",\"linecolor\":\"white\",\"minorgridcolor\":\"white\",\"startlinecolor\":\"#2a3f5f\"},\"baxis\":{\"endlinecolor\":\"#2a3f5f\",\"gridcolor\":\"white\",\"linecolor\":\"white\",\"minorgridcolor\":\"white\",\"startlinecolor\":\"#2a3f5f\"},\"type\":\"carpet\"}],\"table\":[{\"cells\":{\"fill\":{\"color\":\"#EBF0F8\"},\"line\":{\"color\":\"white\"}},\"header\":{\"fill\":{\"color\":\"#C8D4E3\"},\"line\":{\"color\":\"white\"}},\"type\":\"table\"}],\"barpolar\":[{\"marker\":{\"line\":{\"color\":\"#E5ECF6\",\"width\":0.5},\"pattern\":{\"fillmode\":\"overlay\",\"size\":10,\"solidity\":0.2}},\"type\":\"barpolar\"}],\"pie\":[{\"automargin\":true,\"type\":\"pie\"}]},\"layout\":{\"autotypenumbers\":\"strict\",\"colorway\":[\"#636efa\",\"#EF553B\",\"#00cc96\",\"#ab63fa\",\"#FFA15A\",\"#19d3f3\",\"#FF6692\",\"#B6E880\",\"#FF97FF\",\"#FECB52\"],\"font\":{\"color\":\"#2a3f5f\"},\"hovermode\":\"closest\",\"hoverlabel\":{\"align\":\"left\"},\"paper_bgcolor\":\"white\",\"plot_bgcolor\":\"#E5ECF6\",\"polar\":{\"bgcolor\":\"#E5ECF6\",\"angularaxis\":{\"gridcolor\":\"white\",\"linecolor\":\"white\",\"ticks\":\"\"},\"radialaxis\":{\"gridcolor\":\"white\",\"linecolor\":\"white\",\"ticks\":\"\"}},\"ternary\":{\"bgcolor\":\"#E5ECF6\",\"aaxis\":{\"gridcolor\":\"white\",\"linecolor\":\"white\",\"ticks\":\"\"},\"baxis\":{\"gridcolor\":\"white\",\"linecolor\":\"white\",\"ticks\":\"\"},\"caxis\":{\"gridcolor\":\"white\",\"linecolor\":\"white\",\"ticks\":\"\"}},\"coloraxis\":{\"colorbar\":{\"outlinewidth\":0,\"ticks\":\"\"}},\"colorscale\":{\"sequential\":[[0.0,\"#0d0887\"],[0.1111111111111111,\"#46039f\"],[0.2222222222222222,\"#7201a8\"],[0.3333333333333333,\"#9c179e\"],[0.4444444444444444,\"#bd3786\"],[0.5555555555555556,\"#d8576b\"],[0.6666666666666666,\"#ed7953\"],[0.7777777777777778,\"#fb9f3a\"],[0.8888888888888888,\"#fdca26\"],[1.0,\"#f0f921\"]],\"sequentialminus\":[[0.0,\"#0d0887\"],[0.1111111111111111,\"#46039f\"],[0.2222222222222222,\"#7201a8\"],[0.3333333333333333,\"#9c179e\"],[0.4444444444444444,\"#bd3786\"],[0.5555555555555556,\"#d8576b\"],[0.6666666666666666,\"#ed7953\"],[0.7777777777777778,\"#fb9f3a\"],[0.8888888888888888,\"#fdca26\"],[1.0,\"#f0f921\"]],\"diverging\":[[0,\"#8e0152\"],[0.1,\"#c51b7d\"],[0.2,\"#de77ae\"],[0.3,\"#f1b6da\"],[0.4,\"#fde0ef\"],[0.5,\"#f7f7f7\"],[0.6,\"#e6f5d0\"],[0.7,\"#b8e186\"],[0.8,\"#7fbc41\"],[0.9,\"#4d9221\"],[1,\"#276419\"]]},\"xaxis\":{\"gridcolor\":\"white\",\"linecolor\":\"white\",\"ticks\":\"\",\"title\":{\"standoff\":15},\"zerolinecolor\":\"white\",\"automargin\":true,\"zerolinewidth\":2},\"yaxis\":{\"gridcolor\":\"white\",\"linecolor\":\"white\",\"ticks\":\"\",\"title\":{\"standoff\":15},\"zerolinecolor\":\"white\",\"automargin\":true,\"zerolinewidth\":2},\"scene\":{\"xaxis\":{\"backgroundcolor\":\"#E5ECF6\",\"gridcolor\":\"white\",\"linecolor\":\"white\",\"showbackground\":true,\"ticks\":\"\",\"zerolinecolor\":\"white\",\"gridwidth\":2},\"yaxis\":{\"backgroundcolor\":\"#E5ECF6\",\"gridcolor\":\"white\",\"linecolor\":\"white\",\"showbackground\":true,\"ticks\":\"\",\"zerolinecolor\":\"white\",\"gridwidth\":2},\"zaxis\":{\"backgroundcolor\":\"#E5ECF6\",\"gridcolor\":\"white\",\"linecolor\":\"white\",\"showbackground\":true,\"ticks\":\"\",\"zerolinecolor\":\"white\",\"gridwidth\":2}},\"shapedefaults\":{\"line\":{\"color\":\"#2a3f5f\"}},\"annotationdefaults\":{\"arrowcolor\":\"#2a3f5f\",\"arrowhead\":0,\"arrowwidth\":1},\"geo\":{\"bgcolor\":\"white\",\"landcolor\":\"#E5ECF6\",\"subunitcolor\":\"white\",\"showland\":true,\"showlakes\":true,\"lakecolor\":\"white\"},\"title\":{\"x\":0.05},\"mapbox\":{\"style\":\"light\"}}},\"xaxis\":{\"anchor\":\"y\",\"domain\":[0.0,1.0],\"title\":{\"text\":\"campaign\"}},\"yaxis\":{\"anchor\":\"x\",\"domain\":[0.0,1.0],\"title\":{\"text\":\"ctr_perc\"}},\"coloraxis\":{\"colorbar\":{\"title\":{\"text\":\"shows\"}},\"colorscale\":[[0.0,\"#0d0887\"],[0.1111111111111111,\"#46039f\"],[0.2222222222222222,\"#7201a8\"],[0.3333333333333333,\"#9c179e\"],[0.4444444444444444,\"#bd3786\"],[0.5555555555555556,\"#d8576b\"],[0.6666666666666666,\"#ed7953\"],[0.7777777777777778,\"#fb9f3a\"],[0.8888888888888888,\"#fdca26\"],[1.0,\"#f0f921\"]]},\"legend\":{\"tracegroupgap\":0},\"margin\":{\"t\":60},\"barmode\":\"relative\",\"height\":800,\"width\":1250,\"title\":{\"text\":\"\\u041a\\u043e\\u043d\\u0432\\u0435\\u0440\\u0441\\u0438\\u044f \\u043f\\u043e\\u043a\\u0430\\u0437\\u043e\\u0432 \\u0432 \\u043a\\u043b\\u0438\\u043a \\u043f\\u043e \\u0440\\u0435\\u043a\\u043b\\u0430\\u043c\\u043d\\u044b\\u043c \\u043a\\u0430\\u043c\\u043f\\u0430\\u043d\\u0438\\u044f\\u043c\"},\"annotations\":[{\"font\":{\"size\":14},\"showarrow\":false,\"text\":\"\\u0418\\u043d\\u0442\\u0435\\u043d\\u0441\\u0438\\u0432\\u043d\\u043e\\u0441\\u0442\\u044c \\u0446\\u0432\\u0435\\u0442\\u0430 \\u0441\\u043e\\u043e\\u0442\\u0432\\u0435\\u0442\\u0441\\u0442\\u0432\\u0443\\u0435\\u0442 \\u0447\\u0438\\u0441\\u043b\\u0443 \\u043f\\u043e\\u043a\\u0430\\u0437\\u043e\\u0432\",\"x\":0.5,\"xref\":\"paper\",\"y\":0.99,\"yref\":\"paper\"}]},                        {\"responsive\": true}                    ).then(function(){\n",
              "                            \n",
              "var gd = document.getElementById('27cbac3b-3962-495a-a96c-8ad30679d2fa');\n",
              "var x = new MutationObserver(function (mutations, observer) {{\n",
              "        var display = window.getComputedStyle(gd).display;\n",
              "        if (!display || display === 'none') {{\n",
              "            console.log([gd, 'removed!']);\n",
              "            Plotly.purge(gd);\n",
              "            observer.disconnect();\n",
              "        }}\n",
              "}});\n",
              "\n",
              "// Listen for the removal of the full notebook cells\n",
              "var notebookContainer = gd.closest('#notebook-container');\n",
              "if (notebookContainer) {{\n",
              "    x.observe(notebookContainer, {childList: true});\n",
              "}}\n",
              "\n",
              "// Listen for the clearing of the current output cell\n",
              "var outputEl = gd.closest('.output');\n",
              "if (outputEl) {{\n",
              "    x.observe(outputEl, {childList: true});\n",
              "}}\n",
              "\n",
              "                        })                };                            </script>        </div>\n",
              "</body>\n",
              "</html>"
            ]
          },
          "metadata": {}
        }
      ]
    },
    {
      "cell_type": "markdown",
      "source": [
        "Самая большая конверсия в клик у рекламных кампаний:\n",
        "- Гео\n",
        "- РК_Общий сбор_средств\n",
        "- Бизнесмены/ ремонт больнички\n",
        "- Ремонт больнички - Автотаргетинг\n",
        "- Питер - Автотаргетинг  \n",
        "\n",
        "У **Команда#2 / Бот / СПб** самое большое число показов - в **10!** раз больше, чем у лидирующей по конверсии **Гео** - при этом она имеет среднюю конверсию в клик.\n",
        "\n",
        "Есть интересная закономерность - самую низкую конверсию в клик занимают компании с **наибольшим** количеством показов:\n",
        "- РК_Больничка\n",
        "- Больничка_бизнес_ключи-интересы\n",
        "- РК_Ретаргетинг\n",
        "- Пакет_Бездомашний очаг_Верующие_ключи-интересы\n",
        "- Пакет_Бездомашний очаг_Психологическая помощь_ключи-интересы\n",
        "- Пакет_Бездомашний очаг_Реабилитационные центры_ключи   \n",
        "(Кампания с фиксированным СРМ №10 от 14-03-2023 - является исключением, по ней очень мало данных)"
      ],
      "metadata": {
        "id": "e7Nbrpf8IGCp"
      }
    },
    {
      "cell_type": "markdown",
      "source": [
        "### Конверсия показов в клик по условию показа"
      ],
      "metadata": {
        "id": "bDBO_NZ1tR7P"
      }
    },
    {
      "cell_type": "code",
      "source": [
        "print('Всего', '\\033[1m{}\\033[0m'.format(adgrants['condition_showed'].nunique()),\n",
        "      'условий показа. Сгруппируем по ним и посмотрим на конверсию и количество кликов в каждой группе.')"
      ],
      "metadata": {
        "colab": {
          "base_uri": "https://localhost:8080/"
        },
        "id": "In6n6qGptT6Q",
        "outputId": "dc545d34-c534-4d62-ac24-82d2fafe36e9"
      },
      "execution_count": null,
      "outputs": [
        {
          "output_type": "stream",
          "name": "stdout",
          "text": [
            "Всего \u001b[1m1196\u001b[0m условий показа. Сгруппируем по ним и посмотрим на конверсию и количество кликов в каждой группе.\n"
          ]
        }
      ]
    },
    {
      "cell_type": "code",
      "source": [
        "# Максимальное кол-во кликов и конверсия\n",
        "px_ctr_color(adgrants, 'condition_showed', 'shows', 'clicks', 'ctr_perc',\n",
        "             'Максимальное число кликов по \"Условию показа\"','Интенсивность цвета соответствует числу показов', 800, 1200)"
      ],
      "metadata": {
        "colab": {
          "base_uri": "https://localhost:8080/",
          "height": 817
        },
        "id": "gAmoKFxlibDD",
        "outputId": "67011adc-ff95-4912-f93e-120cbd49c32e"
      },
      "execution_count": null,
      "outputs": [
        {
          "output_type": "display_data",
          "data": {
            "text/html": [
              "<html>\n",
              "<head><meta charset=\"utf-8\" /></head>\n",
              "<body>\n",
              "    <div>            <script src=\"https://cdnjs.cloudflare.com/ajax/libs/mathjax/2.7.5/MathJax.js?config=TeX-AMS-MML_SVG\"></script><script type=\"text/javascript\">if (window.MathJax && window.MathJax.Hub && window.MathJax.Hub.Config) {window.MathJax.Hub.Config({SVG: {font: \"STIX-Web\"}});}</script>                <script type=\"text/javascript\">window.PlotlyConfig = {MathJaxConfig: 'local'};</script>\n",
              "        <script charset=\"utf-8\" src=\"https://cdn.plot.ly/plotly-2.24.1.min.js\"></script>                <div id=\"e9055eb3-7042-4892-8d48-b73144acde71\" class=\"plotly-graph-div\" style=\"height:800px; width:1200px;\"></div>            <script type=\"text/javascript\">                                    window.PLOTLYENV=window.PLOTLYENV || {};                                    if (document.getElementById(\"e9055eb3-7042-4892-8d48-b73144acde71\")) {                    Plotly.newPlot(                        \"e9055eb3-7042-4892-8d48-b73144acde71\",                        [{\"alignmentgroup\":\"True\",\"hovertemplate\":\"condition_showed=%{x}\\u003cbr\\u003eclicks=%{y}\\u003cbr\\u003ectr_perc=%{marker.color}\\u003cextra\\u003e\\u003c\\u002fextra\\u003e\",\"legendgroup\":\"\",\"marker\":{\"color\":[0.34,1.03,0.66,0.6,0.62,0.67,0.61,0.77,0.61,0.63,0.59,0.51,1.62,0.46,0.52,0.61,0.27,0.3,0.27,0.28],\"coloraxis\":\"coloraxis\",\"pattern\":{\"shape\":\"\"}},\"name\":\"\",\"offsetgroup\":\"\",\"orientation\":\"v\",\"showlegend\":false,\"textposition\":\"auto\",\"x\":[\"'---autotargeting\",\"\\u0431\\u043b\\u0430\\u0433\\u043e\\u0442\\u0432\\u043e\\u0440\\u0438\\u0442\\u0435\\u043b\\u044c\\u043d\\u043e\\u0441\\u0442\\u044c\",\"\\u0431\\u043b\\u0430\\u0433\\u043e\\u0442\\u0432\\u043e\\u0440\\u0438\\u0442\\u0435\\u043b\\u044c\\u043d\\u044b\\u0439 \\u0444\\u043e\\u043d\\u0434\",\"\\u043f\\u043e\\u0436\\u0435\\u0440\\u0442\\u0432\\u043e\\u0432\\u0430\\u043d\\u0438\\u0435\",\"\\u043f\\u043e\\u043c\\u043e\\u0449\\u044c \\u0431\\u0435\\u0437\\u0434\\u043e\\u043c\\u043d\\u044b\\u043c\",\"\\u0444\\u043e\\u043d\\u0434 \\u043f\\u043e\\u043c\\u043e\\u0449\\u0438\",\"\\u043f\\u043e\\u0436\\u0435\\u0440\\u0442\\u0432\\u043e\\u0432\\u0430\\u0442\\u044c \\u0434\\u0435\\u043d\\u044c\\u0433\\u0438\",\"\\u0410\\u043a\\u0442\\u0438\\u0432\\u043d\\u043e\\u0441\\u0442\\u044c \\u0431\\u043e\\u043b\\u044c\\u0448\\u0435 2 - look-alike 2\",\"\\u043f\\u043e\\u0436\\u0435\\u0440\\u0442\\u0432\\u043e\\u0432\\u0430\\u0442\\u044c \\u0444\\u043e\\u043d\\u0434\\u0443\",\"\\u043e\\u0444\\u0438\\u0446\\u0438\\u0430\\u043b\\u044c\\u043d\\u044b\\u0439 \\u0441\\u0430\\u0439\\u0442 \\u0431\\u043b\\u0430\\u0433\\u043e\\u0442\\u0432\\u043e\\u0440\\u0438\\u0442\\u0435\\u043b\\u044c\\u043d\\u043e\\u0433\\u043e \\u0444\\u043e\\u043d\\u0434\\u0430\",\"\\u0434\\u0435\\u043d\\u044c\\u0433\\u0438 +\\u043d\\u0430 \\u0431\\u043b\\u0430\\u0433\\u043e\\u0442\\u0432\\u043e\\u0440\\u0438\\u0442\\u0435\\u043b\\u044c\\u043d\\u043e\\u0441\\u0442\\u044c\",\"\\u0410\\u043a\\u0442\\u0438\\u0432\\u043d\\u043e\\u0441\\u0442\\u044c \\u0431\\u043e\\u043b\\u044c\\u0448\\u0435 2 - look-alike 4\",\"\\u0412\\u0435\\u0440\\u043d\\u0443\\u043b\\u0438\\u0441\\u044c \\u043d\\u0430 \\u0441\\u0430\\u0439\\u0442\",\"\\u0410\\u043a\\u0442\\u0438\\u0432\\u043d\\u043e\\u0441\\u0442\\u044c \\u0431\\u043e\\u043b\\u044c\\u0448\\u0435 2 - look-alike 5\",\"\\u0420\\u0430\\u0431\\u043e\\u0442\\u0430 (\\u0430\\u0444\\u0444\\u0438\\u043d\\u0438\\u0442\\u0438)\",\"\\u0410\\u043a\\u0442\\u0438\\u0432\\u043d\\u043e\\u0441\\u0442\\u044c \\u0431\\u043e\\u043b\\u044c\\u0448\\u0435 2 - look-alike 3\",\"\\u0432\\u043e\\u043b\\u043e\\u043d\\u0442\\u0435\\u0440\\u044b \\u0440\\u043e\\u0441\\u0441\\u0438\\u0438\",\"\\u0432\\u043e\\u043b\\u043e\\u043d\\u0442\\u0435\\u0440\\u044b \\u0441\\u0430\\u043d\\u043a\\u0442 \\u043f\\u0435\\u0442\\u0435\\u0440\\u0431\\u0443\\u0440\\u0433\\u0430\",\"\\u0432\\u043e\\u043b\\u043e\\u043d\\u0442\\u0435\\u0440 \\u0433\\u043e\\u0434\\u0430\",\"\\u0432\\u043e\\u043b\\u043e\\u043d\\u0442\\u0435\\u0440\\u044b \\u0441\\u043f\\u0431\"],\"xaxis\":\"x\",\"y\":[20461,2636,1081,670,623,620,545,511,456,445,437,355,276,268,223,211,208,201,200,193],\"yaxis\":\"y\",\"type\":\"bar\"}],                        {\"template\":{\"data\":{\"histogram2dcontour\":[{\"type\":\"histogram2dcontour\",\"colorbar\":{\"outlinewidth\":0,\"ticks\":\"\"},\"colorscale\":[[0.0,\"#0d0887\"],[0.1111111111111111,\"#46039f\"],[0.2222222222222222,\"#7201a8\"],[0.3333333333333333,\"#9c179e\"],[0.4444444444444444,\"#bd3786\"],[0.5555555555555556,\"#d8576b\"],[0.6666666666666666,\"#ed7953\"],[0.7777777777777778,\"#fb9f3a\"],[0.8888888888888888,\"#fdca26\"],[1.0,\"#f0f921\"]]}],\"choropleth\":[{\"type\":\"choropleth\",\"colorbar\":{\"outlinewidth\":0,\"ticks\":\"\"}}],\"histogram2d\":[{\"type\":\"histogram2d\",\"colorbar\":{\"outlinewidth\":0,\"ticks\":\"\"},\"colorscale\":[[0.0,\"#0d0887\"],[0.1111111111111111,\"#46039f\"],[0.2222222222222222,\"#7201a8\"],[0.3333333333333333,\"#9c179e\"],[0.4444444444444444,\"#bd3786\"],[0.5555555555555556,\"#d8576b\"],[0.6666666666666666,\"#ed7953\"],[0.7777777777777778,\"#fb9f3a\"],[0.8888888888888888,\"#fdca26\"],[1.0,\"#f0f921\"]]}],\"heatmap\":[{\"type\":\"heatmap\",\"colorbar\":{\"outlinewidth\":0,\"ticks\":\"\"},\"colorscale\":[[0.0,\"#0d0887\"],[0.1111111111111111,\"#46039f\"],[0.2222222222222222,\"#7201a8\"],[0.3333333333333333,\"#9c179e\"],[0.4444444444444444,\"#bd3786\"],[0.5555555555555556,\"#d8576b\"],[0.6666666666666666,\"#ed7953\"],[0.7777777777777778,\"#fb9f3a\"],[0.8888888888888888,\"#fdca26\"],[1.0,\"#f0f921\"]]}],\"heatmapgl\":[{\"type\":\"heatmapgl\",\"colorbar\":{\"outlinewidth\":0,\"ticks\":\"\"},\"colorscale\":[[0.0,\"#0d0887\"],[0.1111111111111111,\"#46039f\"],[0.2222222222222222,\"#7201a8\"],[0.3333333333333333,\"#9c179e\"],[0.4444444444444444,\"#bd3786\"],[0.5555555555555556,\"#d8576b\"],[0.6666666666666666,\"#ed7953\"],[0.7777777777777778,\"#fb9f3a\"],[0.8888888888888888,\"#fdca26\"],[1.0,\"#f0f921\"]]}],\"contourcarpet\":[{\"type\":\"contourcarpet\",\"colorbar\":{\"outlinewidth\":0,\"ticks\":\"\"}}],\"contour\":[{\"type\":\"contour\",\"colorbar\":{\"outlinewidth\":0,\"ticks\":\"\"},\"colorscale\":[[0.0,\"#0d0887\"],[0.1111111111111111,\"#46039f\"],[0.2222222222222222,\"#7201a8\"],[0.3333333333333333,\"#9c179e\"],[0.4444444444444444,\"#bd3786\"],[0.5555555555555556,\"#d8576b\"],[0.6666666666666666,\"#ed7953\"],[0.7777777777777778,\"#fb9f3a\"],[0.8888888888888888,\"#fdca26\"],[1.0,\"#f0f921\"]]}],\"surface\":[{\"type\":\"surface\",\"colorbar\":{\"outlinewidth\":0,\"ticks\":\"\"},\"colorscale\":[[0.0,\"#0d0887\"],[0.1111111111111111,\"#46039f\"],[0.2222222222222222,\"#7201a8\"],[0.3333333333333333,\"#9c179e\"],[0.4444444444444444,\"#bd3786\"],[0.5555555555555556,\"#d8576b\"],[0.6666666666666666,\"#ed7953\"],[0.7777777777777778,\"#fb9f3a\"],[0.8888888888888888,\"#fdca26\"],[1.0,\"#f0f921\"]]}],\"mesh3d\":[{\"type\":\"mesh3d\",\"colorbar\":{\"outlinewidth\":0,\"ticks\":\"\"}}],\"scatter\":[{\"fillpattern\":{\"fillmode\":\"overlay\",\"size\":10,\"solidity\":0.2},\"type\":\"scatter\"}],\"parcoords\":[{\"type\":\"parcoords\",\"line\":{\"colorbar\":{\"outlinewidth\":0,\"ticks\":\"\"}}}],\"scatterpolargl\":[{\"type\":\"scatterpolargl\",\"marker\":{\"colorbar\":{\"outlinewidth\":0,\"ticks\":\"\"}}}],\"bar\":[{\"error_x\":{\"color\":\"#2a3f5f\"},\"error_y\":{\"color\":\"#2a3f5f\"},\"marker\":{\"line\":{\"color\":\"#E5ECF6\",\"width\":0.5},\"pattern\":{\"fillmode\":\"overlay\",\"size\":10,\"solidity\":0.2}},\"type\":\"bar\"}],\"scattergeo\":[{\"type\":\"scattergeo\",\"marker\":{\"colorbar\":{\"outlinewidth\":0,\"ticks\":\"\"}}}],\"scatterpolar\":[{\"type\":\"scatterpolar\",\"marker\":{\"colorbar\":{\"outlinewidth\":0,\"ticks\":\"\"}}}],\"histogram\":[{\"marker\":{\"pattern\":{\"fillmode\":\"overlay\",\"size\":10,\"solidity\":0.2}},\"type\":\"histogram\"}],\"scattergl\":[{\"type\":\"scattergl\",\"marker\":{\"colorbar\":{\"outlinewidth\":0,\"ticks\":\"\"}}}],\"scatter3d\":[{\"type\":\"scatter3d\",\"line\":{\"colorbar\":{\"outlinewidth\":0,\"ticks\":\"\"}},\"marker\":{\"colorbar\":{\"outlinewidth\":0,\"ticks\":\"\"}}}],\"scattermapbox\":[{\"type\":\"scattermapbox\",\"marker\":{\"colorbar\":{\"outlinewidth\":0,\"ticks\":\"\"}}}],\"scatterternary\":[{\"type\":\"scatterternary\",\"marker\":{\"colorbar\":{\"outlinewidth\":0,\"ticks\":\"\"}}}],\"scattercarpet\":[{\"type\":\"scattercarpet\",\"marker\":{\"colorbar\":{\"outlinewidth\":0,\"ticks\":\"\"}}}],\"carpet\":[{\"aaxis\":{\"endlinecolor\":\"#2a3f5f\",\"gridcolor\":\"white\",\"linecolor\":\"white\",\"minorgridcolor\":\"white\",\"startlinecolor\":\"#2a3f5f\"},\"baxis\":{\"endlinecolor\":\"#2a3f5f\",\"gridcolor\":\"white\",\"linecolor\":\"white\",\"minorgridcolor\":\"white\",\"startlinecolor\":\"#2a3f5f\"},\"type\":\"carpet\"}],\"table\":[{\"cells\":{\"fill\":{\"color\":\"#EBF0F8\"},\"line\":{\"color\":\"white\"}},\"header\":{\"fill\":{\"color\":\"#C8D4E3\"},\"line\":{\"color\":\"white\"}},\"type\":\"table\"}],\"barpolar\":[{\"marker\":{\"line\":{\"color\":\"#E5ECF6\",\"width\":0.5},\"pattern\":{\"fillmode\":\"overlay\",\"size\":10,\"solidity\":0.2}},\"type\":\"barpolar\"}],\"pie\":[{\"automargin\":true,\"type\":\"pie\"}]},\"layout\":{\"autotypenumbers\":\"strict\",\"colorway\":[\"#636efa\",\"#EF553B\",\"#00cc96\",\"#ab63fa\",\"#FFA15A\",\"#19d3f3\",\"#FF6692\",\"#B6E880\",\"#FF97FF\",\"#FECB52\"],\"font\":{\"color\":\"#2a3f5f\"},\"hovermode\":\"closest\",\"hoverlabel\":{\"align\":\"left\"},\"paper_bgcolor\":\"white\",\"plot_bgcolor\":\"#E5ECF6\",\"polar\":{\"bgcolor\":\"#E5ECF6\",\"angularaxis\":{\"gridcolor\":\"white\",\"linecolor\":\"white\",\"ticks\":\"\"},\"radialaxis\":{\"gridcolor\":\"white\",\"linecolor\":\"white\",\"ticks\":\"\"}},\"ternary\":{\"bgcolor\":\"#E5ECF6\",\"aaxis\":{\"gridcolor\":\"white\",\"linecolor\":\"white\",\"ticks\":\"\"},\"baxis\":{\"gridcolor\":\"white\",\"linecolor\":\"white\",\"ticks\":\"\"},\"caxis\":{\"gridcolor\":\"white\",\"linecolor\":\"white\",\"ticks\":\"\"}},\"coloraxis\":{\"colorbar\":{\"outlinewidth\":0,\"ticks\":\"\"}},\"colorscale\":{\"sequential\":[[0.0,\"#0d0887\"],[0.1111111111111111,\"#46039f\"],[0.2222222222222222,\"#7201a8\"],[0.3333333333333333,\"#9c179e\"],[0.4444444444444444,\"#bd3786\"],[0.5555555555555556,\"#d8576b\"],[0.6666666666666666,\"#ed7953\"],[0.7777777777777778,\"#fb9f3a\"],[0.8888888888888888,\"#fdca26\"],[1.0,\"#f0f921\"]],\"sequentialminus\":[[0.0,\"#0d0887\"],[0.1111111111111111,\"#46039f\"],[0.2222222222222222,\"#7201a8\"],[0.3333333333333333,\"#9c179e\"],[0.4444444444444444,\"#bd3786\"],[0.5555555555555556,\"#d8576b\"],[0.6666666666666666,\"#ed7953\"],[0.7777777777777778,\"#fb9f3a\"],[0.8888888888888888,\"#fdca26\"],[1.0,\"#f0f921\"]],\"diverging\":[[0,\"#8e0152\"],[0.1,\"#c51b7d\"],[0.2,\"#de77ae\"],[0.3,\"#f1b6da\"],[0.4,\"#fde0ef\"],[0.5,\"#f7f7f7\"],[0.6,\"#e6f5d0\"],[0.7,\"#b8e186\"],[0.8,\"#7fbc41\"],[0.9,\"#4d9221\"],[1,\"#276419\"]]},\"xaxis\":{\"gridcolor\":\"white\",\"linecolor\":\"white\",\"ticks\":\"\",\"title\":{\"standoff\":15},\"zerolinecolor\":\"white\",\"automargin\":true,\"zerolinewidth\":2},\"yaxis\":{\"gridcolor\":\"white\",\"linecolor\":\"white\",\"ticks\":\"\",\"title\":{\"standoff\":15},\"zerolinecolor\":\"white\",\"automargin\":true,\"zerolinewidth\":2},\"scene\":{\"xaxis\":{\"backgroundcolor\":\"#E5ECF6\",\"gridcolor\":\"white\",\"linecolor\":\"white\",\"showbackground\":true,\"ticks\":\"\",\"zerolinecolor\":\"white\",\"gridwidth\":2},\"yaxis\":{\"backgroundcolor\":\"#E5ECF6\",\"gridcolor\":\"white\",\"linecolor\":\"white\",\"showbackground\":true,\"ticks\":\"\",\"zerolinecolor\":\"white\",\"gridwidth\":2},\"zaxis\":{\"backgroundcolor\":\"#E5ECF6\",\"gridcolor\":\"white\",\"linecolor\":\"white\",\"showbackground\":true,\"ticks\":\"\",\"zerolinecolor\":\"white\",\"gridwidth\":2}},\"shapedefaults\":{\"line\":{\"color\":\"#2a3f5f\"}},\"annotationdefaults\":{\"arrowcolor\":\"#2a3f5f\",\"arrowhead\":0,\"arrowwidth\":1},\"geo\":{\"bgcolor\":\"white\",\"landcolor\":\"#E5ECF6\",\"subunitcolor\":\"white\",\"showland\":true,\"showlakes\":true,\"lakecolor\":\"white\"},\"title\":{\"x\":0.05},\"mapbox\":{\"style\":\"light\"}}},\"xaxis\":{\"anchor\":\"y\",\"domain\":[0.0,1.0],\"title\":{\"text\":\"condition_showed\"}},\"yaxis\":{\"anchor\":\"x\",\"domain\":[0.0,1.0],\"title\":{\"text\":\"clicks\"}},\"coloraxis\":{\"colorbar\":{\"title\":{\"text\":\"ctr_perc\"}},\"colorscale\":[[0.0,\"#0d0887\"],[0.1111111111111111,\"#46039f\"],[0.2222222222222222,\"#7201a8\"],[0.3333333333333333,\"#9c179e\"],[0.4444444444444444,\"#bd3786\"],[0.5555555555555556,\"#d8576b\"],[0.6666666666666666,\"#ed7953\"],[0.7777777777777778,\"#fb9f3a\"],[0.8888888888888888,\"#fdca26\"],[1.0,\"#f0f921\"]]},\"legend\":{\"tracegroupgap\":0},\"margin\":{\"t\":60},\"barmode\":\"relative\",\"height\":800,\"width\":1200,\"title\":{\"text\":\"\\u041c\\u0430\\u043a\\u0441\\u0438\\u043c\\u0430\\u043b\\u044c\\u043d\\u043e\\u0435 \\u0447\\u0438\\u0441\\u043b\\u043e \\u043a\\u043b\\u0438\\u043a\\u043e\\u0432 \\u043f\\u043e \\\"\\u0423\\u0441\\u043b\\u043e\\u0432\\u0438\\u044e \\u043f\\u043e\\u043a\\u0430\\u0437\\u0430\\\"\"},\"annotations\":[{\"font\":{\"size\":14},\"showarrow\":false,\"text\":\"\\u0418\\u043d\\u0442\\u0435\\u043d\\u0441\\u0438\\u0432\\u043d\\u043e\\u0441\\u0442\\u044c \\u0446\\u0432\\u0435\\u0442\\u0430 \\u0441\\u043e\\u043e\\u0442\\u0432\\u0435\\u0442\\u0441\\u0442\\u0432\\u0443\\u0435\\u0442 \\u0447\\u0438\\u0441\\u043b\\u0443 \\u043f\\u043e\\u043a\\u0430\\u0437\\u043e\\u0432\",\"x\":0.5,\"xref\":\"paper\",\"y\":0.99,\"yref\":\"paper\"}]},                        {\"responsive\": true}                    ).then(function(){\n",
              "                            \n",
              "var gd = document.getElementById('e9055eb3-7042-4892-8d48-b73144acde71');\n",
              "var x = new MutationObserver(function (mutations, observer) {{\n",
              "        var display = window.getComputedStyle(gd).display;\n",
              "        if (!display || display === 'none') {{\n",
              "            console.log([gd, 'removed!']);\n",
              "            Plotly.purge(gd);\n",
              "            observer.disconnect();\n",
              "        }}\n",
              "}});\n",
              "\n",
              "// Listen for the removal of the full notebook cells\n",
              "var notebookContainer = gd.closest('#notebook-container');\n",
              "if (notebookContainer) {{\n",
              "    x.observe(notebookContainer, {childList: true});\n",
              "}}\n",
              "\n",
              "// Listen for the clearing of the current output cell\n",
              "var outputEl = gd.closest('.output');\n",
              "if (outputEl) {{\n",
              "    x.observe(outputEl, {childList: true});\n",
              "}}\n",
              "\n",
              "                        })                };                            </script>        </div>\n",
              "</body>\n",
              "</html>"
            ]
          },
          "metadata": {}
        }
      ]
    },
    {
      "cell_type": "markdown",
      "source": [
        "**Половина** всех кликов было сделано при условии показа **Autotargeting** (конверсия показа в клик = 0,34%).  \n",
        "На втором месте - **Благотворительность** (с конверсией выше среднего = 1.03%). В ТОП-20 по количеству кликов попали в основном тематичные условия показа, связанные с благотворительностью, фондами, волонтерством.\n"
      ],
      "metadata": {
        "id": "lMwWOw8vkaUa"
      }
    },
    {
      "cell_type": "markdown",
      "source": [
        "#### Срезы данных"
      ],
      "metadata": {
        "id": "Dj0dJSGEsjUC"
      }
    },
    {
      "cell_type": "code",
      "source": [
        "# Создадим сводную со срезом - конверсия от 1% и кол-во кликов более 50\n",
        "condition = table2(adgrants, 'condition_showed', 'shows', 'clicks')\n",
        "condition_1 = condition.query('clicks > 50 & ctr_perc >= 1')\n",
        "condition_1 = condition_1.sort_values(by='ctr_perc', ascending=False).head(20)\n",
        "condition_1 = condition_1.sort_values(by='clicks', ascending=False).head(20)\n",
        "condition_1.head()"
      ],
      "metadata": {
        "id": "bYqv7XxpaXIX",
        "colab": {
          "base_uri": "https://localhost:8080/",
          "height": 206
        },
        "outputId": "196b095a-747f-4b02-bcea-96508607e277"
      },
      "execution_count": null,
      "outputs": [
        {
          "output_type": "execute_result",
          "data": {
            "text/plain": [
              "                             condition_showed  clicks   shows  ctr_perc\n",
              "113                       благотворительность    2636  254767      1.03\n",
              "25                          Вернулись на сайт     276   17037      1.62\n",
              "763                     психиатр нарколог спб      89    8105      1.10\n",
              "778  психологическая помощь в спб -бесплатный      87    8673      1.00\n",
              "764                 психиатр петербург -санкт      85    7830      1.09"
            ],
            "text/html": [
              "\n",
              "  <div id=\"df-848e153d-0bcf-445b-b70e-80f229bf835e\" class=\"colab-df-container\">\n",
              "    <div>\n",
              "<style scoped>\n",
              "    .dataframe tbody tr th:only-of-type {\n",
              "        vertical-align: middle;\n",
              "    }\n",
              "\n",
              "    .dataframe tbody tr th {\n",
              "        vertical-align: top;\n",
              "    }\n",
              "\n",
              "    .dataframe thead th {\n",
              "        text-align: right;\n",
              "    }\n",
              "</style>\n",
              "<table border=\"1\" class=\"dataframe\">\n",
              "  <thead>\n",
              "    <tr style=\"text-align: right;\">\n",
              "      <th></th>\n",
              "      <th>condition_showed</th>\n",
              "      <th>clicks</th>\n",
              "      <th>shows</th>\n",
              "      <th>ctr_perc</th>\n",
              "    </tr>\n",
              "  </thead>\n",
              "  <tbody>\n",
              "    <tr>\n",
              "      <th>113</th>\n",
              "      <td>благотворительность</td>\n",
              "      <td>2636</td>\n",
              "      <td>254767</td>\n",
              "      <td>1.03</td>\n",
              "    </tr>\n",
              "    <tr>\n",
              "      <th>25</th>\n",
              "      <td>Вернулись на сайт</td>\n",
              "      <td>276</td>\n",
              "      <td>17037</td>\n",
              "      <td>1.62</td>\n",
              "    </tr>\n",
              "    <tr>\n",
              "      <th>763</th>\n",
              "      <td>психиатр нарколог спб</td>\n",
              "      <td>89</td>\n",
              "      <td>8105</td>\n",
              "      <td>1.10</td>\n",
              "    </tr>\n",
              "    <tr>\n",
              "      <th>778</th>\n",
              "      <td>психологическая помощь в спб -бесплатный</td>\n",
              "      <td>87</td>\n",
              "      <td>8673</td>\n",
              "      <td>1.00</td>\n",
              "    </tr>\n",
              "    <tr>\n",
              "      <th>764</th>\n",
              "      <td>психиатр петербург -санкт</td>\n",
              "      <td>85</td>\n",
              "      <td>7830</td>\n",
              "      <td>1.09</td>\n",
              "    </tr>\n",
              "  </tbody>\n",
              "</table>\n",
              "</div>\n",
              "    <div class=\"colab-df-buttons\">\n",
              "\n",
              "  <div class=\"colab-df-container\">\n",
              "    <button class=\"colab-df-convert\" onclick=\"convertToInteractive('df-848e153d-0bcf-445b-b70e-80f229bf835e')\"\n",
              "            title=\"Convert this dataframe to an interactive table.\"\n",
              "            style=\"display:none;\">\n",
              "\n",
              "  <svg xmlns=\"http://www.w3.org/2000/svg\" height=\"24px\" viewBox=\"0 -960 960 960\">\n",
              "    <path d=\"M120-120v-720h720v720H120Zm60-500h600v-160H180v160Zm220 220h160v-160H400v160Zm0 220h160v-160H400v160ZM180-400h160v-160H180v160Zm440 0h160v-160H620v160ZM180-180h160v-160H180v160Zm440 0h160v-160H620v160Z\"/>\n",
              "  </svg>\n",
              "    </button>\n",
              "\n",
              "  <style>\n",
              "    .colab-df-container {\n",
              "      display:flex;\n",
              "      gap: 12px;\n",
              "    }\n",
              "\n",
              "    .colab-df-convert {\n",
              "      background-color: #E8F0FE;\n",
              "      border: none;\n",
              "      border-radius: 50%;\n",
              "      cursor: pointer;\n",
              "      display: none;\n",
              "      fill: #1967D2;\n",
              "      height: 32px;\n",
              "      padding: 0 0 0 0;\n",
              "      width: 32px;\n",
              "    }\n",
              "\n",
              "    .colab-df-convert:hover {\n",
              "      background-color: #E2EBFA;\n",
              "      box-shadow: 0px 1px 2px rgba(60, 64, 67, 0.3), 0px 1px 3px 1px rgba(60, 64, 67, 0.15);\n",
              "      fill: #174EA6;\n",
              "    }\n",
              "\n",
              "    .colab-df-buttons div {\n",
              "      margin-bottom: 4px;\n",
              "    }\n",
              "\n",
              "    [theme=dark] .colab-df-convert {\n",
              "      background-color: #3B4455;\n",
              "      fill: #D2E3FC;\n",
              "    }\n",
              "\n",
              "    [theme=dark] .colab-df-convert:hover {\n",
              "      background-color: #434B5C;\n",
              "      box-shadow: 0px 1px 3px 1px rgba(0, 0, 0, 0.15);\n",
              "      filter: drop-shadow(0px 1px 2px rgba(0, 0, 0, 0.3));\n",
              "      fill: #FFFFFF;\n",
              "    }\n",
              "  </style>\n",
              "\n",
              "    <script>\n",
              "      const buttonEl =\n",
              "        document.querySelector('#df-848e153d-0bcf-445b-b70e-80f229bf835e button.colab-df-convert');\n",
              "      buttonEl.style.display =\n",
              "        google.colab.kernel.accessAllowed ? 'block' : 'none';\n",
              "\n",
              "      async function convertToInteractive(key) {\n",
              "        const element = document.querySelector('#df-848e153d-0bcf-445b-b70e-80f229bf835e');\n",
              "        const dataTable =\n",
              "          await google.colab.kernel.invokeFunction('convertToInteractive',\n",
              "                                                    [key], {});\n",
              "        if (!dataTable) return;\n",
              "\n",
              "        const docLinkHtml = 'Like what you see? Visit the ' +\n",
              "          '<a target=\"_blank\" href=https://colab.research.google.com/notebooks/data_table.ipynb>data table notebook</a>'\n",
              "          + ' to learn more about interactive tables.';\n",
              "        element.innerHTML = '';\n",
              "        dataTable['output_type'] = 'display_data';\n",
              "        await google.colab.output.renderOutput(dataTable, element);\n",
              "        const docLink = document.createElement('div');\n",
              "        docLink.innerHTML = docLinkHtml;\n",
              "        element.appendChild(docLink);\n",
              "      }\n",
              "    </script>\n",
              "  </div>\n",
              "\n",
              "\n",
              "<div id=\"df-df56d644-8485-44a4-85cc-4b9982caa5be\">\n",
              "  <button class=\"colab-df-quickchart\" onclick=\"quickchart('df-df56d644-8485-44a4-85cc-4b9982caa5be')\"\n",
              "            title=\"Suggest charts.\"\n",
              "            style=\"display:none;\">\n",
              "\n",
              "<svg xmlns=\"http://www.w3.org/2000/svg\" height=\"24px\"viewBox=\"0 0 24 24\"\n",
              "     width=\"24px\">\n",
              "    <g>\n",
              "        <path d=\"M19 3H5c-1.1 0-2 .9-2 2v14c0 1.1.9 2 2 2h14c1.1 0 2-.9 2-2V5c0-1.1-.9-2-2-2zM9 17H7v-7h2v7zm4 0h-2V7h2v10zm4 0h-2v-4h2v4z\"/>\n",
              "    </g>\n",
              "</svg>\n",
              "  </button>\n",
              "\n",
              "<style>\n",
              "  .colab-df-quickchart {\n",
              "      --bg-color: #E8F0FE;\n",
              "      --fill-color: #1967D2;\n",
              "      --hover-bg-color: #E2EBFA;\n",
              "      --hover-fill-color: #174EA6;\n",
              "      --disabled-fill-color: #AAA;\n",
              "      --disabled-bg-color: #DDD;\n",
              "  }\n",
              "\n",
              "  [theme=dark] .colab-df-quickchart {\n",
              "      --bg-color: #3B4455;\n",
              "      --fill-color: #D2E3FC;\n",
              "      --hover-bg-color: #434B5C;\n",
              "      --hover-fill-color: #FFFFFF;\n",
              "      --disabled-bg-color: #3B4455;\n",
              "      --disabled-fill-color: #666;\n",
              "  }\n",
              "\n",
              "  .colab-df-quickchart {\n",
              "    background-color: var(--bg-color);\n",
              "    border: none;\n",
              "    border-radius: 50%;\n",
              "    cursor: pointer;\n",
              "    display: none;\n",
              "    fill: var(--fill-color);\n",
              "    height: 32px;\n",
              "    padding: 0;\n",
              "    width: 32px;\n",
              "  }\n",
              "\n",
              "  .colab-df-quickchart:hover {\n",
              "    background-color: var(--hover-bg-color);\n",
              "    box-shadow: 0 1px 2px rgba(60, 64, 67, 0.3), 0 1px 3px 1px rgba(60, 64, 67, 0.15);\n",
              "    fill: var(--button-hover-fill-color);\n",
              "  }\n",
              "\n",
              "  .colab-df-quickchart-complete:disabled,\n",
              "  .colab-df-quickchart-complete:disabled:hover {\n",
              "    background-color: var(--disabled-bg-color);\n",
              "    fill: var(--disabled-fill-color);\n",
              "    box-shadow: none;\n",
              "  }\n",
              "\n",
              "  .colab-df-spinner {\n",
              "    border: 2px solid var(--fill-color);\n",
              "    border-color: transparent;\n",
              "    border-bottom-color: var(--fill-color);\n",
              "    animation:\n",
              "      spin 1s steps(1) infinite;\n",
              "  }\n",
              "\n",
              "  @keyframes spin {\n",
              "    0% {\n",
              "      border-color: transparent;\n",
              "      border-bottom-color: var(--fill-color);\n",
              "      border-left-color: var(--fill-color);\n",
              "    }\n",
              "    20% {\n",
              "      border-color: transparent;\n",
              "      border-left-color: var(--fill-color);\n",
              "      border-top-color: var(--fill-color);\n",
              "    }\n",
              "    30% {\n",
              "      border-color: transparent;\n",
              "      border-left-color: var(--fill-color);\n",
              "      border-top-color: var(--fill-color);\n",
              "      border-right-color: var(--fill-color);\n",
              "    }\n",
              "    40% {\n",
              "      border-color: transparent;\n",
              "      border-right-color: var(--fill-color);\n",
              "      border-top-color: var(--fill-color);\n",
              "    }\n",
              "    60% {\n",
              "      border-color: transparent;\n",
              "      border-right-color: var(--fill-color);\n",
              "    }\n",
              "    80% {\n",
              "      border-color: transparent;\n",
              "      border-right-color: var(--fill-color);\n",
              "      border-bottom-color: var(--fill-color);\n",
              "    }\n",
              "    90% {\n",
              "      border-color: transparent;\n",
              "      border-bottom-color: var(--fill-color);\n",
              "    }\n",
              "  }\n",
              "</style>\n",
              "\n",
              "  <script>\n",
              "    async function quickchart(key) {\n",
              "      const quickchartButtonEl =\n",
              "        document.querySelector('#' + key + ' button');\n",
              "      quickchartButtonEl.disabled = true;  // To prevent multiple clicks.\n",
              "      quickchartButtonEl.classList.add('colab-df-spinner');\n",
              "      try {\n",
              "        const charts = await google.colab.kernel.invokeFunction(\n",
              "            'suggestCharts', [key], {});\n",
              "      } catch (error) {\n",
              "        console.error('Error during call to suggestCharts:', error);\n",
              "      }\n",
              "      quickchartButtonEl.classList.remove('colab-df-spinner');\n",
              "      quickchartButtonEl.classList.add('colab-df-quickchart-complete');\n",
              "    }\n",
              "    (() => {\n",
              "      let quickchartButtonEl =\n",
              "        document.querySelector('#df-df56d644-8485-44a4-85cc-4b9982caa5be button');\n",
              "      quickchartButtonEl.style.display =\n",
              "        google.colab.kernel.accessAllowed ? 'block' : 'none';\n",
              "    })();\n",
              "  </script>\n",
              "</div>\n",
              "    </div>\n",
              "  </div>\n"
            ]
          },
          "metadata": {},
          "execution_count": 146
        }
      ]
    },
    {
      "cell_type": "code",
      "source": [
        "hist_color(condition_1, 'condition_showed', 'clicks', 'ctr_perc',\n",
        "           'Параметр \"Условие показа\", срез - высокая конверсия от 1% и более 50 кликов', 700, 1000)"
      ],
      "metadata": {
        "colab": {
          "base_uri": "https://localhost:8080/",
          "height": 717
        },
        "id": "XZnqh67Dh0fU",
        "outputId": "5534c187-e9eb-4242-f597-41e6c84a1276"
      },
      "execution_count": null,
      "outputs": [
        {
          "output_type": "display_data",
          "data": {
            "text/html": [
              "<html>\n",
              "<head><meta charset=\"utf-8\" /></head>\n",
              "<body>\n",
              "    <div>            <script src=\"https://cdnjs.cloudflare.com/ajax/libs/mathjax/2.7.5/MathJax.js?config=TeX-AMS-MML_SVG\"></script><script type=\"text/javascript\">if (window.MathJax && window.MathJax.Hub && window.MathJax.Hub.Config) {window.MathJax.Hub.Config({SVG: {font: \"STIX-Web\"}});}</script>                <script type=\"text/javascript\">window.PlotlyConfig = {MathJaxConfig: 'local'};</script>\n",
              "        <script charset=\"utf-8\" src=\"https://cdn.plot.ly/plotly-2.24.1.min.js\"></script>                <div id=\"2f760baf-bba3-4531-9348-09d2bd6514cb\" class=\"plotly-graph-div\" style=\"height:700px; width:1000px;\"></div>            <script type=\"text/javascript\">                                    window.PLOTLYENV=window.PLOTLYENV || {};                                    if (document.getElementById(\"2f760baf-bba3-4531-9348-09d2bd6514cb\")) {                    Plotly.newPlot(                        \"2f760baf-bba3-4531-9348-09d2bd6514cb\",                        [{\"alignmentgroup\":\"True\",\"hovertemplate\":\"condition_showed=%{x}\\u003cbr\\u003eclicks=%{y}\\u003cbr\\u003ectr_perc=%{marker.color}\\u003cextra\\u003e\\u003c\\u002fextra\\u003e\",\"legendgroup\":\"\",\"marker\":{\"color\":[1.03,1.62,1.1,1.0,1.09,1.02,1.0,1.02,1.04],\"coloraxis\":\"coloraxis\",\"pattern\":{\"shape\":\"\"}},\"name\":\"\",\"offsetgroup\":\"\",\"orientation\":\"v\",\"showlegend\":false,\"textposition\":\"auto\",\"x\":[\"\\u0431\\u043b\\u0430\\u0433\\u043e\\u0442\\u0432\\u043e\\u0440\\u0438\\u0442\\u0435\\u043b\\u044c\\u043d\\u043e\\u0441\\u0442\\u044c\",\"\\u0412\\u0435\\u0440\\u043d\\u0443\\u043b\\u0438\\u0441\\u044c \\u043d\\u0430 \\u0441\\u0430\\u0439\\u0442\",\"\\u043f\\u0441\\u0438\\u0445\\u0438\\u0430\\u0442\\u0440 \\u043d\\u0430\\u0440\\u043a\\u043e\\u043b\\u043e\\u0433 \\u0441\\u043f\\u0431\",\"\\u043f\\u0441\\u0438\\u0445\\u043e\\u043b\\u043e\\u0433\\u0438\\u0447\\u0435\\u0441\\u043a\\u0430\\u044f \\u043f\\u043e\\u043c\\u043e\\u0449\\u044c \\u0432 \\u0441\\u043f\\u0431 -\\u0431\\u0435\\u0441\\u043f\\u043b\\u0430\\u0442\\u043d\\u044b\\u0439\",\"\\u043f\\u0441\\u0438\\u0445\\u0438\\u0430\\u0442\\u0440 \\u043f\\u0435\\u0442\\u0435\\u0440\\u0431\\u0443\\u0440\\u0433 -\\u0441\\u0430\\u043d\\u043a\\u0442\",\"\\u0430\\u0434\\u0440\\u0435\\u0441\\u0430 \\u043f\\u0440\\u0438\\u044e\\u0442\\u0430 \\u0431\\u0435\\u0437\\u0434\\u043e\\u043c\\u043d\\u044b\\u0445\",\"\\u043f\\u0441\\u0438\\u0445\\u0438\\u0430\\u0442\\u0440 \\u0441\\u0430\\u043d\\u043a\\u0442 \\u043f\\u0435\\u0442\\u0435\\u0440\\u0431\\u0443\\u0440\\u0433\",\"\\u043f\\u043e\\u043c\\u043e\\u0433\\u0438\\u0442\\u0435 \\u043f\\u0438\\u0442\\u0435\\u0440\",\"\\u043f\\u043e\\u0433\\u043e\\u0434\\u0430 \\u0441\\u043f\\u0431 \\u0437\\u0430\\u0432\\u0442\\u0440\\u0430\"],\"xaxis\":\"x\",\"y\":[2636,276,89,87,85,83,80,78,61],\"yaxis\":\"y\",\"type\":\"bar\"}],                        {\"template\":{\"data\":{\"histogram2dcontour\":[{\"type\":\"histogram2dcontour\",\"colorbar\":{\"outlinewidth\":0,\"ticks\":\"\"},\"colorscale\":[[0.0,\"#0d0887\"],[0.1111111111111111,\"#46039f\"],[0.2222222222222222,\"#7201a8\"],[0.3333333333333333,\"#9c179e\"],[0.4444444444444444,\"#bd3786\"],[0.5555555555555556,\"#d8576b\"],[0.6666666666666666,\"#ed7953\"],[0.7777777777777778,\"#fb9f3a\"],[0.8888888888888888,\"#fdca26\"],[1.0,\"#f0f921\"]]}],\"choropleth\":[{\"type\":\"choropleth\",\"colorbar\":{\"outlinewidth\":0,\"ticks\":\"\"}}],\"histogram2d\":[{\"type\":\"histogram2d\",\"colorbar\":{\"outlinewidth\":0,\"ticks\":\"\"},\"colorscale\":[[0.0,\"#0d0887\"],[0.1111111111111111,\"#46039f\"],[0.2222222222222222,\"#7201a8\"],[0.3333333333333333,\"#9c179e\"],[0.4444444444444444,\"#bd3786\"],[0.5555555555555556,\"#d8576b\"],[0.6666666666666666,\"#ed7953\"],[0.7777777777777778,\"#fb9f3a\"],[0.8888888888888888,\"#fdca26\"],[1.0,\"#f0f921\"]]}],\"heatmap\":[{\"type\":\"heatmap\",\"colorbar\":{\"outlinewidth\":0,\"ticks\":\"\"},\"colorscale\":[[0.0,\"#0d0887\"],[0.1111111111111111,\"#46039f\"],[0.2222222222222222,\"#7201a8\"],[0.3333333333333333,\"#9c179e\"],[0.4444444444444444,\"#bd3786\"],[0.5555555555555556,\"#d8576b\"],[0.6666666666666666,\"#ed7953\"],[0.7777777777777778,\"#fb9f3a\"],[0.8888888888888888,\"#fdca26\"],[1.0,\"#f0f921\"]]}],\"heatmapgl\":[{\"type\":\"heatmapgl\",\"colorbar\":{\"outlinewidth\":0,\"ticks\":\"\"},\"colorscale\":[[0.0,\"#0d0887\"],[0.1111111111111111,\"#46039f\"],[0.2222222222222222,\"#7201a8\"],[0.3333333333333333,\"#9c179e\"],[0.4444444444444444,\"#bd3786\"],[0.5555555555555556,\"#d8576b\"],[0.6666666666666666,\"#ed7953\"],[0.7777777777777778,\"#fb9f3a\"],[0.8888888888888888,\"#fdca26\"],[1.0,\"#f0f921\"]]}],\"contourcarpet\":[{\"type\":\"contourcarpet\",\"colorbar\":{\"outlinewidth\":0,\"ticks\":\"\"}}],\"contour\":[{\"type\":\"contour\",\"colorbar\":{\"outlinewidth\":0,\"ticks\":\"\"},\"colorscale\":[[0.0,\"#0d0887\"],[0.1111111111111111,\"#46039f\"],[0.2222222222222222,\"#7201a8\"],[0.3333333333333333,\"#9c179e\"],[0.4444444444444444,\"#bd3786\"],[0.5555555555555556,\"#d8576b\"],[0.6666666666666666,\"#ed7953\"],[0.7777777777777778,\"#fb9f3a\"],[0.8888888888888888,\"#fdca26\"],[1.0,\"#f0f921\"]]}],\"surface\":[{\"type\":\"surface\",\"colorbar\":{\"outlinewidth\":0,\"ticks\":\"\"},\"colorscale\":[[0.0,\"#0d0887\"],[0.1111111111111111,\"#46039f\"],[0.2222222222222222,\"#7201a8\"],[0.3333333333333333,\"#9c179e\"],[0.4444444444444444,\"#bd3786\"],[0.5555555555555556,\"#d8576b\"],[0.6666666666666666,\"#ed7953\"],[0.7777777777777778,\"#fb9f3a\"],[0.8888888888888888,\"#fdca26\"],[1.0,\"#f0f921\"]]}],\"mesh3d\":[{\"type\":\"mesh3d\",\"colorbar\":{\"outlinewidth\":0,\"ticks\":\"\"}}],\"scatter\":[{\"fillpattern\":{\"fillmode\":\"overlay\",\"size\":10,\"solidity\":0.2},\"type\":\"scatter\"}],\"parcoords\":[{\"type\":\"parcoords\",\"line\":{\"colorbar\":{\"outlinewidth\":0,\"ticks\":\"\"}}}],\"scatterpolargl\":[{\"type\":\"scatterpolargl\",\"marker\":{\"colorbar\":{\"outlinewidth\":0,\"ticks\":\"\"}}}],\"bar\":[{\"error_x\":{\"color\":\"#2a3f5f\"},\"error_y\":{\"color\":\"#2a3f5f\"},\"marker\":{\"line\":{\"color\":\"#E5ECF6\",\"width\":0.5},\"pattern\":{\"fillmode\":\"overlay\",\"size\":10,\"solidity\":0.2}},\"type\":\"bar\"}],\"scattergeo\":[{\"type\":\"scattergeo\",\"marker\":{\"colorbar\":{\"outlinewidth\":0,\"ticks\":\"\"}}}],\"scatterpolar\":[{\"type\":\"scatterpolar\",\"marker\":{\"colorbar\":{\"outlinewidth\":0,\"ticks\":\"\"}}}],\"histogram\":[{\"marker\":{\"pattern\":{\"fillmode\":\"overlay\",\"size\":10,\"solidity\":0.2}},\"type\":\"histogram\"}],\"scattergl\":[{\"type\":\"scattergl\",\"marker\":{\"colorbar\":{\"outlinewidth\":0,\"ticks\":\"\"}}}],\"scatter3d\":[{\"type\":\"scatter3d\",\"line\":{\"colorbar\":{\"outlinewidth\":0,\"ticks\":\"\"}},\"marker\":{\"colorbar\":{\"outlinewidth\":0,\"ticks\":\"\"}}}],\"scattermapbox\":[{\"type\":\"scattermapbox\",\"marker\":{\"colorbar\":{\"outlinewidth\":0,\"ticks\":\"\"}}}],\"scatterternary\":[{\"type\":\"scatterternary\",\"marker\":{\"colorbar\":{\"outlinewidth\":0,\"ticks\":\"\"}}}],\"scattercarpet\":[{\"type\":\"scattercarpet\",\"marker\":{\"colorbar\":{\"outlinewidth\":0,\"ticks\":\"\"}}}],\"carpet\":[{\"aaxis\":{\"endlinecolor\":\"#2a3f5f\",\"gridcolor\":\"white\",\"linecolor\":\"white\",\"minorgridcolor\":\"white\",\"startlinecolor\":\"#2a3f5f\"},\"baxis\":{\"endlinecolor\":\"#2a3f5f\",\"gridcolor\":\"white\",\"linecolor\":\"white\",\"minorgridcolor\":\"white\",\"startlinecolor\":\"#2a3f5f\"},\"type\":\"carpet\"}],\"table\":[{\"cells\":{\"fill\":{\"color\":\"#EBF0F8\"},\"line\":{\"color\":\"white\"}},\"header\":{\"fill\":{\"color\":\"#C8D4E3\"},\"line\":{\"color\":\"white\"}},\"type\":\"table\"}],\"barpolar\":[{\"marker\":{\"line\":{\"color\":\"#E5ECF6\",\"width\":0.5},\"pattern\":{\"fillmode\":\"overlay\",\"size\":10,\"solidity\":0.2}},\"type\":\"barpolar\"}],\"pie\":[{\"automargin\":true,\"type\":\"pie\"}]},\"layout\":{\"autotypenumbers\":\"strict\",\"colorway\":[\"#636efa\",\"#EF553B\",\"#00cc96\",\"#ab63fa\",\"#FFA15A\",\"#19d3f3\",\"#FF6692\",\"#B6E880\",\"#FF97FF\",\"#FECB52\"],\"font\":{\"color\":\"#2a3f5f\"},\"hovermode\":\"closest\",\"hoverlabel\":{\"align\":\"left\"},\"paper_bgcolor\":\"white\",\"plot_bgcolor\":\"#E5ECF6\",\"polar\":{\"bgcolor\":\"#E5ECF6\",\"angularaxis\":{\"gridcolor\":\"white\",\"linecolor\":\"white\",\"ticks\":\"\"},\"radialaxis\":{\"gridcolor\":\"white\",\"linecolor\":\"white\",\"ticks\":\"\"}},\"ternary\":{\"bgcolor\":\"#E5ECF6\",\"aaxis\":{\"gridcolor\":\"white\",\"linecolor\":\"white\",\"ticks\":\"\"},\"baxis\":{\"gridcolor\":\"white\",\"linecolor\":\"white\",\"ticks\":\"\"},\"caxis\":{\"gridcolor\":\"white\",\"linecolor\":\"white\",\"ticks\":\"\"}},\"coloraxis\":{\"colorbar\":{\"outlinewidth\":0,\"ticks\":\"\"}},\"colorscale\":{\"sequential\":[[0.0,\"#0d0887\"],[0.1111111111111111,\"#46039f\"],[0.2222222222222222,\"#7201a8\"],[0.3333333333333333,\"#9c179e\"],[0.4444444444444444,\"#bd3786\"],[0.5555555555555556,\"#d8576b\"],[0.6666666666666666,\"#ed7953\"],[0.7777777777777778,\"#fb9f3a\"],[0.8888888888888888,\"#fdca26\"],[1.0,\"#f0f921\"]],\"sequentialminus\":[[0.0,\"#0d0887\"],[0.1111111111111111,\"#46039f\"],[0.2222222222222222,\"#7201a8\"],[0.3333333333333333,\"#9c179e\"],[0.4444444444444444,\"#bd3786\"],[0.5555555555555556,\"#d8576b\"],[0.6666666666666666,\"#ed7953\"],[0.7777777777777778,\"#fb9f3a\"],[0.8888888888888888,\"#fdca26\"],[1.0,\"#f0f921\"]],\"diverging\":[[0,\"#8e0152\"],[0.1,\"#c51b7d\"],[0.2,\"#de77ae\"],[0.3,\"#f1b6da\"],[0.4,\"#fde0ef\"],[0.5,\"#f7f7f7\"],[0.6,\"#e6f5d0\"],[0.7,\"#b8e186\"],[0.8,\"#7fbc41\"],[0.9,\"#4d9221\"],[1,\"#276419\"]]},\"xaxis\":{\"gridcolor\":\"white\",\"linecolor\":\"white\",\"ticks\":\"\",\"title\":{\"standoff\":15},\"zerolinecolor\":\"white\",\"automargin\":true,\"zerolinewidth\":2},\"yaxis\":{\"gridcolor\":\"white\",\"linecolor\":\"white\",\"ticks\":\"\",\"title\":{\"standoff\":15},\"zerolinecolor\":\"white\",\"automargin\":true,\"zerolinewidth\":2},\"scene\":{\"xaxis\":{\"backgroundcolor\":\"#E5ECF6\",\"gridcolor\":\"white\",\"linecolor\":\"white\",\"showbackground\":true,\"ticks\":\"\",\"zerolinecolor\":\"white\",\"gridwidth\":2},\"yaxis\":{\"backgroundcolor\":\"#E5ECF6\",\"gridcolor\":\"white\",\"linecolor\":\"white\",\"showbackground\":true,\"ticks\":\"\",\"zerolinecolor\":\"white\",\"gridwidth\":2},\"zaxis\":{\"backgroundcolor\":\"#E5ECF6\",\"gridcolor\":\"white\",\"linecolor\":\"white\",\"showbackground\":true,\"ticks\":\"\",\"zerolinecolor\":\"white\",\"gridwidth\":2}},\"shapedefaults\":{\"line\":{\"color\":\"#2a3f5f\"}},\"annotationdefaults\":{\"arrowcolor\":\"#2a3f5f\",\"arrowhead\":0,\"arrowwidth\":1},\"geo\":{\"bgcolor\":\"white\",\"landcolor\":\"#E5ECF6\",\"subunitcolor\":\"white\",\"showland\":true,\"showlakes\":true,\"lakecolor\":\"white\"},\"title\":{\"x\":0.05},\"mapbox\":{\"style\":\"light\"}}},\"xaxis\":{\"anchor\":\"y\",\"domain\":[0.0,1.0],\"title\":{\"text\":\"condition_showed\"}},\"yaxis\":{\"anchor\":\"x\",\"domain\":[0.0,1.0],\"title\":{\"text\":\"clicks\"}},\"coloraxis\":{\"colorbar\":{\"title\":{\"text\":\"ctr_perc\"}},\"colorscale\":[[0.0,\"#0d0887\"],[0.1111111111111111,\"#46039f\"],[0.2222222222222222,\"#7201a8\"],[0.3333333333333333,\"#9c179e\"],[0.4444444444444444,\"#bd3786\"],[0.5555555555555556,\"#d8576b\"],[0.6666666666666666,\"#ed7953\"],[0.7777777777777778,\"#fb9f3a\"],[0.8888888888888888,\"#fdca26\"],[1.0,\"#f0f921\"]]},\"legend\":{\"tracegroupgap\":0},\"margin\":{\"t\":60},\"barmode\":\"relative\",\"height\":700,\"width\":1000,\"title\":{\"text\":\"\\u041f\\u0430\\u0440\\u0430\\u043c\\u0435\\u0442\\u0440 \\\"\\u0423\\u0441\\u043b\\u043e\\u0432\\u0438\\u0435 \\u043f\\u043e\\u043a\\u0430\\u0437\\u0430\\\", \\u0441\\u0440\\u0435\\u0437 - \\u0432\\u044b\\u0441\\u043e\\u043a\\u0430\\u044f \\u043a\\u043e\\u043d\\u0432\\u0435\\u0440\\u0441\\u0438\\u044f \\u043e\\u0442 1% \\u0438 \\u0431\\u043e\\u043b\\u0435\\u0435 50 \\u043a\\u043b\\u0438\\u043a\\u043e\\u0432\"}},                        {\"responsive\": true}                    ).then(function(){\n",
              "                            \n",
              "var gd = document.getElementById('2f760baf-bba3-4531-9348-09d2bd6514cb');\n",
              "var x = new MutationObserver(function (mutations, observer) {{\n",
              "        var display = window.getComputedStyle(gd).display;\n",
              "        if (!display || display === 'none') {{\n",
              "            console.log([gd, 'removed!']);\n",
              "            Plotly.purge(gd);\n",
              "            observer.disconnect();\n",
              "        }}\n",
              "}});\n",
              "\n",
              "// Listen for the removal of the full notebook cells\n",
              "var notebookContainer = gd.closest('#notebook-container');\n",
              "if (notebookContainer) {{\n",
              "    x.observe(notebookContainer, {childList: true});\n",
              "}}\n",
              "\n",
              "// Listen for the clearing of the current output cell\n",
              "var outputEl = gd.closest('.output');\n",
              "if (outputEl) {{\n",
              "    x.observe(outputEl, {childList: true});\n",
              "}}\n",
              "\n",
              "                        })                };                            </script>        </div>\n",
              "</body>\n",
              "</html>"
            ]
          },
          "metadata": {}
        }
      ]
    },
    {
      "cell_type": "markdown",
      "source": [
        "В срезе данных с **высокой конверсией, от 1%** появляются условия показов, связанные с **психологической и психиатрической помощью, и погодой.**"
      ],
      "metadata": {
        "id": "-mIwP2wKuQWB"
      }
    },
    {
      "cell_type": "code",
      "source": [
        "# Создадим сводную со срезом - конверсия от 0.6% и кол-во кликов более 100\n",
        "condition_2 = condition.query('clicks > 100 & ctr_perc >= 0.6')\n",
        "condition_2 = condition_2.sort_values(by='ctr_perc', ascending=False).head(20)\n",
        "condition_2 = condition_2.sort_values(by='clicks', ascending=False).head(20)"
      ],
      "metadata": {
        "id": "oMkuwBmgVBb8"
      },
      "execution_count": null,
      "outputs": []
    },
    {
      "cell_type": "code",
      "source": [
        "hist_color(condition_2, 'condition_showed', 'clicks', 'ctr_perc',\n",
        "           'Параметр \"Условие показа\", срез - хорошая конверсия от 0.6% и более 100 кликов', 700, 1000)"
      ],
      "metadata": {
        "colab": {
          "base_uri": "https://localhost:8080/",
          "height": 717
        },
        "id": "1b4RElwmgrlw",
        "outputId": "5c63026f-3857-4a26-d7ad-4f35a3281e11"
      },
      "execution_count": null,
      "outputs": [
        {
          "output_type": "display_data",
          "data": {
            "text/html": [
              "<html>\n",
              "<head><meta charset=\"utf-8\" /></head>\n",
              "<body>\n",
              "    <div>            <script src=\"https://cdnjs.cloudflare.com/ajax/libs/mathjax/2.7.5/MathJax.js?config=TeX-AMS-MML_SVG\"></script><script type=\"text/javascript\">if (window.MathJax && window.MathJax.Hub && window.MathJax.Hub.Config) {window.MathJax.Hub.Config({SVG: {font: \"STIX-Web\"}});}</script>                <script type=\"text/javascript\">window.PlotlyConfig = {MathJaxConfig: 'local'};</script>\n",
              "        <script charset=\"utf-8\" src=\"https://cdn.plot.ly/plotly-2.24.1.min.js\"></script>                <div id=\"d29221c0-1673-459d-977a-afa0a6c898ec\" class=\"plotly-graph-div\" style=\"height:700px; width:1000px;\"></div>            <script type=\"text/javascript\">                                    window.PLOTLYENV=window.PLOTLYENV || {};                                    if (document.getElementById(\"d29221c0-1673-459d-977a-afa0a6c898ec\")) {                    Plotly.newPlot(                        \"d29221c0-1673-459d-977a-afa0a6c898ec\",                        [{\"alignmentgroup\":\"True\",\"hovertemplate\":\"condition_showed=%{x}\\u003cbr\\u003eclicks=%{y}\\u003cbr\\u003ectr_perc=%{marker.color}\\u003cextra\\u003e\\u003c\\u002fextra\\u003e\",\"legendgroup\":\"\",\"marker\":{\"color\":[1.03,0.66,0.6,0.62,0.67,0.61,0.77,0.61,0.63,1.62,0.61],\"coloraxis\":\"coloraxis\",\"pattern\":{\"shape\":\"\"}},\"name\":\"\",\"offsetgroup\":\"\",\"orientation\":\"v\",\"showlegend\":false,\"textposition\":\"auto\",\"x\":[\"\\u0431\\u043b\\u0430\\u0433\\u043e\\u0442\\u0432\\u043e\\u0440\\u0438\\u0442\\u0435\\u043b\\u044c\\u043d\\u043e\\u0441\\u0442\\u044c\",\"\\u0431\\u043b\\u0430\\u0433\\u043e\\u0442\\u0432\\u043e\\u0440\\u0438\\u0442\\u0435\\u043b\\u044c\\u043d\\u044b\\u0439 \\u0444\\u043e\\u043d\\u0434\",\"\\u043f\\u043e\\u0436\\u0435\\u0440\\u0442\\u0432\\u043e\\u0432\\u0430\\u043d\\u0438\\u0435\",\"\\u043f\\u043e\\u043c\\u043e\\u0449\\u044c \\u0431\\u0435\\u0437\\u0434\\u043e\\u043c\\u043d\\u044b\\u043c\",\"\\u0444\\u043e\\u043d\\u0434 \\u043f\\u043e\\u043c\\u043e\\u0449\\u0438\",\"\\u043f\\u043e\\u0436\\u0435\\u0440\\u0442\\u0432\\u043e\\u0432\\u0430\\u0442\\u044c \\u0434\\u0435\\u043d\\u044c\\u0433\\u0438\",\"\\u0410\\u043a\\u0442\\u0438\\u0432\\u043d\\u043e\\u0441\\u0442\\u044c \\u0431\\u043e\\u043b\\u044c\\u0448\\u0435 2 - look-alike 2\",\"\\u043f\\u043e\\u0436\\u0435\\u0440\\u0442\\u0432\\u043e\\u0432\\u0430\\u0442\\u044c \\u0444\\u043e\\u043d\\u0434\\u0443\",\"\\u043e\\u0444\\u0438\\u0446\\u0438\\u0430\\u043b\\u044c\\u043d\\u044b\\u0439 \\u0441\\u0430\\u0439\\u0442 \\u0431\\u043b\\u0430\\u0433\\u043e\\u0442\\u0432\\u043e\\u0440\\u0438\\u0442\\u0435\\u043b\\u044c\\u043d\\u043e\\u0433\\u043e \\u0444\\u043e\\u043d\\u0434\\u0430\",\"\\u0412\\u0435\\u0440\\u043d\\u0443\\u043b\\u0438\\u0441\\u044c \\u043d\\u0430 \\u0441\\u0430\\u0439\\u0442\",\"\\u0410\\u043a\\u0442\\u0438\\u0432\\u043d\\u043e\\u0441\\u0442\\u044c \\u0431\\u043e\\u043b\\u044c\\u0448\\u0435 2 - look-alike 3\"],\"xaxis\":\"x\",\"y\":[2636,1081,670,623,620,545,511,456,445,276,211],\"yaxis\":\"y\",\"type\":\"bar\"}],                        {\"template\":{\"data\":{\"histogram2dcontour\":[{\"type\":\"histogram2dcontour\",\"colorbar\":{\"outlinewidth\":0,\"ticks\":\"\"},\"colorscale\":[[0.0,\"#0d0887\"],[0.1111111111111111,\"#46039f\"],[0.2222222222222222,\"#7201a8\"],[0.3333333333333333,\"#9c179e\"],[0.4444444444444444,\"#bd3786\"],[0.5555555555555556,\"#d8576b\"],[0.6666666666666666,\"#ed7953\"],[0.7777777777777778,\"#fb9f3a\"],[0.8888888888888888,\"#fdca26\"],[1.0,\"#f0f921\"]]}],\"choropleth\":[{\"type\":\"choropleth\",\"colorbar\":{\"outlinewidth\":0,\"ticks\":\"\"}}],\"histogram2d\":[{\"type\":\"histogram2d\",\"colorbar\":{\"outlinewidth\":0,\"ticks\":\"\"},\"colorscale\":[[0.0,\"#0d0887\"],[0.1111111111111111,\"#46039f\"],[0.2222222222222222,\"#7201a8\"],[0.3333333333333333,\"#9c179e\"],[0.4444444444444444,\"#bd3786\"],[0.5555555555555556,\"#d8576b\"],[0.6666666666666666,\"#ed7953\"],[0.7777777777777778,\"#fb9f3a\"],[0.8888888888888888,\"#fdca26\"],[1.0,\"#f0f921\"]]}],\"heatmap\":[{\"type\":\"heatmap\",\"colorbar\":{\"outlinewidth\":0,\"ticks\":\"\"},\"colorscale\":[[0.0,\"#0d0887\"],[0.1111111111111111,\"#46039f\"],[0.2222222222222222,\"#7201a8\"],[0.3333333333333333,\"#9c179e\"],[0.4444444444444444,\"#bd3786\"],[0.5555555555555556,\"#d8576b\"],[0.6666666666666666,\"#ed7953\"],[0.7777777777777778,\"#fb9f3a\"],[0.8888888888888888,\"#fdca26\"],[1.0,\"#f0f921\"]]}],\"heatmapgl\":[{\"type\":\"heatmapgl\",\"colorbar\":{\"outlinewidth\":0,\"ticks\":\"\"},\"colorscale\":[[0.0,\"#0d0887\"],[0.1111111111111111,\"#46039f\"],[0.2222222222222222,\"#7201a8\"],[0.3333333333333333,\"#9c179e\"],[0.4444444444444444,\"#bd3786\"],[0.5555555555555556,\"#d8576b\"],[0.6666666666666666,\"#ed7953\"],[0.7777777777777778,\"#fb9f3a\"],[0.8888888888888888,\"#fdca26\"],[1.0,\"#f0f921\"]]}],\"contourcarpet\":[{\"type\":\"contourcarpet\",\"colorbar\":{\"outlinewidth\":0,\"ticks\":\"\"}}],\"contour\":[{\"type\":\"contour\",\"colorbar\":{\"outlinewidth\":0,\"ticks\":\"\"},\"colorscale\":[[0.0,\"#0d0887\"],[0.1111111111111111,\"#46039f\"],[0.2222222222222222,\"#7201a8\"],[0.3333333333333333,\"#9c179e\"],[0.4444444444444444,\"#bd3786\"],[0.5555555555555556,\"#d8576b\"],[0.6666666666666666,\"#ed7953\"],[0.7777777777777778,\"#fb9f3a\"],[0.8888888888888888,\"#fdca26\"],[1.0,\"#f0f921\"]]}],\"surface\":[{\"type\":\"surface\",\"colorbar\":{\"outlinewidth\":0,\"ticks\":\"\"},\"colorscale\":[[0.0,\"#0d0887\"],[0.1111111111111111,\"#46039f\"],[0.2222222222222222,\"#7201a8\"],[0.3333333333333333,\"#9c179e\"],[0.4444444444444444,\"#bd3786\"],[0.5555555555555556,\"#d8576b\"],[0.6666666666666666,\"#ed7953\"],[0.7777777777777778,\"#fb9f3a\"],[0.8888888888888888,\"#fdca26\"],[1.0,\"#f0f921\"]]}],\"mesh3d\":[{\"type\":\"mesh3d\",\"colorbar\":{\"outlinewidth\":0,\"ticks\":\"\"}}],\"scatter\":[{\"fillpattern\":{\"fillmode\":\"overlay\",\"size\":10,\"solidity\":0.2},\"type\":\"scatter\"}],\"parcoords\":[{\"type\":\"parcoords\",\"line\":{\"colorbar\":{\"outlinewidth\":0,\"ticks\":\"\"}}}],\"scatterpolargl\":[{\"type\":\"scatterpolargl\",\"marker\":{\"colorbar\":{\"outlinewidth\":0,\"ticks\":\"\"}}}],\"bar\":[{\"error_x\":{\"color\":\"#2a3f5f\"},\"error_y\":{\"color\":\"#2a3f5f\"},\"marker\":{\"line\":{\"color\":\"#E5ECF6\",\"width\":0.5},\"pattern\":{\"fillmode\":\"overlay\",\"size\":10,\"solidity\":0.2}},\"type\":\"bar\"}],\"scattergeo\":[{\"type\":\"scattergeo\",\"marker\":{\"colorbar\":{\"outlinewidth\":0,\"ticks\":\"\"}}}],\"scatterpolar\":[{\"type\":\"scatterpolar\",\"marker\":{\"colorbar\":{\"outlinewidth\":0,\"ticks\":\"\"}}}],\"histogram\":[{\"marker\":{\"pattern\":{\"fillmode\":\"overlay\",\"size\":10,\"solidity\":0.2}},\"type\":\"histogram\"}],\"scattergl\":[{\"type\":\"scattergl\",\"marker\":{\"colorbar\":{\"outlinewidth\":0,\"ticks\":\"\"}}}],\"scatter3d\":[{\"type\":\"scatter3d\",\"line\":{\"colorbar\":{\"outlinewidth\":0,\"ticks\":\"\"}},\"marker\":{\"colorbar\":{\"outlinewidth\":0,\"ticks\":\"\"}}}],\"scattermapbox\":[{\"type\":\"scattermapbox\",\"marker\":{\"colorbar\":{\"outlinewidth\":0,\"ticks\":\"\"}}}],\"scatterternary\":[{\"type\":\"scatterternary\",\"marker\":{\"colorbar\":{\"outlinewidth\":0,\"ticks\":\"\"}}}],\"scattercarpet\":[{\"type\":\"scattercarpet\",\"marker\":{\"colorbar\":{\"outlinewidth\":0,\"ticks\":\"\"}}}],\"carpet\":[{\"aaxis\":{\"endlinecolor\":\"#2a3f5f\",\"gridcolor\":\"white\",\"linecolor\":\"white\",\"minorgridcolor\":\"white\",\"startlinecolor\":\"#2a3f5f\"},\"baxis\":{\"endlinecolor\":\"#2a3f5f\",\"gridcolor\":\"white\",\"linecolor\":\"white\",\"minorgridcolor\":\"white\",\"startlinecolor\":\"#2a3f5f\"},\"type\":\"carpet\"}],\"table\":[{\"cells\":{\"fill\":{\"color\":\"#EBF0F8\"},\"line\":{\"color\":\"white\"}},\"header\":{\"fill\":{\"color\":\"#C8D4E3\"},\"line\":{\"color\":\"white\"}},\"type\":\"table\"}],\"barpolar\":[{\"marker\":{\"line\":{\"color\":\"#E5ECF6\",\"width\":0.5},\"pattern\":{\"fillmode\":\"overlay\",\"size\":10,\"solidity\":0.2}},\"type\":\"barpolar\"}],\"pie\":[{\"automargin\":true,\"type\":\"pie\"}]},\"layout\":{\"autotypenumbers\":\"strict\",\"colorway\":[\"#636efa\",\"#EF553B\",\"#00cc96\",\"#ab63fa\",\"#FFA15A\",\"#19d3f3\",\"#FF6692\",\"#B6E880\",\"#FF97FF\",\"#FECB52\"],\"font\":{\"color\":\"#2a3f5f\"},\"hovermode\":\"closest\",\"hoverlabel\":{\"align\":\"left\"},\"paper_bgcolor\":\"white\",\"plot_bgcolor\":\"#E5ECF6\",\"polar\":{\"bgcolor\":\"#E5ECF6\",\"angularaxis\":{\"gridcolor\":\"white\",\"linecolor\":\"white\",\"ticks\":\"\"},\"radialaxis\":{\"gridcolor\":\"white\",\"linecolor\":\"white\",\"ticks\":\"\"}},\"ternary\":{\"bgcolor\":\"#E5ECF6\",\"aaxis\":{\"gridcolor\":\"white\",\"linecolor\":\"white\",\"ticks\":\"\"},\"baxis\":{\"gridcolor\":\"white\",\"linecolor\":\"white\",\"ticks\":\"\"},\"caxis\":{\"gridcolor\":\"white\",\"linecolor\":\"white\",\"ticks\":\"\"}},\"coloraxis\":{\"colorbar\":{\"outlinewidth\":0,\"ticks\":\"\"}},\"colorscale\":{\"sequential\":[[0.0,\"#0d0887\"],[0.1111111111111111,\"#46039f\"],[0.2222222222222222,\"#7201a8\"],[0.3333333333333333,\"#9c179e\"],[0.4444444444444444,\"#bd3786\"],[0.5555555555555556,\"#d8576b\"],[0.6666666666666666,\"#ed7953\"],[0.7777777777777778,\"#fb9f3a\"],[0.8888888888888888,\"#fdca26\"],[1.0,\"#f0f921\"]],\"sequentialminus\":[[0.0,\"#0d0887\"],[0.1111111111111111,\"#46039f\"],[0.2222222222222222,\"#7201a8\"],[0.3333333333333333,\"#9c179e\"],[0.4444444444444444,\"#bd3786\"],[0.5555555555555556,\"#d8576b\"],[0.6666666666666666,\"#ed7953\"],[0.7777777777777778,\"#fb9f3a\"],[0.8888888888888888,\"#fdca26\"],[1.0,\"#f0f921\"]],\"diverging\":[[0,\"#8e0152\"],[0.1,\"#c51b7d\"],[0.2,\"#de77ae\"],[0.3,\"#f1b6da\"],[0.4,\"#fde0ef\"],[0.5,\"#f7f7f7\"],[0.6,\"#e6f5d0\"],[0.7,\"#b8e186\"],[0.8,\"#7fbc41\"],[0.9,\"#4d9221\"],[1,\"#276419\"]]},\"xaxis\":{\"gridcolor\":\"white\",\"linecolor\":\"white\",\"ticks\":\"\",\"title\":{\"standoff\":15},\"zerolinecolor\":\"white\",\"automargin\":true,\"zerolinewidth\":2},\"yaxis\":{\"gridcolor\":\"white\",\"linecolor\":\"white\",\"ticks\":\"\",\"title\":{\"standoff\":15},\"zerolinecolor\":\"white\",\"automargin\":true,\"zerolinewidth\":2},\"scene\":{\"xaxis\":{\"backgroundcolor\":\"#E5ECF6\",\"gridcolor\":\"white\",\"linecolor\":\"white\",\"showbackground\":true,\"ticks\":\"\",\"zerolinecolor\":\"white\",\"gridwidth\":2},\"yaxis\":{\"backgroundcolor\":\"#E5ECF6\",\"gridcolor\":\"white\",\"linecolor\":\"white\",\"showbackground\":true,\"ticks\":\"\",\"zerolinecolor\":\"white\",\"gridwidth\":2},\"zaxis\":{\"backgroundcolor\":\"#E5ECF6\",\"gridcolor\":\"white\",\"linecolor\":\"white\",\"showbackground\":true,\"ticks\":\"\",\"zerolinecolor\":\"white\",\"gridwidth\":2}},\"shapedefaults\":{\"line\":{\"color\":\"#2a3f5f\"}},\"annotationdefaults\":{\"arrowcolor\":\"#2a3f5f\",\"arrowhead\":0,\"arrowwidth\":1},\"geo\":{\"bgcolor\":\"white\",\"landcolor\":\"#E5ECF6\",\"subunitcolor\":\"white\",\"showland\":true,\"showlakes\":true,\"lakecolor\":\"white\"},\"title\":{\"x\":0.05},\"mapbox\":{\"style\":\"light\"}}},\"xaxis\":{\"anchor\":\"y\",\"domain\":[0.0,1.0],\"title\":{\"text\":\"condition_showed\"}},\"yaxis\":{\"anchor\":\"x\",\"domain\":[0.0,1.0],\"title\":{\"text\":\"clicks\"}},\"coloraxis\":{\"colorbar\":{\"title\":{\"text\":\"ctr_perc\"}},\"colorscale\":[[0.0,\"#0d0887\"],[0.1111111111111111,\"#46039f\"],[0.2222222222222222,\"#7201a8\"],[0.3333333333333333,\"#9c179e\"],[0.4444444444444444,\"#bd3786\"],[0.5555555555555556,\"#d8576b\"],[0.6666666666666666,\"#ed7953\"],[0.7777777777777778,\"#fb9f3a\"],[0.8888888888888888,\"#fdca26\"],[1.0,\"#f0f921\"]]},\"legend\":{\"tracegroupgap\":0},\"margin\":{\"t\":60},\"barmode\":\"relative\",\"height\":700,\"width\":1000,\"title\":{\"text\":\"\\u041f\\u0430\\u0440\\u0430\\u043c\\u0435\\u0442\\u0440 \\\"\\u0423\\u0441\\u043b\\u043e\\u0432\\u0438\\u0435 \\u043f\\u043e\\u043a\\u0430\\u0437\\u0430\\\", \\u0441\\u0440\\u0435\\u0437 - \\u0445\\u043e\\u0440\\u043e\\u0448\\u0430\\u044f \\u043a\\u043e\\u043d\\u0432\\u0435\\u0440\\u0441\\u0438\\u044f \\u043e\\u0442 0.6% \\u0438 \\u0431\\u043e\\u043b\\u0435\\u0435 100 \\u043a\\u043b\\u0438\\u043a\\u043e\\u0432\"}},                        {\"responsive\": true}                    ).then(function(){\n",
              "                            \n",
              "var gd = document.getElementById('d29221c0-1673-459d-977a-afa0a6c898ec');\n",
              "var x = new MutationObserver(function (mutations, observer) {{\n",
              "        var display = window.getComputedStyle(gd).display;\n",
              "        if (!display || display === 'none') {{\n",
              "            console.log([gd, 'removed!']);\n",
              "            Plotly.purge(gd);\n",
              "            observer.disconnect();\n",
              "        }}\n",
              "}});\n",
              "\n",
              "// Listen for the removal of the full notebook cells\n",
              "var notebookContainer = gd.closest('#notebook-container');\n",
              "if (notebookContainer) {{\n",
              "    x.observe(notebookContainer, {childList: true});\n",
              "}}\n",
              "\n",
              "// Listen for the clearing of the current output cell\n",
              "var outputEl = gd.closest('.output');\n",
              "if (outputEl) {{\n",
              "    x.observe(outputEl, {childList: true});\n",
              "}}\n",
              "\n",
              "                        })                };                            </script>        </div>\n",
              "</body>\n",
              "</html>"
            ]
          },
          "metadata": {}
        }
      ]
    },
    {
      "cell_type": "markdown",
      "source": [
        "В срезе с конверсией выше среднего и большим количеством кликов рубрики показов не отличаются от графика по всем данным."
      ],
      "metadata": {
        "id": "7LF2tbI_vIs4"
      }
    },
    {
      "cell_type": "markdown",
      "source": [
        "### Конверсия по параметрам донора"
      ],
      "metadata": {
        "id": "W5jKztdLsutZ"
      }
    },
    {
      "cell_type": "markdown",
      "source": [
        "#### Возраст"
      ],
      "metadata": {
        "id": "mHoVCq4Ysy41"
      }
    },
    {
      "cell_type": "code",
      "source": [
        "px_ctr_blue(adgrants, 'age', 'shows', 'clicks', 'shows', 'Конверсия показов в клик по параметру \"Возраст\"', 600, 800)"
      ],
      "metadata": {
        "colab": {
          "base_uri": "https://localhost:8080/",
          "height": 617
        },
        "id": "NzPqMMzN_gm-",
        "outputId": "3e6c3e50-01fc-46e5-fe1f-d634215f5eb0"
      },
      "execution_count": null,
      "outputs": [
        {
          "output_type": "display_data",
          "data": {
            "text/html": [
              "<html>\n",
              "<head><meta charset=\"utf-8\" /></head>\n",
              "<body>\n",
              "    <div>            <script src=\"https://cdnjs.cloudflare.com/ajax/libs/mathjax/2.7.5/MathJax.js?config=TeX-AMS-MML_SVG\"></script><script type=\"text/javascript\">if (window.MathJax && window.MathJax.Hub && window.MathJax.Hub.Config) {window.MathJax.Hub.Config({SVG: {font: \"STIX-Web\"}});}</script>                <script type=\"text/javascript\">window.PlotlyConfig = {MathJaxConfig: 'local'};</script>\n",
              "        <script charset=\"utf-8\" src=\"https://cdn.plot.ly/plotly-2.24.1.min.js\"></script>                <div id=\"a12584be-fc8e-4751-9b79-9e2bb48a17a4\" class=\"plotly-graph-div\" style=\"height:600px; width:800px;\"></div>            <script type=\"text/javascript\">                                    window.PLOTLYENV=window.PLOTLYENV || {};                                    if (document.getElementById(\"a12584be-fc8e-4751-9b79-9e2bb48a17a4\")) {                    Plotly.newPlot(                        \"a12584be-fc8e-4751-9b79-9e2bb48a17a4\",                        [{\"alignmentgroup\":\"True\",\"hovertemplate\":\"age=%{x}\\u003cbr\\u003ectr_perc=%{y}\\u003cbr\\u003eshows=%{marker.color}\\u003cextra\\u003e\\u003c\\u002fextra\\u003e\",\"legendgroup\":\"\",\"marker\":{\"color\":[2643719,1466764,1951676,767967,177042,1809948,1036422],\"coloraxis\":\"coloraxis\",\"pattern\":{\"shape\":\"\"}},\"name\":\"\",\"offsetgroup\":\"\",\"orientation\":\"v\",\"showlegend\":false,\"textposition\":\"auto\",\"x\":[\"\\u0441\\u0442\\u0430\\u0440\\u0448\\u0435 55\",\"45-54\",\"35-44\",\"\\u043c\\u043b\\u0430\\u0434\\u0448\\u0435 18\",\"\\u043d\\u0435 \\u043e\\u043f\\u0440\\u0435\\u0434\\u0435\\u043b\\u0435\\u043d\",\"25-34\",\"18-24\"],\"xaxis\":\"x\",\"y\":[0.65,0.42,0.39,0.33,0.33,0.28,0.2],\"yaxis\":\"y\",\"type\":\"bar\"}],                        {\"template\":{\"data\":{\"histogram2dcontour\":[{\"type\":\"histogram2dcontour\",\"colorbar\":{\"outlinewidth\":0,\"ticks\":\"\"},\"colorscale\":[[0.0,\"#0d0887\"],[0.1111111111111111,\"#46039f\"],[0.2222222222222222,\"#7201a8\"],[0.3333333333333333,\"#9c179e\"],[0.4444444444444444,\"#bd3786\"],[0.5555555555555556,\"#d8576b\"],[0.6666666666666666,\"#ed7953\"],[0.7777777777777778,\"#fb9f3a\"],[0.8888888888888888,\"#fdca26\"],[1.0,\"#f0f921\"]]}],\"choropleth\":[{\"type\":\"choropleth\",\"colorbar\":{\"outlinewidth\":0,\"ticks\":\"\"}}],\"histogram2d\":[{\"type\":\"histogram2d\",\"colorbar\":{\"outlinewidth\":0,\"ticks\":\"\"},\"colorscale\":[[0.0,\"#0d0887\"],[0.1111111111111111,\"#46039f\"],[0.2222222222222222,\"#7201a8\"],[0.3333333333333333,\"#9c179e\"],[0.4444444444444444,\"#bd3786\"],[0.5555555555555556,\"#d8576b\"],[0.6666666666666666,\"#ed7953\"],[0.7777777777777778,\"#fb9f3a\"],[0.8888888888888888,\"#fdca26\"],[1.0,\"#f0f921\"]]}],\"heatmap\":[{\"type\":\"heatmap\",\"colorbar\":{\"outlinewidth\":0,\"ticks\":\"\"},\"colorscale\":[[0.0,\"#0d0887\"],[0.1111111111111111,\"#46039f\"],[0.2222222222222222,\"#7201a8\"],[0.3333333333333333,\"#9c179e\"],[0.4444444444444444,\"#bd3786\"],[0.5555555555555556,\"#d8576b\"],[0.6666666666666666,\"#ed7953\"],[0.7777777777777778,\"#fb9f3a\"],[0.8888888888888888,\"#fdca26\"],[1.0,\"#f0f921\"]]}],\"heatmapgl\":[{\"type\":\"heatmapgl\",\"colorbar\":{\"outlinewidth\":0,\"ticks\":\"\"},\"colorscale\":[[0.0,\"#0d0887\"],[0.1111111111111111,\"#46039f\"],[0.2222222222222222,\"#7201a8\"],[0.3333333333333333,\"#9c179e\"],[0.4444444444444444,\"#bd3786\"],[0.5555555555555556,\"#d8576b\"],[0.6666666666666666,\"#ed7953\"],[0.7777777777777778,\"#fb9f3a\"],[0.8888888888888888,\"#fdca26\"],[1.0,\"#f0f921\"]]}],\"contourcarpet\":[{\"type\":\"contourcarpet\",\"colorbar\":{\"outlinewidth\":0,\"ticks\":\"\"}}],\"contour\":[{\"type\":\"contour\",\"colorbar\":{\"outlinewidth\":0,\"ticks\":\"\"},\"colorscale\":[[0.0,\"#0d0887\"],[0.1111111111111111,\"#46039f\"],[0.2222222222222222,\"#7201a8\"],[0.3333333333333333,\"#9c179e\"],[0.4444444444444444,\"#bd3786\"],[0.5555555555555556,\"#d8576b\"],[0.6666666666666666,\"#ed7953\"],[0.7777777777777778,\"#fb9f3a\"],[0.8888888888888888,\"#fdca26\"],[1.0,\"#f0f921\"]]}],\"surface\":[{\"type\":\"surface\",\"colorbar\":{\"outlinewidth\":0,\"ticks\":\"\"},\"colorscale\":[[0.0,\"#0d0887\"],[0.1111111111111111,\"#46039f\"],[0.2222222222222222,\"#7201a8\"],[0.3333333333333333,\"#9c179e\"],[0.4444444444444444,\"#bd3786\"],[0.5555555555555556,\"#d8576b\"],[0.6666666666666666,\"#ed7953\"],[0.7777777777777778,\"#fb9f3a\"],[0.8888888888888888,\"#fdca26\"],[1.0,\"#f0f921\"]]}],\"mesh3d\":[{\"type\":\"mesh3d\",\"colorbar\":{\"outlinewidth\":0,\"ticks\":\"\"}}],\"scatter\":[{\"fillpattern\":{\"fillmode\":\"overlay\",\"size\":10,\"solidity\":0.2},\"type\":\"scatter\"}],\"parcoords\":[{\"type\":\"parcoords\",\"line\":{\"colorbar\":{\"outlinewidth\":0,\"ticks\":\"\"}}}],\"scatterpolargl\":[{\"type\":\"scatterpolargl\",\"marker\":{\"colorbar\":{\"outlinewidth\":0,\"ticks\":\"\"}}}],\"bar\":[{\"error_x\":{\"color\":\"#2a3f5f\"},\"error_y\":{\"color\":\"#2a3f5f\"},\"marker\":{\"line\":{\"color\":\"#E5ECF6\",\"width\":0.5},\"pattern\":{\"fillmode\":\"overlay\",\"size\":10,\"solidity\":0.2}},\"type\":\"bar\"}],\"scattergeo\":[{\"type\":\"scattergeo\",\"marker\":{\"colorbar\":{\"outlinewidth\":0,\"ticks\":\"\"}}}],\"scatterpolar\":[{\"type\":\"scatterpolar\",\"marker\":{\"colorbar\":{\"outlinewidth\":0,\"ticks\":\"\"}}}],\"histogram\":[{\"marker\":{\"pattern\":{\"fillmode\":\"overlay\",\"size\":10,\"solidity\":0.2}},\"type\":\"histogram\"}],\"scattergl\":[{\"type\":\"scattergl\",\"marker\":{\"colorbar\":{\"outlinewidth\":0,\"ticks\":\"\"}}}],\"scatter3d\":[{\"type\":\"scatter3d\",\"line\":{\"colorbar\":{\"outlinewidth\":0,\"ticks\":\"\"}},\"marker\":{\"colorbar\":{\"outlinewidth\":0,\"ticks\":\"\"}}}],\"scattermapbox\":[{\"type\":\"scattermapbox\",\"marker\":{\"colorbar\":{\"outlinewidth\":0,\"ticks\":\"\"}}}],\"scatterternary\":[{\"type\":\"scatterternary\",\"marker\":{\"colorbar\":{\"outlinewidth\":0,\"ticks\":\"\"}}}],\"scattercarpet\":[{\"type\":\"scattercarpet\",\"marker\":{\"colorbar\":{\"outlinewidth\":0,\"ticks\":\"\"}}}],\"carpet\":[{\"aaxis\":{\"endlinecolor\":\"#2a3f5f\",\"gridcolor\":\"white\",\"linecolor\":\"white\",\"minorgridcolor\":\"white\",\"startlinecolor\":\"#2a3f5f\"},\"baxis\":{\"endlinecolor\":\"#2a3f5f\",\"gridcolor\":\"white\",\"linecolor\":\"white\",\"minorgridcolor\":\"white\",\"startlinecolor\":\"#2a3f5f\"},\"type\":\"carpet\"}],\"table\":[{\"cells\":{\"fill\":{\"color\":\"#EBF0F8\"},\"line\":{\"color\":\"white\"}},\"header\":{\"fill\":{\"color\":\"#C8D4E3\"},\"line\":{\"color\":\"white\"}},\"type\":\"table\"}],\"barpolar\":[{\"marker\":{\"line\":{\"color\":\"#E5ECF6\",\"width\":0.5},\"pattern\":{\"fillmode\":\"overlay\",\"size\":10,\"solidity\":0.2}},\"type\":\"barpolar\"}],\"pie\":[{\"automargin\":true,\"type\":\"pie\"}]},\"layout\":{\"autotypenumbers\":\"strict\",\"colorway\":[\"#636efa\",\"#EF553B\",\"#00cc96\",\"#ab63fa\",\"#FFA15A\",\"#19d3f3\",\"#FF6692\",\"#B6E880\",\"#FF97FF\",\"#FECB52\"],\"font\":{\"color\":\"#2a3f5f\"},\"hovermode\":\"closest\",\"hoverlabel\":{\"align\":\"left\"},\"paper_bgcolor\":\"white\",\"plot_bgcolor\":\"#E5ECF6\",\"polar\":{\"bgcolor\":\"#E5ECF6\",\"angularaxis\":{\"gridcolor\":\"white\",\"linecolor\":\"white\",\"ticks\":\"\"},\"radialaxis\":{\"gridcolor\":\"white\",\"linecolor\":\"white\",\"ticks\":\"\"}},\"ternary\":{\"bgcolor\":\"#E5ECF6\",\"aaxis\":{\"gridcolor\":\"white\",\"linecolor\":\"white\",\"ticks\":\"\"},\"baxis\":{\"gridcolor\":\"white\",\"linecolor\":\"white\",\"ticks\":\"\"},\"caxis\":{\"gridcolor\":\"white\",\"linecolor\":\"white\",\"ticks\":\"\"}},\"coloraxis\":{\"colorbar\":{\"outlinewidth\":0,\"ticks\":\"\"}},\"colorscale\":{\"sequential\":[[0.0,\"#0d0887\"],[0.1111111111111111,\"#46039f\"],[0.2222222222222222,\"#7201a8\"],[0.3333333333333333,\"#9c179e\"],[0.4444444444444444,\"#bd3786\"],[0.5555555555555556,\"#d8576b\"],[0.6666666666666666,\"#ed7953\"],[0.7777777777777778,\"#fb9f3a\"],[0.8888888888888888,\"#fdca26\"],[1.0,\"#f0f921\"]],\"sequentialminus\":[[0.0,\"#0d0887\"],[0.1111111111111111,\"#46039f\"],[0.2222222222222222,\"#7201a8\"],[0.3333333333333333,\"#9c179e\"],[0.4444444444444444,\"#bd3786\"],[0.5555555555555556,\"#d8576b\"],[0.6666666666666666,\"#ed7953\"],[0.7777777777777778,\"#fb9f3a\"],[0.8888888888888888,\"#fdca26\"],[1.0,\"#f0f921\"]],\"diverging\":[[0,\"#8e0152\"],[0.1,\"#c51b7d\"],[0.2,\"#de77ae\"],[0.3,\"#f1b6da\"],[0.4,\"#fde0ef\"],[0.5,\"#f7f7f7\"],[0.6,\"#e6f5d0\"],[0.7,\"#b8e186\"],[0.8,\"#7fbc41\"],[0.9,\"#4d9221\"],[1,\"#276419\"]]},\"xaxis\":{\"gridcolor\":\"white\",\"linecolor\":\"white\",\"ticks\":\"\",\"title\":{\"standoff\":15},\"zerolinecolor\":\"white\",\"automargin\":true,\"zerolinewidth\":2},\"yaxis\":{\"gridcolor\":\"white\",\"linecolor\":\"white\",\"ticks\":\"\",\"title\":{\"standoff\":15},\"zerolinecolor\":\"white\",\"automargin\":true,\"zerolinewidth\":2},\"scene\":{\"xaxis\":{\"backgroundcolor\":\"#E5ECF6\",\"gridcolor\":\"white\",\"linecolor\":\"white\",\"showbackground\":true,\"ticks\":\"\",\"zerolinecolor\":\"white\",\"gridwidth\":2},\"yaxis\":{\"backgroundcolor\":\"#E5ECF6\",\"gridcolor\":\"white\",\"linecolor\":\"white\",\"showbackground\":true,\"ticks\":\"\",\"zerolinecolor\":\"white\",\"gridwidth\":2},\"zaxis\":{\"backgroundcolor\":\"#E5ECF6\",\"gridcolor\":\"white\",\"linecolor\":\"white\",\"showbackground\":true,\"ticks\":\"\",\"zerolinecolor\":\"white\",\"gridwidth\":2}},\"shapedefaults\":{\"line\":{\"color\":\"#2a3f5f\"}},\"annotationdefaults\":{\"arrowcolor\":\"#2a3f5f\",\"arrowhead\":0,\"arrowwidth\":1},\"geo\":{\"bgcolor\":\"white\",\"landcolor\":\"#E5ECF6\",\"subunitcolor\":\"white\",\"showland\":true,\"showlakes\":true,\"lakecolor\":\"white\"},\"title\":{\"x\":0.05},\"mapbox\":{\"style\":\"light\"}}},\"xaxis\":{\"anchor\":\"y\",\"domain\":[0.0,1.0],\"title\":{\"text\":\"age\"}},\"yaxis\":{\"anchor\":\"x\",\"domain\":[0.0,1.0],\"title\":{\"text\":\"ctr_perc\"}},\"coloraxis\":{\"colorbar\":{\"title\":{\"text\":\"shows\"}},\"colorscale\":[[0.0,\"rgb(247,251,255)\"],[0.125,\"rgb(222,235,247)\"],[0.25,\"rgb(198,219,239)\"],[0.375,\"rgb(158,202,225)\"],[0.5,\"rgb(107,174,214)\"],[0.625,\"rgb(66,146,198)\"],[0.75,\"rgb(33,113,181)\"],[0.875,\"rgb(8,81,156)\"],[1.0,\"rgb(8,48,107)\"]]},\"legend\":{\"tracegroupgap\":0},\"margin\":{\"t\":60},\"barmode\":\"relative\",\"height\":600,\"width\":800,\"title\":{\"text\":\"\\u041a\\u043e\\u043d\\u0432\\u0435\\u0440\\u0441\\u0438\\u044f \\u043f\\u043e\\u043a\\u0430\\u0437\\u043e\\u0432 \\u0432 \\u043a\\u043b\\u0438\\u043a \\u043f\\u043e \\u043f\\u0430\\u0440\\u0430\\u043c\\u0435\\u0442\\u0440\\u0443 \\\"\\u0412\\u043e\\u0437\\u0440\\u0430\\u0441\\u0442\\\"\"},\"annotations\":[{\"font\":{\"size\":14},\"showarrow\":false,\"text\":\"\\u0418\\u043d\\u0442\\u0435\\u043d\\u0441\\u0438\\u0432\\u043d\\u043e\\u0441\\u0442\\u044c \\u0446\\u0432\\u0435\\u0442\\u0430 \\u0441\\u043e\\u043e\\u0442\\u0432\\u0435\\u0442\\u0441\\u0442\\u0432\\u0443\\u0435\\u0442 \\u0447\\u0438\\u0441\\u043b\\u0443 \\u043f\\u043e\\u043a\\u0430\\u0437\\u043e\\u0432\",\"x\":0.5,\"xref\":\"paper\",\"y\":1,\"yref\":\"paper\"}]},                        {\"responsive\": true}                    ).then(function(){\n",
              "                            \n",
              "var gd = document.getElementById('a12584be-fc8e-4751-9b79-9e2bb48a17a4');\n",
              "var x = new MutationObserver(function (mutations, observer) {{\n",
              "        var display = window.getComputedStyle(gd).display;\n",
              "        if (!display || display === 'none') {{\n",
              "            console.log([gd, 'removed!']);\n",
              "            Plotly.purge(gd);\n",
              "            observer.disconnect();\n",
              "        }}\n",
              "}});\n",
              "\n",
              "// Listen for the removal of the full notebook cells\n",
              "var notebookContainer = gd.closest('#notebook-container');\n",
              "if (notebookContainer) {{\n",
              "    x.observe(notebookContainer, {childList: true});\n",
              "}}\n",
              "\n",
              "// Listen for the clearing of the current output cell\n",
              "var outputEl = gd.closest('.output');\n",
              "if (outputEl) {{\n",
              "    x.observe(outputEl, {childList: true});\n",
              "}}\n",
              "\n",
              "                        })                };                            </script>        </div>\n",
              "</body>\n",
              "</html>"
            ]
          },
          "metadata": {}
        }
      ]
    },
    {
      "cell_type": "markdown",
      "source": [
        "**Большинство людей, совершающих клик, старше 55 лет (ctr = 0.65%)**.  \n",
        "**Меньше всего проявляют интерес люди в возрасте 18-34 лет (ctr = 0.33-0.2%).**   \n",
        "Но есть нюансы сегментации - возрастные **сегменты не равны**, это может искажать выводы. Например, если мы уменьшим верхнюю границу сегмента \"старше 55\" до 64 лет (до диапазона в 10 лет, как в других сегментах) может оказаться, что в возрасте 55-64 лет конверсия в клики такая же, как и в сегменте 35-44. А если наоборот расширить сегмент 18-24 с 15 лет (диапазон 7 лет увеличить до 10, как в средних по возрасту сегментах), то конверсия может также сравняться.  \n",
        "Можем точно сказать, что в диапазоне с 25 до 54 лет, охотнее кликают на рекламу люди **в возрасте 35-54 лет**.  \n",
        "\n",
        "Видно, что кол-во показов в сегменте **\"старше 55\"** в 1.5-2 раза выше, чем в остальных сегментах. Поскольку конверсия в этом сегменте выше - то **стоит продолжать ориентировать рекламу** на данный возрастной сегмент.  \n",
        "**Стоит сместить рекламный фокус с сегментов с низкой конверсией кликов, на сегмент 35-54 лет.**"
      ],
      "metadata": {
        "id": "nSsVBQtIe26j"
      }
    },
    {
      "cell_type": "markdown",
      "source": [
        "#### Пол"
      ],
      "metadata": {
        "id": "ordt_qTes1my"
      }
    },
    {
      "cell_type": "code",
      "source": [
        "px_ctr_blue(adgrants, 'gender', 'shows', 'clicks', 'shows','Конверсия показов в клик по параметру \"Пол\"', 600, 800)"
      ],
      "metadata": {
        "colab": {
          "base_uri": "https://localhost:8080/",
          "height": 617
        },
        "id": "YV5mTdN9qpfd",
        "outputId": "26fe118d-d5df-4aab-e75f-3e4c56da2404"
      },
      "execution_count": null,
      "outputs": [
        {
          "output_type": "display_data",
          "data": {
            "text/html": [
              "<html>\n",
              "<head><meta charset=\"utf-8\" /></head>\n",
              "<body>\n",
              "    <div>            <script src=\"https://cdnjs.cloudflare.com/ajax/libs/mathjax/2.7.5/MathJax.js?config=TeX-AMS-MML_SVG\"></script><script type=\"text/javascript\">if (window.MathJax && window.MathJax.Hub && window.MathJax.Hub.Config) {window.MathJax.Hub.Config({SVG: {font: \"STIX-Web\"}});}</script>                <script type=\"text/javascript\">window.PlotlyConfig = {MathJaxConfig: 'local'};</script>\n",
              "        <script charset=\"utf-8\" src=\"https://cdn.plot.ly/plotly-2.24.1.min.js\"></script>                <div id=\"92076ee2-c321-4835-93bb-34d496db9978\" class=\"plotly-graph-div\" style=\"height:600px; width:800px;\"></div>            <script type=\"text/javascript\">                                    window.PLOTLYENV=window.PLOTLYENV || {};                                    if (document.getElementById(\"92076ee2-c321-4835-93bb-34d496db9978\")) {                    Plotly.newPlot(                        \"92076ee2-c321-4835-93bb-34d496db9978\",                        [{\"alignmentgroup\":\"True\",\"hovertemplate\":\"gender=%{x}\\u003cbr\\u003ectr_perc=%{y}\\u003cbr\\u003eshows=%{marker.color}\\u003cextra\\u003e\\u003c\\u002fextra\\u003e\",\"legendgroup\":\"\",\"marker\":{\"color\":[6067996,99346,3686196],\"coloraxis\":\"coloraxis\",\"pattern\":{\"shape\":\"\"}},\"name\":\"\",\"offsetgroup\":\"\",\"orientation\":\"v\",\"showlegend\":false,\"textposition\":\"auto\",\"x\":[\"\\u0436\\u0435\\u043d\\u0441\\u043a\\u0438\\u0439\",\"\\u043d\\u0435 \\u043e\\u043f\\u0440\\u0435\\u0434\\u0435\\u043b\\u0435\\u043d\",\"\\u043c\\u0443\\u0436\\u0441\\u043a\\u043e\\u0439\"],\"xaxis\":\"x\",\"y\":[0.44,0.39,0.38],\"yaxis\":\"y\",\"type\":\"bar\"}],                        {\"template\":{\"data\":{\"histogram2dcontour\":[{\"type\":\"histogram2dcontour\",\"colorbar\":{\"outlinewidth\":0,\"ticks\":\"\"},\"colorscale\":[[0.0,\"#0d0887\"],[0.1111111111111111,\"#46039f\"],[0.2222222222222222,\"#7201a8\"],[0.3333333333333333,\"#9c179e\"],[0.4444444444444444,\"#bd3786\"],[0.5555555555555556,\"#d8576b\"],[0.6666666666666666,\"#ed7953\"],[0.7777777777777778,\"#fb9f3a\"],[0.8888888888888888,\"#fdca26\"],[1.0,\"#f0f921\"]]}],\"choropleth\":[{\"type\":\"choropleth\",\"colorbar\":{\"outlinewidth\":0,\"ticks\":\"\"}}],\"histogram2d\":[{\"type\":\"histogram2d\",\"colorbar\":{\"outlinewidth\":0,\"ticks\":\"\"},\"colorscale\":[[0.0,\"#0d0887\"],[0.1111111111111111,\"#46039f\"],[0.2222222222222222,\"#7201a8\"],[0.3333333333333333,\"#9c179e\"],[0.4444444444444444,\"#bd3786\"],[0.5555555555555556,\"#d8576b\"],[0.6666666666666666,\"#ed7953\"],[0.7777777777777778,\"#fb9f3a\"],[0.8888888888888888,\"#fdca26\"],[1.0,\"#f0f921\"]]}],\"heatmap\":[{\"type\":\"heatmap\",\"colorbar\":{\"outlinewidth\":0,\"ticks\":\"\"},\"colorscale\":[[0.0,\"#0d0887\"],[0.1111111111111111,\"#46039f\"],[0.2222222222222222,\"#7201a8\"],[0.3333333333333333,\"#9c179e\"],[0.4444444444444444,\"#bd3786\"],[0.5555555555555556,\"#d8576b\"],[0.6666666666666666,\"#ed7953\"],[0.7777777777777778,\"#fb9f3a\"],[0.8888888888888888,\"#fdca26\"],[1.0,\"#f0f921\"]]}],\"heatmapgl\":[{\"type\":\"heatmapgl\",\"colorbar\":{\"outlinewidth\":0,\"ticks\":\"\"},\"colorscale\":[[0.0,\"#0d0887\"],[0.1111111111111111,\"#46039f\"],[0.2222222222222222,\"#7201a8\"],[0.3333333333333333,\"#9c179e\"],[0.4444444444444444,\"#bd3786\"],[0.5555555555555556,\"#d8576b\"],[0.6666666666666666,\"#ed7953\"],[0.7777777777777778,\"#fb9f3a\"],[0.8888888888888888,\"#fdca26\"],[1.0,\"#f0f921\"]]}],\"contourcarpet\":[{\"type\":\"contourcarpet\",\"colorbar\":{\"outlinewidth\":0,\"ticks\":\"\"}}],\"contour\":[{\"type\":\"contour\",\"colorbar\":{\"outlinewidth\":0,\"ticks\":\"\"},\"colorscale\":[[0.0,\"#0d0887\"],[0.1111111111111111,\"#46039f\"],[0.2222222222222222,\"#7201a8\"],[0.3333333333333333,\"#9c179e\"],[0.4444444444444444,\"#bd3786\"],[0.5555555555555556,\"#d8576b\"],[0.6666666666666666,\"#ed7953\"],[0.7777777777777778,\"#fb9f3a\"],[0.8888888888888888,\"#fdca26\"],[1.0,\"#f0f921\"]]}],\"surface\":[{\"type\":\"surface\",\"colorbar\":{\"outlinewidth\":0,\"ticks\":\"\"},\"colorscale\":[[0.0,\"#0d0887\"],[0.1111111111111111,\"#46039f\"],[0.2222222222222222,\"#7201a8\"],[0.3333333333333333,\"#9c179e\"],[0.4444444444444444,\"#bd3786\"],[0.5555555555555556,\"#d8576b\"],[0.6666666666666666,\"#ed7953\"],[0.7777777777777778,\"#fb9f3a\"],[0.8888888888888888,\"#fdca26\"],[1.0,\"#f0f921\"]]}],\"mesh3d\":[{\"type\":\"mesh3d\",\"colorbar\":{\"outlinewidth\":0,\"ticks\":\"\"}}],\"scatter\":[{\"fillpattern\":{\"fillmode\":\"overlay\",\"size\":10,\"solidity\":0.2},\"type\":\"scatter\"}],\"parcoords\":[{\"type\":\"parcoords\",\"line\":{\"colorbar\":{\"outlinewidth\":0,\"ticks\":\"\"}}}],\"scatterpolargl\":[{\"type\":\"scatterpolargl\",\"marker\":{\"colorbar\":{\"outlinewidth\":0,\"ticks\":\"\"}}}],\"bar\":[{\"error_x\":{\"color\":\"#2a3f5f\"},\"error_y\":{\"color\":\"#2a3f5f\"},\"marker\":{\"line\":{\"color\":\"#E5ECF6\",\"width\":0.5},\"pattern\":{\"fillmode\":\"overlay\",\"size\":10,\"solidity\":0.2}},\"type\":\"bar\"}],\"scattergeo\":[{\"type\":\"scattergeo\",\"marker\":{\"colorbar\":{\"outlinewidth\":0,\"ticks\":\"\"}}}],\"scatterpolar\":[{\"type\":\"scatterpolar\",\"marker\":{\"colorbar\":{\"outlinewidth\":0,\"ticks\":\"\"}}}],\"histogram\":[{\"marker\":{\"pattern\":{\"fillmode\":\"overlay\",\"size\":10,\"solidity\":0.2}},\"type\":\"histogram\"}],\"scattergl\":[{\"type\":\"scattergl\",\"marker\":{\"colorbar\":{\"outlinewidth\":0,\"ticks\":\"\"}}}],\"scatter3d\":[{\"type\":\"scatter3d\",\"line\":{\"colorbar\":{\"outlinewidth\":0,\"ticks\":\"\"}},\"marker\":{\"colorbar\":{\"outlinewidth\":0,\"ticks\":\"\"}}}],\"scattermapbox\":[{\"type\":\"scattermapbox\",\"marker\":{\"colorbar\":{\"outlinewidth\":0,\"ticks\":\"\"}}}],\"scatterternary\":[{\"type\":\"scatterternary\",\"marker\":{\"colorbar\":{\"outlinewidth\":0,\"ticks\":\"\"}}}],\"scattercarpet\":[{\"type\":\"scattercarpet\",\"marker\":{\"colorbar\":{\"outlinewidth\":0,\"ticks\":\"\"}}}],\"carpet\":[{\"aaxis\":{\"endlinecolor\":\"#2a3f5f\",\"gridcolor\":\"white\",\"linecolor\":\"white\",\"minorgridcolor\":\"white\",\"startlinecolor\":\"#2a3f5f\"},\"baxis\":{\"endlinecolor\":\"#2a3f5f\",\"gridcolor\":\"white\",\"linecolor\":\"white\",\"minorgridcolor\":\"white\",\"startlinecolor\":\"#2a3f5f\"},\"type\":\"carpet\"}],\"table\":[{\"cells\":{\"fill\":{\"color\":\"#EBF0F8\"},\"line\":{\"color\":\"white\"}},\"header\":{\"fill\":{\"color\":\"#C8D4E3\"},\"line\":{\"color\":\"white\"}},\"type\":\"table\"}],\"barpolar\":[{\"marker\":{\"line\":{\"color\":\"#E5ECF6\",\"width\":0.5},\"pattern\":{\"fillmode\":\"overlay\",\"size\":10,\"solidity\":0.2}},\"type\":\"barpolar\"}],\"pie\":[{\"automargin\":true,\"type\":\"pie\"}]},\"layout\":{\"autotypenumbers\":\"strict\",\"colorway\":[\"#636efa\",\"#EF553B\",\"#00cc96\",\"#ab63fa\",\"#FFA15A\",\"#19d3f3\",\"#FF6692\",\"#B6E880\",\"#FF97FF\",\"#FECB52\"],\"font\":{\"color\":\"#2a3f5f\"},\"hovermode\":\"closest\",\"hoverlabel\":{\"align\":\"left\"},\"paper_bgcolor\":\"white\",\"plot_bgcolor\":\"#E5ECF6\",\"polar\":{\"bgcolor\":\"#E5ECF6\",\"angularaxis\":{\"gridcolor\":\"white\",\"linecolor\":\"white\",\"ticks\":\"\"},\"radialaxis\":{\"gridcolor\":\"white\",\"linecolor\":\"white\",\"ticks\":\"\"}},\"ternary\":{\"bgcolor\":\"#E5ECF6\",\"aaxis\":{\"gridcolor\":\"white\",\"linecolor\":\"white\",\"ticks\":\"\"},\"baxis\":{\"gridcolor\":\"white\",\"linecolor\":\"white\",\"ticks\":\"\"},\"caxis\":{\"gridcolor\":\"white\",\"linecolor\":\"white\",\"ticks\":\"\"}},\"coloraxis\":{\"colorbar\":{\"outlinewidth\":0,\"ticks\":\"\"}},\"colorscale\":{\"sequential\":[[0.0,\"#0d0887\"],[0.1111111111111111,\"#46039f\"],[0.2222222222222222,\"#7201a8\"],[0.3333333333333333,\"#9c179e\"],[0.4444444444444444,\"#bd3786\"],[0.5555555555555556,\"#d8576b\"],[0.6666666666666666,\"#ed7953\"],[0.7777777777777778,\"#fb9f3a\"],[0.8888888888888888,\"#fdca26\"],[1.0,\"#f0f921\"]],\"sequentialminus\":[[0.0,\"#0d0887\"],[0.1111111111111111,\"#46039f\"],[0.2222222222222222,\"#7201a8\"],[0.3333333333333333,\"#9c179e\"],[0.4444444444444444,\"#bd3786\"],[0.5555555555555556,\"#d8576b\"],[0.6666666666666666,\"#ed7953\"],[0.7777777777777778,\"#fb9f3a\"],[0.8888888888888888,\"#fdca26\"],[1.0,\"#f0f921\"]],\"diverging\":[[0,\"#8e0152\"],[0.1,\"#c51b7d\"],[0.2,\"#de77ae\"],[0.3,\"#f1b6da\"],[0.4,\"#fde0ef\"],[0.5,\"#f7f7f7\"],[0.6,\"#e6f5d0\"],[0.7,\"#b8e186\"],[0.8,\"#7fbc41\"],[0.9,\"#4d9221\"],[1,\"#276419\"]]},\"xaxis\":{\"gridcolor\":\"white\",\"linecolor\":\"white\",\"ticks\":\"\",\"title\":{\"standoff\":15},\"zerolinecolor\":\"white\",\"automargin\":true,\"zerolinewidth\":2},\"yaxis\":{\"gridcolor\":\"white\",\"linecolor\":\"white\",\"ticks\":\"\",\"title\":{\"standoff\":15},\"zerolinecolor\":\"white\",\"automargin\":true,\"zerolinewidth\":2},\"scene\":{\"xaxis\":{\"backgroundcolor\":\"#E5ECF6\",\"gridcolor\":\"white\",\"linecolor\":\"white\",\"showbackground\":true,\"ticks\":\"\",\"zerolinecolor\":\"white\",\"gridwidth\":2},\"yaxis\":{\"backgroundcolor\":\"#E5ECF6\",\"gridcolor\":\"white\",\"linecolor\":\"white\",\"showbackground\":true,\"ticks\":\"\",\"zerolinecolor\":\"white\",\"gridwidth\":2},\"zaxis\":{\"backgroundcolor\":\"#E5ECF6\",\"gridcolor\":\"white\",\"linecolor\":\"white\",\"showbackground\":true,\"ticks\":\"\",\"zerolinecolor\":\"white\",\"gridwidth\":2}},\"shapedefaults\":{\"line\":{\"color\":\"#2a3f5f\"}},\"annotationdefaults\":{\"arrowcolor\":\"#2a3f5f\",\"arrowhead\":0,\"arrowwidth\":1},\"geo\":{\"bgcolor\":\"white\",\"landcolor\":\"#E5ECF6\",\"subunitcolor\":\"white\",\"showland\":true,\"showlakes\":true,\"lakecolor\":\"white\"},\"title\":{\"x\":0.05},\"mapbox\":{\"style\":\"light\"}}},\"xaxis\":{\"anchor\":\"y\",\"domain\":[0.0,1.0],\"title\":{\"text\":\"gender\"}},\"yaxis\":{\"anchor\":\"x\",\"domain\":[0.0,1.0],\"title\":{\"text\":\"ctr_perc\"}},\"coloraxis\":{\"colorbar\":{\"title\":{\"text\":\"shows\"}},\"colorscale\":[[0.0,\"rgb(247,251,255)\"],[0.125,\"rgb(222,235,247)\"],[0.25,\"rgb(198,219,239)\"],[0.375,\"rgb(158,202,225)\"],[0.5,\"rgb(107,174,214)\"],[0.625,\"rgb(66,146,198)\"],[0.75,\"rgb(33,113,181)\"],[0.875,\"rgb(8,81,156)\"],[1.0,\"rgb(8,48,107)\"]]},\"legend\":{\"tracegroupgap\":0},\"margin\":{\"t\":60},\"barmode\":\"relative\",\"height\":600,\"width\":800,\"title\":{\"text\":\"\\u041a\\u043e\\u043d\\u0432\\u0435\\u0440\\u0441\\u0438\\u044f \\u043f\\u043e\\u043a\\u0430\\u0437\\u043e\\u0432 \\u0432 \\u043a\\u043b\\u0438\\u043a \\u043f\\u043e \\u043f\\u0430\\u0440\\u0430\\u043c\\u0435\\u0442\\u0440\\u0443 \\\"\\u041f\\u043e\\u043b\\\"\"},\"annotations\":[{\"font\":{\"size\":14},\"showarrow\":false,\"text\":\"\\u0418\\u043d\\u0442\\u0435\\u043d\\u0441\\u0438\\u0432\\u043d\\u043e\\u0441\\u0442\\u044c \\u0446\\u0432\\u0435\\u0442\\u0430 \\u0441\\u043e\\u043e\\u0442\\u0432\\u0435\\u0442\\u0441\\u0442\\u0432\\u0443\\u0435\\u0442 \\u0447\\u0438\\u0441\\u043b\\u0443 \\u043f\\u043e\\u043a\\u0430\\u0437\\u043e\\u0432\",\"x\":0.5,\"xref\":\"paper\",\"y\":1,\"yref\":\"paper\"}]},                        {\"responsive\": true}                    ).then(function(){\n",
              "                            \n",
              "var gd = document.getElementById('92076ee2-c321-4835-93bb-34d496db9978');\n",
              "var x = new MutationObserver(function (mutations, observer) {{\n",
              "        var display = window.getComputedStyle(gd).display;\n",
              "        if (!display || display === 'none') {{\n",
              "            console.log([gd, 'removed!']);\n",
              "            Plotly.purge(gd);\n",
              "            observer.disconnect();\n",
              "        }}\n",
              "}});\n",
              "\n",
              "// Listen for the removal of the full notebook cells\n",
              "var notebookContainer = gd.closest('#notebook-container');\n",
              "if (notebookContainer) {{\n",
              "    x.observe(notebookContainer, {childList: true});\n",
              "}}\n",
              "\n",
              "// Listen for the clearing of the current output cell\n",
              "var outputEl = gd.closest('.output');\n",
              "if (outputEl) {{\n",
              "    x.observe(outputEl, {childList: true});\n",
              "}}\n",
              "\n",
              "                        })                };                            </script>        </div>\n",
              "</body>\n",
              "</html>"
            ]
          },
          "metadata": {}
        }
      ]
    },
    {
      "cell_type": "markdown",
      "source": [
        "Вопреки популярному мнению, **женщины и мужчины проявляют практически одинаковый интерес к пожертвованиям** - конверсии показов в клик 0.44% и 0.38% соответственно. Тем не менее мы видим, что **реклама показывалась почти в 2 раза чаще женщинам**. Зная, что конверсия почти одинаковая логичнее распределить показы в группах поровну (теоретически, это даже может увеличить конверсию в группе мужчин, если женщинам реклама показывалась в избытке).  \n",
        "Примерно в 3% показов пол был не определён."
      ],
      "metadata": {
        "id": "Wf0kl_mmeD-M"
      }
    },
    {
      "cell_type": "markdown",
      "source": [
        "Рассмотрим отдельно сегмент \"старше 55\" лет мужчины и женщины"
      ],
      "metadata": {
        "id": "xAnRGkdKgqv_"
      }
    },
    {
      "cell_type": "code",
      "source": [
        "age_55 = adgrants.query('age == \"старше 55\"')\n",
        "px_ctr_blue(age_55, 'gender', 'shows', 'clicks', 'shows','Конверсия показов в клик по параметру \"Пол\"', 600, 800)"
      ],
      "metadata": {
        "colab": {
          "base_uri": "https://localhost:8080/",
          "height": 617
        },
        "id": "5JxDfftQg1vw",
        "outputId": "78d79517-55e0-4143-f176-d05cc1af5077"
      },
      "execution_count": null,
      "outputs": [
        {
          "output_type": "display_data",
          "data": {
            "text/html": [
              "<html>\n",
              "<head><meta charset=\"utf-8\" /></head>\n",
              "<body>\n",
              "    <div>            <script src=\"https://cdnjs.cloudflare.com/ajax/libs/mathjax/2.7.5/MathJax.js?config=TeX-AMS-MML_SVG\"></script><script type=\"text/javascript\">if (window.MathJax && window.MathJax.Hub && window.MathJax.Hub.Config) {window.MathJax.Hub.Config({SVG: {font: \"STIX-Web\"}});}</script>                <script type=\"text/javascript\">window.PlotlyConfig = {MathJaxConfig: 'local'};</script>\n",
              "        <script charset=\"utf-8\" src=\"https://cdn.plot.ly/plotly-2.24.1.min.js\"></script>                <div id=\"6b14c25a-ff24-46e1-8ce6-4e1c70868647\" class=\"plotly-graph-div\" style=\"height:600px; width:800px;\"></div>            <script type=\"text/javascript\">                                    window.PLOTLYENV=window.PLOTLYENV || {};                                    if (document.getElementById(\"6b14c25a-ff24-46e1-8ce6-4e1c70868647\")) {                    Plotly.newPlot(                        \"6b14c25a-ff24-46e1-8ce6-4e1c70868647\",                        [{\"alignmentgroup\":\"True\",\"hovertemplate\":\"gender=%{x}\\u003cbr\\u003ectr_perc=%{y}\\u003cbr\\u003eshows=%{marker.color}\\u003cextra\\u003e\\u003c\\u002fextra\\u003e\",\"legendgroup\":\"\",\"marker\":{\"color\":[1742365,885361,15993],\"coloraxis\":\"coloraxis\",\"pattern\":{\"shape\":\"\"}},\"name\":\"\",\"offsetgroup\":\"\",\"orientation\":\"v\",\"showlegend\":false,\"textposition\":\"auto\",\"x\":[\"\\u0436\\u0435\\u043d\\u0441\\u043a\\u0438\\u0439\",\"\\u043c\\u0443\\u0436\\u0441\\u043a\\u043e\\u0439\",\"\\u043d\\u0435 \\u043e\\u043f\\u0440\\u0435\\u0434\\u0435\\u043b\\u0435\\u043d\"],\"xaxis\":\"x\",\"y\":[0.69,0.59,0.53],\"yaxis\":\"y\",\"type\":\"bar\"}],                        {\"template\":{\"data\":{\"histogram2dcontour\":[{\"type\":\"histogram2dcontour\",\"colorbar\":{\"outlinewidth\":0,\"ticks\":\"\"},\"colorscale\":[[0.0,\"#0d0887\"],[0.1111111111111111,\"#46039f\"],[0.2222222222222222,\"#7201a8\"],[0.3333333333333333,\"#9c179e\"],[0.4444444444444444,\"#bd3786\"],[0.5555555555555556,\"#d8576b\"],[0.6666666666666666,\"#ed7953\"],[0.7777777777777778,\"#fb9f3a\"],[0.8888888888888888,\"#fdca26\"],[1.0,\"#f0f921\"]]}],\"choropleth\":[{\"type\":\"choropleth\",\"colorbar\":{\"outlinewidth\":0,\"ticks\":\"\"}}],\"histogram2d\":[{\"type\":\"histogram2d\",\"colorbar\":{\"outlinewidth\":0,\"ticks\":\"\"},\"colorscale\":[[0.0,\"#0d0887\"],[0.1111111111111111,\"#46039f\"],[0.2222222222222222,\"#7201a8\"],[0.3333333333333333,\"#9c179e\"],[0.4444444444444444,\"#bd3786\"],[0.5555555555555556,\"#d8576b\"],[0.6666666666666666,\"#ed7953\"],[0.7777777777777778,\"#fb9f3a\"],[0.8888888888888888,\"#fdca26\"],[1.0,\"#f0f921\"]]}],\"heatmap\":[{\"type\":\"heatmap\",\"colorbar\":{\"outlinewidth\":0,\"ticks\":\"\"},\"colorscale\":[[0.0,\"#0d0887\"],[0.1111111111111111,\"#46039f\"],[0.2222222222222222,\"#7201a8\"],[0.3333333333333333,\"#9c179e\"],[0.4444444444444444,\"#bd3786\"],[0.5555555555555556,\"#d8576b\"],[0.6666666666666666,\"#ed7953\"],[0.7777777777777778,\"#fb9f3a\"],[0.8888888888888888,\"#fdca26\"],[1.0,\"#f0f921\"]]}],\"heatmapgl\":[{\"type\":\"heatmapgl\",\"colorbar\":{\"outlinewidth\":0,\"ticks\":\"\"},\"colorscale\":[[0.0,\"#0d0887\"],[0.1111111111111111,\"#46039f\"],[0.2222222222222222,\"#7201a8\"],[0.3333333333333333,\"#9c179e\"],[0.4444444444444444,\"#bd3786\"],[0.5555555555555556,\"#d8576b\"],[0.6666666666666666,\"#ed7953\"],[0.7777777777777778,\"#fb9f3a\"],[0.8888888888888888,\"#fdca26\"],[1.0,\"#f0f921\"]]}],\"contourcarpet\":[{\"type\":\"contourcarpet\",\"colorbar\":{\"outlinewidth\":0,\"ticks\":\"\"}}],\"contour\":[{\"type\":\"contour\",\"colorbar\":{\"outlinewidth\":0,\"ticks\":\"\"},\"colorscale\":[[0.0,\"#0d0887\"],[0.1111111111111111,\"#46039f\"],[0.2222222222222222,\"#7201a8\"],[0.3333333333333333,\"#9c179e\"],[0.4444444444444444,\"#bd3786\"],[0.5555555555555556,\"#d8576b\"],[0.6666666666666666,\"#ed7953\"],[0.7777777777777778,\"#fb9f3a\"],[0.8888888888888888,\"#fdca26\"],[1.0,\"#f0f921\"]]}],\"surface\":[{\"type\":\"surface\",\"colorbar\":{\"outlinewidth\":0,\"ticks\":\"\"},\"colorscale\":[[0.0,\"#0d0887\"],[0.1111111111111111,\"#46039f\"],[0.2222222222222222,\"#7201a8\"],[0.3333333333333333,\"#9c179e\"],[0.4444444444444444,\"#bd3786\"],[0.5555555555555556,\"#d8576b\"],[0.6666666666666666,\"#ed7953\"],[0.7777777777777778,\"#fb9f3a\"],[0.8888888888888888,\"#fdca26\"],[1.0,\"#f0f921\"]]}],\"mesh3d\":[{\"type\":\"mesh3d\",\"colorbar\":{\"outlinewidth\":0,\"ticks\":\"\"}}],\"scatter\":[{\"fillpattern\":{\"fillmode\":\"overlay\",\"size\":10,\"solidity\":0.2},\"type\":\"scatter\"}],\"parcoords\":[{\"type\":\"parcoords\",\"line\":{\"colorbar\":{\"outlinewidth\":0,\"ticks\":\"\"}}}],\"scatterpolargl\":[{\"type\":\"scatterpolargl\",\"marker\":{\"colorbar\":{\"outlinewidth\":0,\"ticks\":\"\"}}}],\"bar\":[{\"error_x\":{\"color\":\"#2a3f5f\"},\"error_y\":{\"color\":\"#2a3f5f\"},\"marker\":{\"line\":{\"color\":\"#E5ECF6\",\"width\":0.5},\"pattern\":{\"fillmode\":\"overlay\",\"size\":10,\"solidity\":0.2}},\"type\":\"bar\"}],\"scattergeo\":[{\"type\":\"scattergeo\",\"marker\":{\"colorbar\":{\"outlinewidth\":0,\"ticks\":\"\"}}}],\"scatterpolar\":[{\"type\":\"scatterpolar\",\"marker\":{\"colorbar\":{\"outlinewidth\":0,\"ticks\":\"\"}}}],\"histogram\":[{\"marker\":{\"pattern\":{\"fillmode\":\"overlay\",\"size\":10,\"solidity\":0.2}},\"type\":\"histogram\"}],\"scattergl\":[{\"type\":\"scattergl\",\"marker\":{\"colorbar\":{\"outlinewidth\":0,\"ticks\":\"\"}}}],\"scatter3d\":[{\"type\":\"scatter3d\",\"line\":{\"colorbar\":{\"outlinewidth\":0,\"ticks\":\"\"}},\"marker\":{\"colorbar\":{\"outlinewidth\":0,\"ticks\":\"\"}}}],\"scattermapbox\":[{\"type\":\"scattermapbox\",\"marker\":{\"colorbar\":{\"outlinewidth\":0,\"ticks\":\"\"}}}],\"scatterternary\":[{\"type\":\"scatterternary\",\"marker\":{\"colorbar\":{\"outlinewidth\":0,\"ticks\":\"\"}}}],\"scattercarpet\":[{\"type\":\"scattercarpet\",\"marker\":{\"colorbar\":{\"outlinewidth\":0,\"ticks\":\"\"}}}],\"carpet\":[{\"aaxis\":{\"endlinecolor\":\"#2a3f5f\",\"gridcolor\":\"white\",\"linecolor\":\"white\",\"minorgridcolor\":\"white\",\"startlinecolor\":\"#2a3f5f\"},\"baxis\":{\"endlinecolor\":\"#2a3f5f\",\"gridcolor\":\"white\",\"linecolor\":\"white\",\"minorgridcolor\":\"white\",\"startlinecolor\":\"#2a3f5f\"},\"type\":\"carpet\"}],\"table\":[{\"cells\":{\"fill\":{\"color\":\"#EBF0F8\"},\"line\":{\"color\":\"white\"}},\"header\":{\"fill\":{\"color\":\"#C8D4E3\"},\"line\":{\"color\":\"white\"}},\"type\":\"table\"}],\"barpolar\":[{\"marker\":{\"line\":{\"color\":\"#E5ECF6\",\"width\":0.5},\"pattern\":{\"fillmode\":\"overlay\",\"size\":10,\"solidity\":0.2}},\"type\":\"barpolar\"}],\"pie\":[{\"automargin\":true,\"type\":\"pie\"}]},\"layout\":{\"autotypenumbers\":\"strict\",\"colorway\":[\"#636efa\",\"#EF553B\",\"#00cc96\",\"#ab63fa\",\"#FFA15A\",\"#19d3f3\",\"#FF6692\",\"#B6E880\",\"#FF97FF\",\"#FECB52\"],\"font\":{\"color\":\"#2a3f5f\"},\"hovermode\":\"closest\",\"hoverlabel\":{\"align\":\"left\"},\"paper_bgcolor\":\"white\",\"plot_bgcolor\":\"#E5ECF6\",\"polar\":{\"bgcolor\":\"#E5ECF6\",\"angularaxis\":{\"gridcolor\":\"white\",\"linecolor\":\"white\",\"ticks\":\"\"},\"radialaxis\":{\"gridcolor\":\"white\",\"linecolor\":\"white\",\"ticks\":\"\"}},\"ternary\":{\"bgcolor\":\"#E5ECF6\",\"aaxis\":{\"gridcolor\":\"white\",\"linecolor\":\"white\",\"ticks\":\"\"},\"baxis\":{\"gridcolor\":\"white\",\"linecolor\":\"white\",\"ticks\":\"\"},\"caxis\":{\"gridcolor\":\"white\",\"linecolor\":\"white\",\"ticks\":\"\"}},\"coloraxis\":{\"colorbar\":{\"outlinewidth\":0,\"ticks\":\"\"}},\"colorscale\":{\"sequential\":[[0.0,\"#0d0887\"],[0.1111111111111111,\"#46039f\"],[0.2222222222222222,\"#7201a8\"],[0.3333333333333333,\"#9c179e\"],[0.4444444444444444,\"#bd3786\"],[0.5555555555555556,\"#d8576b\"],[0.6666666666666666,\"#ed7953\"],[0.7777777777777778,\"#fb9f3a\"],[0.8888888888888888,\"#fdca26\"],[1.0,\"#f0f921\"]],\"sequentialminus\":[[0.0,\"#0d0887\"],[0.1111111111111111,\"#46039f\"],[0.2222222222222222,\"#7201a8\"],[0.3333333333333333,\"#9c179e\"],[0.4444444444444444,\"#bd3786\"],[0.5555555555555556,\"#d8576b\"],[0.6666666666666666,\"#ed7953\"],[0.7777777777777778,\"#fb9f3a\"],[0.8888888888888888,\"#fdca26\"],[1.0,\"#f0f921\"]],\"diverging\":[[0,\"#8e0152\"],[0.1,\"#c51b7d\"],[0.2,\"#de77ae\"],[0.3,\"#f1b6da\"],[0.4,\"#fde0ef\"],[0.5,\"#f7f7f7\"],[0.6,\"#e6f5d0\"],[0.7,\"#b8e186\"],[0.8,\"#7fbc41\"],[0.9,\"#4d9221\"],[1,\"#276419\"]]},\"xaxis\":{\"gridcolor\":\"white\",\"linecolor\":\"white\",\"ticks\":\"\",\"title\":{\"standoff\":15},\"zerolinecolor\":\"white\",\"automargin\":true,\"zerolinewidth\":2},\"yaxis\":{\"gridcolor\":\"white\",\"linecolor\":\"white\",\"ticks\":\"\",\"title\":{\"standoff\":15},\"zerolinecolor\":\"white\",\"automargin\":true,\"zerolinewidth\":2},\"scene\":{\"xaxis\":{\"backgroundcolor\":\"#E5ECF6\",\"gridcolor\":\"white\",\"linecolor\":\"white\",\"showbackground\":true,\"ticks\":\"\",\"zerolinecolor\":\"white\",\"gridwidth\":2},\"yaxis\":{\"backgroundcolor\":\"#E5ECF6\",\"gridcolor\":\"white\",\"linecolor\":\"white\",\"showbackground\":true,\"ticks\":\"\",\"zerolinecolor\":\"white\",\"gridwidth\":2},\"zaxis\":{\"backgroundcolor\":\"#E5ECF6\",\"gridcolor\":\"white\",\"linecolor\":\"white\",\"showbackground\":true,\"ticks\":\"\",\"zerolinecolor\":\"white\",\"gridwidth\":2}},\"shapedefaults\":{\"line\":{\"color\":\"#2a3f5f\"}},\"annotationdefaults\":{\"arrowcolor\":\"#2a3f5f\",\"arrowhead\":0,\"arrowwidth\":1},\"geo\":{\"bgcolor\":\"white\",\"landcolor\":\"#E5ECF6\",\"subunitcolor\":\"white\",\"showland\":true,\"showlakes\":true,\"lakecolor\":\"white\"},\"title\":{\"x\":0.05},\"mapbox\":{\"style\":\"light\"}}},\"xaxis\":{\"anchor\":\"y\",\"domain\":[0.0,1.0],\"title\":{\"text\":\"gender\"}},\"yaxis\":{\"anchor\":\"x\",\"domain\":[0.0,1.0],\"title\":{\"text\":\"ctr_perc\"}},\"coloraxis\":{\"colorbar\":{\"title\":{\"text\":\"shows\"}},\"colorscale\":[[0.0,\"rgb(247,251,255)\"],[0.125,\"rgb(222,235,247)\"],[0.25,\"rgb(198,219,239)\"],[0.375,\"rgb(158,202,225)\"],[0.5,\"rgb(107,174,214)\"],[0.625,\"rgb(66,146,198)\"],[0.75,\"rgb(33,113,181)\"],[0.875,\"rgb(8,81,156)\"],[1.0,\"rgb(8,48,107)\"]]},\"legend\":{\"tracegroupgap\":0},\"margin\":{\"t\":60},\"barmode\":\"relative\",\"height\":600,\"width\":800,\"title\":{\"text\":\"\\u041a\\u043e\\u043d\\u0432\\u0435\\u0440\\u0441\\u0438\\u044f \\u043f\\u043e\\u043a\\u0430\\u0437\\u043e\\u0432 \\u0432 \\u043a\\u043b\\u0438\\u043a \\u043f\\u043e \\u043f\\u0430\\u0440\\u0430\\u043c\\u0435\\u0442\\u0440\\u0443 \\\"\\u041f\\u043e\\u043b\\\"\"},\"annotations\":[{\"font\":{\"size\":14},\"showarrow\":false,\"text\":\"\\u0418\\u043d\\u0442\\u0435\\u043d\\u0441\\u0438\\u0432\\u043d\\u043e\\u0441\\u0442\\u044c \\u0446\\u0432\\u0435\\u0442\\u0430 \\u0441\\u043e\\u043e\\u0442\\u0432\\u0435\\u0442\\u0441\\u0442\\u0432\\u0443\\u0435\\u0442 \\u0447\\u0438\\u0441\\u043b\\u0443 \\u043f\\u043e\\u043a\\u0430\\u0437\\u043e\\u0432\",\"x\":0.5,\"xref\":\"paper\",\"y\":1,\"yref\":\"paper\"}]},                        {\"responsive\": true}                    ).then(function(){\n",
              "                            \n",
              "var gd = document.getElementById('6b14c25a-ff24-46e1-8ce6-4e1c70868647');\n",
              "var x = new MutationObserver(function (mutations, observer) {{\n",
              "        var display = window.getComputedStyle(gd).display;\n",
              "        if (!display || display === 'none') {{\n",
              "            console.log([gd, 'removed!']);\n",
              "            Plotly.purge(gd);\n",
              "            observer.disconnect();\n",
              "        }}\n",
              "}});\n",
              "\n",
              "// Listen for the removal of the full notebook cells\n",
              "var notebookContainer = gd.closest('#notebook-container');\n",
              "if (notebookContainer) {{\n",
              "    x.observe(notebookContainer, {childList: true});\n",
              "}}\n",
              "\n",
              "// Listen for the clearing of the current output cell\n",
              "var outputEl = gd.closest('.output');\n",
              "if (outputEl) {{\n",
              "    x.observe(outputEl, {childList: true});\n",
              "}}\n",
              "\n",
              "                        })                };                            </script>        </div>\n",
              "</body>\n",
              "</html>"
            ]
          },
          "metadata": {}
        }
      ]
    },
    {
      "cell_type": "markdown",
      "source": [
        "В самой активной возрастной категории конверсия между женщинами и мужчинами различается чуть больше - 0.7% и 0.6% соответственно."
      ],
      "metadata": {
        "id": "UA6COH70uEfB"
      }
    },
    {
      "cell_type": "markdown",
      "source": [
        "#### Платёжеспособность"
      ],
      "metadata": {
        "id": "vyVLCyRws5VA"
      }
    },
    {
      "cell_type": "code",
      "source": [
        "# рассмотрим параметр платёжеспособность\n",
        "px_sum(adgrants, 'solvency', 'clicks', 'Количество кликов по параметру \"платёжеспособность\"', 600, 800)"
      ],
      "metadata": {
        "colab": {
          "base_uri": "https://localhost:8080/",
          "height": 617
        },
        "id": "ltBeR1FeePlC",
        "outputId": "2f318bef-e7dc-445a-f0be-dd308cbc331c"
      },
      "execution_count": null,
      "outputs": [
        {
          "output_type": "display_data",
          "data": {
            "text/html": [
              "<html>\n",
              "<head><meta charset=\"utf-8\" /></head>\n",
              "<body>\n",
              "    <div>            <script src=\"https://cdnjs.cloudflare.com/ajax/libs/mathjax/2.7.5/MathJax.js?config=TeX-AMS-MML_SVG\"></script><script type=\"text/javascript\">if (window.MathJax && window.MathJax.Hub && window.MathJax.Hub.Config) {window.MathJax.Hub.Config({SVG: {font: \"STIX-Web\"}});}</script>                <script type=\"text/javascript\">window.PlotlyConfig = {MathJaxConfig: 'local'};</script>\n",
              "        <script charset=\"utf-8\" src=\"https://cdn.plot.ly/plotly-2.24.1.min.js\"></script>                <div id=\"ede28db2-f110-4f0a-8fe3-bea3875fe671\" class=\"plotly-graph-div\" style=\"height:600px; width:800px;\"></div>            <script type=\"text/javascript\">                                    window.PLOTLYENV=window.PLOTLYENV || {};                                    if (document.getElementById(\"ede28db2-f110-4f0a-8fe3-bea3875fe671\")) {                    Plotly.newPlot(                        \"ede28db2-f110-4f0a-8fe3-bea3875fe671\",                        [{\"alignmentgroup\":\"True\",\"hovertemplate\":\"solvency=%{x}\\u003cbr\\u003esum=%{y}\\u003cextra\\u003e\\u003c\\u002fextra\\u003e\",\"legendgroup\":\"\",\"marker\":{\"color\":\"#636efa\",\"pattern\":{\"shape\":\"\"}},\"name\":\"\",\"offsetgroup\":\"\",\"orientation\":\"v\",\"showlegend\":false,\"textposition\":\"auto\",\"x\":[\"\\u041e\\u0441\\u0442\\u0430\\u043b\\u044c\\u043d\\u044b\\u0435\",\"6-10%\",\"2-5%\",\"1%\"],\"xaxis\":\"x\",\"y\":[37254,2121,1675,193],\"yaxis\":\"y\",\"type\":\"bar\"}],                        {\"template\":{\"data\":{\"histogram2dcontour\":[{\"type\":\"histogram2dcontour\",\"colorbar\":{\"outlinewidth\":0,\"ticks\":\"\"},\"colorscale\":[[0.0,\"#0d0887\"],[0.1111111111111111,\"#46039f\"],[0.2222222222222222,\"#7201a8\"],[0.3333333333333333,\"#9c179e\"],[0.4444444444444444,\"#bd3786\"],[0.5555555555555556,\"#d8576b\"],[0.6666666666666666,\"#ed7953\"],[0.7777777777777778,\"#fb9f3a\"],[0.8888888888888888,\"#fdca26\"],[1.0,\"#f0f921\"]]}],\"choropleth\":[{\"type\":\"choropleth\",\"colorbar\":{\"outlinewidth\":0,\"ticks\":\"\"}}],\"histogram2d\":[{\"type\":\"histogram2d\",\"colorbar\":{\"outlinewidth\":0,\"ticks\":\"\"},\"colorscale\":[[0.0,\"#0d0887\"],[0.1111111111111111,\"#46039f\"],[0.2222222222222222,\"#7201a8\"],[0.3333333333333333,\"#9c179e\"],[0.4444444444444444,\"#bd3786\"],[0.5555555555555556,\"#d8576b\"],[0.6666666666666666,\"#ed7953\"],[0.7777777777777778,\"#fb9f3a\"],[0.8888888888888888,\"#fdca26\"],[1.0,\"#f0f921\"]]}],\"heatmap\":[{\"type\":\"heatmap\",\"colorbar\":{\"outlinewidth\":0,\"ticks\":\"\"},\"colorscale\":[[0.0,\"#0d0887\"],[0.1111111111111111,\"#46039f\"],[0.2222222222222222,\"#7201a8\"],[0.3333333333333333,\"#9c179e\"],[0.4444444444444444,\"#bd3786\"],[0.5555555555555556,\"#d8576b\"],[0.6666666666666666,\"#ed7953\"],[0.7777777777777778,\"#fb9f3a\"],[0.8888888888888888,\"#fdca26\"],[1.0,\"#f0f921\"]]}],\"heatmapgl\":[{\"type\":\"heatmapgl\",\"colorbar\":{\"outlinewidth\":0,\"ticks\":\"\"},\"colorscale\":[[0.0,\"#0d0887\"],[0.1111111111111111,\"#46039f\"],[0.2222222222222222,\"#7201a8\"],[0.3333333333333333,\"#9c179e\"],[0.4444444444444444,\"#bd3786\"],[0.5555555555555556,\"#d8576b\"],[0.6666666666666666,\"#ed7953\"],[0.7777777777777778,\"#fb9f3a\"],[0.8888888888888888,\"#fdca26\"],[1.0,\"#f0f921\"]]}],\"contourcarpet\":[{\"type\":\"contourcarpet\",\"colorbar\":{\"outlinewidth\":0,\"ticks\":\"\"}}],\"contour\":[{\"type\":\"contour\",\"colorbar\":{\"outlinewidth\":0,\"ticks\":\"\"},\"colorscale\":[[0.0,\"#0d0887\"],[0.1111111111111111,\"#46039f\"],[0.2222222222222222,\"#7201a8\"],[0.3333333333333333,\"#9c179e\"],[0.4444444444444444,\"#bd3786\"],[0.5555555555555556,\"#d8576b\"],[0.6666666666666666,\"#ed7953\"],[0.7777777777777778,\"#fb9f3a\"],[0.8888888888888888,\"#fdca26\"],[1.0,\"#f0f921\"]]}],\"surface\":[{\"type\":\"surface\",\"colorbar\":{\"outlinewidth\":0,\"ticks\":\"\"},\"colorscale\":[[0.0,\"#0d0887\"],[0.1111111111111111,\"#46039f\"],[0.2222222222222222,\"#7201a8\"],[0.3333333333333333,\"#9c179e\"],[0.4444444444444444,\"#bd3786\"],[0.5555555555555556,\"#d8576b\"],[0.6666666666666666,\"#ed7953\"],[0.7777777777777778,\"#fb9f3a\"],[0.8888888888888888,\"#fdca26\"],[1.0,\"#f0f921\"]]}],\"mesh3d\":[{\"type\":\"mesh3d\",\"colorbar\":{\"outlinewidth\":0,\"ticks\":\"\"}}],\"scatter\":[{\"fillpattern\":{\"fillmode\":\"overlay\",\"size\":10,\"solidity\":0.2},\"type\":\"scatter\"}],\"parcoords\":[{\"type\":\"parcoords\",\"line\":{\"colorbar\":{\"outlinewidth\":0,\"ticks\":\"\"}}}],\"scatterpolargl\":[{\"type\":\"scatterpolargl\",\"marker\":{\"colorbar\":{\"outlinewidth\":0,\"ticks\":\"\"}}}],\"bar\":[{\"error_x\":{\"color\":\"#2a3f5f\"},\"error_y\":{\"color\":\"#2a3f5f\"},\"marker\":{\"line\":{\"color\":\"#E5ECF6\",\"width\":0.5},\"pattern\":{\"fillmode\":\"overlay\",\"size\":10,\"solidity\":0.2}},\"type\":\"bar\"}],\"scattergeo\":[{\"type\":\"scattergeo\",\"marker\":{\"colorbar\":{\"outlinewidth\":0,\"ticks\":\"\"}}}],\"scatterpolar\":[{\"type\":\"scatterpolar\",\"marker\":{\"colorbar\":{\"outlinewidth\":0,\"ticks\":\"\"}}}],\"histogram\":[{\"marker\":{\"pattern\":{\"fillmode\":\"overlay\",\"size\":10,\"solidity\":0.2}},\"type\":\"histogram\"}],\"scattergl\":[{\"type\":\"scattergl\",\"marker\":{\"colorbar\":{\"outlinewidth\":0,\"ticks\":\"\"}}}],\"scatter3d\":[{\"type\":\"scatter3d\",\"line\":{\"colorbar\":{\"outlinewidth\":0,\"ticks\":\"\"}},\"marker\":{\"colorbar\":{\"outlinewidth\":0,\"ticks\":\"\"}}}],\"scattermapbox\":[{\"type\":\"scattermapbox\",\"marker\":{\"colorbar\":{\"outlinewidth\":0,\"ticks\":\"\"}}}],\"scatterternary\":[{\"type\":\"scatterternary\",\"marker\":{\"colorbar\":{\"outlinewidth\":0,\"ticks\":\"\"}}}],\"scattercarpet\":[{\"type\":\"scattercarpet\",\"marker\":{\"colorbar\":{\"outlinewidth\":0,\"ticks\":\"\"}}}],\"carpet\":[{\"aaxis\":{\"endlinecolor\":\"#2a3f5f\",\"gridcolor\":\"white\",\"linecolor\":\"white\",\"minorgridcolor\":\"white\",\"startlinecolor\":\"#2a3f5f\"},\"baxis\":{\"endlinecolor\":\"#2a3f5f\",\"gridcolor\":\"white\",\"linecolor\":\"white\",\"minorgridcolor\":\"white\",\"startlinecolor\":\"#2a3f5f\"},\"type\":\"carpet\"}],\"table\":[{\"cells\":{\"fill\":{\"color\":\"#EBF0F8\"},\"line\":{\"color\":\"white\"}},\"header\":{\"fill\":{\"color\":\"#C8D4E3\"},\"line\":{\"color\":\"white\"}},\"type\":\"table\"}],\"barpolar\":[{\"marker\":{\"line\":{\"color\":\"#E5ECF6\",\"width\":0.5},\"pattern\":{\"fillmode\":\"overlay\",\"size\":10,\"solidity\":0.2}},\"type\":\"barpolar\"}],\"pie\":[{\"automargin\":true,\"type\":\"pie\"}]},\"layout\":{\"autotypenumbers\":\"strict\",\"colorway\":[\"#636efa\",\"#EF553B\",\"#00cc96\",\"#ab63fa\",\"#FFA15A\",\"#19d3f3\",\"#FF6692\",\"#B6E880\",\"#FF97FF\",\"#FECB52\"],\"font\":{\"color\":\"#2a3f5f\"},\"hovermode\":\"closest\",\"hoverlabel\":{\"align\":\"left\"},\"paper_bgcolor\":\"white\",\"plot_bgcolor\":\"#E5ECF6\",\"polar\":{\"bgcolor\":\"#E5ECF6\",\"angularaxis\":{\"gridcolor\":\"white\",\"linecolor\":\"white\",\"ticks\":\"\"},\"radialaxis\":{\"gridcolor\":\"white\",\"linecolor\":\"white\",\"ticks\":\"\"}},\"ternary\":{\"bgcolor\":\"#E5ECF6\",\"aaxis\":{\"gridcolor\":\"white\",\"linecolor\":\"white\",\"ticks\":\"\"},\"baxis\":{\"gridcolor\":\"white\",\"linecolor\":\"white\",\"ticks\":\"\"},\"caxis\":{\"gridcolor\":\"white\",\"linecolor\":\"white\",\"ticks\":\"\"}},\"coloraxis\":{\"colorbar\":{\"outlinewidth\":0,\"ticks\":\"\"}},\"colorscale\":{\"sequential\":[[0.0,\"#0d0887\"],[0.1111111111111111,\"#46039f\"],[0.2222222222222222,\"#7201a8\"],[0.3333333333333333,\"#9c179e\"],[0.4444444444444444,\"#bd3786\"],[0.5555555555555556,\"#d8576b\"],[0.6666666666666666,\"#ed7953\"],[0.7777777777777778,\"#fb9f3a\"],[0.8888888888888888,\"#fdca26\"],[1.0,\"#f0f921\"]],\"sequentialminus\":[[0.0,\"#0d0887\"],[0.1111111111111111,\"#46039f\"],[0.2222222222222222,\"#7201a8\"],[0.3333333333333333,\"#9c179e\"],[0.4444444444444444,\"#bd3786\"],[0.5555555555555556,\"#d8576b\"],[0.6666666666666666,\"#ed7953\"],[0.7777777777777778,\"#fb9f3a\"],[0.8888888888888888,\"#fdca26\"],[1.0,\"#f0f921\"]],\"diverging\":[[0,\"#8e0152\"],[0.1,\"#c51b7d\"],[0.2,\"#de77ae\"],[0.3,\"#f1b6da\"],[0.4,\"#fde0ef\"],[0.5,\"#f7f7f7\"],[0.6,\"#e6f5d0\"],[0.7,\"#b8e186\"],[0.8,\"#7fbc41\"],[0.9,\"#4d9221\"],[1,\"#276419\"]]},\"xaxis\":{\"gridcolor\":\"white\",\"linecolor\":\"white\",\"ticks\":\"\",\"title\":{\"standoff\":15},\"zerolinecolor\":\"white\",\"automargin\":true,\"zerolinewidth\":2},\"yaxis\":{\"gridcolor\":\"white\",\"linecolor\":\"white\",\"ticks\":\"\",\"title\":{\"standoff\":15},\"zerolinecolor\":\"white\",\"automargin\":true,\"zerolinewidth\":2},\"scene\":{\"xaxis\":{\"backgroundcolor\":\"#E5ECF6\",\"gridcolor\":\"white\",\"linecolor\":\"white\",\"showbackground\":true,\"ticks\":\"\",\"zerolinecolor\":\"white\",\"gridwidth\":2},\"yaxis\":{\"backgroundcolor\":\"#E5ECF6\",\"gridcolor\":\"white\",\"linecolor\":\"white\",\"showbackground\":true,\"ticks\":\"\",\"zerolinecolor\":\"white\",\"gridwidth\":2},\"zaxis\":{\"backgroundcolor\":\"#E5ECF6\",\"gridcolor\":\"white\",\"linecolor\":\"white\",\"showbackground\":true,\"ticks\":\"\",\"zerolinecolor\":\"white\",\"gridwidth\":2}},\"shapedefaults\":{\"line\":{\"color\":\"#2a3f5f\"}},\"annotationdefaults\":{\"arrowcolor\":\"#2a3f5f\",\"arrowhead\":0,\"arrowwidth\":1},\"geo\":{\"bgcolor\":\"white\",\"landcolor\":\"#E5ECF6\",\"subunitcolor\":\"white\",\"showland\":true,\"showlakes\":true,\"lakecolor\":\"white\"},\"title\":{\"x\":0.05},\"mapbox\":{\"style\":\"light\"}}},\"xaxis\":{\"anchor\":\"y\",\"domain\":[0.0,1.0],\"title\":{\"text\":\"solvency\"}},\"yaxis\":{\"anchor\":\"x\",\"domain\":[0.0,1.0],\"title\":{\"text\":\"sum\"}},\"legend\":{\"tracegroupgap\":0},\"title\":{\"text\":\"\\u041a\\u043e\\u043b\\u0438\\u0447\\u0435\\u0441\\u0442\\u0432\\u043e \\u043a\\u043b\\u0438\\u043a\\u043e\\u0432 \\u043f\\u043e \\u043f\\u0430\\u0440\\u0430\\u043c\\u0435\\u0442\\u0440\\u0443 \\\"\\u043f\\u043b\\u0430\\u0442\\u0451\\u0436\\u0435\\u0441\\u043f\\u043e\\u0441\\u043e\\u0431\\u043d\\u043e\\u0441\\u0442\\u044c\\\"\"},\"barmode\":\"relative\",\"height\":600,\"width\":800},                        {\"responsive\": true}                    ).then(function(){\n",
              "                            \n",
              "var gd = document.getElementById('ede28db2-f110-4f0a-8fe3-bea3875fe671');\n",
              "var x = new MutationObserver(function (mutations, observer) {{\n",
              "        var display = window.getComputedStyle(gd).display;\n",
              "        if (!display || display === 'none') {{\n",
              "            console.log([gd, 'removed!']);\n",
              "            Plotly.purge(gd);\n",
              "            observer.disconnect();\n",
              "        }}\n",
              "}});\n",
              "\n",
              "// Listen for the removal of the full notebook cells\n",
              "var notebookContainer = gd.closest('#notebook-container');\n",
              "if (notebookContainer) {{\n",
              "    x.observe(notebookContainer, {childList: true});\n",
              "}}\n",
              "\n",
              "// Listen for the clearing of the current output cell\n",
              "var outputEl = gd.closest('.output');\n",
              "if (outputEl) {{\n",
              "    x.observe(outputEl, {childList: true});\n",
              "}}\n",
              "\n",
              "                        })                };                            </script>        </div>\n",
              "</body>\n",
              "</html>"
            ]
          },
          "metadata": {}
        }
      ]
    },
    {
      "cell_type": "markdown",
      "source": [
        "В большинстве случаев платёжеспособность не определена. Не будем анализировать данный параметр."
      ],
      "metadata": {
        "id": "xoMKurWuehgM"
      }
    },
    {
      "cell_type": "markdown",
      "source": [
        "## Анализ платежей clients и donors"
      ],
      "metadata": {
        "id": "O1kcMYl8tK0U"
      }
    },
    {
      "cell_type": "markdown",
      "source": [
        "Датасет **all** - это объединенные пожертвования из clients и donors, совершенные с конца 2021 до конца 2023 годов. Необходимо понять, есть ли связь, между рекламными кампаниями и платежами. Поскольку, рекламные кампании проходили с января до июля 2023 года, мы будем рассматривать срез платежей, которые входят в этот период. Для нас важна первая дата платежа (предполагаем, что человек увидел рекламу, среагировал, заплатил). Поэтому создадим датасет **all_2023** в котором дата первого платежа входит в диапазон времени проведения рекламных кампаний - 01.2023 - 07.2023."
      ],
      "metadata": {
        "id": "BMHqNq2_vFTS"
      }
    },
    {
      "cell_type": "markdown",
      "source": [
        "**Примечание:** мы не знаем, почему платежи некоторых доноров повторяются в выгрузке платежной системы, поэтому не будем исключать строки с донорами, замечеными в перод ранее рекламного (возможно, рекламная кампания повлияла на повторный платеж, который вынесен отдельно). Поэтому далее уникальные доноры посчитаны в срезе с января 2023 года."
      ],
      "metadata": {
        "id": "D6Ds7zYWkcN1"
      }
    },
    {
      "cell_type": "markdown",
      "source": [
        "### Общая сумма пожертвований"
      ],
      "metadata": {
        "id": "4Enhil8mdTZO"
      }
    },
    {
      "cell_type": "code",
      "source": [
        "# датасет платежей РЕКЛАМНОГО периода\n",
        "# ограничим диапазон по дате проведения кампаний\n",
        "all_2023 = all.query('first_payment >= \"2023-01-15\" & first_payment <= \"2023-07-19\"').copy()\n",
        "# сгруппируем датасет по уникальным пользователям по дате первого платежа, взносы суммируем в столбце total\n",
        "all_2023 = all_2023.sort_values('first_payment').groupby('code').agg({'first_payment':'first', 'total':'sum'}).reset_index()\n",
        "# добавим столбец месяца\n",
        "all_2023['month'] = all_2023['first_payment'].dt.month\n",
        "print('Уникальных доноров за январь-июль 2023 г:', '\\033[1m{}\\033[0m'.format(all_2023['code'].nunique()))\n",
        "all_2023.head(3)"
      ],
      "metadata": {
        "colab": {
          "base_uri": "https://localhost:8080/",
          "height": 162
        },
        "id": "8z8gtiEoue61",
        "outputId": "2ebd6fda-37d7-4e07-ef20-59763267c968"
      },
      "execution_count": null,
      "outputs": [
        {
          "output_type": "stream",
          "name": "stdout",
          "text": [
            "Уникальных доноров за январь-июль 2023 г: \u001b[1m621\u001b[0m\n"
          ]
        },
        {
          "output_type": "execute_result",
          "data": {
            "text/plain": [
              "   code first_payment  total  month\n",
              "0  1127    2023-03-16    900      3\n",
              "1  1146    2023-02-18   1750      2\n",
              "2  1147    2023-03-15    300      3"
            ],
            "text/html": [
              "\n",
              "  <div id=\"df-7e4253e0-3e99-48c7-aa22-a8b6f24bffc7\" class=\"colab-df-container\">\n",
              "    <div>\n",
              "<style scoped>\n",
              "    .dataframe tbody tr th:only-of-type {\n",
              "        vertical-align: middle;\n",
              "    }\n",
              "\n",
              "    .dataframe tbody tr th {\n",
              "        vertical-align: top;\n",
              "    }\n",
              "\n",
              "    .dataframe thead th {\n",
              "        text-align: right;\n",
              "    }\n",
              "</style>\n",
              "<table border=\"1\" class=\"dataframe\">\n",
              "  <thead>\n",
              "    <tr style=\"text-align: right;\">\n",
              "      <th></th>\n",
              "      <th>code</th>\n",
              "      <th>first_payment</th>\n",
              "      <th>total</th>\n",
              "      <th>month</th>\n",
              "    </tr>\n",
              "  </thead>\n",
              "  <tbody>\n",
              "    <tr>\n",
              "      <th>0</th>\n",
              "      <td>1127</td>\n",
              "      <td>2023-03-16</td>\n",
              "      <td>900</td>\n",
              "      <td>3</td>\n",
              "    </tr>\n",
              "    <tr>\n",
              "      <th>1</th>\n",
              "      <td>1146</td>\n",
              "      <td>2023-02-18</td>\n",
              "      <td>1750</td>\n",
              "      <td>2</td>\n",
              "    </tr>\n",
              "    <tr>\n",
              "      <th>2</th>\n",
              "      <td>1147</td>\n",
              "      <td>2023-03-15</td>\n",
              "      <td>300</td>\n",
              "      <td>3</td>\n",
              "    </tr>\n",
              "  </tbody>\n",
              "</table>\n",
              "</div>\n",
              "    <div class=\"colab-df-buttons\">\n",
              "\n",
              "  <div class=\"colab-df-container\">\n",
              "    <button class=\"colab-df-convert\" onclick=\"convertToInteractive('df-7e4253e0-3e99-48c7-aa22-a8b6f24bffc7')\"\n",
              "            title=\"Convert this dataframe to an interactive table.\"\n",
              "            style=\"display:none;\">\n",
              "\n",
              "  <svg xmlns=\"http://www.w3.org/2000/svg\" height=\"24px\" viewBox=\"0 -960 960 960\">\n",
              "    <path d=\"M120-120v-720h720v720H120Zm60-500h600v-160H180v160Zm220 220h160v-160H400v160Zm0 220h160v-160H400v160ZM180-400h160v-160H180v160Zm440 0h160v-160H620v160ZM180-180h160v-160H180v160Zm440 0h160v-160H620v160Z\"/>\n",
              "  </svg>\n",
              "    </button>\n",
              "\n",
              "  <style>\n",
              "    .colab-df-container {\n",
              "      display:flex;\n",
              "      gap: 12px;\n",
              "    }\n",
              "\n",
              "    .colab-df-convert {\n",
              "      background-color: #E8F0FE;\n",
              "      border: none;\n",
              "      border-radius: 50%;\n",
              "      cursor: pointer;\n",
              "      display: none;\n",
              "      fill: #1967D2;\n",
              "      height: 32px;\n",
              "      padding: 0 0 0 0;\n",
              "      width: 32px;\n",
              "    }\n",
              "\n",
              "    .colab-df-convert:hover {\n",
              "      background-color: #E2EBFA;\n",
              "      box-shadow: 0px 1px 2px rgba(60, 64, 67, 0.3), 0px 1px 3px 1px rgba(60, 64, 67, 0.15);\n",
              "      fill: #174EA6;\n",
              "    }\n",
              "\n",
              "    .colab-df-buttons div {\n",
              "      margin-bottom: 4px;\n",
              "    }\n",
              "\n",
              "    [theme=dark] .colab-df-convert {\n",
              "      background-color: #3B4455;\n",
              "      fill: #D2E3FC;\n",
              "    }\n",
              "\n",
              "    [theme=dark] .colab-df-convert:hover {\n",
              "      background-color: #434B5C;\n",
              "      box-shadow: 0px 1px 3px 1px rgba(0, 0, 0, 0.15);\n",
              "      filter: drop-shadow(0px 1px 2px rgba(0, 0, 0, 0.3));\n",
              "      fill: #FFFFFF;\n",
              "    }\n",
              "  </style>\n",
              "\n",
              "    <script>\n",
              "      const buttonEl =\n",
              "        document.querySelector('#df-7e4253e0-3e99-48c7-aa22-a8b6f24bffc7 button.colab-df-convert');\n",
              "      buttonEl.style.display =\n",
              "        google.colab.kernel.accessAllowed ? 'block' : 'none';\n",
              "\n",
              "      async function convertToInteractive(key) {\n",
              "        const element = document.querySelector('#df-7e4253e0-3e99-48c7-aa22-a8b6f24bffc7');\n",
              "        const dataTable =\n",
              "          await google.colab.kernel.invokeFunction('convertToInteractive',\n",
              "                                                    [key], {});\n",
              "        if (!dataTable) return;\n",
              "\n",
              "        const docLinkHtml = 'Like what you see? Visit the ' +\n",
              "          '<a target=\"_blank\" href=https://colab.research.google.com/notebooks/data_table.ipynb>data table notebook</a>'\n",
              "          + ' to learn more about interactive tables.';\n",
              "        element.innerHTML = '';\n",
              "        dataTable['output_type'] = 'display_data';\n",
              "        await google.colab.output.renderOutput(dataTable, element);\n",
              "        const docLink = document.createElement('div');\n",
              "        docLink.innerHTML = docLinkHtml;\n",
              "        element.appendChild(docLink);\n",
              "      }\n",
              "    </script>\n",
              "  </div>\n",
              "\n",
              "\n",
              "<div id=\"df-f46231bb-4f9b-4578-8f41-0e938d13bf4f\">\n",
              "  <button class=\"colab-df-quickchart\" onclick=\"quickchart('df-f46231bb-4f9b-4578-8f41-0e938d13bf4f')\"\n",
              "            title=\"Suggest charts.\"\n",
              "            style=\"display:none;\">\n",
              "\n",
              "<svg xmlns=\"http://www.w3.org/2000/svg\" height=\"24px\"viewBox=\"0 0 24 24\"\n",
              "     width=\"24px\">\n",
              "    <g>\n",
              "        <path d=\"M19 3H5c-1.1 0-2 .9-2 2v14c0 1.1.9 2 2 2h14c1.1 0 2-.9 2-2V5c0-1.1-.9-2-2-2zM9 17H7v-7h2v7zm4 0h-2V7h2v10zm4 0h-2v-4h2v4z\"/>\n",
              "    </g>\n",
              "</svg>\n",
              "  </button>\n",
              "\n",
              "<style>\n",
              "  .colab-df-quickchart {\n",
              "      --bg-color: #E8F0FE;\n",
              "      --fill-color: #1967D2;\n",
              "      --hover-bg-color: #E2EBFA;\n",
              "      --hover-fill-color: #174EA6;\n",
              "      --disabled-fill-color: #AAA;\n",
              "      --disabled-bg-color: #DDD;\n",
              "  }\n",
              "\n",
              "  [theme=dark] .colab-df-quickchart {\n",
              "      --bg-color: #3B4455;\n",
              "      --fill-color: #D2E3FC;\n",
              "      --hover-bg-color: #434B5C;\n",
              "      --hover-fill-color: #FFFFFF;\n",
              "      --disabled-bg-color: #3B4455;\n",
              "      --disabled-fill-color: #666;\n",
              "  }\n",
              "\n",
              "  .colab-df-quickchart {\n",
              "    background-color: var(--bg-color);\n",
              "    border: none;\n",
              "    border-radius: 50%;\n",
              "    cursor: pointer;\n",
              "    display: none;\n",
              "    fill: var(--fill-color);\n",
              "    height: 32px;\n",
              "    padding: 0;\n",
              "    width: 32px;\n",
              "  }\n",
              "\n",
              "  .colab-df-quickchart:hover {\n",
              "    background-color: var(--hover-bg-color);\n",
              "    box-shadow: 0 1px 2px rgba(60, 64, 67, 0.3), 0 1px 3px 1px rgba(60, 64, 67, 0.15);\n",
              "    fill: var(--button-hover-fill-color);\n",
              "  }\n",
              "\n",
              "  .colab-df-quickchart-complete:disabled,\n",
              "  .colab-df-quickchart-complete:disabled:hover {\n",
              "    background-color: var(--disabled-bg-color);\n",
              "    fill: var(--disabled-fill-color);\n",
              "    box-shadow: none;\n",
              "  }\n",
              "\n",
              "  .colab-df-spinner {\n",
              "    border: 2px solid var(--fill-color);\n",
              "    border-color: transparent;\n",
              "    border-bottom-color: var(--fill-color);\n",
              "    animation:\n",
              "      spin 1s steps(1) infinite;\n",
              "  }\n",
              "\n",
              "  @keyframes spin {\n",
              "    0% {\n",
              "      border-color: transparent;\n",
              "      border-bottom-color: var(--fill-color);\n",
              "      border-left-color: var(--fill-color);\n",
              "    }\n",
              "    20% {\n",
              "      border-color: transparent;\n",
              "      border-left-color: var(--fill-color);\n",
              "      border-top-color: var(--fill-color);\n",
              "    }\n",
              "    30% {\n",
              "      border-color: transparent;\n",
              "      border-left-color: var(--fill-color);\n",
              "      border-top-color: var(--fill-color);\n",
              "      border-right-color: var(--fill-color);\n",
              "    }\n",
              "    40% {\n",
              "      border-color: transparent;\n",
              "      border-right-color: var(--fill-color);\n",
              "      border-top-color: var(--fill-color);\n",
              "    }\n",
              "    60% {\n",
              "      border-color: transparent;\n",
              "      border-right-color: var(--fill-color);\n",
              "    }\n",
              "    80% {\n",
              "      border-color: transparent;\n",
              "      border-right-color: var(--fill-color);\n",
              "      border-bottom-color: var(--fill-color);\n",
              "    }\n",
              "    90% {\n",
              "      border-color: transparent;\n",
              "      border-bottom-color: var(--fill-color);\n",
              "    }\n",
              "  }\n",
              "</style>\n",
              "\n",
              "  <script>\n",
              "    async function quickchart(key) {\n",
              "      const quickchartButtonEl =\n",
              "        document.querySelector('#' + key + ' button');\n",
              "      quickchartButtonEl.disabled = true;  // To prevent multiple clicks.\n",
              "      quickchartButtonEl.classList.add('colab-df-spinner');\n",
              "      try {\n",
              "        const charts = await google.colab.kernel.invokeFunction(\n",
              "            'suggestCharts', [key], {});\n",
              "      } catch (error) {\n",
              "        console.error('Error during call to suggestCharts:', error);\n",
              "      }\n",
              "      quickchartButtonEl.classList.remove('colab-df-spinner');\n",
              "      quickchartButtonEl.classList.add('colab-df-quickchart-complete');\n",
              "    }\n",
              "    (() => {\n",
              "      let quickchartButtonEl =\n",
              "        document.querySelector('#df-f46231bb-4f9b-4578-8f41-0e938d13bf4f button');\n",
              "      quickchartButtonEl.style.display =\n",
              "        google.colab.kernel.accessAllowed ? 'block' : 'none';\n",
              "    })();\n",
              "  </script>\n",
              "</div>\n",
              "    </div>\n",
              "  </div>\n"
            ]
          },
          "metadata": {},
          "execution_count": 154
        }
      ]
    },
    {
      "cell_type": "code",
      "source": [
        "# датасет платежей ОСТАЛЬНОГО периода\n",
        "donors_2021_2022 = all.query('first_payment < \"2023-01-15\"').copy()\n",
        "# добавим столбец год-месяц\n",
        "donors_2021_2022['month'] = pd.to_datetime(donors_2021_2022['first_payment']).dt.to_period('M').astype('str')"
      ],
      "metadata": {
        "id": "nvlAsmCrKRyC"
      },
      "execution_count": null,
      "outputs": []
    },
    {
      "cell_type": "code",
      "source": [
        "mean_payment1 = (all_2023.groupby('code')['total'].sum().sum()).astype(int)\n",
        "mean_payment2 = (donors_2021_2022.groupby('code')['total'].sum().sum()).astype(int)\n",
        "sum_all = all.groupby('code')['total'].sum().sum()\n",
        "print(line_)\n",
        "print('Общая сумма пожертвований', '\\033[1m{}\\033[0m'.format(sum_all))\n",
        "print()\n",
        "print('За рекламный период (7 месяцев 2023 года) -', '\\033[1m{}\\033[0m'.format(mean_payment1), 'руб.')\n",
        "print('За остальной период (18 месяцев 2021/22 годов) -', '\\033[1m{}\\033[0m'.format(mean_payment2), 'руб.')\n",
        "print(_line)"
      ],
      "metadata": {
        "colab": {
          "base_uri": "https://localhost:8080/"
        },
        "id": "gO6XzY8bdaBg",
        "outputId": "7b45ebdb-3d1e-44f3-9d94-57f113d0c5e5"
      },
      "execution_count": null,
      "outputs": [
        {
          "output_type": "stream",
          "name": "stdout",
          "text": [
            "────────────────────────────────────────────────────────────────────────────────────────────────────\n",
            "\n",
            "Общая сумма пожертвований \u001b[1m2887399\u001b[0m\n",
            "\n",
            "За рекламный период (7 месяцев 2023 года) - \u001b[1m1300406\u001b[0m руб.\n",
            "За остальной период (18 месяцев 2021/22 годов) - \u001b[1m1586993\u001b[0m руб.\n",
            "\n",
            "────────────────────────────────────────────────────────────────────────────────────────────────────\n"
          ]
        }
      ]
    },
    {
      "cell_type": "markdown",
      "source": [
        "### Средняя сумма пожертвования"
      ],
      "metadata": {
        "id": "gV6bdCo5SPR1"
      }
    },
    {
      "cell_type": "code",
      "source": [
        "print()\n",
        "mean_payment1 = (all_2023.groupby('code')['total'].mean().mean()).astype(int)\n",
        "print('Средняя сумма пожертвований человека за рекламный период', '\\033[1m{}\\033[0m'.format(mean_payment1), 'руб.')\n",
        "mean_payment2 = (donors_2021_2022.groupby('code')['total'].mean().mean()).astype(int)\n",
        "print('Средняя сумма пожертвований человека за весь период', '\\033[1m{}\\033[0m'.format(mean_payment2), 'руб.')\n",
        "print()\n",
        "print('За рекламный период средняя сумма пожертвований уменьшилась на',\n",
        "      '\\033[1m{}\\033[0m'.format((100-mean_payment1/mean_payment2*100).astype(int)),'%.')"
      ],
      "metadata": {
        "colab": {
          "base_uri": "https://localhost:8080/"
        },
        "id": "F-ZigdCFIJon",
        "outputId": "11139452-13e5-4108-bb6c-3e806848e37c"
      },
      "execution_count": null,
      "outputs": [
        {
          "output_type": "stream",
          "name": "stdout",
          "text": [
            "\n",
            "Средняя сумма пожертвований человека за рекламный период \u001b[1m2094\u001b[0m руб.\n",
            "Средняя сумма пожертвований человека за весь период \u001b[1m2200\u001b[0m руб.\n",
            "\n",
            "За рекламный период средняя сумма пожертвований уменьшилась на \u001b[1m4\u001b[0m %.\n"
          ]
        }
      ]
    },
    {
      "cell_type": "code",
      "source": [
        "mean_payment1 = (all_2023.groupby('code')['total'].median().median()).astype(int)\n",
        "mean_payment2 = (donors_2021_2022.groupby('code')['total'].median().median()).astype(int)\n",
        "\n",
        "print(line_)\n",
        "print('Средняя по медиане сумма пожертвований человека за рекламный период', '\\033[1m{}\\033[0m'.format(mean_payment1), 'руб.')\n",
        "print('Средняя по медиане сумма пожертвований человека за весь период', '\\033[1m{}\\033[0m'.format(mean_payment2), 'руб.')\n",
        "print()\n",
        "print('За рекламный период средняя по медиане сумма пожертвований увеличилась на',\n",
        "      '\\033[1m{}\\033[0m'.format((100-mean_payment2/mean_payment1*100).astype(int)),'%.')\n",
        "print(_line)"
      ],
      "metadata": {
        "colab": {
          "base_uri": "https://localhost:8080/"
        },
        "id": "ixf7Gy3peXun",
        "outputId": "d757e2e1-fbea-47a7-fc49-b0925ff24ed1"
      },
      "execution_count": null,
      "outputs": [
        {
          "output_type": "stream",
          "name": "stdout",
          "text": [
            "────────────────────────────────────────────────────────────────────────────────────────────────────\n",
            "\n",
            "Средняя по медиане сумма пожертвований человека за рекламный период \u001b[1m900\u001b[0m руб.\n",
            "Средняя по медиане сумма пожертвований человека за весь период \u001b[1m750\u001b[0m руб.\n",
            "\n",
            "За рекламный период средняя по медиане сумма пожертвований увеличилась на \u001b[1m16\u001b[0m %.\n",
            "\n",
            "────────────────────────────────────────────────────────────────────────────────────────────────────\n"
          ]
        }
      ]
    },
    {
      "cell_type": "markdown",
      "source": [
        "Такая разница медианы и среднего арифметического значения говорит о выбросах - **несколько людей сделало очень большие пожертвования**, рассмотрим это дальше."
      ],
      "metadata": {
        "id": "lyPvSnjGepR7"
      }
    },
    {
      "cell_type": "code",
      "source": [
        "mean_2023 = (all_2023.groupby('month')['total'].sum().mean()).astype(int)\n",
        "mean_2023\n",
        "mean_2021_2022 = (donors_2021_2022.groupby('month')['total'].sum().mean()).astype(int)\n",
        "mean_2021_2022\n",
        "\n",
        "print(line_)\n",
        "print('Средняя сумма пожертвований в месяц за рекламный период', '\\033[1m{}\\033[0m'.format(mean_2023), 'руб.')\n",
        "print('Средняя сумма пожертвований в месяц за остальной период', '\\033[1m{}\\033[0m'.format(mean_2021_2022), 'руб.')\n",
        "print()\n",
        "print('За рекламный период средняя сумма пожертвований в месяц увеличилась на',\n",
        "      '\\033[1m{}\\033[0m'.format((100-mean_2021_2022/mean_2023*100).astype(int)),'%.')\n",
        "print(_line)"
      ],
      "metadata": {
        "colab": {
          "base_uri": "https://localhost:8080/"
        },
        "id": "4JmL-t3dnivQ",
        "outputId": "30aedece-aa6b-43cb-ec84-bcd414d8fc3c"
      },
      "execution_count": null,
      "outputs": [
        {
          "output_type": "stream",
          "name": "stdout",
          "text": [
            "────────────────────────────────────────────────────────────────────────────────────────────────────\n",
            "\n",
            "Средняя сумма пожертвований в месяц за рекламный период \u001b[1m216734\u001b[0m руб.\n",
            "Средняя сумма пожертвований в месяц за остальной период \u001b[1m105799\u001b[0m руб.\n",
            "\n",
            "За рекламный период средняя сумма пожертвований в месяц увеличилась на \u001b[1m51\u001b[0m %.\n",
            "\n",
            "────────────────────────────────────────────────────────────────────────────────────────────────────\n"
          ]
        }
      ]
    },
    {
      "cell_type": "markdown",
      "source": [
        "### Доля от фонда"
      ],
      "metadata": {
        "id": "UvG8oVj0t2Zu"
      }
    },
    {
      "cell_type": "markdown",
      "source": [
        "Рассмотрим отдельно из каких доноров состоит фонд. Разобъем их на группы в зависимости от общей пожертвованной суммы за весь период. Оценим долю вложений от каждой группы и долю доноров от общего числа."
      ],
      "metadata": {
        "id": "g_FKPaqOuEqo"
      }
    },
    {
      "cell_type": "code",
      "source": [
        "# сгруппируем датасет по уникальным пользователям по дате первого платежа, взносы суммируем в столбце total\n",
        "reach_donors = all.sort_values('first_payment').groupby('code').agg({'first_payment':'first', 'total':'sum'}).reset_index()\n",
        "reach_donors = reach_donors.pivot_table(index='code', values='total', aggfunc='sum').reset_index()"
      ],
      "metadata": {
        "id": "7PqCJu38iWYi"
      },
      "execution_count": null,
      "outputs": []
    },
    {
      "cell_type": "code",
      "source": [
        "reach_donors.sort_values(by='total', ascending=False).head()"
      ],
      "metadata": {
        "colab": {
          "base_uri": "https://localhost:8080/",
          "height": 206
        },
        "id": "1kdp52Abjm3y",
        "outputId": "121e58f2-30f6-4df4-c61b-4ef768e6a4f0"
      },
      "execution_count": null,
      "outputs": [
        {
          "output_type": "execute_result",
          "data": {
            "text/plain": [
              "      code   total\n",
              "552   1847  130000\n",
              "323   1592   55000\n",
              "1016  2515   55000\n",
              "810   2132   51000\n",
              "995   2378   50000"
            ],
            "text/html": [
              "\n",
              "  <div id=\"df-33f635e2-841d-4114-87d4-6f0298ca5b7e\" class=\"colab-df-container\">\n",
              "    <div>\n",
              "<style scoped>\n",
              "    .dataframe tbody tr th:only-of-type {\n",
              "        vertical-align: middle;\n",
              "    }\n",
              "\n",
              "    .dataframe tbody tr th {\n",
              "        vertical-align: top;\n",
              "    }\n",
              "\n",
              "    .dataframe thead th {\n",
              "        text-align: right;\n",
              "    }\n",
              "</style>\n",
              "<table border=\"1\" class=\"dataframe\">\n",
              "  <thead>\n",
              "    <tr style=\"text-align: right;\">\n",
              "      <th></th>\n",
              "      <th>code</th>\n",
              "      <th>total</th>\n",
              "    </tr>\n",
              "  </thead>\n",
              "  <tbody>\n",
              "    <tr>\n",
              "      <th>552</th>\n",
              "      <td>1847</td>\n",
              "      <td>130000</td>\n",
              "    </tr>\n",
              "    <tr>\n",
              "      <th>323</th>\n",
              "      <td>1592</td>\n",
              "      <td>55000</td>\n",
              "    </tr>\n",
              "    <tr>\n",
              "      <th>1016</th>\n",
              "      <td>2515</td>\n",
              "      <td>55000</td>\n",
              "    </tr>\n",
              "    <tr>\n",
              "      <th>810</th>\n",
              "      <td>2132</td>\n",
              "      <td>51000</td>\n",
              "    </tr>\n",
              "    <tr>\n",
              "      <th>995</th>\n",
              "      <td>2378</td>\n",
              "      <td>50000</td>\n",
              "    </tr>\n",
              "  </tbody>\n",
              "</table>\n",
              "</div>\n",
              "    <div class=\"colab-df-buttons\">\n",
              "\n",
              "  <div class=\"colab-df-container\">\n",
              "    <button class=\"colab-df-convert\" onclick=\"convertToInteractive('df-33f635e2-841d-4114-87d4-6f0298ca5b7e')\"\n",
              "            title=\"Convert this dataframe to an interactive table.\"\n",
              "            style=\"display:none;\">\n",
              "\n",
              "  <svg xmlns=\"http://www.w3.org/2000/svg\" height=\"24px\" viewBox=\"0 -960 960 960\">\n",
              "    <path d=\"M120-120v-720h720v720H120Zm60-500h600v-160H180v160Zm220 220h160v-160H400v160Zm0 220h160v-160H400v160ZM180-400h160v-160H180v160Zm440 0h160v-160H620v160ZM180-180h160v-160H180v160Zm440 0h160v-160H620v160Z\"/>\n",
              "  </svg>\n",
              "    </button>\n",
              "\n",
              "  <style>\n",
              "    .colab-df-container {\n",
              "      display:flex;\n",
              "      gap: 12px;\n",
              "    }\n",
              "\n",
              "    .colab-df-convert {\n",
              "      background-color: #E8F0FE;\n",
              "      border: none;\n",
              "      border-radius: 50%;\n",
              "      cursor: pointer;\n",
              "      display: none;\n",
              "      fill: #1967D2;\n",
              "      height: 32px;\n",
              "      padding: 0 0 0 0;\n",
              "      width: 32px;\n",
              "    }\n",
              "\n",
              "    .colab-df-convert:hover {\n",
              "      background-color: #E2EBFA;\n",
              "      box-shadow: 0px 1px 2px rgba(60, 64, 67, 0.3), 0px 1px 3px 1px rgba(60, 64, 67, 0.15);\n",
              "      fill: #174EA6;\n",
              "    }\n",
              "\n",
              "    .colab-df-buttons div {\n",
              "      margin-bottom: 4px;\n",
              "    }\n",
              "\n",
              "    [theme=dark] .colab-df-convert {\n",
              "      background-color: #3B4455;\n",
              "      fill: #D2E3FC;\n",
              "    }\n",
              "\n",
              "    [theme=dark] .colab-df-convert:hover {\n",
              "      background-color: #434B5C;\n",
              "      box-shadow: 0px 1px 3px 1px rgba(0, 0, 0, 0.15);\n",
              "      filter: drop-shadow(0px 1px 2px rgba(0, 0, 0, 0.3));\n",
              "      fill: #FFFFFF;\n",
              "    }\n",
              "  </style>\n",
              "\n",
              "    <script>\n",
              "      const buttonEl =\n",
              "        document.querySelector('#df-33f635e2-841d-4114-87d4-6f0298ca5b7e button.colab-df-convert');\n",
              "      buttonEl.style.display =\n",
              "        google.colab.kernel.accessAllowed ? 'block' : 'none';\n",
              "\n",
              "      async function convertToInteractive(key) {\n",
              "        const element = document.querySelector('#df-33f635e2-841d-4114-87d4-6f0298ca5b7e');\n",
              "        const dataTable =\n",
              "          await google.colab.kernel.invokeFunction('convertToInteractive',\n",
              "                                                    [key], {});\n",
              "        if (!dataTable) return;\n",
              "\n",
              "        const docLinkHtml = 'Like what you see? Visit the ' +\n",
              "          '<a target=\"_blank\" href=https://colab.research.google.com/notebooks/data_table.ipynb>data table notebook</a>'\n",
              "          + ' to learn more about interactive tables.';\n",
              "        element.innerHTML = '';\n",
              "        dataTable['output_type'] = 'display_data';\n",
              "        await google.colab.output.renderOutput(dataTable, element);\n",
              "        const docLink = document.createElement('div');\n",
              "        docLink.innerHTML = docLinkHtml;\n",
              "        element.appendChild(docLink);\n",
              "      }\n",
              "    </script>\n",
              "  </div>\n",
              "\n",
              "\n",
              "<div id=\"df-a31205f4-9f60-40a5-806f-314224a4c3ca\">\n",
              "  <button class=\"colab-df-quickchart\" onclick=\"quickchart('df-a31205f4-9f60-40a5-806f-314224a4c3ca')\"\n",
              "            title=\"Suggest charts.\"\n",
              "            style=\"display:none;\">\n",
              "\n",
              "<svg xmlns=\"http://www.w3.org/2000/svg\" height=\"24px\"viewBox=\"0 0 24 24\"\n",
              "     width=\"24px\">\n",
              "    <g>\n",
              "        <path d=\"M19 3H5c-1.1 0-2 .9-2 2v14c0 1.1.9 2 2 2h14c1.1 0 2-.9 2-2V5c0-1.1-.9-2-2-2zM9 17H7v-7h2v7zm4 0h-2V7h2v10zm4 0h-2v-4h2v4z\"/>\n",
              "    </g>\n",
              "</svg>\n",
              "  </button>\n",
              "\n",
              "<style>\n",
              "  .colab-df-quickchart {\n",
              "      --bg-color: #E8F0FE;\n",
              "      --fill-color: #1967D2;\n",
              "      --hover-bg-color: #E2EBFA;\n",
              "      --hover-fill-color: #174EA6;\n",
              "      --disabled-fill-color: #AAA;\n",
              "      --disabled-bg-color: #DDD;\n",
              "  }\n",
              "\n",
              "  [theme=dark] .colab-df-quickchart {\n",
              "      --bg-color: #3B4455;\n",
              "      --fill-color: #D2E3FC;\n",
              "      --hover-bg-color: #434B5C;\n",
              "      --hover-fill-color: #FFFFFF;\n",
              "      --disabled-bg-color: #3B4455;\n",
              "      --disabled-fill-color: #666;\n",
              "  }\n",
              "\n",
              "  .colab-df-quickchart {\n",
              "    background-color: var(--bg-color);\n",
              "    border: none;\n",
              "    border-radius: 50%;\n",
              "    cursor: pointer;\n",
              "    display: none;\n",
              "    fill: var(--fill-color);\n",
              "    height: 32px;\n",
              "    padding: 0;\n",
              "    width: 32px;\n",
              "  }\n",
              "\n",
              "  .colab-df-quickchart:hover {\n",
              "    background-color: var(--hover-bg-color);\n",
              "    box-shadow: 0 1px 2px rgba(60, 64, 67, 0.3), 0 1px 3px 1px rgba(60, 64, 67, 0.15);\n",
              "    fill: var(--button-hover-fill-color);\n",
              "  }\n",
              "\n",
              "  .colab-df-quickchart-complete:disabled,\n",
              "  .colab-df-quickchart-complete:disabled:hover {\n",
              "    background-color: var(--disabled-bg-color);\n",
              "    fill: var(--disabled-fill-color);\n",
              "    box-shadow: none;\n",
              "  }\n",
              "\n",
              "  .colab-df-spinner {\n",
              "    border: 2px solid var(--fill-color);\n",
              "    border-color: transparent;\n",
              "    border-bottom-color: var(--fill-color);\n",
              "    animation:\n",
              "      spin 1s steps(1) infinite;\n",
              "  }\n",
              "\n",
              "  @keyframes spin {\n",
              "    0% {\n",
              "      border-color: transparent;\n",
              "      border-bottom-color: var(--fill-color);\n",
              "      border-left-color: var(--fill-color);\n",
              "    }\n",
              "    20% {\n",
              "      border-color: transparent;\n",
              "      border-left-color: var(--fill-color);\n",
              "      border-top-color: var(--fill-color);\n",
              "    }\n",
              "    30% {\n",
              "      border-color: transparent;\n",
              "      border-left-color: var(--fill-color);\n",
              "      border-top-color: var(--fill-color);\n",
              "      border-right-color: var(--fill-color);\n",
              "    }\n",
              "    40% {\n",
              "      border-color: transparent;\n",
              "      border-right-color: var(--fill-color);\n",
              "      border-top-color: var(--fill-color);\n",
              "    }\n",
              "    60% {\n",
              "      border-color: transparent;\n",
              "      border-right-color: var(--fill-color);\n",
              "    }\n",
              "    80% {\n",
              "      border-color: transparent;\n",
              "      border-right-color: var(--fill-color);\n",
              "      border-bottom-color: var(--fill-color);\n",
              "    }\n",
              "    90% {\n",
              "      border-color: transparent;\n",
              "      border-bottom-color: var(--fill-color);\n",
              "    }\n",
              "  }\n",
              "</style>\n",
              "\n",
              "  <script>\n",
              "    async function quickchart(key) {\n",
              "      const quickchartButtonEl =\n",
              "        document.querySelector('#' + key + ' button');\n",
              "      quickchartButtonEl.disabled = true;  // To prevent multiple clicks.\n",
              "      quickchartButtonEl.classList.add('colab-df-spinner');\n",
              "      try {\n",
              "        const charts = await google.colab.kernel.invokeFunction(\n",
              "            'suggestCharts', [key], {});\n",
              "      } catch (error) {\n",
              "        console.error('Error during call to suggestCharts:', error);\n",
              "      }\n",
              "      quickchartButtonEl.classList.remove('colab-df-spinner');\n",
              "      quickchartButtonEl.classList.add('colab-df-quickchart-complete');\n",
              "    }\n",
              "    (() => {\n",
              "      let quickchartButtonEl =\n",
              "        document.querySelector('#df-a31205f4-9f60-40a5-806f-314224a4c3ca button');\n",
              "      quickchartButtonEl.style.display =\n",
              "        google.colab.kernel.accessAllowed ? 'block' : 'none';\n",
              "    })();\n",
              "  </script>\n",
              "</div>\n",
              "    </div>\n",
              "  </div>\n"
            ]
          },
          "metadata": {},
          "execution_count": 161
        }
      ]
    },
    {
      "cell_type": "code",
      "source": [
        "# Разбиваем клиентов на группы по величине вложения денег\n",
        "bins = [0, 2000, 10000, 20000, 50000, float('inf')]\n",
        "labels = ['до 2000', '2000-10.000', '10.000-20.000', '20.000-50.000', '> 50.000']\n",
        "reach_donors['Investment_Group'] = pd.cut(reach_donors['total'], bins=bins, labels=labels)\n",
        "\n",
        "# Считаем количество клиентов в каждой группе\n",
        "client_count = reach_donors.groupby('Investment_Group')['total'].count()\n",
        "\n",
        "# Считаем долю клиентов от общего числа клиентов для каждой группы\n",
        "client_percentage = client_count / client_count.sum() * 100\n",
        "\n",
        "# Считаем долю от рынка для каждой группы\n",
        "market_share = reach_donors.groupby('Investment_Group')['total'].sum() / reach_donors['total'].sum()\n",
        "\n",
        "# Создаем круговую диаграмму с цветовой гаммой по доле от рынка\n",
        "fig = px.pie(\n",
        "    names=market_share.index,\n",
        "    values=market_share.values,\n",
        "    title='Доля пожертвований по сумме вложений',\n",
        "    color_discrete_sequence=px.colors.sequential.Blues_r,  # Выбираем подходящую цветовую палитру\n",
        "    custom_data=[client_count.values, client_percentage.values]  # Добавляем данные о количестве клиентов и доле в процентах\n",
        ")\n",
        "\n",
        "# Добавляем информацию о количестве клиентов и доле в процентах в каждой группе в текстовую подпись\n",
        "fig.update_traces(\n",
        "    textposition='inside',\n",
        "    textinfo='percent+label',\n",
        "    hovertemplate='%{label}: %{percent:.1%}<br>Доноры: %{customdata[0]}<br>Доля: %{customdata[1]:.1f}%',\n",
        "    texttemplate='%{percent:.1%}<br>%{label}<br>Доноры: %{customdata[0]}<br>Доля: %{customdata[1]:.1f}%',\n",
        "    pull=[0.02] * len(market_share)\n",
        ")\n",
        "fig.update_layout(width=700, height=700)\n",
        "fig.show()\n"
      ],
      "metadata": {
        "colab": {
          "base_uri": "https://localhost:8080/",
          "height": 717
        },
        "id": "nUjQ2ni9faAl",
        "outputId": "228fa1e2-926b-472a-e85d-80b94ef14777"
      },
      "execution_count": null,
      "outputs": [
        {
          "output_type": "display_data",
          "data": {
            "text/html": [
              "<html>\n",
              "<head><meta charset=\"utf-8\" /></head>\n",
              "<body>\n",
              "    <div>            <script src=\"https://cdnjs.cloudflare.com/ajax/libs/mathjax/2.7.5/MathJax.js?config=TeX-AMS-MML_SVG\"></script><script type=\"text/javascript\">if (window.MathJax && window.MathJax.Hub && window.MathJax.Hub.Config) {window.MathJax.Hub.Config({SVG: {font: \"STIX-Web\"}});}</script>                <script type=\"text/javascript\">window.PlotlyConfig = {MathJaxConfig: 'local'};</script>\n",
              "        <script charset=\"utf-8\" src=\"https://cdn.plot.ly/plotly-2.24.1.min.js\"></script>                <div id=\"07c22931-dcc3-4286-ba87-747b37e632ef\" class=\"plotly-graph-div\" style=\"height:700px; width:700px;\"></div>            <script type=\"text/javascript\">                                    window.PLOTLYENV=window.PLOTLYENV || {};                                    if (document.getElementById(\"07c22931-dcc3-4286-ba87-747b37e632ef\")) {                    Plotly.newPlot(                        \"07c22931-dcc3-4286-ba87-747b37e632ef\",                        [{\"customdata\":[[992.0,78.79269261318507],[222.0,17.633042096902305],[26.0,2.0651310563939633],[15.0,1.1914217633042097],[4.0,0.3177124702144559]],\"domain\":{\"x\":[0.0,1.0],\"y\":[0.0,1.0]},\"hovertemplate\":\"%{label}: %{percent:.1%}\\u003cbr\\u003e\\u0414\\u043e\\u043d\\u043e\\u0440\\u044b: %{customdata[0]}\\u003cbr\\u003e\\u0414\\u043e\\u043b\\u044f: %{customdata[1]:.1f}%\",\"labels\":[\"\\u0434\\u043e 2000\",\"2000-10.000\",\"10.000-20.000\",\"20.000-50.000\",\"\\u003e 50.000\"],\"legendgroup\":\"\",\"name\":\"\",\"showlegend\":true,\"values\":[0.25009151835267657,0.3474736259173048,0.13368432973759428,0.16796777999853849,0.10078274599388584],\"type\":\"pie\",\"pull\":[0.02,0.02,0.02,0.02,0.02],\"textinfo\":\"percent+label\",\"textposition\":\"inside\",\"texttemplate\":\"%{percent:.1%}\\u003cbr\\u003e%{label}\\u003cbr\\u003e\\u0414\\u043e\\u043d\\u043e\\u0440\\u044b: %{customdata[0]}\\u003cbr\\u003e\\u0414\\u043e\\u043b\\u044f: %{customdata[1]:.1f}%\"}],                        {\"template\":{\"data\":{\"histogram2dcontour\":[{\"type\":\"histogram2dcontour\",\"colorbar\":{\"outlinewidth\":0,\"ticks\":\"\"},\"colorscale\":[[0.0,\"#0d0887\"],[0.1111111111111111,\"#46039f\"],[0.2222222222222222,\"#7201a8\"],[0.3333333333333333,\"#9c179e\"],[0.4444444444444444,\"#bd3786\"],[0.5555555555555556,\"#d8576b\"],[0.6666666666666666,\"#ed7953\"],[0.7777777777777778,\"#fb9f3a\"],[0.8888888888888888,\"#fdca26\"],[1.0,\"#f0f921\"]]}],\"choropleth\":[{\"type\":\"choropleth\",\"colorbar\":{\"outlinewidth\":0,\"ticks\":\"\"}}],\"histogram2d\":[{\"type\":\"histogram2d\",\"colorbar\":{\"outlinewidth\":0,\"ticks\":\"\"},\"colorscale\":[[0.0,\"#0d0887\"],[0.1111111111111111,\"#46039f\"],[0.2222222222222222,\"#7201a8\"],[0.3333333333333333,\"#9c179e\"],[0.4444444444444444,\"#bd3786\"],[0.5555555555555556,\"#d8576b\"],[0.6666666666666666,\"#ed7953\"],[0.7777777777777778,\"#fb9f3a\"],[0.8888888888888888,\"#fdca26\"],[1.0,\"#f0f921\"]]}],\"heatmap\":[{\"type\":\"heatmap\",\"colorbar\":{\"outlinewidth\":0,\"ticks\":\"\"},\"colorscale\":[[0.0,\"#0d0887\"],[0.1111111111111111,\"#46039f\"],[0.2222222222222222,\"#7201a8\"],[0.3333333333333333,\"#9c179e\"],[0.4444444444444444,\"#bd3786\"],[0.5555555555555556,\"#d8576b\"],[0.6666666666666666,\"#ed7953\"],[0.7777777777777778,\"#fb9f3a\"],[0.8888888888888888,\"#fdca26\"],[1.0,\"#f0f921\"]]}],\"heatmapgl\":[{\"type\":\"heatmapgl\",\"colorbar\":{\"outlinewidth\":0,\"ticks\":\"\"},\"colorscale\":[[0.0,\"#0d0887\"],[0.1111111111111111,\"#46039f\"],[0.2222222222222222,\"#7201a8\"],[0.3333333333333333,\"#9c179e\"],[0.4444444444444444,\"#bd3786\"],[0.5555555555555556,\"#d8576b\"],[0.6666666666666666,\"#ed7953\"],[0.7777777777777778,\"#fb9f3a\"],[0.8888888888888888,\"#fdca26\"],[1.0,\"#f0f921\"]]}],\"contourcarpet\":[{\"type\":\"contourcarpet\",\"colorbar\":{\"outlinewidth\":0,\"ticks\":\"\"}}],\"contour\":[{\"type\":\"contour\",\"colorbar\":{\"outlinewidth\":0,\"ticks\":\"\"},\"colorscale\":[[0.0,\"#0d0887\"],[0.1111111111111111,\"#46039f\"],[0.2222222222222222,\"#7201a8\"],[0.3333333333333333,\"#9c179e\"],[0.4444444444444444,\"#bd3786\"],[0.5555555555555556,\"#d8576b\"],[0.6666666666666666,\"#ed7953\"],[0.7777777777777778,\"#fb9f3a\"],[0.8888888888888888,\"#fdca26\"],[1.0,\"#f0f921\"]]}],\"surface\":[{\"type\":\"surface\",\"colorbar\":{\"outlinewidth\":0,\"ticks\":\"\"},\"colorscale\":[[0.0,\"#0d0887\"],[0.1111111111111111,\"#46039f\"],[0.2222222222222222,\"#7201a8\"],[0.3333333333333333,\"#9c179e\"],[0.4444444444444444,\"#bd3786\"],[0.5555555555555556,\"#d8576b\"],[0.6666666666666666,\"#ed7953\"],[0.7777777777777778,\"#fb9f3a\"],[0.8888888888888888,\"#fdca26\"],[1.0,\"#f0f921\"]]}],\"mesh3d\":[{\"type\":\"mesh3d\",\"colorbar\":{\"outlinewidth\":0,\"ticks\":\"\"}}],\"scatter\":[{\"fillpattern\":{\"fillmode\":\"overlay\",\"size\":10,\"solidity\":0.2},\"type\":\"scatter\"}],\"parcoords\":[{\"type\":\"parcoords\",\"line\":{\"colorbar\":{\"outlinewidth\":0,\"ticks\":\"\"}}}],\"scatterpolargl\":[{\"type\":\"scatterpolargl\",\"marker\":{\"colorbar\":{\"outlinewidth\":0,\"ticks\":\"\"}}}],\"bar\":[{\"error_x\":{\"color\":\"#2a3f5f\"},\"error_y\":{\"color\":\"#2a3f5f\"},\"marker\":{\"line\":{\"color\":\"#E5ECF6\",\"width\":0.5},\"pattern\":{\"fillmode\":\"overlay\",\"size\":10,\"solidity\":0.2}},\"type\":\"bar\"}],\"scattergeo\":[{\"type\":\"scattergeo\",\"marker\":{\"colorbar\":{\"outlinewidth\":0,\"ticks\":\"\"}}}],\"scatterpolar\":[{\"type\":\"scatterpolar\",\"marker\":{\"colorbar\":{\"outlinewidth\":0,\"ticks\":\"\"}}}],\"histogram\":[{\"marker\":{\"pattern\":{\"fillmode\":\"overlay\",\"size\":10,\"solidity\":0.2}},\"type\":\"histogram\"}],\"scattergl\":[{\"type\":\"scattergl\",\"marker\":{\"colorbar\":{\"outlinewidth\":0,\"ticks\":\"\"}}}],\"scatter3d\":[{\"type\":\"scatter3d\",\"line\":{\"colorbar\":{\"outlinewidth\":0,\"ticks\":\"\"}},\"marker\":{\"colorbar\":{\"outlinewidth\":0,\"ticks\":\"\"}}}],\"scattermapbox\":[{\"type\":\"scattermapbox\",\"marker\":{\"colorbar\":{\"outlinewidth\":0,\"ticks\":\"\"}}}],\"scatterternary\":[{\"type\":\"scatterternary\",\"marker\":{\"colorbar\":{\"outlinewidth\":0,\"ticks\":\"\"}}}],\"scattercarpet\":[{\"type\":\"scattercarpet\",\"marker\":{\"colorbar\":{\"outlinewidth\":0,\"ticks\":\"\"}}}],\"carpet\":[{\"aaxis\":{\"endlinecolor\":\"#2a3f5f\",\"gridcolor\":\"white\",\"linecolor\":\"white\",\"minorgridcolor\":\"white\",\"startlinecolor\":\"#2a3f5f\"},\"baxis\":{\"endlinecolor\":\"#2a3f5f\",\"gridcolor\":\"white\",\"linecolor\":\"white\",\"minorgridcolor\":\"white\",\"startlinecolor\":\"#2a3f5f\"},\"type\":\"carpet\"}],\"table\":[{\"cells\":{\"fill\":{\"color\":\"#EBF0F8\"},\"line\":{\"color\":\"white\"}},\"header\":{\"fill\":{\"color\":\"#C8D4E3\"},\"line\":{\"color\":\"white\"}},\"type\":\"table\"}],\"barpolar\":[{\"marker\":{\"line\":{\"color\":\"#E5ECF6\",\"width\":0.5},\"pattern\":{\"fillmode\":\"overlay\",\"size\":10,\"solidity\":0.2}},\"type\":\"barpolar\"}],\"pie\":[{\"automargin\":true,\"type\":\"pie\"}]},\"layout\":{\"autotypenumbers\":\"strict\",\"colorway\":[\"#636efa\",\"#EF553B\",\"#00cc96\",\"#ab63fa\",\"#FFA15A\",\"#19d3f3\",\"#FF6692\",\"#B6E880\",\"#FF97FF\",\"#FECB52\"],\"font\":{\"color\":\"#2a3f5f\"},\"hovermode\":\"closest\",\"hoverlabel\":{\"align\":\"left\"},\"paper_bgcolor\":\"white\",\"plot_bgcolor\":\"#E5ECF6\",\"polar\":{\"bgcolor\":\"#E5ECF6\",\"angularaxis\":{\"gridcolor\":\"white\",\"linecolor\":\"white\",\"ticks\":\"\"},\"radialaxis\":{\"gridcolor\":\"white\",\"linecolor\":\"white\",\"ticks\":\"\"}},\"ternary\":{\"bgcolor\":\"#E5ECF6\",\"aaxis\":{\"gridcolor\":\"white\",\"linecolor\":\"white\",\"ticks\":\"\"},\"baxis\":{\"gridcolor\":\"white\",\"linecolor\":\"white\",\"ticks\":\"\"},\"caxis\":{\"gridcolor\":\"white\",\"linecolor\":\"white\",\"ticks\":\"\"}},\"coloraxis\":{\"colorbar\":{\"outlinewidth\":0,\"ticks\":\"\"}},\"colorscale\":{\"sequential\":[[0.0,\"#0d0887\"],[0.1111111111111111,\"#46039f\"],[0.2222222222222222,\"#7201a8\"],[0.3333333333333333,\"#9c179e\"],[0.4444444444444444,\"#bd3786\"],[0.5555555555555556,\"#d8576b\"],[0.6666666666666666,\"#ed7953\"],[0.7777777777777778,\"#fb9f3a\"],[0.8888888888888888,\"#fdca26\"],[1.0,\"#f0f921\"]],\"sequentialminus\":[[0.0,\"#0d0887\"],[0.1111111111111111,\"#46039f\"],[0.2222222222222222,\"#7201a8\"],[0.3333333333333333,\"#9c179e\"],[0.4444444444444444,\"#bd3786\"],[0.5555555555555556,\"#d8576b\"],[0.6666666666666666,\"#ed7953\"],[0.7777777777777778,\"#fb9f3a\"],[0.8888888888888888,\"#fdca26\"],[1.0,\"#f0f921\"]],\"diverging\":[[0,\"#8e0152\"],[0.1,\"#c51b7d\"],[0.2,\"#de77ae\"],[0.3,\"#f1b6da\"],[0.4,\"#fde0ef\"],[0.5,\"#f7f7f7\"],[0.6,\"#e6f5d0\"],[0.7,\"#b8e186\"],[0.8,\"#7fbc41\"],[0.9,\"#4d9221\"],[1,\"#276419\"]]},\"xaxis\":{\"gridcolor\":\"white\",\"linecolor\":\"white\",\"ticks\":\"\",\"title\":{\"standoff\":15},\"zerolinecolor\":\"white\",\"automargin\":true,\"zerolinewidth\":2},\"yaxis\":{\"gridcolor\":\"white\",\"linecolor\":\"white\",\"ticks\":\"\",\"title\":{\"standoff\":15},\"zerolinecolor\":\"white\",\"automargin\":true,\"zerolinewidth\":2},\"scene\":{\"xaxis\":{\"backgroundcolor\":\"#E5ECF6\",\"gridcolor\":\"white\",\"linecolor\":\"white\",\"showbackground\":true,\"ticks\":\"\",\"zerolinecolor\":\"white\",\"gridwidth\":2},\"yaxis\":{\"backgroundcolor\":\"#E5ECF6\",\"gridcolor\":\"white\",\"linecolor\":\"white\",\"showbackground\":true,\"ticks\":\"\",\"zerolinecolor\":\"white\",\"gridwidth\":2},\"zaxis\":{\"backgroundcolor\":\"#E5ECF6\",\"gridcolor\":\"white\",\"linecolor\":\"white\",\"showbackground\":true,\"ticks\":\"\",\"zerolinecolor\":\"white\",\"gridwidth\":2}},\"shapedefaults\":{\"line\":{\"color\":\"#2a3f5f\"}},\"annotationdefaults\":{\"arrowcolor\":\"#2a3f5f\",\"arrowhead\":0,\"arrowwidth\":1},\"geo\":{\"bgcolor\":\"white\",\"landcolor\":\"#E5ECF6\",\"subunitcolor\":\"white\",\"showland\":true,\"showlakes\":true,\"lakecolor\":\"white\"},\"title\":{\"x\":0.05},\"mapbox\":{\"style\":\"light\"}}},\"legend\":{\"tracegroupgap\":0},\"title\":{\"text\":\"\\u0414\\u043e\\u043b\\u044f \\u043f\\u043e\\u0436\\u0435\\u0440\\u0442\\u0432\\u043e\\u0432\\u0430\\u043d\\u0438\\u0439 \\u043f\\u043e \\u0441\\u0443\\u043c\\u043c\\u0435 \\u0432\\u043b\\u043e\\u0436\\u0435\\u043d\\u0438\\u0439\"},\"piecolorway\":[\"rgb(8,48,107)\",\"rgb(8,81,156)\",\"rgb(33,113,181)\",\"rgb(66,146,198)\",\"rgb(107,174,214)\",\"rgb(158,202,225)\",\"rgb(198,219,239)\",\"rgb(222,235,247)\",\"rgb(247,251,255)\"],\"width\":700,\"height\":700},                        {\"responsive\": true}                    ).then(function(){\n",
              "                            \n",
              "var gd = document.getElementById('07c22931-dcc3-4286-ba87-747b37e632ef');\n",
              "var x = new MutationObserver(function (mutations, observer) {{\n",
              "        var display = window.getComputedStyle(gd).display;\n",
              "        if (!display || display === 'none') {{\n",
              "            console.log([gd, 'removed!']);\n",
              "            Plotly.purge(gd);\n",
              "            observer.disconnect();\n",
              "        }}\n",
              "}});\n",
              "\n",
              "// Listen for the removal of the full notebook cells\n",
              "var notebookContainer = gd.closest('#notebook-container');\n",
              "if (notebookContainer) {{\n",
              "    x.observe(notebookContainer, {childList: true});\n",
              "}}\n",
              "\n",
              "// Listen for the clearing of the current output cell\n",
              "var outputEl = gd.closest('.output');\n",
              "if (outputEl) {{\n",
              "    x.observe(outputEl, {childList: true});\n",
              "}}\n",
              "\n",
              "                        })                };                            </script>        </div>\n",
              "</body>\n",
              "</html>"
            ]
          },
          "metadata": {}
        }
      ]
    },
    {
      "cell_type": "markdown",
      "source": [
        "Мы разделили всех доноров на 5 групп по сумме вложений за весь период:  \n",
        "- 25% от суммы пожертвований сделали 79% доноров суммой до 2000 руб.\n",
        "- 35% от суммы пожертвований сделали 18% доноров суммой от 2000 до 10.000\n",
        "- 14% от суммы пожертвований сделали 2% доноров суммой от 10.000 до 20.000\n",
        "- 17% от суммы пожертвований сделали 1.2% доноров суммой от 20.000 до 50.000\n",
        "- и 10% суммы пожертвований сделали 0.3% доноров суммой более 50.000 руб.  \n",
        "\n",
        "**Большинство привлеченных людей (79% - 992 человека) составило только четверть фонда (платежи до 2000 руб.).  \n",
        "И всего 1,5% людей (19 человек) также составило четверть фонда (платежи более 20.000 руб.).**\n",
        "\n",
        "**Объединим три группы с пожертвованиями от 10.000 руб. и получим, что всего 3,6% людей (45 человек) составило 40% фонда (платежи более 10.000 руб.).**  \n",
        "\n",
        "Стоит проанализировать из каких источников приходят крупные пожертвования и направить рекламу на них."
      ],
      "metadata": {
        "id": "eamnZ9xrR4De"
      }
    },
    {
      "cell_type": "markdown",
      "source": [
        "### Пожертвования по месяцам"
      ],
      "metadata": {
        "id": "QgWnc2SESX7H"
      }
    },
    {
      "cell_type": "markdown",
      "source": [
        "**Примечание:** поскольку данные собраны неудобно - платежи сагрегированы по периодам от первой до последней оплаты, и есть 13% доноров-дубликатов, которых невозможно куда-либо определить - то при оценке сумм всех платежей по месяцам не будем группировать доноров по первой дате, иначе мы можем получить противоречивые данные."
      ],
      "metadata": {
        "id": "1pA7VAvIe7es"
      }
    },
    {
      "cell_type": "code",
      "source": [
        "# подготовим датасет ПО МЕСЯЦАМ со всеми донорами для графика\n",
        "all_by_month = all.copy()\n",
        "# добавим столбец год-месяц\n",
        "all_by_month['month'] = pd.to_datetime(all_by_month['first_payment']).dt.to_period('M').astype('str')\n",
        "# Сгруппируем пользователей по дате первого платежа и месяцу\n",
        "all_diagramm = all_by_month.groupby(['first_payment','month']).agg({'code':'count', 'total':'sum'}).reset_index()\n",
        "diagramm = all_diagramm.groupby('month').agg({'code':'count', 'total':'sum'}).reset_index()\n",
        "diagramm['month'] = pd.to_datetime(diagramm['month'])"
      ],
      "metadata": {
        "id": "aAZKYTCQT9_S"
      },
      "execution_count": null,
      "outputs": []
    },
    {
      "cell_type": "code",
      "source": [
        "# Создаем рекламные и простые даты\n",
        "start_date = '2023-01-01'\n",
        "end_date = '2023-07-19'\n",
        "threshold_date_range = pd.date_range(start=start_date, end=end_date)\n",
        "# Создаем отдельные списки для дат до и после пороговой даты\n",
        "dates_before_threshold = diagramm[~diagramm['month'].isin(threshold_date_range)]['month']\n",
        "dates_after_threshold = diagramm[diagramm['month'].isin(threshold_date_range)]['month']\n",
        "\n",
        "# Создаем график с двумя группами столбцов\n",
        "fig = go.Figure()\n",
        "\n",
        "# Добавляем столбцы для дат до рекламной даты\n",
        "fig.add_trace(go.Bar(\n",
        "    x=dates_before_threshold,\n",
        "    y=diagramm.loc[~diagramm['month'].isin(threshold_date_range), 'total'],\n",
        "    marker=dict(color='#636efa'),\n",
        "    name='Простые даты'))\n",
        "# Добавляем столбцы для дат после рекламной даты\n",
        "fig.add_trace(go.Bar(\n",
        "    x=dates_after_threshold,\n",
        "    y=diagramm.loc[diagramm['month'].isin(threshold_date_range), 'total'],\n",
        "    marker=dict(color='red'),\n",
        "    name='Рекламные даты'))\n",
        "\n",
        "# Обновляем макет графика\n",
        "fig.update_layout(\n",
        "    height=600,\n",
        "    width=1200,\n",
        "    title='Суммы пожертвований по месяцам за 2021 и 2023 года',\n",
        "    barmode='stack')  # Это позволяет столбцам находиться в одной колонке\n",
        "\n",
        "fig.show()"
      ],
      "metadata": {
        "colab": {
          "base_uri": "https://localhost:8080/",
          "height": 617
        },
        "id": "H4lgllQXbPq8",
        "outputId": "9087dc3d-fad7-41e5-82c3-4a5b48909ddf"
      },
      "execution_count": null,
      "outputs": [
        {
          "output_type": "display_data",
          "data": {
            "text/html": [
              "<html>\n",
              "<head><meta charset=\"utf-8\" /></head>\n",
              "<body>\n",
              "    <div>            <script src=\"https://cdnjs.cloudflare.com/ajax/libs/mathjax/2.7.5/MathJax.js?config=TeX-AMS-MML_SVG\"></script><script type=\"text/javascript\">if (window.MathJax && window.MathJax.Hub && window.MathJax.Hub.Config) {window.MathJax.Hub.Config({SVG: {font: \"STIX-Web\"}});}</script>                <script type=\"text/javascript\">window.PlotlyConfig = {MathJaxConfig: 'local'};</script>\n",
              "        <script charset=\"utf-8\" src=\"https://cdn.plot.ly/plotly-2.24.1.min.js\"></script>                <div id=\"4ea38fcd-6653-4b80-883b-de450f46de50\" class=\"plotly-graph-div\" style=\"height:600px; width:1200px;\"></div>            <script type=\"text/javascript\">                                    window.PLOTLYENV=window.PLOTLYENV || {};                                    if (document.getElementById(\"4ea38fcd-6653-4b80-883b-de450f46de50\")) {                    Plotly.newPlot(                        \"4ea38fcd-6653-4b80-883b-de450f46de50\",                        [{\"marker\":{\"color\":\"#636efa\"},\"name\":\"\\u041f\\u0440\\u043e\\u0441\\u0442\\u044b\\u0435 \\u0434\\u0430\\u0442\\u044b\",\"x\":[\"2021-11-01T00:00:00\",\"2021-12-01T00:00:00\",\"2022-01-01T00:00:00\",\"2022-02-01T00:00:00\",\"2022-03-01T00:00:00\",\"2022-04-01T00:00:00\",\"2022-05-01T00:00:00\",\"2022-06-01T00:00:00\",\"2022-07-01T00:00:00\",\"2022-08-01T00:00:00\",\"2022-09-01T00:00:00\",\"2022-10-01T00:00:00\",\"2022-11-01T00:00:00\",\"2022-12-01T00:00:00\"],\"y\":[103882,268320,59745,56500,115350,153388,23900,27850,12555,188142,108270,154737,88275,165269],\"type\":\"bar\"},{\"marker\":{\"color\":\"red\"},\"name\":\"\\u0420\\u0435\\u043a\\u043b\\u0430\\u043c\\u043d\\u044b\\u0435 \\u0434\\u0430\\u0442\\u044b\",\"x\":[\"2023-01-01T00:00:00\",\"2023-02-01T00:00:00\",\"2023-03-01T00:00:00\",\"2023-04-01T00:00:00\",\"2023-05-01T00:00:00\",\"2023-06-01T00:00:00\"],\"y\":[105710,437384,605469,142349,47954,22350],\"type\":\"bar\"}],                        {\"template\":{\"data\":{\"histogram2dcontour\":[{\"type\":\"histogram2dcontour\",\"colorbar\":{\"outlinewidth\":0,\"ticks\":\"\"},\"colorscale\":[[0.0,\"#0d0887\"],[0.1111111111111111,\"#46039f\"],[0.2222222222222222,\"#7201a8\"],[0.3333333333333333,\"#9c179e\"],[0.4444444444444444,\"#bd3786\"],[0.5555555555555556,\"#d8576b\"],[0.6666666666666666,\"#ed7953\"],[0.7777777777777778,\"#fb9f3a\"],[0.8888888888888888,\"#fdca26\"],[1.0,\"#f0f921\"]]}],\"choropleth\":[{\"type\":\"choropleth\",\"colorbar\":{\"outlinewidth\":0,\"ticks\":\"\"}}],\"histogram2d\":[{\"type\":\"histogram2d\",\"colorbar\":{\"outlinewidth\":0,\"ticks\":\"\"},\"colorscale\":[[0.0,\"#0d0887\"],[0.1111111111111111,\"#46039f\"],[0.2222222222222222,\"#7201a8\"],[0.3333333333333333,\"#9c179e\"],[0.4444444444444444,\"#bd3786\"],[0.5555555555555556,\"#d8576b\"],[0.6666666666666666,\"#ed7953\"],[0.7777777777777778,\"#fb9f3a\"],[0.8888888888888888,\"#fdca26\"],[1.0,\"#f0f921\"]]}],\"heatmap\":[{\"type\":\"heatmap\",\"colorbar\":{\"outlinewidth\":0,\"ticks\":\"\"},\"colorscale\":[[0.0,\"#0d0887\"],[0.1111111111111111,\"#46039f\"],[0.2222222222222222,\"#7201a8\"],[0.3333333333333333,\"#9c179e\"],[0.4444444444444444,\"#bd3786\"],[0.5555555555555556,\"#d8576b\"],[0.6666666666666666,\"#ed7953\"],[0.7777777777777778,\"#fb9f3a\"],[0.8888888888888888,\"#fdca26\"],[1.0,\"#f0f921\"]]}],\"heatmapgl\":[{\"type\":\"heatmapgl\",\"colorbar\":{\"outlinewidth\":0,\"ticks\":\"\"},\"colorscale\":[[0.0,\"#0d0887\"],[0.1111111111111111,\"#46039f\"],[0.2222222222222222,\"#7201a8\"],[0.3333333333333333,\"#9c179e\"],[0.4444444444444444,\"#bd3786\"],[0.5555555555555556,\"#d8576b\"],[0.6666666666666666,\"#ed7953\"],[0.7777777777777778,\"#fb9f3a\"],[0.8888888888888888,\"#fdca26\"],[1.0,\"#f0f921\"]]}],\"contourcarpet\":[{\"type\":\"contourcarpet\",\"colorbar\":{\"outlinewidth\":0,\"ticks\":\"\"}}],\"contour\":[{\"type\":\"contour\",\"colorbar\":{\"outlinewidth\":0,\"ticks\":\"\"},\"colorscale\":[[0.0,\"#0d0887\"],[0.1111111111111111,\"#46039f\"],[0.2222222222222222,\"#7201a8\"],[0.3333333333333333,\"#9c179e\"],[0.4444444444444444,\"#bd3786\"],[0.5555555555555556,\"#d8576b\"],[0.6666666666666666,\"#ed7953\"],[0.7777777777777778,\"#fb9f3a\"],[0.8888888888888888,\"#fdca26\"],[1.0,\"#f0f921\"]]}],\"surface\":[{\"type\":\"surface\",\"colorbar\":{\"outlinewidth\":0,\"ticks\":\"\"},\"colorscale\":[[0.0,\"#0d0887\"],[0.1111111111111111,\"#46039f\"],[0.2222222222222222,\"#7201a8\"],[0.3333333333333333,\"#9c179e\"],[0.4444444444444444,\"#bd3786\"],[0.5555555555555556,\"#d8576b\"],[0.6666666666666666,\"#ed7953\"],[0.7777777777777778,\"#fb9f3a\"],[0.8888888888888888,\"#fdca26\"],[1.0,\"#f0f921\"]]}],\"mesh3d\":[{\"type\":\"mesh3d\",\"colorbar\":{\"outlinewidth\":0,\"ticks\":\"\"}}],\"scatter\":[{\"fillpattern\":{\"fillmode\":\"overlay\",\"size\":10,\"solidity\":0.2},\"type\":\"scatter\"}],\"parcoords\":[{\"type\":\"parcoords\",\"line\":{\"colorbar\":{\"outlinewidth\":0,\"ticks\":\"\"}}}],\"scatterpolargl\":[{\"type\":\"scatterpolargl\",\"marker\":{\"colorbar\":{\"outlinewidth\":0,\"ticks\":\"\"}}}],\"bar\":[{\"error_x\":{\"color\":\"#2a3f5f\"},\"error_y\":{\"color\":\"#2a3f5f\"},\"marker\":{\"line\":{\"color\":\"#E5ECF6\",\"width\":0.5},\"pattern\":{\"fillmode\":\"overlay\",\"size\":10,\"solidity\":0.2}},\"type\":\"bar\"}],\"scattergeo\":[{\"type\":\"scattergeo\",\"marker\":{\"colorbar\":{\"outlinewidth\":0,\"ticks\":\"\"}}}],\"scatterpolar\":[{\"type\":\"scatterpolar\",\"marker\":{\"colorbar\":{\"outlinewidth\":0,\"ticks\":\"\"}}}],\"histogram\":[{\"marker\":{\"pattern\":{\"fillmode\":\"overlay\",\"size\":10,\"solidity\":0.2}},\"type\":\"histogram\"}],\"scattergl\":[{\"type\":\"scattergl\",\"marker\":{\"colorbar\":{\"outlinewidth\":0,\"ticks\":\"\"}}}],\"scatter3d\":[{\"type\":\"scatter3d\",\"line\":{\"colorbar\":{\"outlinewidth\":0,\"ticks\":\"\"}},\"marker\":{\"colorbar\":{\"outlinewidth\":0,\"ticks\":\"\"}}}],\"scattermapbox\":[{\"type\":\"scattermapbox\",\"marker\":{\"colorbar\":{\"outlinewidth\":0,\"ticks\":\"\"}}}],\"scatterternary\":[{\"type\":\"scatterternary\",\"marker\":{\"colorbar\":{\"outlinewidth\":0,\"ticks\":\"\"}}}],\"scattercarpet\":[{\"type\":\"scattercarpet\",\"marker\":{\"colorbar\":{\"outlinewidth\":0,\"ticks\":\"\"}}}],\"carpet\":[{\"aaxis\":{\"endlinecolor\":\"#2a3f5f\",\"gridcolor\":\"white\",\"linecolor\":\"white\",\"minorgridcolor\":\"white\",\"startlinecolor\":\"#2a3f5f\"},\"baxis\":{\"endlinecolor\":\"#2a3f5f\",\"gridcolor\":\"white\",\"linecolor\":\"white\",\"minorgridcolor\":\"white\",\"startlinecolor\":\"#2a3f5f\"},\"type\":\"carpet\"}],\"table\":[{\"cells\":{\"fill\":{\"color\":\"#EBF0F8\"},\"line\":{\"color\":\"white\"}},\"header\":{\"fill\":{\"color\":\"#C8D4E3\"},\"line\":{\"color\":\"white\"}},\"type\":\"table\"}],\"barpolar\":[{\"marker\":{\"line\":{\"color\":\"#E5ECF6\",\"width\":0.5},\"pattern\":{\"fillmode\":\"overlay\",\"size\":10,\"solidity\":0.2}},\"type\":\"barpolar\"}],\"pie\":[{\"automargin\":true,\"type\":\"pie\"}]},\"layout\":{\"autotypenumbers\":\"strict\",\"colorway\":[\"#636efa\",\"#EF553B\",\"#00cc96\",\"#ab63fa\",\"#FFA15A\",\"#19d3f3\",\"#FF6692\",\"#B6E880\",\"#FF97FF\",\"#FECB52\"],\"font\":{\"color\":\"#2a3f5f\"},\"hovermode\":\"closest\",\"hoverlabel\":{\"align\":\"left\"},\"paper_bgcolor\":\"white\",\"plot_bgcolor\":\"#E5ECF6\",\"polar\":{\"bgcolor\":\"#E5ECF6\",\"angularaxis\":{\"gridcolor\":\"white\",\"linecolor\":\"white\",\"ticks\":\"\"},\"radialaxis\":{\"gridcolor\":\"white\",\"linecolor\":\"white\",\"ticks\":\"\"}},\"ternary\":{\"bgcolor\":\"#E5ECF6\",\"aaxis\":{\"gridcolor\":\"white\",\"linecolor\":\"white\",\"ticks\":\"\"},\"baxis\":{\"gridcolor\":\"white\",\"linecolor\":\"white\",\"ticks\":\"\"},\"caxis\":{\"gridcolor\":\"white\",\"linecolor\":\"white\",\"ticks\":\"\"}},\"coloraxis\":{\"colorbar\":{\"outlinewidth\":0,\"ticks\":\"\"}},\"colorscale\":{\"sequential\":[[0.0,\"#0d0887\"],[0.1111111111111111,\"#46039f\"],[0.2222222222222222,\"#7201a8\"],[0.3333333333333333,\"#9c179e\"],[0.4444444444444444,\"#bd3786\"],[0.5555555555555556,\"#d8576b\"],[0.6666666666666666,\"#ed7953\"],[0.7777777777777778,\"#fb9f3a\"],[0.8888888888888888,\"#fdca26\"],[1.0,\"#f0f921\"]],\"sequentialminus\":[[0.0,\"#0d0887\"],[0.1111111111111111,\"#46039f\"],[0.2222222222222222,\"#7201a8\"],[0.3333333333333333,\"#9c179e\"],[0.4444444444444444,\"#bd3786\"],[0.5555555555555556,\"#d8576b\"],[0.6666666666666666,\"#ed7953\"],[0.7777777777777778,\"#fb9f3a\"],[0.8888888888888888,\"#fdca26\"],[1.0,\"#f0f921\"]],\"diverging\":[[0,\"#8e0152\"],[0.1,\"#c51b7d\"],[0.2,\"#de77ae\"],[0.3,\"#f1b6da\"],[0.4,\"#fde0ef\"],[0.5,\"#f7f7f7\"],[0.6,\"#e6f5d0\"],[0.7,\"#b8e186\"],[0.8,\"#7fbc41\"],[0.9,\"#4d9221\"],[1,\"#276419\"]]},\"xaxis\":{\"gridcolor\":\"white\",\"linecolor\":\"white\",\"ticks\":\"\",\"title\":{\"standoff\":15},\"zerolinecolor\":\"white\",\"automargin\":true,\"zerolinewidth\":2},\"yaxis\":{\"gridcolor\":\"white\",\"linecolor\":\"white\",\"ticks\":\"\",\"title\":{\"standoff\":15},\"zerolinecolor\":\"white\",\"automargin\":true,\"zerolinewidth\":2},\"scene\":{\"xaxis\":{\"backgroundcolor\":\"#E5ECF6\",\"gridcolor\":\"white\",\"linecolor\":\"white\",\"showbackground\":true,\"ticks\":\"\",\"zerolinecolor\":\"white\",\"gridwidth\":2},\"yaxis\":{\"backgroundcolor\":\"#E5ECF6\",\"gridcolor\":\"white\",\"linecolor\":\"white\",\"showbackground\":true,\"ticks\":\"\",\"zerolinecolor\":\"white\",\"gridwidth\":2},\"zaxis\":{\"backgroundcolor\":\"#E5ECF6\",\"gridcolor\":\"white\",\"linecolor\":\"white\",\"showbackground\":true,\"ticks\":\"\",\"zerolinecolor\":\"white\",\"gridwidth\":2}},\"shapedefaults\":{\"line\":{\"color\":\"#2a3f5f\"}},\"annotationdefaults\":{\"arrowcolor\":\"#2a3f5f\",\"arrowhead\":0,\"arrowwidth\":1},\"geo\":{\"bgcolor\":\"white\",\"landcolor\":\"#E5ECF6\",\"subunitcolor\":\"white\",\"showland\":true,\"showlakes\":true,\"lakecolor\":\"white\"},\"title\":{\"x\":0.05},\"mapbox\":{\"style\":\"light\"}}},\"height\":600,\"width\":1200,\"title\":{\"text\":\"\\u0421\\u0443\\u043c\\u043c\\u044b \\u043f\\u043e\\u0436\\u0435\\u0440\\u0442\\u0432\\u043e\\u0432\\u0430\\u043d\\u0438\\u0439 \\u043f\\u043e \\u043c\\u0435\\u0441\\u044f\\u0446\\u0430\\u043c \\u0437\\u0430 2021 \\u0438 2023 \\u0433\\u043e\\u0434\\u0430\"},\"barmode\":\"stack\"},                        {\"responsive\": true}                    ).then(function(){\n",
              "                            \n",
              "var gd = document.getElementById('4ea38fcd-6653-4b80-883b-de450f46de50');\n",
              "var x = new MutationObserver(function (mutations, observer) {{\n",
              "        var display = window.getComputedStyle(gd).display;\n",
              "        if (!display || display === 'none') {{\n",
              "            console.log([gd, 'removed!']);\n",
              "            Plotly.purge(gd);\n",
              "            observer.disconnect();\n",
              "        }}\n",
              "}});\n",
              "\n",
              "// Listen for the removal of the full notebook cells\n",
              "var notebookContainer = gd.closest('#notebook-container');\n",
              "if (notebookContainer) {{\n",
              "    x.observe(notebookContainer, {childList: true});\n",
              "}}\n",
              "\n",
              "// Listen for the clearing of the current output cell\n",
              "var outputEl = gd.closest('.output');\n",
              "if (outputEl) {{\n",
              "    x.observe(outputEl, {childList: true});\n",
              "}}\n",
              "\n",
              "                        })                };                            </script>        </div>\n",
              "</body>\n",
              "</html>"
            ]
          },
          "metadata": {}
        }
      ]
    },
    {
      "cell_type": "markdown",
      "source": [
        "Видно, что за рекламный период действительно было привлечено гораздо больше средств, особенно в феврале и марте."
      ],
      "metadata": {
        "id": "ESMP2bM4enIK"
      }
    },
    {
      "cell_type": "code",
      "source": [
        "# Сумма пожертвований по месяцам рекламного периода\n",
        "all_by_month_2023 = all_2023.groupby('month').agg({'code':'count', 'total':'sum'}).reset_index()\n",
        "all_by_month_2023"
      ],
      "metadata": {
        "colab": {
          "base_uri": "https://localhost:8080/",
          "height": 237
        },
        "id": "wgl6ba64E48m",
        "outputId": "feb52e9f-2a9a-48fa-d50d-63b6ff0411e9"
      },
      "execution_count": null,
      "outputs": [
        {
          "output_type": "execute_result",
          "data": {
            "text/plain": [
              "   month  code   total\n",
              "0      1    29   46050\n",
              "1      2   150  437384\n",
              "2      3   280  605469\n",
              "3      4   102  141349\n",
              "4      5    38   47804\n",
              "5      6    22   22350"
            ],
            "text/html": [
              "\n",
              "  <div id=\"df-0753cd10-b7d1-4133-9492-b2615ba67868\" class=\"colab-df-container\">\n",
              "    <div>\n",
              "<style scoped>\n",
              "    .dataframe tbody tr th:only-of-type {\n",
              "        vertical-align: middle;\n",
              "    }\n",
              "\n",
              "    .dataframe tbody tr th {\n",
              "        vertical-align: top;\n",
              "    }\n",
              "\n",
              "    .dataframe thead th {\n",
              "        text-align: right;\n",
              "    }\n",
              "</style>\n",
              "<table border=\"1\" class=\"dataframe\">\n",
              "  <thead>\n",
              "    <tr style=\"text-align: right;\">\n",
              "      <th></th>\n",
              "      <th>month</th>\n",
              "      <th>code</th>\n",
              "      <th>total</th>\n",
              "    </tr>\n",
              "  </thead>\n",
              "  <tbody>\n",
              "    <tr>\n",
              "      <th>0</th>\n",
              "      <td>1</td>\n",
              "      <td>29</td>\n",
              "      <td>46050</td>\n",
              "    </tr>\n",
              "    <tr>\n",
              "      <th>1</th>\n",
              "      <td>2</td>\n",
              "      <td>150</td>\n",
              "      <td>437384</td>\n",
              "    </tr>\n",
              "    <tr>\n",
              "      <th>2</th>\n",
              "      <td>3</td>\n",
              "      <td>280</td>\n",
              "      <td>605469</td>\n",
              "    </tr>\n",
              "    <tr>\n",
              "      <th>3</th>\n",
              "      <td>4</td>\n",
              "      <td>102</td>\n",
              "      <td>141349</td>\n",
              "    </tr>\n",
              "    <tr>\n",
              "      <th>4</th>\n",
              "      <td>5</td>\n",
              "      <td>38</td>\n",
              "      <td>47804</td>\n",
              "    </tr>\n",
              "    <tr>\n",
              "      <th>5</th>\n",
              "      <td>6</td>\n",
              "      <td>22</td>\n",
              "      <td>22350</td>\n",
              "    </tr>\n",
              "  </tbody>\n",
              "</table>\n",
              "</div>\n",
              "    <div class=\"colab-df-buttons\">\n",
              "\n",
              "  <div class=\"colab-df-container\">\n",
              "    <button class=\"colab-df-convert\" onclick=\"convertToInteractive('df-0753cd10-b7d1-4133-9492-b2615ba67868')\"\n",
              "            title=\"Convert this dataframe to an interactive table.\"\n",
              "            style=\"display:none;\">\n",
              "\n",
              "  <svg xmlns=\"http://www.w3.org/2000/svg\" height=\"24px\" viewBox=\"0 -960 960 960\">\n",
              "    <path d=\"M120-120v-720h720v720H120Zm60-500h600v-160H180v160Zm220 220h160v-160H400v160Zm0 220h160v-160H400v160ZM180-400h160v-160H180v160Zm440 0h160v-160H620v160ZM180-180h160v-160H180v160Zm440 0h160v-160H620v160Z\"/>\n",
              "  </svg>\n",
              "    </button>\n",
              "\n",
              "  <style>\n",
              "    .colab-df-container {\n",
              "      display:flex;\n",
              "      gap: 12px;\n",
              "    }\n",
              "\n",
              "    .colab-df-convert {\n",
              "      background-color: #E8F0FE;\n",
              "      border: none;\n",
              "      border-radius: 50%;\n",
              "      cursor: pointer;\n",
              "      display: none;\n",
              "      fill: #1967D2;\n",
              "      height: 32px;\n",
              "      padding: 0 0 0 0;\n",
              "      width: 32px;\n",
              "    }\n",
              "\n",
              "    .colab-df-convert:hover {\n",
              "      background-color: #E2EBFA;\n",
              "      box-shadow: 0px 1px 2px rgba(60, 64, 67, 0.3), 0px 1px 3px 1px rgba(60, 64, 67, 0.15);\n",
              "      fill: #174EA6;\n",
              "    }\n",
              "\n",
              "    .colab-df-buttons div {\n",
              "      margin-bottom: 4px;\n",
              "    }\n",
              "\n",
              "    [theme=dark] .colab-df-convert {\n",
              "      background-color: #3B4455;\n",
              "      fill: #D2E3FC;\n",
              "    }\n",
              "\n",
              "    [theme=dark] .colab-df-convert:hover {\n",
              "      background-color: #434B5C;\n",
              "      box-shadow: 0px 1px 3px 1px rgba(0, 0, 0, 0.15);\n",
              "      filter: drop-shadow(0px 1px 2px rgba(0, 0, 0, 0.3));\n",
              "      fill: #FFFFFF;\n",
              "    }\n",
              "  </style>\n",
              "\n",
              "    <script>\n",
              "      const buttonEl =\n",
              "        document.querySelector('#df-0753cd10-b7d1-4133-9492-b2615ba67868 button.colab-df-convert');\n",
              "      buttonEl.style.display =\n",
              "        google.colab.kernel.accessAllowed ? 'block' : 'none';\n",
              "\n",
              "      async function convertToInteractive(key) {\n",
              "        const element = document.querySelector('#df-0753cd10-b7d1-4133-9492-b2615ba67868');\n",
              "        const dataTable =\n",
              "          await google.colab.kernel.invokeFunction('convertToInteractive',\n",
              "                                                    [key], {});\n",
              "        if (!dataTable) return;\n",
              "\n",
              "        const docLinkHtml = 'Like what you see? Visit the ' +\n",
              "          '<a target=\"_blank\" href=https://colab.research.google.com/notebooks/data_table.ipynb>data table notebook</a>'\n",
              "          + ' to learn more about interactive tables.';\n",
              "        element.innerHTML = '';\n",
              "        dataTable['output_type'] = 'display_data';\n",
              "        await google.colab.output.renderOutput(dataTable, element);\n",
              "        const docLink = document.createElement('div');\n",
              "        docLink.innerHTML = docLinkHtml;\n",
              "        element.appendChild(docLink);\n",
              "      }\n",
              "    </script>\n",
              "  </div>\n",
              "\n",
              "\n",
              "<div id=\"df-28411c63-2cdf-4ebc-a619-4ceefe9689a2\">\n",
              "  <button class=\"colab-df-quickchart\" onclick=\"quickchart('df-28411c63-2cdf-4ebc-a619-4ceefe9689a2')\"\n",
              "            title=\"Suggest charts.\"\n",
              "            style=\"display:none;\">\n",
              "\n",
              "<svg xmlns=\"http://www.w3.org/2000/svg\" height=\"24px\"viewBox=\"0 0 24 24\"\n",
              "     width=\"24px\">\n",
              "    <g>\n",
              "        <path d=\"M19 3H5c-1.1 0-2 .9-2 2v14c0 1.1.9 2 2 2h14c1.1 0 2-.9 2-2V5c0-1.1-.9-2-2-2zM9 17H7v-7h2v7zm4 0h-2V7h2v10zm4 0h-2v-4h2v4z\"/>\n",
              "    </g>\n",
              "</svg>\n",
              "  </button>\n",
              "\n",
              "<style>\n",
              "  .colab-df-quickchart {\n",
              "      --bg-color: #E8F0FE;\n",
              "      --fill-color: #1967D2;\n",
              "      --hover-bg-color: #E2EBFA;\n",
              "      --hover-fill-color: #174EA6;\n",
              "      --disabled-fill-color: #AAA;\n",
              "      --disabled-bg-color: #DDD;\n",
              "  }\n",
              "\n",
              "  [theme=dark] .colab-df-quickchart {\n",
              "      --bg-color: #3B4455;\n",
              "      --fill-color: #D2E3FC;\n",
              "      --hover-bg-color: #434B5C;\n",
              "      --hover-fill-color: #FFFFFF;\n",
              "      --disabled-bg-color: #3B4455;\n",
              "      --disabled-fill-color: #666;\n",
              "  }\n",
              "\n",
              "  .colab-df-quickchart {\n",
              "    background-color: var(--bg-color);\n",
              "    border: none;\n",
              "    border-radius: 50%;\n",
              "    cursor: pointer;\n",
              "    display: none;\n",
              "    fill: var(--fill-color);\n",
              "    height: 32px;\n",
              "    padding: 0;\n",
              "    width: 32px;\n",
              "  }\n",
              "\n",
              "  .colab-df-quickchart:hover {\n",
              "    background-color: var(--hover-bg-color);\n",
              "    box-shadow: 0 1px 2px rgba(60, 64, 67, 0.3), 0 1px 3px 1px rgba(60, 64, 67, 0.15);\n",
              "    fill: var(--button-hover-fill-color);\n",
              "  }\n",
              "\n",
              "  .colab-df-quickchart-complete:disabled,\n",
              "  .colab-df-quickchart-complete:disabled:hover {\n",
              "    background-color: var(--disabled-bg-color);\n",
              "    fill: var(--disabled-fill-color);\n",
              "    box-shadow: none;\n",
              "  }\n",
              "\n",
              "  .colab-df-spinner {\n",
              "    border: 2px solid var(--fill-color);\n",
              "    border-color: transparent;\n",
              "    border-bottom-color: var(--fill-color);\n",
              "    animation:\n",
              "      spin 1s steps(1) infinite;\n",
              "  }\n",
              "\n",
              "  @keyframes spin {\n",
              "    0% {\n",
              "      border-color: transparent;\n",
              "      border-bottom-color: var(--fill-color);\n",
              "      border-left-color: var(--fill-color);\n",
              "    }\n",
              "    20% {\n",
              "      border-color: transparent;\n",
              "      border-left-color: var(--fill-color);\n",
              "      border-top-color: var(--fill-color);\n",
              "    }\n",
              "    30% {\n",
              "      border-color: transparent;\n",
              "      border-left-color: var(--fill-color);\n",
              "      border-top-color: var(--fill-color);\n",
              "      border-right-color: var(--fill-color);\n",
              "    }\n",
              "    40% {\n",
              "      border-color: transparent;\n",
              "      border-right-color: var(--fill-color);\n",
              "      border-top-color: var(--fill-color);\n",
              "    }\n",
              "    60% {\n",
              "      border-color: transparent;\n",
              "      border-right-color: var(--fill-color);\n",
              "    }\n",
              "    80% {\n",
              "      border-color: transparent;\n",
              "      border-right-color: var(--fill-color);\n",
              "      border-bottom-color: var(--fill-color);\n",
              "    }\n",
              "    90% {\n",
              "      border-color: transparent;\n",
              "      border-bottom-color: var(--fill-color);\n",
              "    }\n",
              "  }\n",
              "</style>\n",
              "\n",
              "  <script>\n",
              "    async function quickchart(key) {\n",
              "      const quickchartButtonEl =\n",
              "        document.querySelector('#' + key + ' button');\n",
              "      quickchartButtonEl.disabled = true;  // To prevent multiple clicks.\n",
              "      quickchartButtonEl.classList.add('colab-df-spinner');\n",
              "      try {\n",
              "        const charts = await google.colab.kernel.invokeFunction(\n",
              "            'suggestCharts', [key], {});\n",
              "      } catch (error) {\n",
              "        console.error('Error during call to suggestCharts:', error);\n",
              "      }\n",
              "      quickchartButtonEl.classList.remove('colab-df-spinner');\n",
              "      quickchartButtonEl.classList.add('colab-df-quickchart-complete');\n",
              "    }\n",
              "    (() => {\n",
              "      let quickchartButtonEl =\n",
              "        document.querySelector('#df-28411c63-2cdf-4ebc-a619-4ceefe9689a2 button');\n",
              "      quickchartButtonEl.style.display =\n",
              "        google.colab.kernel.accessAllowed ? 'block' : 'none';\n",
              "    })();\n",
              "  </script>\n",
              "</div>\n",
              "    </div>\n",
              "  </div>\n"
            ]
          },
          "metadata": {},
          "execution_count": 165
        }
      ]
    },
    {
      "cell_type": "code",
      "source": [
        "fig = px.bar(all_by_month_2023, x='month', y='total')\n",
        "fig.update_layout(height=500, width=800, title = 'Общая сумма пожертвований по месяцам рекламного периода 2023 года')\n",
        "fig.show()"
      ],
      "metadata": {
        "colab": {
          "base_uri": "https://localhost:8080/",
          "height": 517
        },
        "id": "hnu1Q-sJ17Hk",
        "outputId": "af208139-10bc-4a3d-bfba-855a3b91d10b"
      },
      "execution_count": null,
      "outputs": [
        {
          "output_type": "display_data",
          "data": {
            "text/html": [
              "<html>\n",
              "<head><meta charset=\"utf-8\" /></head>\n",
              "<body>\n",
              "    <div>            <script src=\"https://cdnjs.cloudflare.com/ajax/libs/mathjax/2.7.5/MathJax.js?config=TeX-AMS-MML_SVG\"></script><script type=\"text/javascript\">if (window.MathJax && window.MathJax.Hub && window.MathJax.Hub.Config) {window.MathJax.Hub.Config({SVG: {font: \"STIX-Web\"}});}</script>                <script type=\"text/javascript\">window.PlotlyConfig = {MathJaxConfig: 'local'};</script>\n",
              "        <script charset=\"utf-8\" src=\"https://cdn.plot.ly/plotly-2.24.1.min.js\"></script>                <div id=\"acd82aa4-f960-492b-b90a-7c9cd4989a30\" class=\"plotly-graph-div\" style=\"height:500px; width:800px;\"></div>            <script type=\"text/javascript\">                                    window.PLOTLYENV=window.PLOTLYENV || {};                                    if (document.getElementById(\"acd82aa4-f960-492b-b90a-7c9cd4989a30\")) {                    Plotly.newPlot(                        \"acd82aa4-f960-492b-b90a-7c9cd4989a30\",                        [{\"alignmentgroup\":\"True\",\"hovertemplate\":\"month=%{x}\\u003cbr\\u003etotal=%{y}\\u003cextra\\u003e\\u003c\\u002fextra\\u003e\",\"legendgroup\":\"\",\"marker\":{\"color\":\"#636efa\",\"pattern\":{\"shape\":\"\"}},\"name\":\"\",\"offsetgroup\":\"\",\"orientation\":\"v\",\"showlegend\":false,\"textposition\":\"auto\",\"x\":[1,2,3,4,5,6],\"xaxis\":\"x\",\"y\":[46050,437384,605469,141349,47804,22350],\"yaxis\":\"y\",\"type\":\"bar\"}],                        {\"template\":{\"data\":{\"histogram2dcontour\":[{\"type\":\"histogram2dcontour\",\"colorbar\":{\"outlinewidth\":0,\"ticks\":\"\"},\"colorscale\":[[0.0,\"#0d0887\"],[0.1111111111111111,\"#46039f\"],[0.2222222222222222,\"#7201a8\"],[0.3333333333333333,\"#9c179e\"],[0.4444444444444444,\"#bd3786\"],[0.5555555555555556,\"#d8576b\"],[0.6666666666666666,\"#ed7953\"],[0.7777777777777778,\"#fb9f3a\"],[0.8888888888888888,\"#fdca26\"],[1.0,\"#f0f921\"]]}],\"choropleth\":[{\"type\":\"choropleth\",\"colorbar\":{\"outlinewidth\":0,\"ticks\":\"\"}}],\"histogram2d\":[{\"type\":\"histogram2d\",\"colorbar\":{\"outlinewidth\":0,\"ticks\":\"\"},\"colorscale\":[[0.0,\"#0d0887\"],[0.1111111111111111,\"#46039f\"],[0.2222222222222222,\"#7201a8\"],[0.3333333333333333,\"#9c179e\"],[0.4444444444444444,\"#bd3786\"],[0.5555555555555556,\"#d8576b\"],[0.6666666666666666,\"#ed7953\"],[0.7777777777777778,\"#fb9f3a\"],[0.8888888888888888,\"#fdca26\"],[1.0,\"#f0f921\"]]}],\"heatmap\":[{\"type\":\"heatmap\",\"colorbar\":{\"outlinewidth\":0,\"ticks\":\"\"},\"colorscale\":[[0.0,\"#0d0887\"],[0.1111111111111111,\"#46039f\"],[0.2222222222222222,\"#7201a8\"],[0.3333333333333333,\"#9c179e\"],[0.4444444444444444,\"#bd3786\"],[0.5555555555555556,\"#d8576b\"],[0.6666666666666666,\"#ed7953\"],[0.7777777777777778,\"#fb9f3a\"],[0.8888888888888888,\"#fdca26\"],[1.0,\"#f0f921\"]]}],\"heatmapgl\":[{\"type\":\"heatmapgl\",\"colorbar\":{\"outlinewidth\":0,\"ticks\":\"\"},\"colorscale\":[[0.0,\"#0d0887\"],[0.1111111111111111,\"#46039f\"],[0.2222222222222222,\"#7201a8\"],[0.3333333333333333,\"#9c179e\"],[0.4444444444444444,\"#bd3786\"],[0.5555555555555556,\"#d8576b\"],[0.6666666666666666,\"#ed7953\"],[0.7777777777777778,\"#fb9f3a\"],[0.8888888888888888,\"#fdca26\"],[1.0,\"#f0f921\"]]}],\"contourcarpet\":[{\"type\":\"contourcarpet\",\"colorbar\":{\"outlinewidth\":0,\"ticks\":\"\"}}],\"contour\":[{\"type\":\"contour\",\"colorbar\":{\"outlinewidth\":0,\"ticks\":\"\"},\"colorscale\":[[0.0,\"#0d0887\"],[0.1111111111111111,\"#46039f\"],[0.2222222222222222,\"#7201a8\"],[0.3333333333333333,\"#9c179e\"],[0.4444444444444444,\"#bd3786\"],[0.5555555555555556,\"#d8576b\"],[0.6666666666666666,\"#ed7953\"],[0.7777777777777778,\"#fb9f3a\"],[0.8888888888888888,\"#fdca26\"],[1.0,\"#f0f921\"]]}],\"surface\":[{\"type\":\"surface\",\"colorbar\":{\"outlinewidth\":0,\"ticks\":\"\"},\"colorscale\":[[0.0,\"#0d0887\"],[0.1111111111111111,\"#46039f\"],[0.2222222222222222,\"#7201a8\"],[0.3333333333333333,\"#9c179e\"],[0.4444444444444444,\"#bd3786\"],[0.5555555555555556,\"#d8576b\"],[0.6666666666666666,\"#ed7953\"],[0.7777777777777778,\"#fb9f3a\"],[0.8888888888888888,\"#fdca26\"],[1.0,\"#f0f921\"]]}],\"mesh3d\":[{\"type\":\"mesh3d\",\"colorbar\":{\"outlinewidth\":0,\"ticks\":\"\"}}],\"scatter\":[{\"fillpattern\":{\"fillmode\":\"overlay\",\"size\":10,\"solidity\":0.2},\"type\":\"scatter\"}],\"parcoords\":[{\"type\":\"parcoords\",\"line\":{\"colorbar\":{\"outlinewidth\":0,\"ticks\":\"\"}}}],\"scatterpolargl\":[{\"type\":\"scatterpolargl\",\"marker\":{\"colorbar\":{\"outlinewidth\":0,\"ticks\":\"\"}}}],\"bar\":[{\"error_x\":{\"color\":\"#2a3f5f\"},\"error_y\":{\"color\":\"#2a3f5f\"},\"marker\":{\"line\":{\"color\":\"#E5ECF6\",\"width\":0.5},\"pattern\":{\"fillmode\":\"overlay\",\"size\":10,\"solidity\":0.2}},\"type\":\"bar\"}],\"scattergeo\":[{\"type\":\"scattergeo\",\"marker\":{\"colorbar\":{\"outlinewidth\":0,\"ticks\":\"\"}}}],\"scatterpolar\":[{\"type\":\"scatterpolar\",\"marker\":{\"colorbar\":{\"outlinewidth\":0,\"ticks\":\"\"}}}],\"histogram\":[{\"marker\":{\"pattern\":{\"fillmode\":\"overlay\",\"size\":10,\"solidity\":0.2}},\"type\":\"histogram\"}],\"scattergl\":[{\"type\":\"scattergl\",\"marker\":{\"colorbar\":{\"outlinewidth\":0,\"ticks\":\"\"}}}],\"scatter3d\":[{\"type\":\"scatter3d\",\"line\":{\"colorbar\":{\"outlinewidth\":0,\"ticks\":\"\"}},\"marker\":{\"colorbar\":{\"outlinewidth\":0,\"ticks\":\"\"}}}],\"scattermapbox\":[{\"type\":\"scattermapbox\",\"marker\":{\"colorbar\":{\"outlinewidth\":0,\"ticks\":\"\"}}}],\"scatterternary\":[{\"type\":\"scatterternary\",\"marker\":{\"colorbar\":{\"outlinewidth\":0,\"ticks\":\"\"}}}],\"scattercarpet\":[{\"type\":\"scattercarpet\",\"marker\":{\"colorbar\":{\"outlinewidth\":0,\"ticks\":\"\"}}}],\"carpet\":[{\"aaxis\":{\"endlinecolor\":\"#2a3f5f\",\"gridcolor\":\"white\",\"linecolor\":\"white\",\"minorgridcolor\":\"white\",\"startlinecolor\":\"#2a3f5f\"},\"baxis\":{\"endlinecolor\":\"#2a3f5f\",\"gridcolor\":\"white\",\"linecolor\":\"white\",\"minorgridcolor\":\"white\",\"startlinecolor\":\"#2a3f5f\"},\"type\":\"carpet\"}],\"table\":[{\"cells\":{\"fill\":{\"color\":\"#EBF0F8\"},\"line\":{\"color\":\"white\"}},\"header\":{\"fill\":{\"color\":\"#C8D4E3\"},\"line\":{\"color\":\"white\"}},\"type\":\"table\"}],\"barpolar\":[{\"marker\":{\"line\":{\"color\":\"#E5ECF6\",\"width\":0.5},\"pattern\":{\"fillmode\":\"overlay\",\"size\":10,\"solidity\":0.2}},\"type\":\"barpolar\"}],\"pie\":[{\"automargin\":true,\"type\":\"pie\"}]},\"layout\":{\"autotypenumbers\":\"strict\",\"colorway\":[\"#636efa\",\"#EF553B\",\"#00cc96\",\"#ab63fa\",\"#FFA15A\",\"#19d3f3\",\"#FF6692\",\"#B6E880\",\"#FF97FF\",\"#FECB52\"],\"font\":{\"color\":\"#2a3f5f\"},\"hovermode\":\"closest\",\"hoverlabel\":{\"align\":\"left\"},\"paper_bgcolor\":\"white\",\"plot_bgcolor\":\"#E5ECF6\",\"polar\":{\"bgcolor\":\"#E5ECF6\",\"angularaxis\":{\"gridcolor\":\"white\",\"linecolor\":\"white\",\"ticks\":\"\"},\"radialaxis\":{\"gridcolor\":\"white\",\"linecolor\":\"white\",\"ticks\":\"\"}},\"ternary\":{\"bgcolor\":\"#E5ECF6\",\"aaxis\":{\"gridcolor\":\"white\",\"linecolor\":\"white\",\"ticks\":\"\"},\"baxis\":{\"gridcolor\":\"white\",\"linecolor\":\"white\",\"ticks\":\"\"},\"caxis\":{\"gridcolor\":\"white\",\"linecolor\":\"white\",\"ticks\":\"\"}},\"coloraxis\":{\"colorbar\":{\"outlinewidth\":0,\"ticks\":\"\"}},\"colorscale\":{\"sequential\":[[0.0,\"#0d0887\"],[0.1111111111111111,\"#46039f\"],[0.2222222222222222,\"#7201a8\"],[0.3333333333333333,\"#9c179e\"],[0.4444444444444444,\"#bd3786\"],[0.5555555555555556,\"#d8576b\"],[0.6666666666666666,\"#ed7953\"],[0.7777777777777778,\"#fb9f3a\"],[0.8888888888888888,\"#fdca26\"],[1.0,\"#f0f921\"]],\"sequentialminus\":[[0.0,\"#0d0887\"],[0.1111111111111111,\"#46039f\"],[0.2222222222222222,\"#7201a8\"],[0.3333333333333333,\"#9c179e\"],[0.4444444444444444,\"#bd3786\"],[0.5555555555555556,\"#d8576b\"],[0.6666666666666666,\"#ed7953\"],[0.7777777777777778,\"#fb9f3a\"],[0.8888888888888888,\"#fdca26\"],[1.0,\"#f0f921\"]],\"diverging\":[[0,\"#8e0152\"],[0.1,\"#c51b7d\"],[0.2,\"#de77ae\"],[0.3,\"#f1b6da\"],[0.4,\"#fde0ef\"],[0.5,\"#f7f7f7\"],[0.6,\"#e6f5d0\"],[0.7,\"#b8e186\"],[0.8,\"#7fbc41\"],[0.9,\"#4d9221\"],[1,\"#276419\"]]},\"xaxis\":{\"gridcolor\":\"white\",\"linecolor\":\"white\",\"ticks\":\"\",\"title\":{\"standoff\":15},\"zerolinecolor\":\"white\",\"automargin\":true,\"zerolinewidth\":2},\"yaxis\":{\"gridcolor\":\"white\",\"linecolor\":\"white\",\"ticks\":\"\",\"title\":{\"standoff\":15},\"zerolinecolor\":\"white\",\"automargin\":true,\"zerolinewidth\":2},\"scene\":{\"xaxis\":{\"backgroundcolor\":\"#E5ECF6\",\"gridcolor\":\"white\",\"linecolor\":\"white\",\"showbackground\":true,\"ticks\":\"\",\"zerolinecolor\":\"white\",\"gridwidth\":2},\"yaxis\":{\"backgroundcolor\":\"#E5ECF6\",\"gridcolor\":\"white\",\"linecolor\":\"white\",\"showbackground\":true,\"ticks\":\"\",\"zerolinecolor\":\"white\",\"gridwidth\":2},\"zaxis\":{\"backgroundcolor\":\"#E5ECF6\",\"gridcolor\":\"white\",\"linecolor\":\"white\",\"showbackground\":true,\"ticks\":\"\",\"zerolinecolor\":\"white\",\"gridwidth\":2}},\"shapedefaults\":{\"line\":{\"color\":\"#2a3f5f\"}},\"annotationdefaults\":{\"arrowcolor\":\"#2a3f5f\",\"arrowhead\":0,\"arrowwidth\":1},\"geo\":{\"bgcolor\":\"white\",\"landcolor\":\"#E5ECF6\",\"subunitcolor\":\"white\",\"showland\":true,\"showlakes\":true,\"lakecolor\":\"white\"},\"title\":{\"x\":0.05},\"mapbox\":{\"style\":\"light\"}}},\"xaxis\":{\"anchor\":\"y\",\"domain\":[0.0,1.0],\"title\":{\"text\":\"month\"}},\"yaxis\":{\"anchor\":\"x\",\"domain\":[0.0,1.0],\"title\":{\"text\":\"total\"}},\"legend\":{\"tracegroupgap\":0},\"margin\":{\"t\":60},\"barmode\":\"relative\",\"height\":500,\"width\":800,\"title\":{\"text\":\"\\u041e\\u0431\\u0449\\u0430\\u044f \\u0441\\u0443\\u043c\\u043c\\u0430 \\u043f\\u043e\\u0436\\u0435\\u0440\\u0442\\u0432\\u043e\\u0432\\u0430\\u043d\\u0438\\u0439 \\u043f\\u043e \\u043c\\u0435\\u0441\\u044f\\u0446\\u0430\\u043c \\u0440\\u0435\\u043a\\u043b\\u0430\\u043c\\u043d\\u043e\\u0433\\u043e \\u043f\\u0435\\u0440\\u0438\\u043e\\u0434\\u0430 2023 \\u0433\\u043e\\u0434\\u0430\"}},                        {\"responsive\": true}                    ).then(function(){\n",
              "                            \n",
              "var gd = document.getElementById('acd82aa4-f960-492b-b90a-7c9cd4989a30');\n",
              "var x = new MutationObserver(function (mutations, observer) {{\n",
              "        var display = window.getComputedStyle(gd).display;\n",
              "        if (!display || display === 'none') {{\n",
              "            console.log([gd, 'removed!']);\n",
              "            Plotly.purge(gd);\n",
              "            observer.disconnect();\n",
              "        }}\n",
              "}});\n",
              "\n",
              "// Listen for the removal of the full notebook cells\n",
              "var notebookContainer = gd.closest('#notebook-container');\n",
              "if (notebookContainer) {{\n",
              "    x.observe(notebookContainer, {childList: true});\n",
              "}}\n",
              "\n",
              "// Listen for the clearing of the current output cell\n",
              "var outputEl = gd.closest('.output');\n",
              "if (outputEl) {{\n",
              "    x.observe(outputEl, {childList: true});\n",
              "}}\n",
              "\n",
              "                        })                };                            </script>        </div>\n",
              "</body>\n",
              "</html>"
            ]
          },
          "metadata": {}
        }
      ]
    },
    {
      "cell_type": "code",
      "source": [
        "sum_2_3 = all_by_month_2023.query('month == 2 | month == 3').total.sum()\n",
        "print(line_)\n",
        "print('За два самых активных месяца - февраль и март 2023 года - было пожертвовано',\n",
        "      '\\033[1m{}\\033[0m'.format(all_by_month_2023.loc[1,'total']), 'и', '\\033[1m{}\\033[0m'.format(all_by_month_2023.loc[2,'total']), 'рублей.')\n",
        "print('\\033[1mЭто\\033[0m', '\\033[1m{}\\033[0m'.format((sum_2_3 / sum_all *100).astype(int)),'\\033[1m% от суммы пожертвований за весь период.\\033[0m')\n",
        "print(_line)"
      ],
      "metadata": {
        "colab": {
          "base_uri": "https://localhost:8080/"
        },
        "id": "VQTcE4rDmpuP",
        "outputId": "68522daf-e6b7-4e1e-f784-d570060d7205"
      },
      "execution_count": null,
      "outputs": [
        {
          "output_type": "stream",
          "name": "stdout",
          "text": [
            "────────────────────────────────────────────────────────────────────────────────────────────────────\n",
            "\n",
            "За два самых активных месяца - февраль и март 2023 года - было пожертвовано \u001b[1m437384\u001b[0m и \u001b[1m605469\u001b[0m рублей.\n",
            "\u001b[1mЭто\u001b[0m \u001b[1m36\u001b[0m \u001b[1m% от суммы пожертвований за весь период.\u001b[0m\n",
            "\n",
            "────────────────────────────────────────────────────────────────────────────────────────────────────\n"
          ]
        }
      ]
    },
    {
      "cell_type": "markdown",
      "source": [
        "### Пожертвования по дням"
      ],
      "metadata": {
        "id": "y3RsqWPyJtB2"
      }
    },
    {
      "cell_type": "code",
      "source": [
        "threshold_date = pd.to_datetime('2023-01-15')\n",
        "# Создаем рекламные и простые даты\n",
        "dates_before_threshold = all_by_month[all_by_month['first_payment'] < threshold_date]['first_payment']\n",
        "dates_after_threshold = all_by_month[all_by_month['first_payment'] >= threshold_date]['first_payment']\n",
        "\n",
        "# Создаем график с двумя группами столбцов\n",
        "fig = go.Figure()\n",
        "\n",
        "# Добавляем столбцы для дат до пороговой даты\n",
        "fig.add_trace(go.Bar(\n",
        "    x=dates_before_threshold,\n",
        "    y=all_by_month.loc[all_by_month['first_payment'] < threshold_date, 'total'],\n",
        "    marker=dict(color='#636efa'),\n",
        "    name='Простые даты'))\n",
        "# Добавляем столбцы для дат после пороговой даты\n",
        "fig.add_trace(go.Bar(\n",
        "    x=dates_after_threshold,\n",
        "    y=all_by_month.loc[all_by_month['first_payment'] >= threshold_date, 'total'],\n",
        "    marker=dict(color='red'),\n",
        "    name='Рекламные даты'))\n",
        "\n",
        "# Обновляем макет графика\n",
        "fig.update_layout(\n",
        "    height=600,\n",
        "    width=1200,\n",
        "    title='Суммы пожертвований по дням за 2021 и 2023 года',\n",
        "    barmode='stack')  # Это позволяет столбцам находиться в одной колонке\n",
        "\n",
        "fig.show()"
      ],
      "metadata": {
        "colab": {
          "base_uri": "https://localhost:8080/",
          "height": 617
        },
        "id": "jfIwdpF6bfQl",
        "outputId": "2c4b7dac-2ac5-4993-e0bb-66195fe19e4b"
      },
      "execution_count": null,
      "outputs": [
        {
          "output_type": "display_data",
          "data": {
            "text/html": [
              "<html>\n",
              "<head><meta charset=\"utf-8\" /></head>\n",
              "<body>\n",
              "    <div>            <script src=\"https://cdnjs.cloudflare.com/ajax/libs/mathjax/2.7.5/MathJax.js?config=TeX-AMS-MML_SVG\"></script><script type=\"text/javascript\">if (window.MathJax && window.MathJax.Hub && window.MathJax.Hub.Config) {window.MathJax.Hub.Config({SVG: {font: \"STIX-Web\"}});}</script>                <script type=\"text/javascript\">window.PlotlyConfig = {MathJaxConfig: 'local'};</script>\n",
              "        <script charset=\"utf-8\" src=\"https://cdn.plot.ly/plotly-2.24.1.min.js\"></script>                <div id=\"1a61f282-ed11-40d8-9f67-1d290b5bddc9\" class=\"plotly-graph-div\" style=\"height:600px; width:1200px;\"></div>            <script type=\"text/javascript\">                                    window.PLOTLYENV=window.PLOTLYENV || {};                                    if (document.getElementById(\"1a61f282-ed11-40d8-9f67-1d290b5bddc9\")) {                    Plotly.newPlot(                        \"1a61f282-ed11-40d8-9f67-1d290b5bddc9\",                        [{\"marker\":{\"color\":\"#636efa\"},\"name\":\"\\u041f\\u0440\\u043e\\u0441\\u0442\\u044b\\u0435 \\u0434\\u0430\\u0442\\u044b\",\"x\":[\"2022-11-23T00:00:00\",\"2021-12-29T00:00:00\",\"2021-12-31T00:00:00\",\"2021-12-31T00:00:00\",\"2022-01-04T00:00:00\",\"2022-10-16T00:00:00\",\"2022-01-08T00:00:00\",\"2022-01-09T00:00:00\",\"2022-01-10T00:00:00\",\"2022-01-10T00:00:00\",\"2022-01-11T00:00:00\",\"2022-01-17T00:00:00\",\"2022-01-17T00:00:00\",\"2022-01-17T00:00:00\",\"2022-01-19T00:00:00\",\"2021-12-26T00:00:00\",\"2022-01-19T00:00:00\",\"2022-09-18T00:00:00\",\"2022-11-19T00:00:00\",\"2022-01-20T00:00:00\",\"2021-12-26T00:00:00\",\"2022-10-26T00:00:00\",\"2022-10-26T00:00:00\",\"2022-01-15T00:00:00\",\"2022-01-20T00:00:00\",\"2022-01-21T00:00:00\",\"2021-11-24T00:00:00\",\"2022-01-27T00:00:00\",\"2022-11-25T00:00:00\",\"2022-03-30T00:00:00\",\"2022-11-29T00:00:00\",\"2022-11-29T00:00:00\",\"2022-11-30T00:00:00\",\"2022-12-01T00:00:00\",\"2022-02-02T00:00:00\",\"2022-02-04T00:00:00\",\"2022-02-04T00:00:00\",\"2022-11-01T00:00:00\",\"2022-02-21T00:00:00\",\"2022-02-13T00:00:00\",\"2022-02-13T00:00:00\",\"2022-12-02T00:00:00\",\"2022-02-21T00:00:00\",\"2022-12-03T00:00:00\",\"2021-11-17T00:00:00\",\"2022-02-22T00:00:00\",\"2022-02-22T00:00:00\",\"2021-11-18T00:00:00\",\"2021-11-24T00:00:00\",\"2021-11-25T00:00:00\",\"2021-11-27T00:00:00\",\"2021-11-27T00:00:00\",\"2022-02-19T00:00:00\",\"2021-11-29T00:00:00\",\"2021-11-29T00:00:00\",\"2021-11-29T00:00:00\",\"2021-11-30T00:00:00\",\"2021-11-30T00:00:00\",\"2021-12-01T00:00:00\",\"2021-12-01T00:00:00\",\"2022-12-07T00:00:00\",\"2022-02-23T00:00:00\",\"2022-03-06T00:00:00\",\"2022-03-06T00:00:00\",\"2022-03-06T00:00:00\",\"2022-03-07T00:00:00\",\"2022-03-07T00:00:00\",\"2021-12-05T00:00:00\",\"2021-12-06T00:00:00\",\"2021-12-07T00:00:00\",\"2021-12-08T00:00:00\",\"2022-03-06T00:00:00\",\"2022-03-03T00:00:00\",\"2021-12-17T00:00:00\",\"2021-12-19T00:00:00\",\"2022-03-04T00:00:00\",\"2022-03-06T00:00:00\",\"2022-03-06T00:00:00\",\"2022-03-04T00:00:00\",\"2021-12-21T00:00:00\",\"2021-12-23T00:00:00\",\"2021-12-23T00:00:00\",\"2021-12-23T00:00:00\",\"2021-12-23T00:00:00\",\"2021-12-23T00:00:00\",\"2021-12-23T00:00:00\",\"2021-12-23T00:00:00\",\"2021-12-23T00:00:00\",\"2021-12-23T00:00:00\",\"2021-12-23T00:00:00\",\"2021-12-23T00:00:00\",\"2021-12-23T00:00:00\",\"2021-12-23T00:00:00\",\"2021-12-23T00:00:00\",\"2021-12-23T00:00:00\",\"2021-12-23T00:00:00\",\"2021-12-23T00:00:00\",\"2021-12-23T00:00:00\",\"2021-12-23T00:00:00\",\"2021-12-23T00:00:00\",\"2021-12-23T00:00:00\",\"2021-12-23T00:00:00\",\"2021-12-23T00:00:00\",\"2021-12-23T00:00:00\",\"2021-12-23T00:00:00\",\"2021-12-23T00:00:00\",\"2021-12-23T00:00:00\",\"2021-12-23T00:00:00\",\"2021-12-23T00:00:00\",\"2021-12-23T00:00:00\",\"2021-12-23T00:00:00\",\"2021-12-23T00:00:00\",\"2021-12-23T00:00:00\",\"2021-12-23T00:00:00\",\"2021-12-23T00:00:00\",\"2022-12-04T00:00:00\",\"2021-12-23T00:00:00\",\"2021-12-23T00:00:00\",\"2021-12-23T00:00:00\",\"2021-12-23T00:00:00\",\"2021-12-24T00:00:00\",\"2021-12-24T00:00:00\",\"2021-12-24T00:00:00\",\"2021-12-24T00:00:00\",\"2021-12-24T00:00:00\",\"2021-12-24T00:00:00\",\"2021-12-24T00:00:00\",\"2021-12-25T00:00:00\",\"2021-12-25T00:00:00\",\"2021-12-26T00:00:00\",\"2021-12-26T00:00:00\",\"2021-12-24T00:00:00\",\"2021-11-27T00:00:00\",\"2022-03-11T00:00:00\",\"2022-03-11T00:00:00\",\"2022-04-04T00:00:00\",\"2022-03-17T00:00:00\",\"2022-03-17T00:00:00\",\"2022-03-19T00:00:00\",\"2022-03-22T00:00:00\",\"2022-03-27T00:00:00\",\"2022-02-01T00:00:00\",\"2021-12-03T00:00:00\",\"2022-03-30T00:00:00\",\"2022-03-31T00:00:00\",\"2022-03-31T00:00:00\",\"2022-03-31T00:00:00\",\"2022-03-07T00:00:00\",\"2022-03-31T00:00:00\",\"2022-04-02T00:00:00\",\"2022-04-03T00:00:00\",\"2022-03-04T00:00:00\",\"2022-04-04T00:00:00\",\"2022-04-05T00:00:00\",\"2022-04-06T00:00:00\",\"2022-04-06T00:00:00\",\"2022-12-07T00:00:00\",\"2022-04-09T00:00:00\",\"2022-03-12T00:00:00\",\"2022-04-15T00:00:00\",\"2021-12-23T00:00:00\",\"2022-03-15T00:00:00\",\"2022-04-16T00:00:00\",\"2022-04-16T00:00:00\",\"2022-04-16T00:00:00\",\"2022-04-16T00:00:00\",\"2022-04-16T00:00:00\",\"2022-04-15T00:00:00\",\"2022-04-16T00:00:00\",\"2022-04-16T00:00:00\",\"2022-04-16T00:00:00\",\"2022-04-17T00:00:00\",\"2022-04-17T00:00:00\",\"2022-04-17T00:00:00\",\"2022-04-17T00:00:00\",\"2022-04-19T00:00:00\",\"2022-01-19T00:00:00\",\"2022-04-22T00:00:00\",\"2022-04-22T00:00:00\",\"2022-04-24T00:00:00\",\"2022-04-26T00:00:00\",\"2022-04-26T00:00:00\",\"2022-04-26T00:00:00\",\"2022-04-26T00:00:00\",\"2022-04-26T00:00:00\",\"2022-04-26T00:00:00\",\"2022-04-26T00:00:00\",\"2022-04-26T00:00:00\",\"2022-04-27T00:00:00\",\"2022-04-27T00:00:00\",\"2022-04-27T00:00:00\",\"2022-04-27T00:00:00\",\"2022-04-27T00:00:00\",\"2022-04-27T00:00:00\",\"2022-04-27T00:00:00\",\"2022-04-27T00:00:00\",\"2022-04-27T00:00:00\",\"2022-04-27T00:00:00\",\"2022-04-28T00:00:00\",\"2022-04-28T00:00:00\",\"2022-04-28T00:00:00\",\"2022-04-28T00:00:00\",\"2022-04-28T00:00:00\",\"2022-04-28T00:00:00\",\"2022-04-28T00:00:00\",\"2022-04-29T00:00:00\",\"2022-04-30T00:00:00\",\"2022-03-31T00:00:00\",\"2022-05-04T00:00:00\",\"2022-05-04T00:00:00\",\"2022-10-22T00:00:00\",\"2022-03-06T00:00:00\",\"2021-12-23T00:00:00\",\"2022-05-09T00:00:00\",\"2022-02-27T00:00:00\",\"2022-01-23T00:00:00\",\"2022-05-15T00:00:00\",\"2022-05-21T00:00:00\",\"2022-05-31T00:00:00\",\"2022-03-06T00:00:00\",\"2022-06-08T00:00:00\",\"2022-06-09T00:00:00\",\"2022-06-10T00:00:00\",\"2022-06-10T00:00:00\",\"2022-06-10T00:00:00\",\"2022-06-10T00:00:00\",\"2022-06-11T00:00:00\",\"2022-06-11T00:00:00\",\"2022-06-11T00:00:00\",\"2022-06-11T00:00:00\",\"2022-06-11T00:00:00\",\"2022-06-11T00:00:00\",\"2022-06-11T00:00:00\",\"2022-06-12T00:00:00\",\"2022-06-12T00:00:00\",\"2021-12-27T00:00:00\",\"2022-06-22T00:00:00\",\"2022-11-10T00:00:00\",\"2022-12-07T00:00:00\",\"2022-05-16T00:00:00\",\"2022-03-30T00:00:00\",\"2022-12-13T00:00:00\",\"2022-12-13T00:00:00\",\"2022-09-02T00:00:00\",\"2022-08-07T00:00:00\",\"2022-08-07T00:00:00\",\"2022-08-08T00:00:00\",\"2021-12-13T00:00:00\",\"2022-08-12T00:00:00\",\"2022-08-17T00:00:00\",\"2022-08-17T00:00:00\",\"2022-08-18T00:00:00\",\"2022-08-20T00:00:00\",\"2022-08-21T00:00:00\",\"2022-08-23T00:00:00\",\"2022-08-27T00:00:00\",\"2022-08-30T00:00:00\",\"2022-09-01T00:00:00\",\"2022-09-01T00:00:00\",\"2022-09-01T00:00:00\",\"2022-09-01T00:00:00\",\"2022-09-02T00:00:00\",\"2022-09-03T00:00:00\",\"2022-09-03T00:00:00\",\"2022-09-04T00:00:00\",\"2022-09-05T00:00:00\",\"2022-09-05T00:00:00\",\"2022-09-04T00:00:00\",\"2022-09-06T00:00:00\",\"2022-09-08T00:00:00\",\"2022-09-08T00:00:00\",\"2022-09-09T00:00:00\",\"2022-03-20T00:00:00\",\"2022-09-14T00:00:00\",\"2022-12-14T00:00:00\",\"2022-09-18T00:00:00\",\"2022-09-20T00:00:00\",\"2022-08-22T00:00:00\",\"2022-12-15T00:00:00\",\"2022-08-25T00:00:00\",\"2022-12-15T00:00:00\",\"2022-09-29T00:00:00\",\"2022-09-30T00:00:00\",\"2022-10-01T00:00:00\",\"2022-10-01T00:00:00\",\"2022-08-31T00:00:00\",\"2022-10-01T00:00:00\",\"2022-09-01T00:00:00\",\"2022-10-01T00:00:00\",\"2022-10-02T00:00:00\",\"2021-12-26T00:00:00\",\"2022-09-30T00:00:00\",\"2022-10-03T00:00:00\",\"2022-10-04T00:00:00\",\"2022-10-04T00:00:00\",\"2022-09-04T00:00:00\",\"2022-10-04T00:00:00\",\"2022-10-05T00:00:00\",\"2022-10-05T00:00:00\",\"2022-10-05T00:00:00\",\"2022-10-05T00:00:00\",\"2022-10-05T00:00:00\",\"2022-10-05T00:00:00\",\"2022-10-07T00:00:00\",\"2022-10-10T00:00:00\",\"2021-12-23T00:00:00\",\"2022-10-12T00:00:00\",\"2022-03-06T00:00:00\",\"2022-11-22T00:00:00\",\"2022-12-16T00:00:00\",\"2021-12-16T00:00:00\",\"2022-10-14T00:00:00\",\"2022-12-17T00:00:00\",\"2022-09-14T00:00:00\",\"2021-12-23T00:00:00\",\"2022-03-30T00:00:00\",\"2022-12-18T00:00:00\",\"2022-12-18T00:00:00\",\"2022-12-12T00:00:00\",\"2022-10-22T00:00:00\",\"2022-10-13T00:00:00\",\"2022-10-19T00:00:00\",\"2022-10-19T00:00:00\",\"2022-10-22T00:00:00\",\"2022-10-01T00:00:00\",\"2022-10-22T00:00:00\",\"2022-10-22T00:00:00\",\"2022-10-22T00:00:00\",\"2022-10-22T00:00:00\",\"2022-08-23T00:00:00\",\"2022-10-24T00:00:00\",\"2022-10-26T00:00:00\",\"2022-10-26T00:00:00\",\"2022-10-26T00:00:00\",\"2022-10-27T00:00:00\",\"2022-10-27T00:00:00\",\"2022-10-27T00:00:00\",\"2022-10-28T00:00:00\",\"2022-10-29T00:00:00\",\"2022-10-31T00:00:00\",\"2022-11-01T00:00:00\",\"2022-11-01T00:00:00\",\"2022-11-02T00:00:00\",\"2022-09-02T00:00:00\",\"2022-10-03T00:00:00\",\"2022-11-03T00:00:00\",\"2022-11-04T00:00:00\",\"2022-11-04T00:00:00\",\"2022-11-04T00:00:00\",\"2022-11-04T00:00:00\",\"2022-10-04T00:00:00\",\"2022-11-05T00:00:00\",\"2022-08-07T00:00:00\",\"2022-11-07T00:00:00\",\"2022-11-07T00:00:00\",\"2022-01-28T00:00:00\",\"2022-11-10T00:00:00\",\"2022-11-11T00:00:00\",\"2022-06-11T00:00:00\",\"2022-11-14T00:00:00\",\"2022-09-14T00:00:00\",\"2022-11-21T00:00:00\",\"2022-04-16T00:00:00\",\"2022-12-23T00:00:00\",\"2022-12-23T00:00:00\",\"2022-12-23T00:00:00\",\"2021-12-23T00:00:00\",\"2021-12-23T00:00:00\",\"2021-12-23T00:00:00\",\"2021-12-23T00:00:00\",\"2021-12-23T00:00:00\",\"2022-08-23T00:00:00\",\"2021-12-25T00:00:00\",\"2021-12-24T00:00:00\",\"2022-03-20T00:00:00\",\"2022-01-24T00:00:00\",\"2022-01-11T00:00:00\",\"2022-12-25T00:00:00\",\"2022-12-25T00:00:00\",\"2022-12-25T00:00:00\",\"2022-12-25T00:00:00\",\"2022-12-25T00:00:00\",\"2021-12-25T00:00:00\",\"2022-12-25T00:00:00\",\"2022-12-26T00:00:00\",\"2022-12-26T00:00:00\",\"2022-12-26T00:00:00\",\"2022-08-25T00:00:00\",\"2022-12-26T00:00:00\",\"2021-12-26T00:00:00\",\"2021-12-17T00:00:00\",\"2022-12-28T00:00:00\",\"2022-10-19T00:00:00\",\"2022-12-25T00:00:00\",\"2022-03-06T00:00:00\",\"2022-12-02T00:00:00\",\"2022-12-29T00:00:00\",\"2022-12-29T00:00:00\",\"2022-12-29T00:00:00\",\"2022-12-29T00:00:00\",\"2022-12-29T00:00:00\",\"2022-12-29T00:00:00\",\"2022-12-29T00:00:00\",\"2022-12-29T00:00:00\",\"2022-12-29T00:00:00\",\"2022-12-29T00:00:00\",\"2022-12-29T00:00:00\",\"2022-12-29T00:00:00\",\"2022-12-29T00:00:00\",\"2022-12-30T00:00:00\",\"2022-12-30T00:00:00\",\"2022-12-30T00:00:00\",\"2022-12-30T00:00:00\",\"2022-12-30T00:00:00\",\"2022-12-30T00:00:00\",\"2022-12-30T00:00:00\",\"2022-12-30T00:00:00\",\"2022-12-30T00:00:00\",\"2022-12-30T00:00:00\",\"2022-12-30T00:00:00\",\"2022-12-30T00:00:00\",\"2022-12-30T00:00:00\",\"2022-12-30T00:00:00\",\"2022-03-03T00:00:00\",\"2022-12-30T00:00:00\",\"2022-12-30T00:00:00\",\"2022-12-31T00:00:00\",\"2022-12-31T00:00:00\",\"2022-02-13T00:00:00\",\"2022-12-31T00:00:00\",\"2022-12-31T00:00:00\",\"2022-12-31T00:00:00\",\"2022-12-31T00:00:00\",\"2022-09-03T00:00:00\",\"2022-12-31T00:00:00\",\"2023-01-01T00:00:00\",\"2022-10-01T00:00:00\",\"2022-10-01T00:00:00\",\"2023-01-01T00:00:00\",\"2021-12-27T00:00:00\",\"2022-03-04T00:00:00\",\"2023-01-01T00:00:00\",\"2021-12-12T00:00:00\",\"2022-09-01T00:00:00\",\"2022-10-14T00:00:00\",\"2022-11-10T00:00:00\",\"2022-11-03T00:00:00\",\"2022-11-04T00:00:00\",\"2023-01-04T00:00:00\",\"2022-11-04T00:00:00\",\"2023-01-05T00:00:00\",\"2023-01-05T00:00:00\",\"2022-11-05T00:00:00\",\"2023-01-05T00:00:00\",\"2023-01-06T00:00:00\",\"2022-12-14T00:00:00\",\"2023-01-06T00:00:00\",\"2023-01-06T00:00:00\",\"2022-09-06T00:00:00\",\"2022-05-18T00:00:00\",\"2023-01-07T00:00:00\",\"2022-02-07T00:00:00\",\"2022-05-07T00:00:00\",\"2022-11-07T00:00:00\",\"2022-12-08T00:00:00\",\"2023-01-09T00:00:00\",\"2023-01-09T00:00:00\",\"2021-11-25T00:00:00\",\"2022-03-06T00:00:00\",\"2022-08-20T00:00:00\",\"2021-11-26T00:00:00\",\"2021-12-26T00:00:00\",\"2022-03-26T00:00:00\",\"2022-12-12T00:00:00\",\"2023-01-13T00:00:00\",\"2021-11-26T00:00:00\",\"2023-01-13T00:00:00\",\"2022-12-12T00:00:00\",\"2023-01-14T00:00:00\",\"2022-01-14T00:00:00\",\"2023-01-14T00:00:00\",\"2022-11-15T00:00:00\",\"2022-09-01T00:00:00\",\"2022-01-19T00:00:00\",\"2021-12-08T00:00:00\",\"2021-12-25T00:00:00\",\"2022-02-08T00:00:00\",\"2022-12-25T00:00:00\",\"2022-01-22T00:00:00\",\"2022-08-30T00:00:00\",\"2022-08-22T00:00:00\",\"2022-08-22T00:00:00\",\"2022-08-22T00:00:00\",\"2022-11-08T00:00:00\",\"2021-12-23T00:00:00\",\"2022-09-23T00:00:00\",\"2022-12-23T00:00:00\",\"2021-12-23T00:00:00\",\"2022-01-24T00:00:00\",\"2022-08-24T00:00:00\",\"2022-03-15T00:00:00\",\"2022-11-23T00:00:00\",\"2022-03-29T00:00:00\",\"2022-08-24T00:00:00\",\"2022-12-25T00:00:00\",\"2022-10-28T00:00:00\",\"2022-12-29T00:00:00\",\"2022-08-29T00:00:00\",\"2022-12-29T00:00:00\",\"2021-11-30T00:00:00\",\"2022-03-06T00:00:00\",\"2022-10-26T00:00:00\",\"2022-12-30T00:00:00\",\"2022-12-30T00:00:00\",\"2022-12-30T00:00:00\",\"2022-12-30T00:00:00\",\"2022-12-30T00:00:00\",\"2022-12-31T00:00:00\",\"2021-12-06T00:00:00\",\"2022-11-01T00:00:00\",\"2022-02-02T00:00:00\",\"2022-02-04T00:00:00\",\"2022-12-04T00:00:00\",\"2023-01-04T00:00:00\",\"2023-01-06T00:00:00\",\"2023-01-07T00:00:00\",\"2023-01-07T00:00:00\",\"2022-10-01T00:00:00\",\"2022-09-11T00:00:00\",\"2022-12-12T00:00:00\",\"2023-01-12T00:00:00\",\"2022-02-13T00:00:00\",\"2023-01-13T00:00:00\",\"2022-03-18T00:00:00\",\"2022-12-07T00:00:00\",\"2022-03-30T00:00:00\",\"2022-12-29T00:00:00\",\"2022-12-20T00:00:00\",\"2021-11-24T00:00:00\",\"2022-05-11T00:00:00\",\"2021-11-25T00:00:00\",\"2022-08-21T00:00:00\",\"2023-01-06T00:00:00\",\"2023-01-04T00:00:00\",\"2023-01-06T00:00:00\",\"2022-12-05T00:00:00\",\"2022-04-16T00:00:00\",\"2022-03-31T00:00:00\",\"2022-01-09T00:00:00\",\"2022-11-07T00:00:00\",\"2022-11-23T00:00:00\",\"2022-09-28T00:00:00\",\"2022-12-30T00:00:00\",\"2022-04-03T00:00:00\",\"2022-11-03T00:00:00\",\"2022-12-31T00:00:00\",\"2022-12-31T00:00:00\",\"2022-11-04T00:00:00\",\"2022-10-04T00:00:00\",\"2022-11-04T00:00:00\",\"2022-11-04T00:00:00\",\"2022-11-04T00:00:00\",\"2022-11-04T00:00:00\",\"2023-01-02T00:00:00\",\"2023-01-02T00:00:00\",\"2023-01-04T00:00:00\",\"2022-12-30T00:00:00\",\"2022-10-27T00:00:00\",\"2023-01-06T00:00:00\",\"2022-08-22T00:00:00\",\"2021-12-24T00:00:00\",\"2022-11-08T00:00:00\",\"2022-09-09T00:00:00\",\"2022-05-10T00:00:00\",\"2022-04-22T00:00:00\",\"2022-09-03T00:00:00\",\"2023-01-13T00:00:00\",\"2022-02-13T00:00:00\",\"2022-09-12T00:00:00\",\"2022-04-16T00:00:00\",\"2022-03-25T00:00:00\",\"2022-04-17T00:00:00\",\"2021-11-25T00:00:00\",\"2022-10-11T00:00:00\",\"2022-01-19T00:00:00\",\"2022-09-19T00:00:00\",\"2022-10-20T00:00:00\",\"2022-04-22T00:00:00\",\"2022-08-22T00:00:00\",\"2022-12-25T00:00:00\",\"2022-11-25T00:00:00\",\"2021-12-17T00:00:00\",\"2022-12-30T00:00:00\",\"2022-04-27T00:00:00\",\"2021-12-26T00:00:00\",\"2021-12-01T00:00:00\",\"2022-03-08T00:00:00\",\"2022-04-02T00:00:00\",\"2022-12-29T00:00:00\",\"2022-12-30T00:00:00\",\"2022-12-30T00:00:00\",\"2021-12-07T00:00:00\",\"2022-11-03T00:00:00\",\"2023-01-03T00:00:00\",\"2022-11-05T00:00:00\",\"2022-09-06T00:00:00\",\"2022-12-03T00:00:00\",\"2022-03-11T00:00:00\",\"2021-11-26T00:00:00\",\"2022-04-15T00:00:00\",\"2022-09-13T00:00:00\",\"2022-08-19T00:00:00\",\"2022-01-21T00:00:00\",\"2022-03-30T00:00:00\",\"2022-05-24T00:00:00\",\"2022-02-04T00:00:00\",\"2022-03-19T00:00:00\",\"2023-01-01T00:00:00\",\"2022-12-29T00:00:00\",\"2022-12-29T00:00:00\",\"2022-08-08T00:00:00\",\"2022-12-06T00:00:00\",\"2022-11-23T00:00:00\",\"2022-06-26T00:00:00\",\"2023-01-10T00:00:00\",\"2023-01-07T00:00:00\",\"2023-01-05T00:00:00\",\"2023-01-04T00:00:00\",\"2023-01-02T00:00:00\",\"2023-01-01T00:00:00\",\"2023-01-01T00:00:00\",\"2022-12-31T00:00:00\",\"2022-12-31T00:00:00\",\"2022-12-30T00:00:00\",\"2022-12-30T00:00:00\",\"2022-12-30T00:00:00\",\"2022-12-30T00:00:00\",\"2022-12-30T00:00:00\",\"2022-12-29T00:00:00\",\"2022-12-29T00:00:00\",\"2022-12-29T00:00:00\",\"2022-12-29T00:00:00\",\"2022-12-25T00:00:00\",\"2022-12-25T00:00:00\",\"2022-12-25T00:00:00\",\"2022-06-27T00:00:00\",\"2022-12-24T00:00:00\",\"2022-12-19T00:00:00\",\"2022-11-22T00:00:00\",\"2022-06-15T00:00:00\",\"2022-12-12T00:00:00\",\"2022-12-08T00:00:00\",\"2022-12-03T00:00:00\",\"2022-11-29T00:00:00\",\"2022-11-27T00:00:00\",\"2022-08-15T00:00:00\",\"2022-11-24T00:00:00\",\"2022-11-23T00:00:00\",\"2022-11-14T00:00:00\",\"2022-11-10T00:00:00\",\"2022-11-09T00:00:00\",\"2022-08-08T00:00:00\",\"2022-11-07T00:00:00\",\"2022-11-06T00:00:00\",\"2022-11-05T00:00:00\",\"2022-11-05T00:00:00\",\"2022-11-04T00:00:00\",\"2022-11-04T00:00:00\",\"2022-11-04T00:00:00\",\"2022-11-01T00:00:00\",\"2022-11-01T00:00:00\",\"2022-07-08T00:00:00\",\"2022-07-28T00:00:00\",\"2022-10-29T00:00:00\",\"2022-10-28T00:00:00\",\"2022-08-08T00:00:00\",\"2022-06-20T00:00:00\",\"2022-10-27T00:00:00\",\"2022-10-26T00:00:00\",\"2022-08-08T00:00:00\",\"2022-10-21T00:00:00\",\"2022-10-20T00:00:00\",\"2022-10-15T00:00:00\",\"2022-10-14T00:00:00\",\"2022-10-14T00:00:00\",\"2022-06-26T00:00:00\",\"2022-10-08T00:00:00\",\"2022-10-07T00:00:00\",\"2022-10-05T00:00:00\",\"2022-10-04T00:00:00\",\"2022-10-03T00:00:00\",\"2022-10-03T00:00:00\",\"2022-08-08T00:00:00\",\"2022-10-01T00:00:00\",\"2022-10-01T00:00:00\",\"2022-10-01T00:00:00\",\"2022-09-29T00:00:00\",\"2022-07-29T00:00:00\",\"2022-09-23T00:00:00\",\"2022-08-17T00:00:00\",\"2022-08-16T00:00:00\",\"2022-08-12T00:00:00\",\"2022-09-11T00:00:00\",\"2022-08-11T00:00:00\",\"2022-08-11T00:00:00\",\"2022-09-10T00:00:00\",\"2022-07-11T00:00:00\",\"2022-08-08T00:00:00\",\"2022-08-08T00:00:00\",\"2022-09-05T00:00:00\",\"2022-08-17T00:00:00\",\"2022-08-03T00:00:00\",\"2022-08-03T00:00:00\",\"2022-09-03T00:00:00\",\"2022-09-02T00:00:00\",\"2022-09-02T00:00:00\",\"2022-09-02T00:00:00\",\"2022-09-01T00:00:00\",\"2022-08-30T00:00:00\",\"2022-08-29T00:00:00\",\"2022-08-25T00:00:00\",\"2022-08-25T00:00:00\",\"2022-08-24T00:00:00\",\"2022-08-24T00:00:00\",\"2022-08-23T00:00:00\",\"2022-08-23T00:00:00\",\"2022-08-22T00:00:00\",\"2022-07-04T00:00:00\",\"2022-08-20T00:00:00\",\"2022-08-20T00:00:00\",\"2022-08-20T00:00:00\",\"2022-06-26T00:00:00\",\"2022-08-18T00:00:00\",\"2022-08-17T00:00:00\"],\"y\":[500,1000,1000,300,500,600,500,50,300,500,500,300,300,200,1000,1100,800,3150,1000,500,1400,300,2400,300,500,500,1500,500,3000,5000,50,500,200,10000,200,700,5000,200,500,1000,1000,500,1000,500,100,500,500,30000,5000,500,10000,900,500,50,160,450,500,400,200,1050,300,400,1000,500,2000,800,1000,1000,600,200,1000,50,300,100,600,500,100,500,600,400,50,5000,500,500,1000,300,150,500,500,500,500,500,500,500,10000,200,500,1000,1000,900,750,300,500,500,350,1000,300,500,300,1000,1000,1000,500,300,300,1800,500,200,700,100,500,500,500,300,200,200,500,200,1000,300,150,1000,1500,5000,100,4200,500,500,500,200,310,7600,9000,350,5000,300,4500,400,300,500,3000,300,200,300,300,1000,300,500,4000,160,9500,1000,5780,500,500,800,2000,1200,4000,3000,2000,1300,555,300,500,200,1700,500,100,243,1000,5000,500,500,300,500,500,500,500,500,2000,500,500,400,1000,500,300,500,500,300,500,500,300,1500,2000,1000,1000,750,2000,1000,23000,3000,600,500,2500,3000,800,300,1000,1200,500,300,500,2500,1000,500,500,500,5000,500,250,500,500,500,200,5000,2000,3000,3000,4000,5500,100,300,110,2000,500,500,3400,151,250,405,55,600,500,300,1500,500,1400,300,3000,50,300,500,500,200,500,700,3000,200,1000,1050,1000,1500,50,500,300,8000,4000,500,1000,1800,400,300,1000,300,500,1000,10000,100,50,9000,300,50,100,470,4000,200,200,1499,1000,2000,100,5000,100,10000,18000,20,2400,100,500,7000,2100,1000,3400,2800,800,500,3000,300,108,300,300,3000,100,750,250,500,500,200,3000,300,1500,300,500,300,1000,100,300,300,300,500,500,500,900,400,500,300,100,300,1000,800,500,3000,300,500,975,1000,10000,600,500,900,150,9000,3000,1000,5500,3500,1000,1100,9000,7600,1800,35000,7500,190,8000,27520,100,300,1500,100,100,2000,500,100,100,100,5000,300,3000,1700,500,2460,100,1500,500,1000,50,500,300,13000,1500,100,500,350,300,300,300,100,500,600,500,1000,1000,300,300,300,1000,5000,300,300,500,500,1000,300,1000,300,500,1500,500,100,500,1000,1300,1000,1000,3000,3000,500,1950,4000,300,1750,2400,1000,3000,3500,1800,3000,1400,300,1000,12000,1250,2500,26000,300,500,9000,2000,2000,11000,6500,200,600,200,1000,900,1300,9600,3500,1500,500,1800,2500,3600,200,50,510,2000,3000,3000,1000,300,548,1772,1000,600,1000,1200,90000,2000,3000,750,8000,450,1800,950,2400,5000,2000,1000,3450,1350,310,300,750,350,100,8800,4000,1100,1500,1500,1500,500,1500,250,2500,800,1000,2000,1800,2500,1500,2500,300,5000,8000,1200,1200,600,500,950,950,7000,2000,3000,9000,1600,20000,1150,1000,3000,1500,500,1450,4700,1750,800,1500,3500,2000,2000,2100,500,1500,2500,3000,1600,2100,2100,2100,2500,1000,1500,1500,150,10000,1050,23000,4000,2700,3900,51000,3000,250,6000,4300,2100,6000,2500,1122,3000,3400,4500,2400,1900,3000,500,350,550,1200,16000,1800,300,14000,4200,5000,2500,1500,38000,700,1500,1800,2700,600,3500,5900,6500,900,631,450,7000,300,12000,3500,3000,1200,1800,600,500,1000,800,1000,300,300,500,500,400,4000,300,500,500,600,300,500,199,750,500,100,100,100,200,310,2000,15000,1000,100,50,300,600,600,500,300,150,300,1000,500,3000,100,7400,675,500,2000,400,1600,100,1200,500,200,300,450,1000,27470,550,150,300,300,1000,3000,2700,300,15000,1000,2700,300,10000,300,3000,300,110,150,1000,500,50,300,6000,5000,250,2500,1500,9000,550,1000,300,3000,7000,1800,500,600,700,3500,1300,900,600,110,1000,140,400,1000,500,300,1350,1800,4800,2500,2805,1000,150,600,5800,55,405],\"type\":\"bar\"},{\"marker\":{\"color\":\"red\"},\"name\":\"\\u0420\\u0435\\u043a\\u043b\\u0430\\u043c\\u043d\\u044b\\u0435 \\u0434\\u0430\\u0442\\u044b\",\"x\":[\"2023-03-15T00:00:00\",\"2023-04-04T00:00:00\",\"2023-03-16T00:00:00\",\"2023-04-04T00:00:00\",\"2023-05-02T00:00:00\",\"2023-03-19T00:00:00\",\"2023-02-19T00:00:00\",\"2023-03-20T00:00:00\",\"2023-04-04T00:00:00\",\"2023-03-22T00:00:00\",\"2023-02-21T00:00:00\",\"2023-03-21T00:00:00\",\"2023-03-21T00:00:00\",\"2023-03-21T00:00:00\",\"2023-03-21T00:00:00\",\"2023-01-21T00:00:00\",\"2023-03-21T00:00:00\",\"2023-03-22T00:00:00\",\"2023-03-22T00:00:00\",\"2023-03-22T00:00:00\",\"2023-03-22T00:00:00\",\"2023-03-25T00:00:00\",\"2023-03-23T00:00:00\",\"2023-03-23T00:00:00\",\"2023-03-23T00:00:00\",\"2023-03-23T00:00:00\",\"2023-03-24T00:00:00\",\"2023-03-24T00:00:00\",\"2023-02-24T00:00:00\",\"2023-03-24T00:00:00\",\"2023-04-03T00:00:00\",\"2023-03-24T00:00:00\",\"2023-03-24T00:00:00\",\"2023-03-26T00:00:00\",\"2023-02-26T00:00:00\",\"2023-02-26T00:00:00\",\"2023-02-26T00:00:00\",\"2023-03-27T00:00:00\",\"2023-03-27T00:00:00\",\"2023-02-27T00:00:00\",\"2023-02-27T00:00:00\",\"2023-01-16T00:00:00\",\"2023-01-16T00:00:00\",\"2023-01-28T00:00:00\",\"2023-01-19T00:00:00\",\"2023-01-19T00:00:00\",\"2023-03-30T00:00:00\",\"2023-01-28T00:00:00\",\"2023-03-28T00:00:00\",\"2023-01-21T00:00:00\",\"2023-03-28T00:00:00\",\"2023-03-28T00:00:00\",\"2023-03-28T00:00:00\",\"2023-03-28T00:00:00\",\"2023-03-28T00:00:00\",\"2023-03-28T00:00:00\",\"2023-01-22T00:00:00\",\"2023-03-28T00:00:00\",\"2023-03-28T00:00:00\",\"2023-01-22T00:00:00\",\"2023-01-22T00:00:00\",\"2023-01-28T00:00:00\",\"2023-01-22T00:00:00\",\"2023-03-28T00:00:00\",\"2023-03-28T00:00:00\",\"2023-03-28T00:00:00\",\"2023-03-28T00:00:00\",\"2023-03-28T00:00:00\",\"2023-03-28T00:00:00\",\"2023-03-28T00:00:00\",\"2023-03-28T00:00:00\",\"2023-03-28T00:00:00\",\"2023-03-28T00:00:00\",\"2023-03-28T00:00:00\",\"2023-03-29T00:00:00\",\"2023-03-29T00:00:00\",\"2023-03-29T00:00:00\",\"2023-03-29T00:00:00\",\"2023-03-29T00:00:00\",\"2023-03-29T00:00:00\",\"2023-01-25T00:00:00\",\"2023-03-29T00:00:00\",\"2023-03-29T00:00:00\",\"2023-03-29T00:00:00\",\"2023-01-27T00:00:00\",\"2023-03-29T00:00:00\",\"2023-01-28T00:00:00\",\"2023-01-28T00:00:00\",\"2023-03-29T00:00:00\",\"2023-03-29T00:00:00\",\"2023-03-29T00:00:00\",\"2023-03-29T00:00:00\",\"2023-01-29T00:00:00\",\"2023-01-30T00:00:00\",\"2023-01-31T00:00:00\",\"2023-02-01T00:00:00\",\"2023-02-02T00:00:00\",\"2023-02-03T00:00:00\",\"2023-03-29T00:00:00\",\"2023-03-29T00:00:00\",\"2023-03-29T00:00:00\",\"2023-03-29T00:00:00\",\"2023-03-29T00:00:00\",\"2023-03-29T00:00:00\",\"2023-03-30T00:00:00\",\"2023-02-07T00:00:00\",\"2023-03-30T00:00:00\",\"2023-03-30T00:00:00\",\"2023-03-30T00:00:00\",\"2023-02-10T00:00:00\",\"2023-03-30T00:00:00\",\"2023-03-30T00:00:00\",\"2023-02-11T00:00:00\",\"2023-03-30T00:00:00\",\"2023-02-13T00:00:00\",\"2023-02-14T00:00:00\",\"2023-02-16T00:00:00\",\"2023-02-18T00:00:00\",\"2023-02-19T00:00:00\",\"2023-02-19T00:00:00\",\"2023-03-30T00:00:00\",\"2023-02-19T00:00:00\",\"2023-02-19T00:00:00\",\"2023-02-19T00:00:00\",\"2023-02-19T00:00:00\",\"2023-02-19T00:00:00\",\"2023-02-20T00:00:00\",\"2023-04-01T00:00:00\",\"2023-02-20T00:00:00\",\"2023-02-20T00:00:00\",\"2023-02-20T00:00:00\",\"2023-03-31T00:00:00\",\"2023-02-21T00:00:00\",\"2023-02-21T00:00:00\",\"2023-04-16T00:00:00\",\"2023-02-22T00:00:00\",\"2023-03-31T00:00:00\",\"2023-02-25T00:00:00\",\"2023-02-25T00:00:00\",\"2023-02-26T00:00:00\",\"2023-03-31T00:00:00\",\"2023-02-26T00:00:00\",\"2023-02-26T00:00:00\",\"2023-02-26T00:00:00\",\"2023-02-26T00:00:00\",\"2023-02-26T00:00:00\",\"2023-03-31T00:00:00\",\"2023-02-26T00:00:00\",\"2023-02-26T00:00:00\",\"2023-02-26T00:00:00\",\"2023-02-26T00:00:00\",\"2023-02-26T00:00:00\",\"2023-02-26T00:00:00\",\"2023-02-26T00:00:00\",\"2023-02-26T00:00:00\",\"2023-02-26T00:00:00\",\"2023-02-26T00:00:00\",\"2023-02-26T00:00:00\",\"2023-03-31T00:00:00\",\"2023-02-27T00:00:00\",\"2023-02-27T00:00:00\",\"2023-02-27T00:00:00\",\"2023-03-31T00:00:00\",\"2023-02-27T00:00:00\",\"2023-03-31T00:00:00\",\"2023-03-31T00:00:00\",\"2023-02-28T00:00:00\",\"2023-02-28T00:00:00\",\"2023-01-28T00:00:00\",\"2023-03-01T00:00:00\",\"2023-03-02T00:00:00\",\"2023-03-04T00:00:00\",\"2023-03-04T00:00:00\",\"2023-03-04T00:00:00\",\"2023-03-05T00:00:00\",\"2023-03-06T00:00:00\",\"2023-03-07T00:00:00\",\"2023-03-07T00:00:00\",\"2023-02-02T00:00:00\",\"2023-03-08T00:00:00\",\"2023-03-08T00:00:00\",\"2023-03-09T00:00:00\",\"2023-03-09T00:00:00\",\"2023-03-09T00:00:00\",\"2023-03-09T00:00:00\",\"2023-02-07T00:00:00\",\"2023-03-10T00:00:00\",\"2023-02-10T00:00:00\",\"2023-03-11T00:00:00\",\"2023-02-11T00:00:00\",\"2023-03-13T00:00:00\",\"2023-02-14T00:00:00\",\"2023-03-13T00:00:00\",\"2023-03-02T00:00:00\",\"2023-03-14T00:00:00\",\"2023-02-14T00:00:00\",\"2023-03-15T00:00:00\",\"2023-03-02T00:00:00\",\"2023-02-03T00:00:00\",\"2023-04-04T00:00:00\",\"2023-04-04T00:00:00\",\"2023-04-04T00:00:00\",\"2023-03-04T00:00:00\",\"2023-04-04T00:00:00\",\"2023-04-04T00:00:00\",\"2023-04-04T00:00:00\",\"2023-04-04T00:00:00\",\"2023-04-04T00:00:00\",\"2023-04-05T00:00:00\",\"2023-04-05T00:00:00\",\"2023-04-05T00:00:00\",\"2023-04-05T00:00:00\",\"2023-04-05T00:00:00\",\"2023-04-05T00:00:00\",\"2023-04-05T00:00:00\",\"2023-04-05T00:00:00\",\"2023-04-05T00:00:00\",\"2023-04-05T00:00:00\",\"2023-04-05T00:00:00\",\"2023-03-05T00:00:00\",\"2023-04-06T00:00:00\",\"2023-04-06T00:00:00\",\"2023-04-06T00:00:00\",\"2023-03-21T00:00:00\",\"2023-04-07T00:00:00\",\"2023-03-08T00:00:00\",\"2023-03-08T00:00:00\",\"2023-04-08T00:00:00\",\"2023-04-09T00:00:00\",\"2023-04-09T00:00:00\",\"2023-04-09T00:00:00\",\"2023-04-10T00:00:00\",\"2023-04-04T00:00:00\",\"2023-04-10T00:00:00\",\"2023-04-10T00:00:00\",\"2023-03-11T00:00:00\",\"2023-04-12T00:00:00\",\"2023-04-12T00:00:00\",\"2023-03-28T00:00:00\",\"2023-04-13T00:00:00\",\"2023-04-13T00:00:00\",\"2023-04-13T00:00:00\",\"2023-03-13T00:00:00\",\"2023-04-14T00:00:00\",\"2023-03-15T00:00:00\",\"2023-04-15T00:00:00\",\"2023-04-15T00:00:00\",\"2023-04-15T00:00:00\",\"2023-02-15T00:00:00\",\"2023-03-21T00:00:00\",\"2023-04-01T00:00:00\",\"2023-01-17T00:00:00\",\"2023-03-17T00:00:00\",\"2023-04-20T00:00:00\",\"2023-04-21T00:00:00\",\"2023-02-21T00:00:00\",\"2023-04-22T00:00:00\",\"2023-04-22T00:00:00\",\"2023-02-20T00:00:00\",\"2023-03-22T00:00:00\",\"2023-04-23T00:00:00\",\"2023-04-23T00:00:00\",\"2023-04-25T00:00:00\",\"2023-03-25T00:00:00\",\"2023-03-26T00:00:00\",\"2023-04-26T00:00:00\",\"2023-01-26T00:00:00\",\"2023-02-26T00:00:00\",\"2023-04-26T00:00:00\",\"2023-04-26T00:00:00\",\"2023-04-27T00:00:00\",\"2023-02-27T00:00:00\",\"2023-04-28T00:00:00\",\"2023-04-28T00:00:00\",\"2023-04-28T00:00:00\",\"2023-03-28T00:00:00\",\"2023-01-27T00:00:00\",\"2023-04-30T00:00:00\",\"2023-05-01T00:00:00\",\"2023-05-02T00:00:00\",\"2023-02-28T00:00:00\",\"2023-01-30T00:00:00\",\"2023-05-03T00:00:00\",\"2023-05-04T00:00:00\",\"2023-05-04T00:00:00\",\"2023-05-05T00:00:00\",\"2023-05-05T00:00:00\",\"2023-05-06T00:00:00\",\"2023-05-06T00:00:00\",\"2023-03-06T00:00:00\",\"2023-04-06T00:00:00\",\"2023-05-07T00:00:00\",\"2023-05-08T00:00:00\",\"2023-03-08T00:00:00\",\"2023-04-08T00:00:00\",\"2023-01-16T00:00:00\",\"2023-04-29T00:00:00\",\"2023-05-10T00:00:00\",\"2023-02-10T00:00:00\",\"2023-05-11T00:00:00\",\"2023-05-11T00:00:00\",\"2023-05-12T00:00:00\",\"2023-05-12T00:00:00\",\"2023-04-12T00:00:00\",\"2023-05-12T00:00:00\",\"2023-05-13T00:00:00\",\"2023-05-14T00:00:00\",\"2023-05-15T00:00:00\",\"2023-02-16T00:00:00\",\"2023-03-16T00:00:00\",\"2023-04-09T00:00:00\",\"2023-05-18T00:00:00\",\"2023-03-18T00:00:00\",\"2023-03-25T00:00:00\",\"2023-05-20T00:00:00\",\"2023-05-20T00:00:00\",\"2023-05-21T00:00:00\",\"2023-02-21T00:00:00\",\"2023-05-21T00:00:00\",\"2023-05-21T00:00:00\",\"2023-05-22T00:00:00\",\"2023-05-22T00:00:00\",\"2023-01-21T00:00:00\",\"2023-02-24T00:00:00\",\"2023-02-26T00:00:00\",\"2023-05-27T00:00:00\",\"2023-02-27T00:00:00\",\"2023-04-27T00:00:00\",\"2023-05-28T00:00:00\",\"2023-04-28T00:00:00\",\"2023-03-28T00:00:00\",\"2023-05-29T00:00:00\",\"2023-04-30T00:00:00\",\"2023-05-31T00:00:00\",\"2023-06-01T00:00:00\",\"2023-06-21T00:00:00\",\"2023-06-20T00:00:00\",\"2023-06-20T00:00:00\",\"2023-06-20T00:00:00\",\"2023-06-19T00:00:00\",\"2023-06-19T00:00:00\",\"2023-06-19T00:00:00\",\"2023-06-19T00:00:00\",\"2023-06-18T00:00:00\",\"2023-06-14T00:00:00\",\"2023-06-14T00:00:00\",\"2023-06-10T00:00:00\",\"2023-06-10T00:00:00\",\"2023-06-10T00:00:00\",\"2023-06-09T00:00:00\",\"2023-06-09T00:00:00\",\"2023-06-09T00:00:00\",\"2023-06-08T00:00:00\",\"2023-06-06T00:00:00\",\"2023-06-05T00:00:00\",\"2023-06-04T00:00:00\",\"2023-06-01T00:00:00\",\"2023-05-27T00:00:00\",\"2023-05-20T00:00:00\",\"2023-04-09T00:00:00\",\"2023-05-15T00:00:00\",\"2023-05-14T00:00:00\",\"2023-05-02T00:00:00\",\"2023-05-01T00:00:00\",\"2023-04-30T00:00:00\",\"2023-04-29T00:00:00\",\"2023-04-29T00:00:00\",\"2023-04-28T00:00:00\",\"2023-04-28T00:00:00\",\"2023-04-27T00:00:00\",\"2023-04-26T00:00:00\",\"2023-04-26T00:00:00\",\"2023-04-26T00:00:00\",\"2023-04-17T00:00:00\",\"2023-04-14T00:00:00\",\"2023-04-13T00:00:00\",\"2023-04-13T00:00:00\",\"2023-04-12T00:00:00\",\"2023-04-12T00:00:00\",\"2023-04-11T00:00:00\",\"2023-04-09T00:00:00\",\"2023-04-08T00:00:00\",\"2023-04-07T00:00:00\",\"2023-04-06T00:00:00\",\"2023-04-05T00:00:00\",\"2023-04-05T00:00:00\",\"2023-04-05T00:00:00\",\"2023-04-02T00:00:00\",\"2023-04-01T00:00:00\",\"2023-03-31T00:00:00\",\"2023-03-31T00:00:00\",\"2023-03-30T00:00:00\",\"2023-03-29T00:00:00\",\"2023-03-29T00:00:00\",\"2023-03-29T00:00:00\",\"2023-03-29T00:00:00\",\"2023-03-28T00:00:00\",\"2023-03-28T00:00:00\",\"2023-03-26T00:00:00\",\"2023-03-25T00:00:00\",\"2023-03-25T00:00:00\",\"2023-03-25T00:00:00\",\"2023-03-24T00:00:00\",\"2023-03-22T00:00:00\",\"2023-03-22T00:00:00\",\"2023-03-21T00:00:00\",\"2023-03-21T00:00:00\",\"2023-03-21T00:00:00\",\"2023-03-20T00:00:00\",\"2023-03-19T00:00:00\",\"2023-03-18T00:00:00\",\"2023-03-17T00:00:00\",\"2023-03-16T00:00:00\",\"2023-03-15T00:00:00\",\"2023-03-15T00:00:00\",\"2023-03-13T00:00:00\",\"2023-03-11T00:00:00\",\"2023-03-09T00:00:00\",\"2023-03-09T00:00:00\",\"2023-03-08T00:00:00\",\"2023-03-08T00:00:00\",\"2023-03-08T00:00:00\",\"2023-03-08T00:00:00\",\"2023-03-08T00:00:00\",\"2023-03-06T00:00:00\",\"2023-03-05T00:00:00\",\"2023-03-04T00:00:00\",\"2023-03-04T00:00:00\",\"2023-03-02T00:00:00\",\"2023-03-02T00:00:00\",\"2023-03-01T00:00:00\",\"2023-02-28T00:00:00\",\"2023-02-28T00:00:00\",\"2023-02-27T00:00:00\",\"2023-02-27T00:00:00\",\"2023-02-27T00:00:00\",\"2023-02-27T00:00:00\",\"2023-02-26T00:00:00\",\"2023-02-26T00:00:00\",\"2023-02-26T00:00:00\",\"2023-02-26T00:00:00\",\"2023-02-24T00:00:00\",\"2023-02-24T00:00:00\",\"2023-02-22T00:00:00\",\"2023-02-21T00:00:00\",\"2023-02-21T00:00:00\",\"2023-02-21T00:00:00\",\"2023-02-20T00:00:00\",\"2023-02-19T00:00:00\",\"2023-02-19T00:00:00\",\"2023-02-18T00:00:00\",\"2023-03-16T00:00:00\",\"2023-04-15T00:00:00\",\"2023-03-15T00:00:00\",\"2023-02-14T00:00:00\",\"2023-02-14T00:00:00\",\"2023-03-14T00:00:00\",\"2023-03-28T00:00:00\",\"2023-02-11T00:00:00\",\"2023-02-11T00:00:00\",\"2023-03-10T00:00:00\",\"2023-03-10T00:00:00\",\"2023-02-20T00:00:00\",\"2023-02-07T00:00:00\",\"2023-03-03T00:00:00\",\"2023-03-07T00:00:00\",\"2023-02-01T00:00:00\",\"2023-03-02T00:00:00\",\"2023-01-29T00:00:00\",\"2023-02-28T00:00:00\",\"2023-04-09T00:00:00\",\"2023-02-28T00:00:00\",\"2023-02-28T00:00:00\",\"2023-02-28T00:00:00\",\"2023-02-26T00:00:00\",\"2023-02-26T00:00:00\",\"2023-02-26T00:00:00\",\"2023-02-25T00:00:00\",\"2023-01-21T00:00:00\",\"2023-02-21T00:00:00\",\"2023-02-21T00:00:00\",\"2023-02-19T00:00:00\",\"2023-02-17T00:00:00\",\"2023-05-09T00:00:00\",\"2023-03-15T00:00:00\",\"2023-03-13T00:00:00\",\"2023-03-13T00:00:00\",\"2023-03-13T00:00:00\",\"2023-03-12T00:00:00\",\"2023-05-04T00:00:00\",\"2023-03-07T00:00:00\",\"2023-03-06T00:00:00\",\"2023-03-06T00:00:00\",\"2023-03-06T00:00:00\",\"2023-03-06T00:00:00\",\"2023-03-06T00:00:00\",\"2023-03-05T00:00:00\",\"2023-03-04T00:00:00\",\"2023-03-04T00:00:00\",\"2023-03-03T00:00:00\",\"2023-03-04T00:00:00\",\"2023-03-04T00:00:00\",\"2023-03-01T00:00:00\",\"2023-03-03T00:00:00\",\"2023-03-03T00:00:00\",\"2023-03-03T00:00:00\",\"2023-02-27T00:00:00\",\"2023-03-02T00:00:00\",\"2023-03-01T00:00:00\",\"2023-03-02T00:00:00\",\"2023-03-02T00:00:00\",\"2023-03-02T00:00:00\",\"2023-03-06T00:00:00\",\"2023-03-02T00:00:00\",\"2023-03-02T00:00:00\",\"2023-03-02T00:00:00\",\"2023-03-02T00:00:00\",\"2023-03-02T00:00:00\",\"2023-03-22T00:00:00\",\"2023-03-01T00:00:00\",\"2023-03-01T00:00:00\",\"2023-03-01T00:00:00\",\"2023-03-12T00:00:00\",\"2023-03-01T00:00:00\",\"2023-03-02T00:00:00\",\"2023-02-20T00:00:00\",\"2023-03-03T00:00:00\",\"2023-03-01T00:00:00\",\"2023-02-25T00:00:00\",\"2023-02-25T00:00:00\",\"2023-03-15T00:00:00\",\"2023-02-20T00:00:00\",\"2023-03-12T00:00:00\",\"2023-03-12T00:00:00\",\"2023-03-08T00:00:00\",\"2023-03-30T00:00:00\",\"2023-03-07T00:00:00\",\"2023-03-04T00:00:00\",\"2023-03-04T00:00:00\",\"2023-03-03T00:00:00\",\"2023-02-28T00:00:00\",\"2023-02-25T00:00:00\",\"2023-03-28T00:00:00\",\"2023-03-15T00:00:00\",\"2023-03-28T00:00:00\",\"2023-03-08T00:00:00\",\"2023-03-07T00:00:00\",\"2023-03-14T00:00:00\",\"2023-03-05T00:00:00\",\"2023-03-06T00:00:00\",\"2023-03-04T00:00:00\",\"2023-03-04T00:00:00\",\"2023-03-04T00:00:00\",\"2023-03-04T00:00:00\",\"2023-03-08T00:00:00\",\"2023-03-04T00:00:00\",\"2023-03-03T00:00:00\",\"2023-03-03T00:00:00\",\"2023-03-03T00:00:00\",\"2023-03-01T00:00:00\",\"2023-02-26T00:00:00\",\"2023-02-26T00:00:00\",\"2023-03-19T00:00:00\",\"2023-02-25T00:00:00\",\"2023-02-19T00:00:00\",\"2023-04-14T00:00:00\",\"2023-03-13T00:00:00\",\"2023-03-12T00:00:00\",\"2023-02-18T00:00:00\",\"2023-03-10T00:00:00\",\"2023-03-07T00:00:00\",\"2023-03-04T00:00:00\",\"2023-03-29T00:00:00\",\"2023-03-01T00:00:00\",\"2023-03-01T00:00:00\",\"2023-03-01T00:00:00\",\"2023-03-02T00:00:00\",\"2023-02-23T00:00:00\",\"2023-03-01T00:00:00\",\"2023-02-20T00:00:00\",\"2023-02-19T00:00:00\",\"2023-02-18T00:00:00\",\"2023-02-17T00:00:00\",\"2023-03-16T00:00:00\",\"2023-03-15T00:00:00\",\"2023-03-15T00:00:00\",\"2023-03-15T00:00:00\",\"2023-02-21T00:00:00\",\"2023-02-18T00:00:00\",\"2023-03-13T00:00:00\",\"2023-03-13T00:00:00\",\"2023-03-10T00:00:00\",\"2023-03-09T00:00:00\",\"2023-03-07T00:00:00\",\"2023-03-06T00:00:00\",\"2023-03-06T00:00:00\",\"2023-02-20T00:00:00\",\"2023-02-16T00:00:00\",\"2023-03-06T00:00:00\",\"2023-03-05T00:00:00\",\"2023-03-04T00:00:00\",\"2023-04-26T00:00:00\",\"2023-04-11T00:00:00\",\"2023-05-02T00:00:00\",\"2023-03-05T00:00:00\",\"2023-03-02T00:00:00\",\"2023-03-02T00:00:00\",\"2023-03-01T00:00:00\",\"2023-03-01T00:00:00\",\"2023-03-01T00:00:00\",\"2023-03-02T00:00:00\",\"2023-02-26T00:00:00\",\"2023-03-01T00:00:00\",\"2023-03-01T00:00:00\",\"2023-03-01T00:00:00\",\"2023-03-28T00:00:00\",\"2023-02-25T00:00:00\",\"2023-02-24T00:00:00\",\"2023-02-24T00:00:00\",\"2023-02-26T00:00:00\",\"2023-02-23T00:00:00\",\"2023-02-23T00:00:00\",\"2023-02-23T00:00:00\",\"2023-02-22T00:00:00\",\"2023-02-22T00:00:00\",\"2023-04-07T00:00:00\",\"2023-02-22T00:00:00\",\"2023-04-24T00:00:00\",\"2023-02-22T00:00:00\",\"2023-02-23T00:00:00\",\"2023-03-04T00:00:00\",\"2023-02-20T00:00:00\",\"2023-03-11T00:00:00\",\"2023-04-23T00:00:00\",\"2023-04-07T00:00:00\",\"2023-02-18T00:00:00\",\"2023-03-07T00:00:00\"],\"y\":[300,59,500,450,50,500,2000,3000,100,3000,300,1000,13000,55000,3000,500,3000,500,300,1000,1000,200,50,250,50,1000,200,50,1500,300,1000,2000,500,100,1500,600,40000,3000,500,4000,2000,300,200,1000,300,5000,900,500,450,2500,450,900,1350,900,900,500,1000,1350,150,300,2000,750,1000,50,900,450,450,450,150,450,1350,900,900,2300,5000,450,50,900,450,200,5000,50,900,900,300,900,100,3000,450,1350,300,900,3000,300,250,500,500,500,900,5000,450,450,50,300,450,50,900,50000,450,1400,900,500,1000,900,300,2000,1000,400,500,200,300,1000,300,500,300,500,100,2000,1000,1000,5000,5000,150,1000,300,500,450,1000,1000,500,199,300,500,1000,1000,500,4000,500,160,300,500,25000,14,300,2000,17000,1000,2000,500,500,300,50,1000,1000,1800,450,4000,1000,2000,1500,300,1000,350,1500,10000,3000,1000,1000,800,10000,900,600,100,450,300,300,450,1200,200,1200,50,3800,500,110,10,1200,100,450,1500,200,50,450,1500,450,1000,300,450,50,280,3000,450,450,50,450,450,2000,1000,450,600,1500,300,500,500,700,2000,900,1500,300,300,300,500,300,20,2000,150,450,600,500,750,500,3000,350,1000,300,300,1000,100,450,900,25000,350,2500,1500,1000,3500,20000,100,300,4000,1500,500,50,1000,1500,1500,300,4000,1200,600,1000,300,300,300,300,1000,2350,500,1000,450,100,600,800,1000,300,500,1000,50,300,49,1500,2000,25,1000,300,600,300,6000,12000,4000,1000,30,2450,1000,400,200,500,1000,3000,1500,900,500,300,6000,1500,300,1000,7000,400,300,300,300,1000,3000,11000,2000,500,1200,300,300,1000,2700,1000,600,200,110,3000,500,500,1000,100,300,10000,500,500,1000,1000,1000,300,300,300,300,300,20,50,1000,100,170,800,1000,500,6000,100,100,200,600,6000,500,1000,300,300,1000,600,500,3000,500,2000,10,600,900,50000,500,900,1000,3000,900,50,150,450,350,1000,4000,450,450,300,300,450,4300,900,1500,1500,1800,900,2000,2000,4000,3000,55000,700,2000,300,6000,2000,900,600,500,2000,600,800,1500,450,2000,1200,1800,400,1500,2000,2000,2000,110,750,2500,4000,600,1200,2000,300,4000,2000,40000,600,1200,11000,2000,800,25000,500,300,5000,2500,300,200,1500,900,300,2500,3800,1200,450,1500,300,3000,1200,1100,300,1000,600,500,800,1000,600,1000,400,800,1000,2000,1200,3000,4000,3500,2500,500,5000,2500,150,900,2000,400,200,600,500,2000,1200,900,2000,800,8000,400,2000,1200,1200,800,2000,2000,200,1200,400,2000,1200,1200,1200,2000,400,1200,1000,1200,4000,900,2000,50,6200,1200,800,3000,1200,1200,1800,2000,800,300,300,1200,16000,800,1200,1200,450,400,1200,1200,20000,1210,200,450,2000,450,2000,4000,300,1200,800,1200,1200,1200,1500,1200,800,400,2000,1200,400,1200,400,20000,1000,1000,900,1200,40,2500,2500,300,400,450,2000,1000,200,1000,250,600,4000,2500,1750,500,900,4000,1200,2000,1500,500,800,1900,1200,1200,2000,4000,900,4000,1400,1200,300,2000,2000,2000,600,4000,1200,4000,1200,200,1200,2000,2000,600,4000,500,900,2000,2000,2000,6000,1200,2500,2000,1500,1000,300,40000,1000,1500,1500,650,500,4000,630,5000,250,150],\"type\":\"bar\"}],                        {\"template\":{\"data\":{\"histogram2dcontour\":[{\"type\":\"histogram2dcontour\",\"colorbar\":{\"outlinewidth\":0,\"ticks\":\"\"},\"colorscale\":[[0.0,\"#0d0887\"],[0.1111111111111111,\"#46039f\"],[0.2222222222222222,\"#7201a8\"],[0.3333333333333333,\"#9c179e\"],[0.4444444444444444,\"#bd3786\"],[0.5555555555555556,\"#d8576b\"],[0.6666666666666666,\"#ed7953\"],[0.7777777777777778,\"#fb9f3a\"],[0.8888888888888888,\"#fdca26\"],[1.0,\"#f0f921\"]]}],\"choropleth\":[{\"type\":\"choropleth\",\"colorbar\":{\"outlinewidth\":0,\"ticks\":\"\"}}],\"histogram2d\":[{\"type\":\"histogram2d\",\"colorbar\":{\"outlinewidth\":0,\"ticks\":\"\"},\"colorscale\":[[0.0,\"#0d0887\"],[0.1111111111111111,\"#46039f\"],[0.2222222222222222,\"#7201a8\"],[0.3333333333333333,\"#9c179e\"],[0.4444444444444444,\"#bd3786\"],[0.5555555555555556,\"#d8576b\"],[0.6666666666666666,\"#ed7953\"],[0.7777777777777778,\"#fb9f3a\"],[0.8888888888888888,\"#fdca26\"],[1.0,\"#f0f921\"]]}],\"heatmap\":[{\"type\":\"heatmap\",\"colorbar\":{\"outlinewidth\":0,\"ticks\":\"\"},\"colorscale\":[[0.0,\"#0d0887\"],[0.1111111111111111,\"#46039f\"],[0.2222222222222222,\"#7201a8\"],[0.3333333333333333,\"#9c179e\"],[0.4444444444444444,\"#bd3786\"],[0.5555555555555556,\"#d8576b\"],[0.6666666666666666,\"#ed7953\"],[0.7777777777777778,\"#fb9f3a\"],[0.8888888888888888,\"#fdca26\"],[1.0,\"#f0f921\"]]}],\"heatmapgl\":[{\"type\":\"heatmapgl\",\"colorbar\":{\"outlinewidth\":0,\"ticks\":\"\"},\"colorscale\":[[0.0,\"#0d0887\"],[0.1111111111111111,\"#46039f\"],[0.2222222222222222,\"#7201a8\"],[0.3333333333333333,\"#9c179e\"],[0.4444444444444444,\"#bd3786\"],[0.5555555555555556,\"#d8576b\"],[0.6666666666666666,\"#ed7953\"],[0.7777777777777778,\"#fb9f3a\"],[0.8888888888888888,\"#fdca26\"],[1.0,\"#f0f921\"]]}],\"contourcarpet\":[{\"type\":\"contourcarpet\",\"colorbar\":{\"outlinewidth\":0,\"ticks\":\"\"}}],\"contour\":[{\"type\":\"contour\",\"colorbar\":{\"outlinewidth\":0,\"ticks\":\"\"},\"colorscale\":[[0.0,\"#0d0887\"],[0.1111111111111111,\"#46039f\"],[0.2222222222222222,\"#7201a8\"],[0.3333333333333333,\"#9c179e\"],[0.4444444444444444,\"#bd3786\"],[0.5555555555555556,\"#d8576b\"],[0.6666666666666666,\"#ed7953\"],[0.7777777777777778,\"#fb9f3a\"],[0.8888888888888888,\"#fdca26\"],[1.0,\"#f0f921\"]]}],\"surface\":[{\"type\":\"surface\",\"colorbar\":{\"outlinewidth\":0,\"ticks\":\"\"},\"colorscale\":[[0.0,\"#0d0887\"],[0.1111111111111111,\"#46039f\"],[0.2222222222222222,\"#7201a8\"],[0.3333333333333333,\"#9c179e\"],[0.4444444444444444,\"#bd3786\"],[0.5555555555555556,\"#d8576b\"],[0.6666666666666666,\"#ed7953\"],[0.7777777777777778,\"#fb9f3a\"],[0.8888888888888888,\"#fdca26\"],[1.0,\"#f0f921\"]]}],\"mesh3d\":[{\"type\":\"mesh3d\",\"colorbar\":{\"outlinewidth\":0,\"ticks\":\"\"}}],\"scatter\":[{\"fillpattern\":{\"fillmode\":\"overlay\",\"size\":10,\"solidity\":0.2},\"type\":\"scatter\"}],\"parcoords\":[{\"type\":\"parcoords\",\"line\":{\"colorbar\":{\"outlinewidth\":0,\"ticks\":\"\"}}}],\"scatterpolargl\":[{\"type\":\"scatterpolargl\",\"marker\":{\"colorbar\":{\"outlinewidth\":0,\"ticks\":\"\"}}}],\"bar\":[{\"error_x\":{\"color\":\"#2a3f5f\"},\"error_y\":{\"color\":\"#2a3f5f\"},\"marker\":{\"line\":{\"color\":\"#E5ECF6\",\"width\":0.5},\"pattern\":{\"fillmode\":\"overlay\",\"size\":10,\"solidity\":0.2}},\"type\":\"bar\"}],\"scattergeo\":[{\"type\":\"scattergeo\",\"marker\":{\"colorbar\":{\"outlinewidth\":0,\"ticks\":\"\"}}}],\"scatterpolar\":[{\"type\":\"scatterpolar\",\"marker\":{\"colorbar\":{\"outlinewidth\":0,\"ticks\":\"\"}}}],\"histogram\":[{\"marker\":{\"pattern\":{\"fillmode\":\"overlay\",\"size\":10,\"solidity\":0.2}},\"type\":\"histogram\"}],\"scattergl\":[{\"type\":\"scattergl\",\"marker\":{\"colorbar\":{\"outlinewidth\":0,\"ticks\":\"\"}}}],\"scatter3d\":[{\"type\":\"scatter3d\",\"line\":{\"colorbar\":{\"outlinewidth\":0,\"ticks\":\"\"}},\"marker\":{\"colorbar\":{\"outlinewidth\":0,\"ticks\":\"\"}}}],\"scattermapbox\":[{\"type\":\"scattermapbox\",\"marker\":{\"colorbar\":{\"outlinewidth\":0,\"ticks\":\"\"}}}],\"scatterternary\":[{\"type\":\"scatterternary\",\"marker\":{\"colorbar\":{\"outlinewidth\":0,\"ticks\":\"\"}}}],\"scattercarpet\":[{\"type\":\"scattercarpet\",\"marker\":{\"colorbar\":{\"outlinewidth\":0,\"ticks\":\"\"}}}],\"carpet\":[{\"aaxis\":{\"endlinecolor\":\"#2a3f5f\",\"gridcolor\":\"white\",\"linecolor\":\"white\",\"minorgridcolor\":\"white\",\"startlinecolor\":\"#2a3f5f\"},\"baxis\":{\"endlinecolor\":\"#2a3f5f\",\"gridcolor\":\"white\",\"linecolor\":\"white\",\"minorgridcolor\":\"white\",\"startlinecolor\":\"#2a3f5f\"},\"type\":\"carpet\"}],\"table\":[{\"cells\":{\"fill\":{\"color\":\"#EBF0F8\"},\"line\":{\"color\":\"white\"}},\"header\":{\"fill\":{\"color\":\"#C8D4E3\"},\"line\":{\"color\":\"white\"}},\"type\":\"table\"}],\"barpolar\":[{\"marker\":{\"line\":{\"color\":\"#E5ECF6\",\"width\":0.5},\"pattern\":{\"fillmode\":\"overlay\",\"size\":10,\"solidity\":0.2}},\"type\":\"barpolar\"}],\"pie\":[{\"automargin\":true,\"type\":\"pie\"}]},\"layout\":{\"autotypenumbers\":\"strict\",\"colorway\":[\"#636efa\",\"#EF553B\",\"#00cc96\",\"#ab63fa\",\"#FFA15A\",\"#19d3f3\",\"#FF6692\",\"#B6E880\",\"#FF97FF\",\"#FECB52\"],\"font\":{\"color\":\"#2a3f5f\"},\"hovermode\":\"closest\",\"hoverlabel\":{\"align\":\"left\"},\"paper_bgcolor\":\"white\",\"plot_bgcolor\":\"#E5ECF6\",\"polar\":{\"bgcolor\":\"#E5ECF6\",\"angularaxis\":{\"gridcolor\":\"white\",\"linecolor\":\"white\",\"ticks\":\"\"},\"radialaxis\":{\"gridcolor\":\"white\",\"linecolor\":\"white\",\"ticks\":\"\"}},\"ternary\":{\"bgcolor\":\"#E5ECF6\",\"aaxis\":{\"gridcolor\":\"white\",\"linecolor\":\"white\",\"ticks\":\"\"},\"baxis\":{\"gridcolor\":\"white\",\"linecolor\":\"white\",\"ticks\":\"\"},\"caxis\":{\"gridcolor\":\"white\",\"linecolor\":\"white\",\"ticks\":\"\"}},\"coloraxis\":{\"colorbar\":{\"outlinewidth\":0,\"ticks\":\"\"}},\"colorscale\":{\"sequential\":[[0.0,\"#0d0887\"],[0.1111111111111111,\"#46039f\"],[0.2222222222222222,\"#7201a8\"],[0.3333333333333333,\"#9c179e\"],[0.4444444444444444,\"#bd3786\"],[0.5555555555555556,\"#d8576b\"],[0.6666666666666666,\"#ed7953\"],[0.7777777777777778,\"#fb9f3a\"],[0.8888888888888888,\"#fdca26\"],[1.0,\"#f0f921\"]],\"sequentialminus\":[[0.0,\"#0d0887\"],[0.1111111111111111,\"#46039f\"],[0.2222222222222222,\"#7201a8\"],[0.3333333333333333,\"#9c179e\"],[0.4444444444444444,\"#bd3786\"],[0.5555555555555556,\"#d8576b\"],[0.6666666666666666,\"#ed7953\"],[0.7777777777777778,\"#fb9f3a\"],[0.8888888888888888,\"#fdca26\"],[1.0,\"#f0f921\"]],\"diverging\":[[0,\"#8e0152\"],[0.1,\"#c51b7d\"],[0.2,\"#de77ae\"],[0.3,\"#f1b6da\"],[0.4,\"#fde0ef\"],[0.5,\"#f7f7f7\"],[0.6,\"#e6f5d0\"],[0.7,\"#b8e186\"],[0.8,\"#7fbc41\"],[0.9,\"#4d9221\"],[1,\"#276419\"]]},\"xaxis\":{\"gridcolor\":\"white\",\"linecolor\":\"white\",\"ticks\":\"\",\"title\":{\"standoff\":15},\"zerolinecolor\":\"white\",\"automargin\":true,\"zerolinewidth\":2},\"yaxis\":{\"gridcolor\":\"white\",\"linecolor\":\"white\",\"ticks\":\"\",\"title\":{\"standoff\":15},\"zerolinecolor\":\"white\",\"automargin\":true,\"zerolinewidth\":2},\"scene\":{\"xaxis\":{\"backgroundcolor\":\"#E5ECF6\",\"gridcolor\":\"white\",\"linecolor\":\"white\",\"showbackground\":true,\"ticks\":\"\",\"zerolinecolor\":\"white\",\"gridwidth\":2},\"yaxis\":{\"backgroundcolor\":\"#E5ECF6\",\"gridcolor\":\"white\",\"linecolor\":\"white\",\"showbackground\":true,\"ticks\":\"\",\"zerolinecolor\":\"white\",\"gridwidth\":2},\"zaxis\":{\"backgroundcolor\":\"#E5ECF6\",\"gridcolor\":\"white\",\"linecolor\":\"white\",\"showbackground\":true,\"ticks\":\"\",\"zerolinecolor\":\"white\",\"gridwidth\":2}},\"shapedefaults\":{\"line\":{\"color\":\"#2a3f5f\"}},\"annotationdefaults\":{\"arrowcolor\":\"#2a3f5f\",\"arrowhead\":0,\"arrowwidth\":1},\"geo\":{\"bgcolor\":\"white\",\"landcolor\":\"#E5ECF6\",\"subunitcolor\":\"white\",\"showland\":true,\"showlakes\":true,\"lakecolor\":\"white\"},\"title\":{\"x\":0.05},\"mapbox\":{\"style\":\"light\"}}},\"height\":600,\"width\":1200,\"title\":{\"text\":\"\\u0421\\u0443\\u043c\\u043c\\u044b \\u043f\\u043e\\u0436\\u0435\\u0440\\u0442\\u0432\\u043e\\u0432\\u0430\\u043d\\u0438\\u0439 \\u043f\\u043e \\u0434\\u043d\\u044f\\u043c \\u0437\\u0430 2021 \\u0438 2023 \\u0433\\u043e\\u0434\\u0430\"},\"barmode\":\"stack\"},                        {\"responsive\": true}                    ).then(function(){\n",
              "                            \n",
              "var gd = document.getElementById('1a61f282-ed11-40d8-9f67-1d290b5bddc9');\n",
              "var x = new MutationObserver(function (mutations, observer) {{\n",
              "        var display = window.getComputedStyle(gd).display;\n",
              "        if (!display || display === 'none') {{\n",
              "            console.log([gd, 'removed!']);\n",
              "            Plotly.purge(gd);\n",
              "            observer.disconnect();\n",
              "        }}\n",
              "}});\n",
              "\n",
              "// Listen for the removal of the full notebook cells\n",
              "var notebookContainer = gd.closest('#notebook-container');\n",
              "if (notebookContainer) {{\n",
              "    x.observe(notebookContainer, {childList: true});\n",
              "}}\n",
              "\n",
              "// Listen for the clearing of the current output cell\n",
              "var outputEl = gd.closest('.output');\n",
              "if (outputEl) {{\n",
              "    x.observe(outputEl, {childList: true});\n",
              "}}\n",
              "\n",
              "                        })                };                            </script>        </div>\n",
              "</body>\n",
              "</html>"
            ]
          },
          "metadata": {}
        }
      ]
    },
    {
      "cell_type": "markdown",
      "source": [
        "В некоторые дни мы видим пики по сумме пожертвований. Но поскольку первая дата платежа не обязательно означает платеж и все платежи донора суммированы, то мы не можем сделать какие-либо выводы. Но рассмотреть эти дни стоит внимательнее.   **Возможно, в эти дни были привлечени доноры, которые в дальнейшем принесли хорошее вложение в фонд (проводилась рекламная кампания или мероприятие).**"
      ],
      "metadata": {
        "id": "nrEeEQdWexxl"
      }
    },
    {
      "cell_type": "code",
      "source": [
        "print('Возможные даты, в которых было совершено много пожертвований или которые привлекли щедрых доноров:')\n",
        "top_date = all_by_month.groupby('first_payment').agg({'total':'sum'}).reset_index()\n",
        "top_date.sort_values(by='total', ascending=False).head(4)"
      ],
      "metadata": {
        "colab": {
          "base_uri": "https://localhost:8080/",
          "height": 193
        },
        "id": "UQhjWGkGglIC",
        "outputId": "7f8172a2-44a0-4478-b6ee-29b4404a1690"
      },
      "execution_count": null,
      "outputs": [
        {
          "output_type": "stream",
          "name": "stdout",
          "text": [
            "Возможные даты, в которых было совершено много пожертвований или которые привлекли щедрых доноров:\n"
          ]
        },
        {
          "output_type": "execute_result",
          "data": {
            "text/plain": [
              "    first_payment   total\n",
              "293    2023-03-21  159400\n",
              "270    2023-02-26  157474\n",
              "128    2022-08-22  105550\n",
              "20     2021-12-23   96750"
            ],
            "text/html": [
              "\n",
              "  <div id=\"df-1eba4ae5-e743-4b18-a083-0dd37ee32cae\" class=\"colab-df-container\">\n",
              "    <div>\n",
              "<style scoped>\n",
              "    .dataframe tbody tr th:only-of-type {\n",
              "        vertical-align: middle;\n",
              "    }\n",
              "\n",
              "    .dataframe tbody tr th {\n",
              "        vertical-align: top;\n",
              "    }\n",
              "\n",
              "    .dataframe thead th {\n",
              "        text-align: right;\n",
              "    }\n",
              "</style>\n",
              "<table border=\"1\" class=\"dataframe\">\n",
              "  <thead>\n",
              "    <tr style=\"text-align: right;\">\n",
              "      <th></th>\n",
              "      <th>first_payment</th>\n",
              "      <th>total</th>\n",
              "    </tr>\n",
              "  </thead>\n",
              "  <tbody>\n",
              "    <tr>\n",
              "      <th>293</th>\n",
              "      <td>2023-03-21</td>\n",
              "      <td>159400</td>\n",
              "    </tr>\n",
              "    <tr>\n",
              "      <th>270</th>\n",
              "      <td>2023-02-26</td>\n",
              "      <td>157474</td>\n",
              "    </tr>\n",
              "    <tr>\n",
              "      <th>128</th>\n",
              "      <td>2022-08-22</td>\n",
              "      <td>105550</td>\n",
              "    </tr>\n",
              "    <tr>\n",
              "      <th>20</th>\n",
              "      <td>2021-12-23</td>\n",
              "      <td>96750</td>\n",
              "    </tr>\n",
              "  </tbody>\n",
              "</table>\n",
              "</div>\n",
              "    <div class=\"colab-df-buttons\">\n",
              "\n",
              "  <div class=\"colab-df-container\">\n",
              "    <button class=\"colab-df-convert\" onclick=\"convertToInteractive('df-1eba4ae5-e743-4b18-a083-0dd37ee32cae')\"\n",
              "            title=\"Convert this dataframe to an interactive table.\"\n",
              "            style=\"display:none;\">\n",
              "\n",
              "  <svg xmlns=\"http://www.w3.org/2000/svg\" height=\"24px\" viewBox=\"0 -960 960 960\">\n",
              "    <path d=\"M120-120v-720h720v720H120Zm60-500h600v-160H180v160Zm220 220h160v-160H400v160Zm0 220h160v-160H400v160ZM180-400h160v-160H180v160Zm440 0h160v-160H620v160ZM180-180h160v-160H180v160Zm440 0h160v-160H620v160Z\"/>\n",
              "  </svg>\n",
              "    </button>\n",
              "\n",
              "  <style>\n",
              "    .colab-df-container {\n",
              "      display:flex;\n",
              "      gap: 12px;\n",
              "    }\n",
              "\n",
              "    .colab-df-convert {\n",
              "      background-color: #E8F0FE;\n",
              "      border: none;\n",
              "      border-radius: 50%;\n",
              "      cursor: pointer;\n",
              "      display: none;\n",
              "      fill: #1967D2;\n",
              "      height: 32px;\n",
              "      padding: 0 0 0 0;\n",
              "      width: 32px;\n",
              "    }\n",
              "\n",
              "    .colab-df-convert:hover {\n",
              "      background-color: #E2EBFA;\n",
              "      box-shadow: 0px 1px 2px rgba(60, 64, 67, 0.3), 0px 1px 3px 1px rgba(60, 64, 67, 0.15);\n",
              "      fill: #174EA6;\n",
              "    }\n",
              "\n",
              "    .colab-df-buttons div {\n",
              "      margin-bottom: 4px;\n",
              "    }\n",
              "\n",
              "    [theme=dark] .colab-df-convert {\n",
              "      background-color: #3B4455;\n",
              "      fill: #D2E3FC;\n",
              "    }\n",
              "\n",
              "    [theme=dark] .colab-df-convert:hover {\n",
              "      background-color: #434B5C;\n",
              "      box-shadow: 0px 1px 3px 1px rgba(0, 0, 0, 0.15);\n",
              "      filter: drop-shadow(0px 1px 2px rgba(0, 0, 0, 0.3));\n",
              "      fill: #FFFFFF;\n",
              "    }\n",
              "  </style>\n",
              "\n",
              "    <script>\n",
              "      const buttonEl =\n",
              "        document.querySelector('#df-1eba4ae5-e743-4b18-a083-0dd37ee32cae button.colab-df-convert');\n",
              "      buttonEl.style.display =\n",
              "        google.colab.kernel.accessAllowed ? 'block' : 'none';\n",
              "\n",
              "      async function convertToInteractive(key) {\n",
              "        const element = document.querySelector('#df-1eba4ae5-e743-4b18-a083-0dd37ee32cae');\n",
              "        const dataTable =\n",
              "          await google.colab.kernel.invokeFunction('convertToInteractive',\n",
              "                                                    [key], {});\n",
              "        if (!dataTable) return;\n",
              "\n",
              "        const docLinkHtml = 'Like what you see? Visit the ' +\n",
              "          '<a target=\"_blank\" href=https://colab.research.google.com/notebooks/data_table.ipynb>data table notebook</a>'\n",
              "          + ' to learn more about interactive tables.';\n",
              "        element.innerHTML = '';\n",
              "        dataTable['output_type'] = 'display_data';\n",
              "        await google.colab.output.renderOutput(dataTable, element);\n",
              "        const docLink = document.createElement('div');\n",
              "        docLink.innerHTML = docLinkHtml;\n",
              "        element.appendChild(docLink);\n",
              "      }\n",
              "    </script>\n",
              "  </div>\n",
              "\n",
              "\n",
              "<div id=\"df-d6ab3c6a-df4d-4cc4-a6bb-f36ac921ac92\">\n",
              "  <button class=\"colab-df-quickchart\" onclick=\"quickchart('df-d6ab3c6a-df4d-4cc4-a6bb-f36ac921ac92')\"\n",
              "            title=\"Suggest charts.\"\n",
              "            style=\"display:none;\">\n",
              "\n",
              "<svg xmlns=\"http://www.w3.org/2000/svg\" height=\"24px\"viewBox=\"0 0 24 24\"\n",
              "     width=\"24px\">\n",
              "    <g>\n",
              "        <path d=\"M19 3H5c-1.1 0-2 .9-2 2v14c0 1.1.9 2 2 2h14c1.1 0 2-.9 2-2V5c0-1.1-.9-2-2-2zM9 17H7v-7h2v7zm4 0h-2V7h2v10zm4 0h-2v-4h2v4z\"/>\n",
              "    </g>\n",
              "</svg>\n",
              "  </button>\n",
              "\n",
              "<style>\n",
              "  .colab-df-quickchart {\n",
              "      --bg-color: #E8F0FE;\n",
              "      --fill-color: #1967D2;\n",
              "      --hover-bg-color: #E2EBFA;\n",
              "      --hover-fill-color: #174EA6;\n",
              "      --disabled-fill-color: #AAA;\n",
              "      --disabled-bg-color: #DDD;\n",
              "  }\n",
              "\n",
              "  [theme=dark] .colab-df-quickchart {\n",
              "      --bg-color: #3B4455;\n",
              "      --fill-color: #D2E3FC;\n",
              "      --hover-bg-color: #434B5C;\n",
              "      --hover-fill-color: #FFFFFF;\n",
              "      --disabled-bg-color: #3B4455;\n",
              "      --disabled-fill-color: #666;\n",
              "  }\n",
              "\n",
              "  .colab-df-quickchart {\n",
              "    background-color: var(--bg-color);\n",
              "    border: none;\n",
              "    border-radius: 50%;\n",
              "    cursor: pointer;\n",
              "    display: none;\n",
              "    fill: var(--fill-color);\n",
              "    height: 32px;\n",
              "    padding: 0;\n",
              "    width: 32px;\n",
              "  }\n",
              "\n",
              "  .colab-df-quickchart:hover {\n",
              "    background-color: var(--hover-bg-color);\n",
              "    box-shadow: 0 1px 2px rgba(60, 64, 67, 0.3), 0 1px 3px 1px rgba(60, 64, 67, 0.15);\n",
              "    fill: var(--button-hover-fill-color);\n",
              "  }\n",
              "\n",
              "  .colab-df-quickchart-complete:disabled,\n",
              "  .colab-df-quickchart-complete:disabled:hover {\n",
              "    background-color: var(--disabled-bg-color);\n",
              "    fill: var(--disabled-fill-color);\n",
              "    box-shadow: none;\n",
              "  }\n",
              "\n",
              "  .colab-df-spinner {\n",
              "    border: 2px solid var(--fill-color);\n",
              "    border-color: transparent;\n",
              "    border-bottom-color: var(--fill-color);\n",
              "    animation:\n",
              "      spin 1s steps(1) infinite;\n",
              "  }\n",
              "\n",
              "  @keyframes spin {\n",
              "    0% {\n",
              "      border-color: transparent;\n",
              "      border-bottom-color: var(--fill-color);\n",
              "      border-left-color: var(--fill-color);\n",
              "    }\n",
              "    20% {\n",
              "      border-color: transparent;\n",
              "      border-left-color: var(--fill-color);\n",
              "      border-top-color: var(--fill-color);\n",
              "    }\n",
              "    30% {\n",
              "      border-color: transparent;\n",
              "      border-left-color: var(--fill-color);\n",
              "      border-top-color: var(--fill-color);\n",
              "      border-right-color: var(--fill-color);\n",
              "    }\n",
              "    40% {\n",
              "      border-color: transparent;\n",
              "      border-right-color: var(--fill-color);\n",
              "      border-top-color: var(--fill-color);\n",
              "    }\n",
              "    60% {\n",
              "      border-color: transparent;\n",
              "      border-right-color: var(--fill-color);\n",
              "    }\n",
              "    80% {\n",
              "      border-color: transparent;\n",
              "      border-right-color: var(--fill-color);\n",
              "      border-bottom-color: var(--fill-color);\n",
              "    }\n",
              "    90% {\n",
              "      border-color: transparent;\n",
              "      border-bottom-color: var(--fill-color);\n",
              "    }\n",
              "  }\n",
              "</style>\n",
              "\n",
              "  <script>\n",
              "    async function quickchart(key) {\n",
              "      const quickchartButtonEl =\n",
              "        document.querySelector('#' + key + ' button');\n",
              "      quickchartButtonEl.disabled = true;  // To prevent multiple clicks.\n",
              "      quickchartButtonEl.classList.add('colab-df-spinner');\n",
              "      try {\n",
              "        const charts = await google.colab.kernel.invokeFunction(\n",
              "            'suggestCharts', [key], {});\n",
              "      } catch (error) {\n",
              "        console.error('Error during call to suggestCharts:', error);\n",
              "      }\n",
              "      quickchartButtonEl.classList.remove('colab-df-spinner');\n",
              "      quickchartButtonEl.classList.add('colab-df-quickchart-complete');\n",
              "    }\n",
              "    (() => {\n",
              "      let quickchartButtonEl =\n",
              "        document.querySelector('#df-d6ab3c6a-df4d-4cc4-a6bb-f36ac921ac92 button');\n",
              "      quickchartButtonEl.style.display =\n",
              "        google.colab.kernel.accessAllowed ? 'block' : 'none';\n",
              "    })();\n",
              "  </script>\n",
              "</div>\n",
              "    </div>\n",
              "  </div>\n"
            ]
          },
          "metadata": {},
          "execution_count": 169
        }
      ]
    },
    {
      "cell_type": "markdown",
      "source": [
        "# ВЫВОДЫ"
      ],
      "metadata": {
        "id": "7c-b40cRQLg2"
      }
    },
    {
      "cell_type": "markdown",
      "source": [
        "Проведена исследовательская аналитика эффективности маркетингового подхода на основе данных о пожертвованиях и рекламных кампаниях для НКО Благотворительная Больница.  \n",
        "Предобработка данных включала:\n",
        "- знакомство с большим объемом параметров, выгруженных из Яндекс Метрики и сужение их до необходимых столбцов\n",
        "- перевод дат и времени в правильный формат, проверка диапазона дат, равномерность собранных данных\n",
        "- объединение датасетов и выявление дубликатов доноров\n",
        "- удаление строк с пустыми платежами"
      ],
      "metadata": {
        "id": "ovCYNuS4n6ta"
      }
    },
    {
      "cell_type": "markdown",
      "source": [
        "**Результат исследовательского анализа**  \n",
        "**Анализ данных из Яндекс Метрики (датасет adgrants)**  \n",
        "- Всего за рекламный период: **9853538** показов, **41243** кликов.  \n",
        "Средняя конверсия показов в клик: **0.42 %**  \n",
        "- **Целевые действия:** были совершены в **0.011 %** от всех показов и в **2.6 %** от всех кликов.\n",
        "\n",
        "- Самая большая конверсия в клик у рекламных кампаний: **Гео, РК_Общий сбор_средств, Бизнесмены/ ремонт больнички, Ремонт больнички - Автотаргетинг, Питер - Автотаргетинг**\n",
        "- У **Команда#2 / Бот / СПб** самое большое число показов - в 10! раз больше, чем у лидирующей по конверсии Гео - при этом она имеет среднюю конверсию в клик.\n",
        "\n",
        "- Есть интересная закономерность - **самую низкую конверсию в клик занимают компании с наибольшим количеством показов:** РК_Больничка, Больничка_бизнес_ключи-интересы, РК_Ретаргетинг, Пакет_Бездомашний очаг_Верующие_ключи-интересы, Пакет_Бездомашний очаг_Психологическая помощь_ключи-интересы, Пакет_Бездомашний очаг_Реабилитационные центры_ключи\n",
        "(Кампания с фиксированным СРМ №10 от 14-03-2023 - является исключением, по ней очень мало данных)\n",
        "\n",
        "- Половина всех кликов было сделано при условии показа **Autotargeting** (конверсия показа в клик = 0,34%). На втором месте - **Благотворительность** (с конверсией выше среднего = 1.03%). В ТОП-20 по количеству кликов попали в основном тематичные условия показа, связанные с благотворительностью, фондами, волонтерством.\n",
        "\n",
        "- В срезе данных с **высокой конверсией, от 1%** появляются условия показов, связанные с **психологической и психиатрической помощью, и погодой.**  \n",
        "\n",
        "\n"
      ],
      "metadata": {
        "id": "frSfVx_hpDGM"
      }
    },
    {
      "cell_type": "markdown",
      "source": [
        "**Конверсия по целевым действиям**\n",
        "- Целевые действия были совершены в **0.011 %** от всех показов.  \n",
        "Целевые действия были совершены в **2.6 %** от всех кликов.\n",
        "- Из всех данных с совершенным целевым действием, эти кампании имеют очень высокую конверсию: РК_Обустройство_клиники - 6.8%, РК_Общий сбор_средств - 2.8%, Гео - 2.6%, Пакет_Бездомашний очаг_Психологическая помощь_ключи-интересы - 1.3%\n",
        "- Почти все клики с совершенным целевым действием были сделаны при условие показа **autotargeting**.\n",
        "Из всех остальных строк фигурируют условия показа, связанные с **погодой - это отличает клики с совершенным целевым действием от обычных кликов.**\n",
        "- Очень мало кликов, но в несколько раз выше конверсия у пользователей с **неопределенным полом (13%) и возрастом (3.2%)**.\n",
        "\n",
        "**Конверсия показов в клик по параметрам пользователя**  \n",
        "- **Возраст:** Большинство людей, совершающих клик, старше 55 лет (ctr = 0.65%).\n",
        "Меньше всего проявляют интерес люди в возрасте 18-34 лет (ctr = 0.33-0.2%).\n",
        "В диапазоне с 25 до 54 лет, охотнее кликают на рекламу люди в возрасте 35-54 лет.\n",
        "- **Пол:** Вопреки популярному мнению, **женщины и мужчины проявляют практически одинаковый интерес к пожертвованиям - конверсии показов в клик 0.44% и 0.38%** соответственно. А в срезе данных по совершенному целевому действию, конверсия показов в клик **у мужчин даже немного выше, чем у женщин (0.51% и 0.45%)**\n",
        "- **Платежеспособность:** В большинстве случаев не определена."
      ],
      "metadata": {
        "id": "9TqcCZMrCHBe"
      }
    },
    {
      "cell_type": "markdown",
      "source": [
        "**Анализ данных по пожертвованиям из clients и donors**   \n",
        "- Общая сумма пожертвований **2887399**: за рекламный период - **1300406** руб., за остальной период - **1586993** руб.\n",
        "- Всего **1259** уникальных доноров, **554** из них - это новые доноры за рекламный период.\n",
        "- За два самых активных месяца - февраль и март 2023 года - было пожертвовано **437384** и **605469** рублей.  \n",
        "  **Это 36 % от суммы пожертвований за весь период.**\n",
        "- Средняя сумма пожертвований человека за рекламный период **2094** руб., за весь период - **2200** руб.  \n",
        "  **За рекламный период средняя сумма пожертвований уменьшилась на 4 %.**  \n",
        "- Средняя по медиане сумма пожертвований человека за рекламный период **900** руб., за весь период - **750** руб.     \n",
        "  **За рекламный период средняя по медиане сумма пожертвований увеличилась на 16 %.**  \n",
        "  Смещение арифметического среднего от медианы говорит о том, что несколько людей сделало очень большие пожертвования.\n",
        "- Средняя сумма пожертвований в месяц за рекламный период **216734** руб., за остальной период - **105799** руб.  \n",
        "  **За рекламный период средняя сумма пожертвований в месяц увеличилась на 51 %.**\n",
        "- В некоторые дни есть пики по сумме пожертвований. Возможно, в эти дни были привлечени доноры, которые в дальнейшем принесли хорошее вложение в фонд (проводилась рекламная кампания или мероприятие)."
      ],
      "metadata": {
        "id": "-VfEPS1NvpU5"
      }
    },
    {
      "cell_type": "markdown",
      "source": [
        "**Доля от фонда**  \n",
        "Из каких доноров по общей сумме пожертвования состоит фонд:\n",
        "- **Большинство привлеченных людей (79% - 992 человека) составило только четверть фонда (платежи до 2000 руб.).**   \n",
        "- И всего 1,5% людей (19 человек) также составило четверть фонда (платежи более 20.000 руб.).\n",
        "- Если объединить три платежеспособные группы то получим, что **всего 3,6% людей (45 человек) составило 40% фонда (платежи более 10.000 руб.).**"
      ],
      "metadata": {
        "id": "oRHKRuWAICLj"
      }
    },
    {
      "cell_type": "markdown",
      "source": [
        "**Рекомендации:**\n",
        "- **Главная рекомендация - правильно собрать данные для следующего анализа:**  \n",
        "1) Связать платежи доноров с данными в Яндекс Метрике, чтобы понимать какого числа и от какой рекламной кампании пришел донор.   \n",
        "2) Поставить разные метки на доноров, пришедших через рекламные компании, и остальных.  \n",
        "3) НЕ группировать платежи от одного пользователя, оставить каждый платеж отдельно (сможем наблюдать динамику платежей, обработать неявные дубликаты, сейчас их очень много).  \n",
        "4) Разделить целевые действия на разные конверсии.  \n",
        "5) Прислать подробное описание данных что есть что.\n",
        "\n",
        "- **Возраст:** Количество показов в сегменте \"старше 55\" в 1.5-2 раза выше, чем в остальных сегментах. Поскольку конверсия в этом сегменте выше - то стоит продолжать ориентировать рекламу на данный возрастной сегмент.\n",
        "Стоит сместить рекламный фокус с сегментов с низкой конверсией кликов, на сегмент 35-54 лет.  \n",
        "- **Пол:**  Зная, что конверсия показов в клик у женщин и мужчин почти одинаковая логичнее распределить показы в группах поровну (сейчас реклама показывается почти в 2 раза чаще женщинам).  \n",
        "- **Платежеспособность:** Стоит обратить внимание на этот параметр, поскольку из раздела \"Доля от фонда\" видно, что почти половину всех пожертвований сделало 3,6% всех привлеченных людей, вложивших от 10.000 руб. за весь период.  Можно направить рекламу на эти группы или привлечь каким-либо другим способом.\n",
        "- **Даты:** изучить даты с пиковыми суммами пожертвований (2023-03-21, 2023-02-26, 2022-08-22, 2021-12-23) - проводились ли дополнительные мероприятия? Были ли запущены новые рекламные кампании? (график \"Пожертвования по дням\").  \n",
        "\n",
        "**Удачи!**"
      ],
      "metadata": {
        "id": "WWyJMQm5rqp5"
      }
    }
  ]
}